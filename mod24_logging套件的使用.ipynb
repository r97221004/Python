{
 "cells": [
  {
   "cell_type": "markdown",
   "id": "1de6a3ab",
   "metadata": {},
   "source": [
    "# logging套件的日誌級別"
   ]
  },
  {
   "cell_type": "raw",
   "id": "7321fc4e",
   "metadata": {},
   "source": [
    "級別      級別數值    使用時機\n",
    "\n",
    "DEBUG     10         詳細信息，常用於調試\n",
    "\n",
    "INFO      20         程序正常運行過程中產生的一些信息\n",
    "\n",
    "WARNING   30         警告用戶，雖然程序還在正常工作，但可能發生錯誤\n",
    "\n",
    "ERROR     40         由於更嚴重的問題，程序已經不能執行一些功能了\n",
    "\n",
    "CRITICAL  50         嚴重錯誤，程序已不能繼續運行\n",
    "\n",
    "# 預設的日誌輸出級別為 WARNING"
   ]
  },
  {
   "cell_type": "markdown",
   "id": "602ef54d",
   "metadata": {},
   "source": [
    "### 範例01"
   ]
  },
  {
   "cell_type": "code",
   "execution_count": null,
   "id": "f3bd06f8",
   "metadata": {},
   "outputs": [],
   "source": [
    "import logging\n",
    "\n",
    "# 預設的日誌輸出級別為 WARNING\n",
    "# 後面在詳解輸出的訊息\n",
    "logging.debug(\"This is debug log\")\n",
    "logging.info(\"This is info log\")\n",
    "logging.warning(\"This is warning log\")\n",
    "logging.error(\"This is error log\")\n",
    "logging.critical(\"This is critical log\")"
   ]
  },
  {
   "cell_type": "markdown",
   "id": "0d12d2f1",
   "metadata": {},
   "source": [
    "### 範例02"
   ]
  },
  {
   "cell_type": "code",
   "execution_count": null,
   "id": "31a11e43",
   "metadata": {},
   "outputs": [],
   "source": [
    "# 這裡要注意，為什麼 print 會最後顯示，跟 python 的多線程與異步有關\n",
    "print(\"This is print log\")\n",
    "logging.debug(\"This is debug log\")\n",
    "logging.info(\"This is info log\")\n",
    "logging.warning(\"This is warning log\")\n",
    "logging.error(\"This is error log\")\n",
    "logging.critical(\"This is critical log\")"
   ]
  },
  {
   "cell_type": "markdown",
   "id": "a478602b",
   "metadata": {},
   "source": [
    "### 範例03"
   ]
  },
  {
   "cell_type": "code",
   "execution_count": null,
   "id": "9a5ea7cb",
   "metadata": {},
   "outputs": [],
   "source": [
    "# 使用 basicConfig() 修改日誌級別\n",
    "# 這裡會失敗的原因是，只能使用一次，會以第一次為主，在 jupyte notebook 下第一次使用預設\n",
    "# 解決辦法就是把 handlers 清空\n",
    "logging.basicConfig(level=logging.DEBUG)\n",
    "logging.debug(\"This is debug log\")\n",
    "logging.info(\"This is info log\")\n",
    "logging.warning(\"This is warning log\")\n",
    "logging.error(\"This is error log\")\n",
    "logging.critical(\"This is critical log\")"
   ]
  },
  {
   "cell_type": "markdown",
   "id": "32a003df",
   "metadata": {},
   "source": [
    "### 範例04"
   ]
  },
  {
   "cell_type": "code",
   "execution_count": null,
   "id": "85f17541",
   "metadata": {},
   "outputs": [],
   "source": [
    "# 先把 handlers 清空\n",
    "logging.getLogger('').handlers = []\n",
    "\n",
    "logging.basicConfig(level=logging.INFO)\n",
    "logging.debug(\"This is debug log\")\n",
    "logging.info(\"This is info log\")\n",
    "logging.warning(\"This is warning log\")\n",
    "logging.error(\"This is error log\")\n",
    "logging.critical(\"This is critical log\")"
   ]
  },
  {
   "cell_type": "markdown",
   "id": "09e49803",
   "metadata": {},
   "source": [
    "### 範例05"
   ]
  },
  {
   "cell_type": "code",
   "execution_count": null,
   "id": "b1e4db18",
   "metadata": {},
   "outputs": [],
   "source": [
    "logging.getLogger('').handlers = []\n",
    "\n",
    "# 把日誌寫入檔案中，預設是 append\n",
    "logging.basicConfig(level=logging.DEBUG, filename=\"mod24/demo.log\")\n",
    "logging.debug(\"This is debug log\")\n",
    "logging.info(\"This is info log\")\n",
    "logging.warning(\"This is warning log\")\n",
    "logging.error(\"This is error log\")\n",
    "logging.critical(\"This is critical log\")"
   ]
  },
  {
   "cell_type": "markdown",
   "id": "ed33b0c0",
   "metadata": {},
   "source": [
    "### 範例06"
   ]
  },
  {
   "cell_type": "code",
   "execution_count": null,
   "id": "8fd2d81a",
   "metadata": {},
   "outputs": [],
   "source": [
    "logging.getLogger('').handlers = []\n",
    "\n",
    "# 改成 overwrite 機制\n",
    "logging.basicConfig(level=logging.DEBUG, filename=\"mod24/demo.log\", filemode=\"w\")\n",
    "logging.debug(\"This is debug log\")\n",
    "logging.info(\"This is info log\")\n",
    "logging.warning(\"This is warning log\")\n",
    "logging.error(\"This is error log\")\n",
    "logging.critical(\"This is critical log\")"
   ]
  },
  {
   "cell_type": "markdown",
   "id": "5773ddf8",
   "metadata": {},
   "source": [
    "### 範例07"
   ]
  },
  {
   "cell_type": "code",
   "execution_count": null,
   "id": "fb1afba6",
   "metadata": {},
   "outputs": [],
   "source": [
    "logging.getLogger('').handlers = []\n",
    "\n",
    "# 向日誌輸出變量\n",
    "# 可有多種寫法\n",
    "logging.basicConfig(level=logging.DEBUG)\n",
    "name = \"Matt\"\n",
    "age = 36\n",
    "logging.debug(\"姓名 %s, 年齡 %d\", name, age)\n",
    "logging.debug(\"姓名 %s, 年齡 %d\" % (name, age))\n",
    "logging.debug(\"姓名 {}, 年齡 {}\".format(name, age))\n",
    "logging.debug(f\"姓名 {name}, 年齡 {age}\")"
   ]
  },
  {
   "cell_type": "markdown",
   "id": "a5581c17",
   "metadata": {},
   "source": [
    "### 範例08"
   ]
  },
  {
   "cell_type": "markdown",
   "id": "8cbf695f",
   "metadata": {},
   "source": [
    "[更多 format，請點我](https://docs.python.org/3/library/logging.html#logging.Formatter)"
   ]
  },
  {
   "cell_type": "code",
   "execution_count": null,
   "id": "e1b081d8",
   "metadata": {},
   "outputs": [],
   "source": [
    "logging.getLogger('').handlers = []\n",
    "\n",
    "# 輸出格式和添加一些公共訊息\n",
    "logging.basicConfig(format=\"%(asctime)s|%(levelname)s|%(filename)s:%(lineno)s|%(message)s\", level=logging.DEBUG)\n",
    "name = \"Matt\"\n",
    "age = 36\n",
    "logging.debug(\"姓名 %s, 年齡 %d\", name, age)\n",
    "logging.warning(\"姓名 %s, 年齡 %d\", name, age)"
   ]
  },
  {
   "cell_type": "markdown",
   "id": "a1ea6ce6",
   "metadata": {},
   "source": [
    "### 範例09"
   ]
  },
  {
   "cell_type": "code",
   "execution_count": null,
   "id": "6bb0b240",
   "metadata": {},
   "outputs": [],
   "source": [
    "logging.getLogger('').handlers = []\n",
    "\n",
    "# 修改日期格式\n",
    "logging.basicConfig(format=\"%(asctime)s|%(levelname)s|%(filename)s:%(lineno)s|%(message)s\", datefmt=\"%Y-%m-%d %H:%M:%S\", level=logging.DEBUG)\n",
    "name = \"Matt\"\n",
    "age = 36\n",
    "logging.debug(\"姓名 %s, 年齡 %d\", name, age)\n",
    "logging.warning(\"姓名 %s, 年齡 %d\", name, age)"
   ]
  },
  {
   "cell_type": "markdown",
   "id": "ddf11b8b",
   "metadata": {},
   "source": [
    "---"
   ]
  },
  {
   "cell_type": "markdown",
   "id": "60381c0a",
   "metadata": {},
   "source": [
    "# 使用編碼的方式"
   ]
  },
  {
   "cell_type": "markdown",
   "id": "ce6792e7",
   "metadata": {},
   "source": [
    "[參考影片](https://www.bilibili.com/video/BV1Fg4y1z7eP?spm_id_from=333.999.0.0)"
   ]
  },
  {
   "cell_type": "markdown",
   "id": "b5d78eed",
   "metadata": {},
   "source": [
    "<img src=\"mod24/1.png\">"
   ]
  },
  {
   "cell_type": "markdown",
   "id": "efe22fc2",
   "metadata": {},
   "source": [
    "<img src=\"mod24/2.png\">"
   ]
  },
  {
   "cell_type": "markdown",
   "id": "a6173f38",
   "metadata": {},
   "source": [
    "<img src=\"mod24/3.png\">"
   ]
  },
  {
   "cell_type": "markdown",
   "id": "8ab43a3f",
   "metadata": {},
   "source": [
    "<img src=\"mod24/4.png\">"
   ]
  },
  {
   "cell_type": "markdown",
   "id": "aeb75b25",
   "metadata": {},
   "source": [
    "<img src=\"mod24/5.png\">"
   ]
  },
  {
   "cell_type": "markdown",
   "id": "fa9e5715",
   "metadata": {},
   "source": [
    "<img src=\"mod24/6.png\">"
   ]
  },
  {
   "cell_type": "markdown",
   "id": "2275b385",
   "metadata": {},
   "source": [
    "### 範例01"
   ]
  },
  {
   "cell_type": "code",
   "execution_count": null,
   "id": "8973c663",
   "metadata": {},
   "outputs": [],
   "source": [
    "# 使用 jupyter notebook 才需要加這列\n",
    "logging.getLogger('applog').handlers = []\n",
    "\n",
    "# 紀錄器\n",
    "# 記得 logger = logging.getLogger(\"\") 是 root \n",
    "logger = logging.getLogger(\"applog\")\n",
    "logger.setLevel(logging.DEBUG)\n",
    "\n",
    "# 處理器handler\n",
    "consoleHandler = logging.StreamHandler()\n",
    "consoleHandler.setLevel(logging.DEBUG)\n",
    "\n",
    "# 沒有給 handler 指定級別，會使用 logger 的級別\n",
    "fileHandler = logging.FileHandler(filename=\"mod24/appDemo.log\")\n",
    "\n",
    "# formatter格式\n",
    "formatter = logging.Formatter(\"%(asctime)s|%(levelname)s|%(filename)s:%(lineno)s|%(message)s\")\n",
    "\n",
    "# 給處理器設置格式\n",
    "consoleHandler.setFormatter(formatter)\n",
    "fileHandler.setFormatter(formatter)\n",
    "\n",
    "# 紀錄器要設置處理器\n",
    "logger.addHandler(consoleHandler)\n",
    "logger.addHandler(fileHandler)\n",
    "\n",
    "# 打印日誌的代碼\n",
    "logger.debug(\"This is debug log\")\n",
    "logger.info(\"This is info log\")\n",
    "logger.warning(\"This is warning log\")\n",
    "logger.error(\"This is error log\")\n",
    "logger.critical(\"This is critical log\")"
   ]
  },
  {
   "cell_type": "markdown",
   "id": "9b67ca17",
   "metadata": {},
   "source": [
    "### 範例02"
   ]
  },
  {
   "cell_type": "code",
   "execution_count": null,
   "id": "91b89414",
   "metadata": {},
   "outputs": [],
   "source": [
    "# 紀錄器\n",
    "## 如果這裡不設置 level，預設就是 warning，那表示 wanring 以下的層級都不會顯示了，因為機制是層層過濾\n",
    "logger = logging.getLogger(\"applog1\")\n",
    "\n",
    "\n",
    "# 處理器handler\n",
    "consoleHandler = logging.StreamHandler()\n",
    "consoleHandler.setLevel(logging.DEBUG)\n",
    "\n",
    "# 沒有給 handler 指定級別，會使用 logger 的級別\n",
    "fileHandler = logging.FileHandler(filename=\"mod24/appDemo1.log\")\n",
    "consoleHandler.setLevel(logging.INFO)\n",
    "\n",
    "# formatter格式\n",
    "## 考慮對齊\n",
    "formatter = logging.Formatter(\"%(asctime)s|%(levelname)-10s|%(filename)s:%(lineno)s|%(message)s\")\n",
    "\n",
    "# 給處理器設置格式\n",
    "consoleHandler.setFormatter(formatter)\n",
    "fileHandler.setFormatter(formatter)\n",
    "\n",
    "# 紀錄器要設置處理器\n",
    "logger.addHandler(consoleHandler)\n",
    "logger.addHandler(fileHandler)\n",
    "\n",
    "# 打印日誌的代碼\n",
    "logger.debug(\"This is debug log\")\n",
    "logger.info(\"This is info log\")\n",
    "logger.warning(\"This is warning log\")\n",
    "logger.error(\"This is error log\")\n",
    "logger.critical(\"This is critical log\")"
   ]
  },
  {
   "cell_type": "markdown",
   "id": "c7378b8f",
   "metadata": {},
   "source": [
    "### 範例03"
   ]
  },
  {
   "cell_type": "raw",
   "id": "b08efb73",
   "metadata": {},
   "source": [
    "使用過濾器"
   ]
  },
  {
   "cell_type": "code",
   "execution_count": null,
   "id": "2c11c796",
   "metadata": {},
   "outputs": [],
   "source": [
    "# 紀錄器\n",
    "logger = logging.getLogger(\"applog2\")\n",
    "logger.setLevel(logging.DEBUG)\n",
    "\n",
    "# 處理器handler\n",
    "consoleHandler = logging.StreamHandler()\n",
    "consoleHandler.setLevel(logging.DEBUG)\n",
    "\n",
    "# 沒有給 handler 指定級別，會使用 logger 的級別\n",
    "fileHandler = logging.FileHandler(filename=\"mod24/appDemo2.log\")\n",
    "consoleHandler.setLevel(logging.INFO)\n",
    "\n",
    "# formatter格式\n",
    "formatter = logging.Formatter(\"%(asctime)s|%(levelname)-10s|%(filename)s:%(lineno)s|%(message)s\")\n",
    "\n",
    "# 給處理器設置格式\n",
    "consoleHandler.setFormatter(formatter)\n",
    "fileHandler.setFormatter(formatter)\n",
    "\n",
    "# 紀錄器要設置處理器\n",
    "logger.addHandler(consoleHandler)\n",
    "logger.addHandler(fileHandler)\n",
    "\n",
    "# 定義一個過濾器，這是過濾 logger 的 name\n",
    "fit = logging.Filter(\"cn.cccb\")\n",
    "\n",
    "# 添加過濾器\n",
    "# 因為 name 沒有 cn.cccb開頭所以沒有任何打印\n",
    "logger.addFilter(fit)\n",
    "\n",
    "\n",
    "# 打印日誌的代碼\n",
    "logger.debug(\"This is debug log\")\n",
    "logger.info(\"This is info log\")\n",
    "logger.warning(\"This is warning log\")\n",
    "logger.error(\"This is error log\")\n",
    "logger.critical(\"This is critical log\")"
   ]
  },
  {
   "cell_type": "markdown",
   "id": "c0934522",
   "metadata": {},
   "source": [
    "### 範例04"
   ]
  },
  {
   "cell_type": "code",
   "execution_count": null,
   "id": "8a986d3e",
   "metadata": {},
   "outputs": [],
   "source": [
    "# 紀錄器\n",
    "logger = logging.getLogger(\"cn.cccb.applog\")\n",
    "logger.setLevel(logging.DEBUG)\n",
    "\n",
    "# 處理器handler\n",
    "consoleHandler = logging.StreamHandler()\n",
    "consoleHandler.setLevel(logging.DEBUG)\n",
    "\n",
    "# 沒有給 handler 指定級別，會使用 logger 的級別\n",
    "fileHandler = logging.FileHandler(filename=\"mod24/appDemo3.log\")\n",
    "fileHandler.setLevel(logging.INFO)\n",
    "\n",
    "# formatter格式\n",
    "formatter = logging.Formatter(\"%(asctime)s|%(levelname)-10s|%(filename)s:%(lineno)s|%(message)s\")\n",
    "\n",
    "# 給處理器設置格式\n",
    "consoleHandler.setFormatter(formatter)\n",
    "fileHandler.setFormatter(formatter)\n",
    "\n",
    "# 紀錄器要設置處理器\n",
    "logger.addHandler(consoleHandler)\n",
    "logger.addHandler(fileHandler)\n",
    "\n",
    "# 定義一個過濾器，這是過濾 logger 的 name\n",
    "fit = logging.Filter(\"cn.cccb\")\n",
    "\n",
    "# 添加過濾器\n",
    "# 因為 name 有 cn.cccb開頭所以成功打印\n",
    "logger.addFilter(fit)\n",
    "\n",
    "\n",
    "# 打印日誌的代碼\n",
    "logger.debug(\"This is debug log\")\n",
    "logger.info(\"This is info log\")\n",
    "logger.warning(\"This is warning log\")\n",
    "logger.error(\"This is error log\")\n",
    "logger.critical(\"This is critical log\")"
   ]
  },
  {
   "cell_type": "markdown",
   "id": "4ce7858e",
   "metadata": {},
   "source": [
    "### 範例05"
   ]
  },
  {
   "cell_type": "raw",
   "id": "37f75d83",
   "metadata": {},
   "source": [
    "Handler 的過濾"
   ]
  },
  {
   "cell_type": "code",
   "execution_count": null,
   "id": "4417d555",
   "metadata": {},
   "outputs": [],
   "source": [
    "# 紀錄器\n",
    "logger = logging.getLogger(\"testlog\")\n",
    "logger.setLevel(logging.DEBUG)\n",
    "\n",
    "# 處理器handler\n",
    "consoleHandler = logging.StreamHandler()\n",
    "consoleHandler.setLevel(logging.DEBUG)\n",
    "\n",
    "# 沒有給 handler 指定級別，會使用 logger 的級別\n",
    "fileHandler = logging.FileHandler(filename=\"mod24/appDemo4.log\")\n",
    "fileHandler.setLevel(logging.INFO)\n",
    "\n",
    "# formatter格式\n",
    "formatter = logging.Formatter(\"%(asctime)s|%(levelname)-10s|%(filename)s:%(lineno)s|%(message)s\")\n",
    "\n",
    "# 給處理器設置格式\n",
    "consoleHandler.setFormatter(formatter)\n",
    "fileHandler.setFormatter(formatter)\n",
    "\n",
    "# 紀錄器要設置處理器\n",
    "logger.addHandler(consoleHandler)\n",
    "logger.addHandler(fileHandler)\n",
    "\n",
    "# 定義一個過濾器，這是過濾 logger 的 name\n",
    "fit = logging.Filter(\"cn.cccb\")\n",
    "\n",
    "# 添加過濾器\n",
    "# 這時候只會輸出在 console 不會輸出在檔案\n",
    "fileHandler.addFilter(fit)\n",
    "\n",
    "\n",
    "# 打印日誌的代碼\n",
    "logger.debug(\"This is debug log\")\n",
    "logger.info(\"This is info log\")\n",
    "logger.warning(\"This is warning log\")\n",
    "logger.error(\"This is error log\")\n",
    "logger.critical(\"This is critical log\")"
   ]
  },
  {
   "cell_type": "markdown",
   "id": "44558826",
   "metadata": {},
   "source": [
    "---"
   ]
  },
  {
   "cell_type": "markdown",
   "id": "e0af29ec",
   "metadata": {},
   "source": [
    "# 使用配置文件的方式"
   ]
  },
  {
   "cell_type": "raw",
   "id": "ba894538",
   "metadata": {},
   "source": [
    "配置文件範例，此文件存在 mod24/logging.conf"
   ]
  },
  {
   "cell_type": "raw",
   "id": "f23f54a4",
   "metadata": {},
   "source": [
    "注意一定要有 root"
   ]
  },
  {
   "cell_type": "raw",
   "id": "fe733816",
   "metadata": {},
   "source": [
    "[loggers]\n",
    "keys=root,appDoclog\n",
    "\n",
    "[handlers]\n",
    "keys=fileHandler,consoleHandler\n",
    "\n",
    "[formatters]\n",
    "keys=simpleFormatter\n",
    "\n",
    "[logger_root]\n",
    "level=DEBUG\n",
    "handlers=consoleHandler\n",
    "\n",
    "[logger_appDoclog]\n",
    "level=DEBUG\n",
    "handlers=fileHandler,consoleHandler\n",
    "qualname=appDoclog\n",
    "propagate=0\n",
    "\n",
    "\n",
    "[handler_consoleHandler]\n",
    "class=StreamHandler\n",
    "args=(sys.stdout,)\n",
    "level=DEBUG\n",
    "formatter=simpleFormatter\n",
    "\n",
    "[handler_fileHandler]\n",
    "class=handlers.TimedRotatingFileHandler\n",
    "args=('mod24/appDoclog.log','midnight',1,0)\n",
    "level=DEBUG\n",
    "formatter=simpleFormatter\n",
    "\n",
    "[formatter_simpleFormatter]\n",
    "format=%(asctime)s|%(levelname)8s|%(filename)s[:%(lineno)d]|%(message)s\n",
    "datefmt=%Y-%m-%d %H:%M:%S"
   ]
  },
  {
   "cell_type": "raw",
   "id": "1f3f75ea",
   "metadata": {},
   "source": [
    "# 注意! 還有字典方式的配置文件可以學習"
   ]
  },
  {
   "cell_type": "markdown",
   "id": "80a4ba97",
   "metadata": {},
   "source": [
    "### 範例01"
   ]
  },
  {
   "cell_type": "code",
   "execution_count": null,
   "id": "abc40a71",
   "metadata": {},
   "outputs": [],
   "source": [
    "import logging\n",
    "import logging.config\n",
    "\n",
    "\n",
    "#載入配置文件\n",
    "logging.config.fileConfig(\"mod24/logging.conf\")\n",
    "\n",
    "rootLogger = logging.getLogger(\"\")\n",
    "rootLogger.debug(\"This is root Logger, debug\")\n",
    "\n",
    "logger = logging.getLogger(\"appDoclog\")\n",
    "logger.debug(\"This is appDoclog debug\")"
   ]
  },
  {
   "cell_type": "markdown",
   "id": "62256f9d",
   "metadata": {},
   "source": [
    "### 範例02"
   ]
  },
  {
   "cell_type": "raw",
   "id": "10828d06",
   "metadata": {},
   "source": [
    "#載入配置文件\n",
    "logging.config.fileConfig(\"mod24/logging.conf\")\n",
    "\n",
    "logger = logging.getLogger(\"appDoclog\")\n",
    "\n",
    "a = \"abc\"\n",
    "try:\n",
    "    int(a)\n",
    "except Exception as e:\n",
    "    \n",
    "#     logger.error(e)\n",
    "    logger.exception(e) "
   ]
  },
  {
   "cell_type": "markdown",
   "id": "266ca28a",
   "metadata": {},
   "source": [
    "### 範例03-使用字典"
   ]
  },
  {
   "cell_type": "code",
   "execution_count": null,
   "id": "e2659e65",
   "metadata": {},
   "outputs": [],
   "source": [
    "import logging.config\n",
    "from mod24 import logging_config\n",
    "\n",
    "\n",
    "# 展入配置文件\n",
    "logging.config.dictConfig(logging_config.DEV)\n",
    "log = logging.getLogger(__name__)\n",
    "\n",
    "log.debug(\"This is a test\")"
   ]
  }
 ],
 "metadata": {
  "kernelspec": {
   "display_name": "Python 3",
   "language": "python",
   "name": "python3"
  },
  "language_info": {
   "codemirror_mode": {
    "name": "ipython",
    "version": 3
   },
   "file_extension": ".py",
   "mimetype": "text/x-python",
   "name": "python",
   "nbconvert_exporter": "python",
   "pygments_lexer": "ipython3",
   "version": "3.8.10"
  }
 },
 "nbformat": 4,
 "nbformat_minor": 5
}
