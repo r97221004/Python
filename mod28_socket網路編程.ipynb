{
 "cells": [
  {
   "cell_type": "markdown",
   "id": "5abcbb18",
   "metadata": {},
   "source": [
    "參考影片: https://www.bilibili.com/video/BV1Fg4y1z7eP?p=21"
   ]
  },
  {
   "cell_type": "markdown",
   "id": "0fcf5135",
   "metadata": {},
   "source": [
    "# 使用 socket 套件"
   ]
  },
  {
   "cell_type": "markdown",
   "id": "58e8eeda",
   "metadata": {},
   "source": [
    "### 範例01-簡單"
   ]
  },
  {
   "cell_type": "raw",
   "id": "f5a6f74d",
   "metadata": {},
   "source": [
    "# server.py(服務端)\n",
    "# 請在 vscode 上演示"
   ]
  },
  {
   "cell_type": "code",
   "execution_count": null,
   "id": "18225c0e",
   "metadata": {},
   "outputs": [],
   "source": [
    "import socket\n",
    "\n",
    "hostaddress = (\"127.0.0.1\", 5000)\n",
    "\n",
    "# 第一個參數使用 IPV4，第二個參數使用 TCP 協議\n",
    "sk = socket.socket(socket.AF_INET, socket.SOCK_STREAM)\n",
    "sk.bind(hostaddress)\n",
    "sk.listen(5) # 聽最多 5 個進程\n",
    "print(\"啟動 socket 服務，等待客戶端連接...\")\n",
    "\n",
    "conn, clientaddress = sk.accept()\n",
    "\n",
    "# bytes，最多 1024 個單位\n",
    "data = conn.recv(1024).decode()\n",
    "\n",
    "print(\"接收到客戶端 %s 發送來的信息: %s\" % (clientaddress, data ))\n",
    "\n",
    "res = data.upper()\n",
    "\n",
    "# str\n",
    "conn.sendall(res.encode())\n",
    "\n",
    "conn.close()"
   ]
  },
  {
   "cell_type": "raw",
   "id": "b7c33d59",
   "metadata": {},
   "source": [
    "# client.py(客戶端)\n",
    "# 請在 vscode 上演示"
   ]
  },
  {
   "cell_type": "code",
   "execution_count": null,
   "id": "c9c4286d",
   "metadata": {},
   "outputs": [],
   "source": [
    "import socket\n",
    "\n",
    "serveraddress = (\"127.0.0.1\", 5000)\n",
    "\n",
    "sk = socket.socket()\n",
    "\n",
    "sk.connect(serveraddress)\n",
    "\n",
    "sss = \"abc\"\n",
    "\n",
    "sk.sendall(sss.encode())\n",
    "\n",
    "answer = sk.recv(1024).decode()\n",
    "\n",
    "print(\"收到服務器的應答: %s\" % answer )\n",
    "\n",
    "sk.close()"
   ]
  },
  {
   "cell_type": "markdown",
   "id": "13cd2866",
   "metadata": {},
   "source": [
    "### 範例02-進階"
   ]
  },
  {
   "cell_type": "raw",
   "id": "7552f670",
   "metadata": {},
   "source": [
    "# server.py(服務端)\n",
    "# 請在 vscode 上演示"
   ]
  },
  {
   "cell_type": "code",
   "execution_count": null,
   "id": "e9ce8082",
   "metadata": {},
   "outputs": [],
   "source": [
    "import socket\n",
    "\n",
    "hostaddress = (\"127.0.0.1\", 5000)\n",
    "\n",
    "# 第一個參數使用 IPV4，第二個參數使用 TCP 協議\n",
    "sk = socket.socket(socket.AF_INET, socket.SOCK_STREAM)\n",
    "sk.bind(hostaddress)\n",
    "sk.listen(5) # 聽最多 5 個進程\n",
    "print(\"啟動 socket 服務，等待客戶端連接...\")\n",
    "\n",
    "conn, clientaddress = sk.accept()\n",
    "\n",
    "while True:\n",
    "    # bytes，最多 1024 個單位\n",
    "    data = conn.recv(1024).decode()\n",
    "    \n",
    "    if data == \"exit\":\n",
    "        print(\"客戶端發送完成，斷開連結。\")\n",
    "        break\n",
    "\n",
    "    print(\"接收到客戶端 %s 發送來的信息: %s\" % (clientaddress, data ))\n",
    "\n",
    "    res = data.upper()\n",
    "\n",
    "    # str\n",
    "    conn.sendall(res.encode())\n",
    "\n",
    "conn.close()"
   ]
  },
  {
   "cell_type": "raw",
   "id": "32cc1096",
   "metadata": {},
   "source": [
    "# client.py(客戶端)\n",
    "# 請在 vscode 上演示"
   ]
  },
  {
   "cell_type": "code",
   "execution_count": null,
   "id": "b6ef75e2",
   "metadata": {},
   "outputs": [],
   "source": [
    "import socket\n",
    "\n",
    "serveraddress = (\"127.0.0.1\", 5000)\n",
    "\n",
    "sk = socket.socket()\n",
    "\n",
    "sk.connect(serveraddress)\n",
    "\n",
    "while True:\n",
    "    \n",
    "    sss = input(\"發送內容: \").strip()\n",
    "\n",
    "    sk.sendall(sss.encode())\n",
    "     \n",
    "    if sss == \"exit\":\n",
    "        print(\"客戶端退出連結。\")\n",
    "        break\n",
    "        \n",
    "    answer = sk.recv(1024).decode()\n",
    "\n",
    "    print(\"收到服務器的應答: %s\" % answer )\n",
    "\n",
    "sk.close()"
   ]
  },
  {
   "cell_type": "markdown",
   "id": "022ea14d",
   "metadata": {},
   "source": [
    "### 範例03-多線程"
   ]
  },
  {
   "cell_type": "raw",
   "id": "1fb0ed7b",
   "metadata": {},
   "source": [
    "# server.py(服務端)\n",
    "# 請在 vscode 上演示"
   ]
  },
  {
   "cell_type": "code",
   "execution_count": null,
   "id": "94420305",
   "metadata": {},
   "outputs": [],
   "source": [
    "import socket\n",
    "import threading\n",
    "\n",
    "def deal(link, client):\n",
    "    print(\"新線程開始處理客戶端 %s: %s 的數據請求\" % client)\n",
    "    while True:\n",
    "        # bytes，最多 1024 個單位\n",
    "        data = link.recv(1024).decode()\n",
    "\n",
    "        if data == \"exit\":\n",
    "            print(\"客戶端 %s: %s 發送完成，斷開連結。\" % client)\n",
    "            break\n",
    "\n",
    "        print(\"接收到客戶端 %s 發送來的信息: %s\" % (client, data))\n",
    "\n",
    "        res = data.upper()\n",
    "\n",
    "        # str\n",
    "        link.sendall(res.encode())\n",
    "\n",
    "    link.close()\n",
    "    \n",
    "    \n",
    "\n",
    "hostaddress = (\"127.0.0.1\", 5000)\n",
    "\n",
    "# 第一個參數使用 IPV4，第二個參數使用 TCP 協議\n",
    "sk = socket.socket(socket.AF_INET, socket.SOCK_STREAM)\n",
    "sk.bind(hostaddress)\n",
    "sk.listen(5) # 聽最多 5 個進程\n",
    "print(\"啟動 socket 服務，等待客戶端連接...\")\n",
    "\n",
    "while True:\n",
    "    conn, clientaddress = sk.accept()\n",
    "    xd = threading.Thread(target=deal, args=(conn, clientaddress))\n",
    "    xd.start()"
   ]
  },
  {
   "cell_type": "raw",
   "id": "241427cf",
   "metadata": {},
   "source": [
    "# client1.py(客戶端)\n",
    "# 請在 vscode 上演示"
   ]
  },
  {
   "cell_type": "code",
   "execution_count": null,
   "id": "0e6e95a7",
   "metadata": {},
   "outputs": [],
   "source": [
    "import socket\n",
    "\n",
    "serveraddress = (\"127.0.0.1\", 5000)\n",
    "\n",
    "sk = socket.socket()\n",
    "\n",
    "sk.connect(serveraddress)\n",
    "\n",
    "while True:\n",
    "    \n",
    "    sss = input(\"發送內容: \").strip()\n",
    "\n",
    "    sk.sendall(sss.encode())\n",
    "     \n",
    "    if sss == \"exit\":\n",
    "        print(\"客戶端退出連結。\")\n",
    "        break\n",
    "        \n",
    "    answer = sk.recv(1024).decode()\n",
    "\n",
    "    print(\"收到服務器的應答: %s\" % answer )\n",
    "\n",
    "sk.close()"
   ]
  },
  {
   "cell_type": "raw",
   "id": "1b1d4667",
   "metadata": {},
   "source": [
    "# client2.py(客戶端)\n",
    "# 請在 vscode 上演示"
   ]
  },
  {
   "cell_type": "code",
   "execution_count": null,
   "id": "d96c1cc7",
   "metadata": {},
   "outputs": [],
   "source": [
    "import socket\n",
    "\n",
    "serveraddress = (\"127.0.0.1\", 5000)\n",
    "\n",
    "sk = socket.socket()\n",
    "\n",
    "sk.connect(serveraddress)\n",
    "\n",
    "while True:\n",
    "    \n",
    "    sss = input(\"發送內容: \").strip()\n",
    "\n",
    "    sk.sendall(sss.encode())\n",
    "     \n",
    "    if sss == \"exit\":\n",
    "        print(\"客戶端退出連結。\")\n",
    "        break\n",
    "        \n",
    "    answer = sk.recv(1024).decode()\n",
    "\n",
    "    print(\"收到服務器的應答: %s\" % answer )\n",
    "\n",
    "sk.close()"
   ]
  },
  {
   "cell_type": "markdown",
   "id": "62163b4d",
   "metadata": {},
   "source": [
    "### 範例案04-使用 udp"
   ]
  },
  {
   "cell_type": "raw",
   "id": "c66e6d49",
   "metadata": {},
   "source": [
    "# udp_server.py(服務端)\n",
    "# 請在 vscode 上演示"
   ]
  },
  {
   "cell_type": "code",
   "execution_count": null,
   "id": "3ef3d408",
   "metadata": {},
   "outputs": [],
   "source": [
    "import socket\n",
    "\n",
    "hostaddress = (\"127.0.0.1\", 5000)\n",
    "\n",
    "# 第一個參數使用 IPV4，第二個參數使用 udp 協議\n",
    "sk = socket.socket(socket.AF_INET, socket.SOCK_DGRAM)\n",
    "sk.bind(hostaddress)\n",
    "print(\"啟動 udp socket 服務，等待客戶數據...\")\n",
    "\n",
    "while True:\n",
    "    data = sk.recv(1024).decode()\n",
    "    print(\"udp 服務器接收到客戶端的數據: %s \" % data)\n",
    "    if data == \"exit\":\n",
    "        print(\"客戶端請求退出。\")\n",
    "        break\n",
    "        \n",
    "sk.close()"
   ]
  },
  {
   "cell_type": "raw",
   "id": "7ed18e21",
   "metadata": {},
   "source": [
    "# udp_clinet.py(服務端)\n",
    "# 請在 vscode 上演示"
   ]
  },
  {
   "cell_type": "code",
   "execution_count": null,
   "id": "3020d880",
   "metadata": {},
   "outputs": [],
   "source": [
    "import socket\n",
    "\n",
    "serveraddress = (\"127.0.0.1\", 5000)\n",
    "\n",
    "# 第一個參數使用 IPV4，第二個參數使用 udp 協議\n",
    "sk = socket.socket(socket.AF_INET, socket.SOCK_DGRAM)\n",
    "\n",
    "while True:\n",
    "    sss = input(\"[UDP]發送內容: \").strip()\n",
    "    sk.sendto(sss.encode(), serveraddress)\n",
    "    if sss == \"exit\":\n",
    "        print(\"客戶端退出。\")\n",
    "        break\n",
    "        \n",
    "sk.close()"
   ]
  },
  {
   "cell_type": "markdown",
   "id": "b507392c",
   "metadata": {},
   "source": [
    "# 使用 socketServer 套件"
   ]
  },
  {
   "cell_type": "raw",
   "id": "97401132",
   "metadata": {},
   "source": [
    "# server.py(服務端)\n",
    "# 請在 vscode 上演示"
   ]
  },
  {
   "cell_type": "code",
   "execution_count": null,
   "id": "4cae2049",
   "metadata": {},
   "outputs": [],
   "source": [
    "import socketserver\n",
    "\n",
    "class MyHandler(socketserver.BaseRequestHandler):\n",
    "    def handle(self):\n",
    "        while True:\n",
    "            data = self.request.recv(1024).decode()\n",
    "            if data == \"exit\":\n",
    "                print(\"客戶端發送完成，斷開連結。\")\n",
    "                break\n",
    "            print(\"接收到客戶端 %s 發送來的信息: %s \" % (self.client_address, data))\n",
    "            res = data.upper()\n",
    "            # str\n",
    "            self.request.send(res.encode())\n",
    "        self.request.close()\n",
    "\n",
    "hostaddress = (\"127.0.0.1\", 5000)\n",
    "server = socketserver.ThreadingTCPServer(hostaddress, MyHandler)\n",
    "print(\"啟動 socket 服務，等待客戶端的連接...\")\n",
    "server.serve_forever()"
   ]
  },
  {
   "cell_type": "raw",
   "id": "026e7f28",
   "metadata": {},
   "source": [
    "# client1.py(客戶端)\n",
    "# 請在 vscode 上演示"
   ]
  },
  {
   "cell_type": "code",
   "execution_count": null,
   "id": "5eabbab2",
   "metadata": {},
   "outputs": [],
   "source": [
    "import socket\n",
    "\n",
    "serveraddress = (\"127.0.0.1\", 5000)\n",
    "\n",
    "sk = socket.socket()\n",
    "\n",
    "sk.connect(serveraddress)\n",
    "\n",
    "while True:\n",
    "    \n",
    "    sss = input(\"發送內容: \").strip()\n",
    "\n",
    "    sk.sendall(sss.encode())\n",
    "     \n",
    "    if sss == \"exit\":\n",
    "        print(\"客戶端退出連結。\")\n",
    "        break\n",
    "        \n",
    "    answer = sk.recv(1024).decode()\n",
    "\n",
    "    print(\"收到服務器的應答: %s\" % answer )\n",
    "\n",
    "sk.close()"
   ]
  },
  {
   "cell_type": "raw",
   "id": "55e991bf",
   "metadata": {},
   "source": [
    "# client2.py(客戶端)\n",
    "# 請在 vscode 上演示"
   ]
  },
  {
   "cell_type": "code",
   "execution_count": null,
   "id": "c7c07e3c",
   "metadata": {},
   "outputs": [],
   "source": [
    "import socket\n",
    "\n",
    "serveraddress = (\"127.0.0.1\", 5000)\n",
    "\n",
    "sk = socket.socket()\n",
    "\n",
    "sk.connect(serveraddress)\n",
    "\n",
    "while True:\n",
    "    \n",
    "    sss = input(\"發送內容: \").strip()\n",
    "\n",
    "    sk.sendall(sss.encode())\n",
    "     \n",
    "    if sss == \"exit\":\n",
    "        print(\"客戶端退出連結。\")\n",
    "        break\n",
    "        \n",
    "    answer = sk.recv(1024).decode()\n",
    "\n",
    "    print(\"收到服務器的應答: %s\" % answer )\n",
    "\n",
    "sk.close()"
   ]
  }
 ],
 "metadata": {
  "kernelspec": {
   "display_name": "Python 3",
   "language": "python",
   "name": "python3"
  },
  "language_info": {
   "codemirror_mode": {
    "name": "ipython",
    "version": 3
   },
   "file_extension": ".py",
   "mimetype": "text/x-python",
   "name": "python",
   "nbconvert_exporter": "python",
   "pygments_lexer": "ipython3",
   "version": "3.8.10"
  }
 },
 "nbformat": 4,
 "nbformat_minor": 5
}
