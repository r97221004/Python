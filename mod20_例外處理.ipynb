{
 "cells": [
  {
   "cell_type": "markdown",
   "metadata": {},
   "source": [
    "#  <font color=red> Module_20_例外處理</font>"
   ]
  },
  {
   "cell_type": "markdown",
   "metadata": {},
   "source": [
    "## 常見異常"
   ]
  },
  {
   "cell_type": "code",
   "execution_count": null,
   "metadata": {},
   "outputs": [],
   "source": [
    "# AttributeError\n",
    "\n",
    "my_list = ['Crystal']\n",
    "my_list.abc"
   ]
  },
  {
   "cell_type": "code",
   "execution_count": null,
   "metadata": {},
   "outputs": [],
   "source": [
    "# indexError\n",
    "\n",
    "my_list = [1, 2, 3]\n",
    "my_list[3]"
   ]
  },
  {
   "cell_type": "code",
   "execution_count": null,
   "metadata": {},
   "outputs": [],
   "source": [
    "# KeyError # 可用 get 方法解決\n",
    "\n",
    "my_dict = {'one' : 1, 'two' : 2}\n",
    "print(my_dict['one'])\n",
    "print(my_dict['three'])"
   ]
  },
  {
   "cell_type": "code",
   "execution_count": null,
   "metadata": {},
   "outputs": [],
   "source": [
    "# NameError\n",
    "\n",
    "Crystal "
   ]
  },
  {
   "cell_type": "code",
   "execution_count": null,
   "metadata": {},
   "outputs": [],
   "source": [
    "# ValueError\n",
    "\n",
    "x = int('1.7')"
   ]
  },
  {
   "cell_type": "code",
   "execution_count": null,
   "metadata": {},
   "outputs": [],
   "source": [
    "# SyntaxError\n",
    "\n",
    "print 'Crystal is pretty.'"
   ]
  },
  {
   "cell_type": "code",
   "execution_count": null,
   "metadata": {},
   "outputs": [],
   "source": [
    "# TypeError\n",
    "\n",
    "x = 1 + '1'"
   ]
  },
  {
   "cell_type": "code",
   "execution_count": null,
   "metadata": {},
   "outputs": [],
   "source": [
    "# ZeroDivisionError\n",
    "\n",
    "x = 1/0"
   ]
  },
  {
   "cell_type": "code",
   "execution_count": null,
   "metadata": {},
   "outputs": [],
   "source": [
    "# OSError\n",
    "\n",
    "file_name = input('請輸入需要打開的文件名:')\n",
    "f = open(file_name, mode = 'r', encoding = 'utf-8')\n",
    "for each_line in f:\n",
    "    print(each_line)\n",
    "f.close()"
   ]
  },
  {
   "cell_type": "code",
   "execution_count": null,
   "metadata": {},
   "outputs": [],
   "source": [
    "# AssertionError\n",
    "\n",
    "my_list = ['Crystal']\n",
    "assert len(my_list) > 0  # 建立檢查點"
   ]
  },
  {
   "cell_type": "code",
   "execution_count": null,
   "metadata": {},
   "outputs": [],
   "source": [
    "my_list.pop()\n",
    "assert len(my_list) > 0 # 建立檢查點"
   ]
  },
  {
   "cell_type": "markdown",
   "metadata": {},
   "source": [
    "## Try/ Except"
   ]
  },
  {
   "cell_type": "code",
   "execution_count": null,
   "metadata": {},
   "outputs": [],
   "source": [
    "# 如果不知道會出現哪種異常，可以這樣用 \n",
    "\n",
    "try:\n",
    "    f = open('文件.txt', mode = 'r', encoding = 'utf-8')\n",
    "    content = f.read()\n",
    "    f.close()\n",
    "except:\n",
    "    print('出錯了喔!')"
   ]
  },
  {
   "cell_type": "code",
   "execution_count": null,
   "metadata": {},
   "outputs": [],
   "source": [
    "# 如果不知道會出現哪種異常，可以這樣用 \n",
    "# 印出原因\n",
    "\n",
    "tr\n",
    "    f = open('文件.txt', mode = 'r', encoding = 'utf-8')\n",
    "    content = f.read()\n",
    "    f.close()\n",
    "except Exception as reason:\n",
    "    print('出錯了喔!\\n錯誤的原因是: ', reason)"
   ]
  },
  {
   "cell_type": "code",
   "execution_count": null,
   "metadata": {},
   "outputs": [],
   "source": [
    "# 對特別異常做處理\n",
    "\n",
    "try:\n",
    "    f = open('./mod20/文件.txt', mode = 'r', encoding = 'utf-8')\n",
    "    content = f.read()\n",
    "    f.close()\n",
    "except OSError as reason:\n",
    "    print('出錯了喔!\\n錯誤的原因是: ', reason)"
   ]
  },
  {
   "cell_type": "code",
   "execution_count": null,
   "metadata": {},
   "outputs": [],
   "source": [
    "# 對多個特別異常做各別處理\n",
    "\n",
    "try:\n",
    "    sum = 1 + '1'\n",
    "    f = open('文件.txt', mode = 'r', encoding = 'utf-8')\n",
    "    content = f.read()\n",
    "    f.close()\n",
    "except OSError as reason:\n",
    "    print('出錯了喔!\\n錯誤的原因是: ', reason)\n",
    "except TypeError as reason:\n",
    "    print('出錯了喔!\\n錯誤的原因是: ', reason)"
   ]
  },
  {
   "cell_type": "code",
   "execution_count": null,
   "metadata": {},
   "outputs": [],
   "source": [
    "# 另一種寫法\n",
    "# 記得只要 try 裡面的語句一旦出錯，就會跳出，不會繼續執行try下面的語句\n",
    "\n",
    "try:\n",
    "    sum = 1 + '1'\n",
    "    f = open('文件.txt', mode = 'r', encoding = 'utf-8')\n",
    "    content = f.read()\n",
    "    f.close()\n",
    "except (OSError, TypeError) as reason:\n",
    "    print('出錯了喔!\\n錯誤的原因是: ', reason)   "
   ]
  },
  {
   "cell_type": "code",
   "execution_count": null,
   "metadata": {},
   "outputs": [],
   "source": [
    "# finally 語句不管怎樣一定會被執行\n",
    "# 沒有 f.close()，文件會沒被儲存下來\n",
    "\n",
    "try:\n",
    "    f = open('./mod20/FinallyDemo.txt', mode = 'w', encoding = 'utf-8')\n",
    "    f.write('Crystal is cute')\n",
    "    sum = 1 + '1'\n",
    "except (OSError, TypeError):\n",
    "    print('出錯了喔!')\n",
    "finally:\n",
    "    f.close()"
   ]
  },
  {
   "cell_type": "code",
   "execution_count": null,
   "metadata": {},
   "outputs": [],
   "source": [
    "# 只要 try 語句執行完全，就會執行 else\n",
    "# finally 區塊是不管怎樣一定會執行\n",
    "\n",
    "try:\n",
    "    a = int(input(\"請輸入第一個整數：\"))\n",
    "    b = int(input(\"請輸入第二個整數：\"))\n",
    "    r = a % b    \n",
    "except ValueError:\n",
    "    print(\"發生輸入非數值的錯誤!\")   \n",
    "except Exception as e:\n",
    "    print(\"發生\", e,\"的錯誤，包括分母為 0 的錯誤!\")\n",
    "else:\n",
    "    print(\"r=\", r)\n",
    "finally:\n",
    "    print(\"一定會執行的程式區塊\") "
   ]
  },
  {
   "cell_type": "code",
   "execution_count": null,
   "metadata": {},
   "outputs": [],
   "source": [
    "# 自己引發異常\n",
    "\n",
    "my_passwd = 'Matt'\n",
    "if len(my_passwd) < 10:\n",
    "    raise Exception('password is too short')"
   ]
  },
  {
   "cell_type": "code",
   "execution_count": null,
   "metadata": {},
   "outputs": [],
   "source": [
    "# 檢查異常\n",
    "\n",
    "my_passwd = 'Crystal'\n",
    "assert len(my_passwd) > 10, 'password is too short'"
   ]
  },
  {
   "cell_type": "code",
   "execution_count": null,
   "metadata": {},
   "outputs": [],
   "source": [
    "# 範例 1\n",
    "# 注意有先後順序\n",
    "\n",
    "try:\n",
    "    n1, n2 = eval(input('Input two integers(n1, n2): '))\n",
    "    r = n1/n2\n",
    "    print('r =', r)    \n",
    "except SyntaxError: # 輸入 1 ; 2 可以測試此區塊\n",
    "    print('Error: Please separate input data by comma!')\n",
    "except ZeroDivisionError: # n2輸入 0 可以測試此區塊\n",
    "    print('Error: Devided by zero!')\n",
    "except: # 只輸入一個數字可以測試此區塊\n",
    "    print('Error: Input error!')\n",
    "else:\n",
    "    print('no error')\n",
    "finally:\n",
    "    print('finally')         "
   ]
  },
  {
   "cell_type": "code",
   "execution_count": null,
   "metadata": {},
   "outputs": [],
   "source": [
    "# 範例 2\n",
    "\n",
    "while True:\n",
    "    try:\n",
    "        lst1 = [1, 2, 3, 4]\n",
    "        idx = int(input('Enter an index: '))\n",
    "        if not 0 <= idx < 4:\n",
    "            print('Index out of range')\n",
    "            print('Try again!')\n",
    "            continue\n",
    "        print('Value is', lst1[idx])\n",
    "        break\n",
    "    except ValueError as e:\n",
    "        print('value Error :', e) "
   ]
  }
 ],
 "metadata": {
  "kernelspec": {
   "display_name": "Python 3",
   "language": "python",
   "name": "python3"
  },
  "language_info": {
   "codemirror_mode": {
    "name": "ipython",
    "version": 3
   },
   "file_extension": ".py",
   "mimetype": "text/x-python",
   "name": "python",
   "nbconvert_exporter": "python",
   "pygments_lexer": "ipython3",
   "version": "3.8.10"
  }
 },
 "nbformat": 4,
 "nbformat_minor": 4
}
