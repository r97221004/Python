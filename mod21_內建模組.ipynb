{
 "cells": [
  {
   "cell_type": "markdown",
   "metadata": {},
   "source": [
    "#  <font color=red> Module_21_內建模組</font>"
   ]
  },
  {
   "cell_type": "markdown",
   "metadata": {},
   "source": [
    "# datetime"
   ]
  },
  {
   "cell_type": "raw",
   "metadata": {},
   "source": [
    "# import datetime 要使用 datetime 類別，要寫 datetime.datetime()\n",
    "# 但是因為這個類別太常用，所以我們使用 from datetime import datetime 比較簡潔方便\n",
    "# 這樣就可以直接調用 datetime() 類別與建立實體物件\n",
    "# datetime 物件包括年、月、日、時、分...\n",
    "# 來 new 一個 datetime 實體物件"
   ]
  },
  {
   "cell_type": "code",
   "execution_count": null,
   "metadata": {},
   "outputs": [],
   "source": [
    "from datetime import datetime\n",
    "\n",
    "datetime(2014, 12, 15)"
   ]
  },
  {
   "cell_type": "code",
   "execution_count": null,
   "metadata": {},
   "outputs": [],
   "source": [
    "datetime(2014, 12, 15, 17, 30, 5) # 年、月、日、時、分、秒"
   ]
  },
  {
   "cell_type": "code",
   "execution_count": null,
   "metadata": {},
   "outputs": [],
   "source": [
    "# 調用類方法，直接生成現在的時間，返回現在時間的實體物件\n",
    "now = datetime.now()\n",
    "now"
   ]
  },
  {
   "cell_type": "code",
   "execution_count": null,
   "metadata": {},
   "outputs": [],
   "source": [
    "# 可以用它的屬性直接獲得年、月、日、時、分、秒\n",
    "# 別忘了這是 tuple 的寫法\n",
    "now.year, now.month, now.day, now.hour, now.minute, now.second"
   ]
  },
  {
   "cell_type": "code",
   "execution_count": null,
   "metadata": {},
   "outputs": [],
   "source": [
    "datetime.today() # # .today() 也可以獲得當地時間"
   ]
  },
  {
   "cell_type": "markdown",
   "metadata": {},
   "source": [
    "---"
   ]
  },
  {
   "cell_type": "raw",
   "metadata": {},
   "source": [
    "# 我們想要建立只有日期沒有時間的實體物件該怎麼辦 ? 跟上面的操作相似"
   ]
  },
  {
   "cell_type": "code",
   "execution_count": null,
   "metadata": {},
   "outputs": [],
   "source": [
    "from datetime import date\n",
    "d = date(2020, 3, 10) # datetime.date 物件代表特定的一天 (沒有時間成分)\n",
    "d"
   ]
  },
  {
   "cell_type": "code",
   "execution_count": null,
   "metadata": {},
   "outputs": [],
   "source": [
    "d.year, d.month, d.day"
   ]
  },
  {
   "cell_type": "markdown",
   "metadata": {},
   "source": [
    "---"
   ]
  },
  {
   "cell_type": "code",
   "execution_count": null,
   "metadata": {},
   "outputs": [],
   "source": [
    "# 如果是日期時間物件怎麼把時間去除 ?\n",
    "day = datetime(2021, 2, 23, 8, 10)\n",
    "day"
   ]
  },
  {
   "cell_type": "code",
   "execution_count": null,
   "metadata": {},
   "outputs": [],
   "source": [
    "# 調用 .date() 方法就可以把時間給刪掉，返回日期實體物件\n",
    "day.date()"
   ]
  },
  {
   "cell_type": "code",
   "execution_count": null,
   "metadata": {},
   "outputs": [],
   "source": [
    "datetime.now().date()"
   ]
  },
  {
   "cell_type": "markdown",
   "metadata": {},
   "source": [
    "---"
   ]
  },
  {
   "cell_type": "code",
   "execution_count": null,
   "metadata": {},
   "outputs": [],
   "source": [
    "# 使用剛剛的邏輯，這是沒有日期成分的時間\n",
    "from datetime import time\n",
    "time(4, 50, 40) # 時、分、秒"
   ]
  },
  {
   "cell_type": "code",
   "execution_count": null,
   "metadata": {},
   "outputs": [],
   "source": [
    "day = datetime(2014, 12, 15, 17, 30)\n",
    "day"
   ]
  },
  {
   "cell_type": "code",
   "execution_count": null,
   "metadata": {},
   "outputs": [],
   "source": [
    "day.time()"
   ]
  },
  {
   "cell_type": "code",
   "execution_count": null,
   "metadata": {},
   "outputs": [],
   "source": [
    "datetime.now().time()"
   ]
  },
  {
   "cell_type": "markdown",
   "metadata": {},
   "source": [
    "---"
   ]
  },
  {
   "cell_type": "raw",
   "metadata": {},
   "source": [
    "# datetime 儲存了日期、時間，精確度可以到微秒。 timedelta 物件用來表示兩個 datetime 物件之間的時間差"
   ]
  },
  {
   "cell_type": "code",
   "execution_count": null,
   "metadata": {},
   "outputs": [],
   "source": [
    "delta = datetime(2011, 1, 7) - datetime(2008, 6, 24, 8, 15)\n",
    "delta"
   ]
  },
  {
   "cell_type": "code",
   "execution_count": null,
   "metadata": {},
   "outputs": [],
   "source": [
    "# timedelta 物件的 days 屬性\n",
    "delta.days"
   ]
  },
  {
   "cell_type": "code",
   "execution_count": null,
   "metadata": {},
   "outputs": [],
   "source": [
    "# timedelta 物件的 seconds 屬性\n",
    "delta.seconds"
   ]
  },
  {
   "cell_type": "markdown",
   "metadata": {},
   "source": [
    "---"
   ]
  },
  {
   "cell_type": "code",
   "execution_count": null,
   "metadata": {},
   "outputs": [],
   "source": [
    "from datetime import timedelta\n",
    "\n",
    "start = datetime(2011, 1, 7) # 沒有設定時間，預設就是都是 0\n",
    "start"
   ]
  },
  {
   "cell_type": "code",
   "execution_count": null,
   "metadata": {},
   "outputs": [],
   "source": [
    "start + timedelta(12, 45, 50) # timedelta(日, 秒, 微秒)"
   ]
  },
  {
   "cell_type": "code",
   "execution_count": null,
   "metadata": {},
   "outputs": [],
   "source": [
    "start - 2*timedelta(12) # 減去 24 天"
   ]
  },
  {
   "cell_type": "code",
   "execution_count": null,
   "metadata": {},
   "outputs": [],
   "source": [
    "date1 = datetime(2014, 12, 2)\n",
    "date2 = datetime(2014, 11, 28)\n",
    "date1 - date2"
   ]
  },
  {
   "cell_type": "markdown",
   "metadata": {},
   "source": [
    "---"
   ]
  },
  {
   "cell_type": "raw",
   "metadata": {},
   "source": [
    "# 日期時間資料轉字串的方法比較好記!"
   ]
  },
  {
   "cell_type": "code",
   "execution_count": null,
   "metadata": {},
   "outputs": [],
   "source": [
    "stamp = datetime(2011, 1, 3)\n",
    "stamp"
   ]
  },
  {
   "cell_type": "code",
   "execution_count": null,
   "metadata": {},
   "outputs": [],
   "source": [
    "# 使用 str() 函式轉換成字串\n",
    "str(stamp)"
   ]
  },
  {
   "cell_type": "code",
   "execution_count": null,
   "metadata": {},
   "outputs": [],
   "source": [
    "# 使用 datetime 物件的 .strftime() 方法轉換成字串，可自選格式\n",
    "stamp.strftime('%Y-%m-%d')"
   ]
  },
  {
   "cell_type": "markdown",
   "metadata": {},
   "source": [
    "---"
   ]
  },
  {
   "cell_type": "raw",
   "metadata": {},
   "source": [
    "# 字串轉日期時間資料的方法就需要思考一下了!"
   ]
  },
  {
   "cell_type": "code",
   "execution_count": null,
   "metadata": {},
   "outputs": [],
   "source": [
    "# 使用類方法 datetime.strptime() 把字串轉日期\n",
    "# 要給出正確的時間日期形式才能解析成功\n",
    "value = '2011-01-03'\n",
    "datetime.strptime(value, '%Y-%m-%d')"
   ]
  },
  {
   "cell_type": "code",
   "execution_count": null,
   "metadata": {},
   "outputs": [],
   "source": [
    "value = '2011-01-03 00:00:00'\n",
    "datetime.strptime(value, '%Y-%m-%d') # 形式沒給對!"
   ]
  },
  {
   "cell_type": "code",
   "execution_count": null,
   "metadata": {},
   "outputs": [],
   "source": [
    "value = '2011-01-03 00:00:00'\n",
    "datetime.strptime(value, '%Y-%m-%d %H:%M:%S')"
   ]
  },
  {
   "cell_type": "code",
   "execution_count": null,
   "metadata": {},
   "outputs": [],
   "source": [
    "datestrs = ['7/6/2011', '8/6/2011']\n",
    "[datetime.strptime(i, '%m/%d/%Y') for i in datestrs]"
   ]
  },
  {
   "cell_type": "markdown",
   "metadata": {},
   "source": [
    "# Math"
   ]
  },
  {
   "cell_type": "code",
   "execution_count": null,
   "metadata": {},
   "outputs": [],
   "source": [
    "import math \n",
    "\n",
    "x1 = math.ceil(-3.6)\n",
    "x2 = math.floor(-5.6)\n",
    "x3 = math.sqrt(64)\n",
    "x4 = math.sin(0)\n",
    "x5 = math.cos(0)\n",
    "x6 = math.e\n",
    "x7 = math.pi\n",
    "x8 = math.log(1)\n",
    "x9 = math.exp(2)\n",
    "\n",
    "\n",
    "# print(x1)\n",
    "# print(x2)\n",
    "# print(x3)\n",
    "# print(x4)\n",
    "# print(x5)\n",
    "# print(x6)\n",
    "# print(x7)\n",
    "# print(x8)\n",
    "# print(x9)\n",
    "\n"
   ]
  },
  {
   "cell_type": "markdown",
   "metadata": {},
   "source": [
    "# Random"
   ]
  },
  {
   "cell_type": "code",
   "execution_count": null,
   "metadata": {},
   "outputs": [],
   "source": [
    "import random\n",
    "\n",
    "# random.seed(10)\n",
    "\n",
    "\n",
    "# 由 0 到 1 之間隨機取得一個浮點數\n",
    "print(random.random())"
   ]
  },
  {
   "cell_type": "code",
   "execution_count": null,
   "metadata": {},
   "outputs": [],
   "source": [
    "import random\n",
    "\n",
    "\n",
    "# uniform(f1, f2) 由 f1 到 f2 之間隨機取得一個浮點數\n",
    "print(random.uniform(1, 20))"
   ]
  },
  {
   "cell_type": "code",
   "execution_count": null,
   "metadata": {},
   "outputs": [],
   "source": [
    "import random\n",
    "\n",
    "# randint(n1, n2)  由 n1 到 n2 之間隨機取一個整數，包含端點\n",
    "print(random.randint(1, 50))"
   ]
  },
  {
   "cell_type": "code",
   "execution_count": null,
   "metadata": {},
   "outputs": [],
   "source": [
    "import random\n",
    "\n",
    "# randrange(n1, n2, n3) 由 n1 到 n2 之間每隔 n3 的數隨機取一個整數，不包含 n2\n",
    "print(random.randrange(3, 9, 2))"
   ]
  },
  {
   "cell_type": "code",
   "execution_count": null,
   "metadata": {},
   "outputs": [],
   "source": [
    "import random\n",
    "\n",
    "# sample(字串或列表, n) 由字串或列表中隨機選出 n 個字元 # 不放回 # 抽獎\n",
    "mylist = [\"Crystal\", \"Matt\", \"Alice\"]\n",
    "print(random.sample(mylist, k = 2))\n",
    "\n",
    "# 抽字元\n",
    "str1 = \"Crystal\"\n",
    "print(random.sample(str1, k = 6))"
   ]
  },
  {
   "cell_type": "code",
   "execution_count": null,
   "metadata": {},
   "outputs": [],
   "source": [
    "import random\n",
    "\n",
    "#choices(字串或列表, n) 由字串或列表中隨機選出 n 個字元, 但是可以做加權 # 放回\n",
    "mylist = [\"apple\", \"banana\", \"cherry\"]\n",
    "print(random.choices(mylist, weights = [1, 10, 1], k = 14))"
   ]
  },
  {
   "cell_type": "code",
   "execution_count": null,
   "metadata": {},
   "outputs": [],
   "source": [
    "import random\n",
    "\n",
    "# shuffle(列表) 為列表洗牌\n",
    "mylist = [\"Crystal\", \"Matt\", \"Alice\"]\n",
    "random.shuffle(mylist)\n",
    "print(mylist)"
   ]
  },
  {
   "cell_type": "markdown",
   "metadata": {},
   "source": [
    "# OS"
   ]
  },
  {
   "cell_type": "markdown",
   "metadata": {},
   "source": [
    "><img src=\"./mod21/picture1.png\" style=\"zoom:70%\" />"
   ]
  },
  {
   "cell_type": "markdown",
   "metadata": {},
   "source": [
    "><img src=\"./mod21/picture2.png\" style=\"zoom:70%\" />"
   ]
  },
  {
   "cell_type": "code",
   "execution_count": null,
   "metadata": {},
   "outputs": [],
   "source": [
    "import os\n",
    "\n",
    "\n",
    "# 返回當前工作目錄 Get current working directory\n",
    "# print(os.getcwd())\n",
    "\n",
    "# 改變工作目錄 Change directory  # 也可改用反斜線\n",
    "# os.chdir('C:\\\\Users\\\\User\\\\Desktop')\n",
    "# os.getcwd()\n",
    "\n",
    "# 列出指定目錄下的檔案與目錄名 '.' 表示當前目錄 '..' 表示上一級目錄\n",
    "# os.listdir('.')\n",
    "\n",
    "# 創建單層目錄, 目錄已經存在會拋出異常\n",
    "# os.mkdir('./A')\n",
    "\n",
    "# 創建多層目錄, 目錄已經存在會拋出異常\n",
    "# os.makedirs('./A/B')\n",
    "\n",
    "# 刪除單層目錄, 目錄非空會拋出異常\n",
    "# os.rmdir('C:\\\\Users\\\\User\\\\Desktop\\\\A')\n",
    "\n",
    "# 刪除多層目錄, 目錄非空會拋出異常\n",
    "# os.removedirs('C:\\\\Users\\\\User\\\\Desktop\\\\A\\\\B')\n",
    "\n",
    "# 刪除指定檔案\n",
    "# os.remove(\"./2.txt\")\n",
    "\n",
    "# rename(old, new) 將舊文件重新命名為新文件 # 當前目錄要找的到阿\n",
    "# os.rename('1.txt','2.txt') \n",
    "\n",
    "#取得環境變數內容\n",
    "# print(os.environ.get('PATH')) \n",
    "\n",
    "#取得家目錄路徑\n",
    "# print(os.path.expanduser('~'))   "
   ]
  },
  {
   "cell_type": "code",
   "execution_count": null,
   "metadata": {},
   "outputs": [],
   "source": [
    "import os.path\n",
    "\n",
    "# 返回當前工作目錄 # 看是否跟目前的執行檔案同一目錄\n",
    "# print(os.getcwd())\n",
    "\n",
    "# 傳回檔案的完整路徑名稱 # 也就是當下的目錄再加上檔案名\n",
    "# print(os.path.abspath(\"abcdef.txt\"))\n",
    "\n",
    "#檢查指定的路徑或檔案是否存在\n",
    "# print(os.path.exists(\"./something.txt\"))\n",
    "\n",
    "# 去掉目錄名稱, 單獨返回檔案名\n",
    "# print(os.path.basename('C:\\\\A\\\\B\\\\123.txt'))\n",
    "\n",
    "# 去掉檔案名, 單獨返回目錄路徑\n",
    "# print(os.path.dirname('C:\\\\A\\\\B\\\\123.txt'))\n",
    "\n",
    "# 將各部分組成一個路徑名稱\n",
    "# print(os.path.join('C:\\D','A','B','123.txt'))\n",
    "\n",
    "# 分割路徑名稱為目錄跟檔案名, 但不會判斷最後是否為檔案\n",
    "# print(os.path.split('C:\\\\A\\\\B\\\\123.txt')) \n",
    "\n",
    "# 分割路徑名稱為檔案名稱與附檔名\n",
    "# print(os.path.splitext('C:\\\\A\\\\B\\\\123.txt'))\n",
    "\n",
    "# 取得指定檔案的檔案大小 (Bytes)\n",
    "# print(os.path.getsize(\"C:\\\\users\\\\User\\\\Desktop\\\\1.txt\"))\n"
   ]
  },
  {
   "cell_type": "code",
   "execution_count": null,
   "metadata": {},
   "outputs": [],
   "source": [
    "import time\n",
    "\n",
    "# 返回指定檔案的創建時間 # 1.txt 要先創立\n",
    "print(time.localtime(os.path.getctime('C:\\\\users\\\\User\\\\Desktop\\\\1.txt'))) # Unix時間戳 (紀元秒數)\n",
    "\n",
    "# 返回指定檔案最近的修改時間 # 1.txt 要先創立\n",
    "print(time.localtime(os.path.getmtime('C:\\\\users\\\\User\\\\Desktop\\\\1.txt'))) \n",
    "\n",
    "# 返回指定檔案最近的訪問時間 # 1.txt 要先創立\n",
    "print(time.localtime(os.path.getatime('C:\\\\users\\\\User\\\\Desktop\\\\1.txt')))\n"
   ]
  },
  {
   "cell_type": "code",
   "execution_count": null,
   "metadata": {},
   "outputs": [],
   "source": [
    "# os.mkdir(\"my_folder\")\n",
    "\n",
    "dir1 = 'my_folder'\n",
    "if not os.path.exists(dir1):\n",
    "    os.mkdir(dir1)\n",
    "else:\n",
    "    print(dir1 + '已經建立！')"
   ]
  },
  {
   "cell_type": "code",
   "execution_count": null,
   "metadata": {},
   "outputs": [],
   "source": [
    "file_names = os.listdir('.')\n",
    "# print(file_names)\n",
    "for i in file_names:\n",
    "    print(i)"
   ]
  },
  {
   "cell_type": "markdown",
   "metadata": {},
   "source": [
    "# Shutil"
   ]
  },
  {
   "cell_type": "code",
   "execution_count": null,
   "metadata": {},
   "outputs": [],
   "source": [
    "import shutil\n",
    "\n",
    "\n",
    "# copyfile(來源檔案,  目的檔案) 複製來源檔案到目的檔案\n",
    "# shutil.copyfile(\"old.txt\", \"new.txt\")\n",
    "\n",
    "\n",
    "# copytree(來源目錄, 目的目錄) 將來源目錄及其中所有的檔案新增到目的目錄\n",
    "# shutil.copytree('./files', './new_files')\n",
    "\n",
    "# retree(目錄) 刪除指定目錄以及其中的所有檔案\n",
    "# shutil.rmtree('./new_files')\n",
    "\n",
    "# move(來源檔案或目錄, 目的地) 將來源檔案或目錄搬移到目的地 \n",
    "# shutil.move(\"cc.txt\", \"./files\") "
   ]
  },
  {
   "cell_type": "markdown",
   "metadata": {},
   "source": [
    "# glob"
   ]
  },
  {
   "cell_type": "code",
   "execution_count": null,
   "metadata": {},
   "outputs": [],
   "source": [
    "import glob\n",
    "\n",
    "\n",
    "# 取得檔案\n",
    "# files = glob.glob(\"something.txt\")\n",
    "\n",
    "# 取得符合條件的檔案串列 \n",
    "# files = glob.glob(\"*.txt\")\n",
    "\n",
    "# 用絕對路徑取得符合條件的檔案串列\n",
    "# files = glob.glob(\"C:/users/User/Desktop/*.txt\")\n",
    "\n",
    "# 取得 m 開頭的 ipynb 檔\n",
    "# files = glob.glob(\"./m*.ipynb\")\n",
    "\n",
    "print(files)"
   ]
  },
  {
   "cell_type": "markdown",
   "metadata": {},
   "source": [
    "# Time"
   ]
  },
  {
   "cell_type": "code",
   "execution_count": null,
   "metadata": {},
   "outputs": [],
   "source": [
    "import time\n",
    "\n",
    "# 從 1970/1/1 00:00:00 至今的秒數 # Unix時間戳 (紀元秒數)\n",
    "seconds = time.time()\n",
    "print(seconds)"
   ]
  },
  {
   "cell_type": "code",
   "execution_count": null,
   "metadata": {},
   "outputs": [],
   "source": [
    "import time\n",
    "\n",
    "# 從 1970/1/1 00:00:00 至今的秒數\n",
    "seconds = time.time()\n",
    "\n",
    "# 將秒數轉為本地時間\n",
    "local_time = time.ctime(seconds)\n",
    "\n",
    "print(\"本地時間：\", local_time)"
   ]
  },
  {
   "cell_type": "code",
   "execution_count": null,
   "metadata": {},
   "outputs": [],
   "source": [
    "import time\n",
    "\n",
    "# 現在時間\n",
    "now = time.ctime()\n",
    "print(\"現在時間：\", now)"
   ]
  },
  {
   "cell_type": "code",
   "execution_count": null,
   "metadata": {},
   "outputs": [],
   "source": [
    "import time\n",
    "\n",
    "print(\"Hello\")\n",
    "\n",
    "# 暫停 3 秒\n",
    "time.sleep(3)\n",
    "\n",
    "print(\"World\")"
   ]
  },
  {
   "cell_type": "code",
   "execution_count": null,
   "metadata": {},
   "outputs": [],
   "source": [
    "import time\n",
    "\n",
    "# 取得 struct_time 格式的時間\n",
    "t = time.localtime()\n",
    "print(t)\n",
    "print(type(t))\n",
    "\n",
    "# 依指定格式輸出\n",
    "result = time.strftime(\"%Y/%m/%d, %H:%M:%S\", t)\n",
    "print(result, type(result))"
   ]
  }
 ],
 "metadata": {
  "kernelspec": {
   "display_name": "Python 3",
   "language": "python",
   "name": "python3"
  },
  "language_info": {
   "codemirror_mode": {
    "name": "ipython",
    "version": 3
   },
   "file_extension": ".py",
   "mimetype": "text/x-python",
   "name": "python",
   "nbconvert_exporter": "python",
   "pygments_lexer": "ipython3",
   "version": "3.8.10"
  }
 },
 "nbformat": 4,
 "nbformat_minor": 4
}
