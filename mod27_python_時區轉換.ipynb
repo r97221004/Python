{
 "cells": [
  {
   "cell_type": "code",
   "execution_count": 1,
   "id": "88317f49",
   "metadata": {},
   "outputs": [
    {
     "name": "stdout",
     "output_type": "stream",
     "text": [
      "2019-01-01 14:00:00\n"
     ]
    }
   ],
   "source": [
    "from datetime import datetime\n",
    "import pytz\n",
    "\n",
    "\n",
    "d = datetime(2019, 1, 1, 14, 0, 0)\n",
    "print(d)"
   ]
  },
  {
   "cell_type": "markdown",
   "id": "b5286c3d",
   "metadata": {},
   "source": [
    "# create Taipei timezone"
   ]
  },
  {
   "cell_type": "code",
   "execution_count": 2,
   "id": "617bb5fb",
   "metadata": {},
   "outputs": [
    {
     "name": "stdout",
     "output_type": "stream",
     "text": [
      "Asia/Taipei\n"
     ]
    }
   ],
   "source": [
    "tw = pytz.timezone('Asia/Taipei')\n",
    "print(tw)"
   ]
  },
  {
   "cell_type": "markdown",
   "id": "7405e6ec",
   "metadata": {},
   "source": [
    "# set d timezone is 'Asia/Taipei'"
   ]
  },
  {
   "cell_type": "code",
   "execution_count": 3,
   "id": "8b1a2801",
   "metadata": {},
   "outputs": [
    {
     "name": "stdout",
     "output_type": "stream",
     "text": [
      "2019-01-01 14:00:00+08:00\n"
     ]
    }
   ],
   "source": [
    "tw_d = tw.localize(d)\n",
    "print(tw_d)"
   ]
  },
  {
   "cell_type": "markdown",
   "id": "39ba1c94",
   "metadata": {},
   "source": [
    "# change to utc time"
   ]
  },
  {
   "cell_type": "code",
   "execution_count": 4,
   "id": "04578d06",
   "metadata": {},
   "outputs": [],
   "source": [
    "utc_d = tw_d.astimezone(pytz.utc)"
   ]
  },
  {
   "cell_type": "code",
   "execution_count": 5,
   "id": "e87f751e",
   "metadata": {},
   "outputs": [
    {
     "name": "stdout",
     "output_type": "stream",
     "text": [
      "2019-01-01 06:00:00+00:00\n"
     ]
    }
   ],
   "source": [
    "print(utc_d)"
   ]
  }
 ],
 "metadata": {
  "kernelspec": {
   "display_name": "Python 3",
   "language": "python",
   "name": "python3"
  },
  "language_info": {
   "codemirror_mode": {
    "name": "ipython",
    "version": 3
   },
   "file_extension": ".py",
   "mimetype": "text/x-python",
   "name": "python",
   "nbconvert_exporter": "python",
   "pygments_lexer": "ipython3",
   "version": "3.8.10"
  }
 },
 "nbformat": 4,
 "nbformat_minor": 5
}
