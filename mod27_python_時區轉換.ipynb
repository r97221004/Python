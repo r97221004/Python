{
 "cells": [
  {
   "cell_type": "code",
   "execution_count": 1,
   "id": "88317f49",
   "metadata": {},
   "outputs": [
    {
     "data": {
      "text/plain": [
       "datetime.datetime(2019, 1, 1, 14, 0)"
      ]
     },
     "execution_count": 1,
     "metadata": {},
     "output_type": "execute_result"
    }
   ],
   "source": [
    "from datetime import datetime\n",
    "import pytz\n",
    "\n",
    "\n",
    "d = datetime(2019, 1, 1, 14, 0, 0)\n",
    "d"
   ]
  },
  {
   "cell_type": "markdown",
   "id": "b5286c3d",
   "metadata": {},
   "source": [
    "# create Taipei timezone"
   ]
  },
  {
   "cell_type": "code",
   "execution_count": 2,
   "id": "617bb5fb",
   "metadata": {},
   "outputs": [
    {
     "data": {
      "text/plain": [
       "<DstTzInfo 'Asia/Taipei' LMT+8:06:00 STD>"
      ]
     },
     "execution_count": 2,
     "metadata": {},
     "output_type": "execute_result"
    }
   ],
   "source": [
    "tw = pytz.timezone('Asia/Taipei')\n",
    "tw"
   ]
  },
  {
   "cell_type": "markdown",
   "id": "7405e6ec",
   "metadata": {},
   "source": [
    "# set d timezone is 'Asia/Taipei'"
   ]
  },
  {
   "cell_type": "code",
   "execution_count": 3,
   "id": "8b1a2801",
   "metadata": {},
   "outputs": [
    {
     "data": {
      "text/plain": [
       "datetime.datetime(2019, 1, 1, 14, 0, tzinfo=<DstTzInfo 'Asia/Taipei' CST+8:00:00 STD>)"
      ]
     },
     "execution_count": 3,
     "metadata": {},
     "output_type": "execute_result"
    }
   ],
   "source": [
    "tw_d = tw.localize(d)\n",
    "tw_d"
   ]
  },
  {
   "cell_type": "markdown",
   "id": "39ba1c94",
   "metadata": {},
   "source": [
    "# change to utc time"
   ]
  },
  {
   "cell_type": "code",
   "execution_count": 4,
   "id": "04578d06",
   "metadata": {},
   "outputs": [],
   "source": [
    "utc_d = tw_d.astimezone(pytz.utc)"
   ]
  },
  {
   "cell_type": "code",
   "execution_count": 5,
   "id": "e87f751e",
   "metadata": {},
   "outputs": [
    {
     "data": {
      "text/plain": [
       "datetime.datetime(2019, 1, 1, 6, 0, tzinfo=<UTC>)"
      ]
     },
     "execution_count": 5,
     "metadata": {},
     "output_type": "execute_result"
    }
   ],
   "source": [
    "utc_d"
   ]
  }
 ],
 "metadata": {
  "kernelspec": {
   "display_name": "Python 3",
   "language": "python",
   "name": "python3"
  },
  "language_info": {
   "codemirror_mode": {
    "name": "ipython",
    "version": 3
   },
   "file_extension": ".py",
   "mimetype": "text/x-python",
   "name": "python",
   "nbconvert_exporter": "python",
   "pygments_lexer": "ipython3",
   "version": "3.8.10"
  }
 },
 "nbformat": 4,
 "nbformat_minor": 5
}
