{
 "cells": [
  {
   "cell_type": "markdown",
   "id": "fc633fec",
   "metadata": {},
   "source": [
    "# 定義裝飾器"
   ]
  },
  {
   "cell_type": "raw",
   "id": "ed148067",
   "metadata": {},
   "source": [
    "裝飾器其實就是函數式編程。把函數當作參數傳入，利用類似閉包的方式把想要且包裝過的函數傳出。比如我現在有一個舊的函數，他的功能如下:"
   ]
  },
  {
   "cell_type": "raw",
   "id": "9a950857",
   "metadata": {},
   "source": [
    "裝飾器的好處在不用動到之前系統的邏輯，且也可避免重複。"
   ]
  },
  {
   "cell_type": "code",
   "execution_count": null,
   "id": "353b7abb",
   "metadata": {},
   "outputs": [],
   "source": [
    "def printWorld():\n",
    "    print(\"World\")"
   ]
  },
  {
   "cell_type": "raw",
   "id": "b1f65ef3",
   "metadata": {},
   "source": [
    "可是現在我們系統的下一版本想在前面多印出 Hello，在不更改原程式的前提下，我們可以使用以下的結構，我們稱裝飾器。"
   ]
  },
  {
   "cell_type": "code",
   "execution_count": null,
   "id": "ee080d3e",
   "metadata": {},
   "outputs": [],
   "source": [
    "def printHello(func):\n",
    "    def wrapper():\n",
    "        print(\"Hello\")\n",
    "        func()\n",
    "    return wrapper"
   ]
  },
  {
   "cell_type": "markdown",
   "id": "c5c82cc5",
   "metadata": {},
   "source": [
    "# 使用裝飾器"
   ]
  },
  {
   "cell_type": "markdown",
   "id": "20151680",
   "metadata": {},
   "source": [
    "### 方法一"
   ]
  },
  {
   "cell_type": "raw",
   "id": "2c94deb5",
   "metadata": {},
   "source": [
    "最直覺的方式是使用 printHello 函數且帶入參數 printWorld，在呼叫這個函數。注意其實我們現在是在呼叫 wrapper。"
   ]
  },
  {
   "cell_type": "code",
   "execution_count": null,
   "id": "6856b510",
   "metadata": {},
   "outputs": [],
   "source": [
    "printHello(printWorld)()"
   ]
  },
  {
   "cell_type": "markdown",
   "id": "1f03d0a3",
   "metadata": {},
   "source": [
    "### 方法二: 使用糖語法"
   ]
  },
  {
   "cell_type": "code",
   "execution_count": null,
   "id": "154be5c7",
   "metadata": {},
   "outputs": [],
   "source": [
    "使用這個方法的好處是不用修改呼叫的方式，我們不用修改系統之前的呼叫方式。"
   ]
  },
  {
   "cell_type": "code",
   "execution_count": null,
   "id": "01403233",
   "metadata": {},
   "outputs": [],
   "source": [
    "@printHello\n",
    "def printWorld():\n",
    "    print(\"World\")\n",
    "\n",
    "printWorld()"
   ]
  },
  {
   "cell_type": "markdown",
   "id": "a1483cac",
   "metadata": {},
   "source": [
    "### 範例01"
   ]
  },
  {
   "cell_type": "code",
   "execution_count": null,
   "id": "aae4f340",
   "metadata": {},
   "outputs": [],
   "source": [
    "# 定義一個裝飾器，計算 1+2+ --- + 50 的總和\n",
    "def calculate(func):\n",
    "    def wrapper():\n",
    "        res = 0\n",
    "        for i in range(51):\n",
    "            res += i\n",
    "        \n",
    "        func(res)\n",
    "    \n",
    "    return wrapper\n",
    "\n",
    "@calculate\n",
    "def show(n):\n",
    "    print(\"計算結果是: \", n) \n",
    "    \n",
    "@calculate    \n",
    "def showEnglish(n):\n",
    "    print(\"Result is:\", n)\n",
    "\n",
    "show()\n",
    "showEnglish()"
   ]
  },
  {
   "cell_type": "markdown",
   "id": "9b1f7531",
   "metadata": {},
   "source": [
    "# 使用簡單參數"
   ]
  },
  {
   "cell_type": "raw",
   "id": "6e6eae83",
   "metadata": {},
   "source": [
    "如果說裝飾器所裝的函式需要輸入參數該如何處理呢，換句話說想要整合 printKitty 跟 printWorld 該如何處理呢？"
   ]
  },
  {
   "cell_type": "markdown",
   "id": "310d081b",
   "metadata": {},
   "source": [
    "### 方法一"
   ]
  },
  {
   "cell_type": "code",
   "execution_count": null,
   "id": "e211c55a",
   "metadata": {},
   "outputs": [],
   "source": [
    "def printHello(func):\n",
    "    def wrapper(arg):\n",
    "        print('Hello')\n",
    "        func(arg)\n",
    "    return wrapper\n",
    "\n",
    "\n",
    "def printArg(arg):\n",
    "    print(arg)\n",
    "    \n",
    "    \n",
    "printHello(printArg)(\"World\")"
   ]
  },
  {
   "cell_type": "markdown",
   "id": "34c06d1d",
   "metadata": {},
   "source": [
    "### 方法二"
   ]
  },
  {
   "cell_type": "code",
   "execution_count": null,
   "id": "172d98ed",
   "metadata": {},
   "outputs": [],
   "source": [
    "def printHello(func):\n",
    "    def wrapper(arg):\n",
    "        print('Hello')\n",
    "        func(arg)\n",
    "    return wrapper\n",
    "\n",
    "@printHello\n",
    "def printArg(arg):\n",
    "    print(arg)\n",
    "\n",
    "printArg('World')\n",
    "printArg('Kitty')"
   ]
  },
  {
   "cell_type": "markdown",
   "id": "4309d2f5",
   "metadata": {},
   "source": [
    "### 範例02"
   ]
  },
  {
   "cell_type": "code",
   "execution_count": null,
   "id": "cbedb5fb",
   "metadata": {},
   "outputs": [],
   "source": [
    "# 定義一個裝飾器，計算 1 + 2 + --- + n 的總和\n",
    "def calculate(func):\n",
    "    def wrapper(arg):\n",
    "        res = 0\n",
    "        for i in range(arg+1):\n",
    "            res += i\n",
    "        \n",
    "        func(res)\n",
    "    \n",
    "    return wrapper\n",
    "\n",
    "@calculate\n",
    "def show(n):\n",
    "    print(\"計算結果是: \", n) \n",
    "    \n",
    "@calculate    \n",
    "def showEnglish(n):\n",
    "    print(\"Result is:\", n)\n",
    "\n",
    "show(5)\n",
    "showEnglish(10)"
   ]
  },
  {
   "cell_type": "markdown",
   "id": "bda28387",
   "metadata": {},
   "source": [
    "# 使用複雜參數"
   ]
  },
  {
   "cell_type": "raw",
   "id": "f798e05a",
   "metadata": {},
   "source": [
    "如果裝飾器所掛載的函式參數很複雜時該如何處置呢，總不能定了一堆類似的裝飾器吧。所以這裡介紹一個通吃的參數輸入定義方式，請見以下例子："
   ]
  },
  {
   "cell_type": "code",
   "execution_count": null,
   "id": "47f45b6d",
   "metadata": {},
   "outputs": [],
   "source": [
    "def printHello(func):\n",
    "    def wrapper(*args, **kwargs):\n",
    "        print(\"Hello\")\n",
    "        func(*args, **kwargs)\n",
    "        \n",
    "    return wrapper\n",
    "\n",
    "\n",
    "@printHello\n",
    "def printSingle(arg):\n",
    "    print(arg)\n",
    "\n",
    "@printHello  \n",
    "def printDouble(arg1, arg2, name, age):\n",
    "    print(arg1)\n",
    "    print(arg2)\n",
    "    print(\"name\", name, \"age\", age)\n",
    "    \n",
    "printSingle(\"World\")\n",
    "printDouble(\"Kitty\", \"Danny\", name=\"Matt\", age=36)"
   ]
  },
  {
   "cell_type": "markdown",
   "id": "628a80e7",
   "metadata": {},
   "source": [
    "# 裝飾器也能加參數"
   ]
  },
  {
   "cell_type": "raw",
   "id": "42cfac68",
   "metadata": {},
   "source": [
    "處理完掛載的裝飾器之後，如果想要在裝飾器上輸入參數該怎麼辦呢，就看看下列例子吧："
   ]
  },
  {
   "cell_type": "code",
   "execution_count": null,
   "id": "a2710a32",
   "metadata": {},
   "outputs": [],
   "source": [
    "def printArg(arg):\n",
    "    def decorator(func):\n",
    "        def wrapper(*args, **kwargs):\n",
    "            print(arg)\n",
    "            func(*args, **kwargs)\n",
    "\n",
    "        return wrapper\n",
    "    \n",
    "    return decorator\n",
    "\n",
    "    \n",
    "@printArg(\"Hi\")    \n",
    "def sayHiAndPrintArg(arg):\n",
    "    print(arg)\n",
    "    \n",
    "@printArg(\"Hello\")    \n",
    "def sayHelloAndPrintArg(arg):\n",
    "    print(arg)    \n",
    "    \n",
    "sayHiAndPrintArg(\"World!\")\n",
    "sayHelloAndPrintArg(\"Matt\")"
   ]
  },
  {
   "cell_type": "markdown",
   "id": "14a216c3",
   "metadata": {},
   "source": [
    "# 使用 @wraps"
   ]
  },
  {
   "cell_type": "raw",
   "id": "8b21989e",
   "metadata": {},
   "source": [
    "使用裝飾器的時候其實會遇到一個問題，那就是在用\n",
    "\n",
    "f.__name__\n",
    "f.__doc__\n",
    "\n",
    "的時候的結果會跟希望的不一樣。例如"
   ]
  },
  {
   "cell_type": "code",
   "execution_count": null,
   "id": "d7d20d51",
   "metadata": {},
   "outputs": [],
   "source": [
    "# 裝飾器\n",
    "def log(func):\n",
    "    def wrapper(*args, **kargs):\n",
    "        '''log doc'''\n",
    "        print('before execute')\n",
    "        func(*args, **kargs)\n",
    "        print('after execute')\n",
    "    return wrapper\n",
    "\n",
    "# 要被修改的函式\n",
    "@log\n",
    "def f():\n",
    "    '''f doc'''\n",
    "    print('executing')\n",
    "    \n",
    "print(f.__name__) # wrapper\n",
    "print(f.__doc__) # log doc"
   ]
  },
  {
   "cell_type": "raw",
   "id": "c9b3c7ae",
   "metadata": {},
   "source": [
    "但是我們希望的結果應該是 \n",
    "\n",
    "print(f.__name__) # 'f'\n",
    "print(f.__doc__) # 'f doc'\n",
    "\n",
    "這個時候只要使用 ＠wraps 就可以了。"
   ]
  },
  {
   "cell_type": "code",
   "execution_count": null,
   "id": "18741c97",
   "metadata": {},
   "outputs": [],
   "source": [
    "from functools import wraps\n",
    "\n",
    "# 裝飾器\n",
    "def log(func):\n",
    "    @wraps(func)\n",
    "    def wrapper(*args, **kargs):\n",
    "        '''log doc'''\n",
    "        print('before execute')\n",
    "        func(*args, **kargs)\n",
    "        print('after execute')\n",
    "    return wrapper\n",
    "\n",
    "# 要被修改的函式\n",
    "@log\n",
    "def f():\n",
    "    '''f doc'''\n",
    "    print('executing')\n",
    "\n",
    "print(f.__name__) # 'f'\n",
    "print(f.__doc__)  # 'f doc'"
   ]
  }
 ],
 "metadata": {
  "kernelspec": {
   "display_name": "Python 3",
   "language": "python",
   "name": "python3"
  },
  "language_info": {
   "codemirror_mode": {
    "name": "ipython",
    "version": 3
   },
   "file_extension": ".py",
   "mimetype": "text/x-python",
   "name": "python",
   "nbconvert_exporter": "python",
   "pygments_lexer": "ipython3",
   "version": "3.8.10"
  }
 },
 "nbformat": 4,
 "nbformat_minor": 5
}
