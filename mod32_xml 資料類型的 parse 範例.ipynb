{
 "cells": [
  {
   "cell_type": "markdown",
   "id": "5850c594",
   "metadata": {},
   "source": [
    "# 讀取 XML 檔案"
   ]
  },
  {
   "cell_type": "raw",
   "id": "3e2c2abc",
   "metadata": {},
   "source": [
    "在 Python 中如果需要讀取 XML 檔案，或是將資料寫入 XML 檔案，可以使用 xml.etree.ElementTree 模組處理，以下是此模組的使用方式與範例。"
   ]
  },
  {
   "cell_type": "code",
   "execution_count": null,
   "id": "ba24ce39",
   "metadata": {},
   "outputs": [],
   "source": [
    "country_data_as_string = \"\"\"<?xml version=\"1.0\"?>\n",
    "<data>\n",
    "    <country name=\"Liechtenstein\">\n",
    "        <rank>1</rank>\n",
    "        <year>2008</year>\n",
    "        <gdppc>141100</gdppc>\n",
    "        <neighbor name=\"Austria\" direction=\"E\"/>\n",
    "        <neighbor name=\"Switzerland\" direction=\"W\"/>\n",
    "    </country>\n",
    "    <country name=\"Singapore\">\n",
    "        <rank>4</rank>\n",
    "        <year>2011</year>\n",
    "        <gdppc>59900</gdppc>\n",
    "        <neighbor name=\"Malaysia\" direction=\"N\"/>\n",
    "    </country>\n",
    "    <country name=\"Panama\">\n",
    "        <rank>68</rank>\n",
    "        <year>2011</year>\n",
    "        <gdppc>13600</gdppc>\n",
    "        <neighbor name=\"Costa Rica\" direction=\"W\"/>\n",
    "        <neighbor name=\"Colombia\" direction=\"E\"/>\n",
    "    </country>\n",
    "</data>\"\"\""
   ]
  },
  {
   "cell_type": "markdown",
   "id": "1e840e42",
   "metadata": {},
   "source": [
    "### 方法一: 從檔案中讀取"
   ]
  },
  {
   "cell_type": "raw",
   "id": "bc8b5376",
   "metadata": {},
   "source": [
    "從檔案載入並解析 XML 資料。"
   ]
  },
  {
   "cell_type": "code",
   "execution_count": null,
   "id": "fc35fba7",
   "metadata": {},
   "outputs": [],
   "source": [
    "import xml.etree.ElementTree as ET\n",
    "\n",
    "# tree = ET.parse('country_data.xml')\n",
    "# root = tree.getroot()"
   ]
  },
  {
   "cell_type": "markdown",
   "id": "d9c61794",
   "metadata": {},
   "source": [
    "### 方法二: 從字串中讀取"
   ]
  },
  {
   "cell_type": "raw",
   "id": "1cf27c80",
   "metadata": {},
   "source": [
    "從字串中取得並解析 XML 資料"
   ]
  },
  {
   "cell_type": "code",
   "execution_count": null,
   "id": "9e8a698d",
   "metadata": {},
   "outputs": [],
   "source": [
    "import xml.etree.ElementTree as ET\n",
    "\n",
    "root = ET.fromstring(country_data_as_string)"
   ]
  },
  {
   "cell_type": "markdown",
   "id": "1217fe16",
   "metadata": {},
   "source": [
    "# 過濾資料"
   ]
  },
  {
   "cell_type": "raw",
   "id": "2187e609",
   "metadata": {},
   "source": [
    "這裡產生的 root 是一個 Element 物件，代表 XML 的根節點，每一個 Element 物件都有 tag 與 attrib 兩個屬性。"
   ]
  },
  {
   "cell_type": "code",
   "execution_count": null,
   "id": "dd7e6eef",
   "metadata": {},
   "outputs": [],
   "source": [
    "root.tag # 節點 tag 屬性"
   ]
  },
  {
   "cell_type": "code",
   "execution_count": null,
   "id": "6a2f0e81",
   "metadata": {},
   "outputs": [],
   "source": [
    "print(root.attrib) # 節點 attrib 屬性"
   ]
  },
  {
   "cell_type": "markdown",
   "id": "b7e102ff",
   "metadata": {},
   "source": [
    "---"
   ]
  },
  {
   "cell_type": "raw",
   "id": "70b608a3",
   "metadata": {},
   "source": [
    "透過 for 迴圈可以列出所有的子節點："
   ]
  },
  {
   "cell_type": "code",
   "execution_count": null,
   "id": "ceaf2507",
   "metadata": {},
   "outputs": [],
   "source": [
    "for child in root:\n",
    "    print(child.tag, child.attrib)"
   ]
  },
  {
   "cell_type": "markdown",
   "id": "c328b037",
   "metadata": {},
   "source": [
    "---"
   ]
  },
  {
   "cell_type": "raw",
   "id": "d13f5f9a",
   "metadata": {},
   "source": [
    "也可以使用索引的方式存取任意的節點，透過 text 屬性即可取得節點的內容："
   ]
  },
  {
   "cell_type": "code",
   "execution_count": null,
   "id": "222563bc",
   "metadata": {},
   "outputs": [],
   "source": [
    "# 使用索引存取節點\n",
    "print(root[0][1].text)"
   ]
  },
  {
   "cell_type": "code",
   "execution_count": null,
   "id": "094d136d",
   "metadata": {},
   "outputs": [],
   "source": [
    "# 取得指定的屬性值\n",
    "print(root[0][3].get('name'))"
   ]
  },
  {
   "cell_type": "markdown",
   "id": "35a95b7b",
   "metadata": {},
   "source": [
    "# 尋找 XML 節點"
   ]
  },
  {
   "cell_type": "raw",
   "id": "4d8c07a9",
   "metadata": {},
   "source": [
    "iter 可以在指定節點之下，以遞迴方式搜尋所有子節點："
   ]
  },
  {
   "cell_type": "code",
   "execution_count": null,
   "id": "88071ade",
   "metadata": {},
   "outputs": [],
   "source": [
    "# 搜尋所有子節點\n",
    "for neighbor in root.iter('neighbor'):\n",
    "    print(neighbor.attrib)"
   ]
  },
  {
   "cell_type": "raw",
   "id": "dd902a7a",
   "metadata": {},
   "source": [
    "findall 與 find 則是只從第一層子節點中搜尋（不包含第二層以下），findall 會傳回所有結果，而 find　則是只傳回第一個找到的節點："
   ]
  },
  {
   "cell_type": "code",
   "execution_count": null,
   "id": "6c80c75e",
   "metadata": {},
   "outputs": [],
   "source": [
    "# 只從第一層子節點中搜尋，傳回所有找到的節點\n",
    "for country in root.findall('country'):\n",
    "\n",
    "    # 只從第一層子節點中搜尋，傳回第一個找到的節點\n",
    "    rank = country.find('rank').text\n",
    "\n",
    "    # 取得節點指定屬性質\n",
    "    name = country.get('name')\n",
    "\n",
    "    print(name, rank)"
   ]
  },
  {
   "cell_type": "markdown",
   "id": "985d1ce3",
   "metadata": {},
   "source": [
    "### 範例01"
   ]
  },
  {
   "cell_type": "code",
   "execution_count": null,
   "id": "42072da3",
   "metadata": {},
   "outputs": [],
   "source": [
    "xml_str = \"\"\"<?xml version=\"1.0\" encoding=\"UTF-8\" standalone=\"yes\"?>\n",
    "<hotspotstatus>\n",
    "    <code>0</code>\n",
    "    <mesg>Success</mesg>\n",
    "    <executeTime>2022-08-04 03:47:16</executeTime>\n",
    "    <hotspotstatus>\n",
    "        <bssidmac>10 62 EB D5 61 C0</bssidmac>\n",
    "        <address>null</address>\n",
    "        <longitude>null</longitude>\n",
    "        <latitude>null</latitude>\n",
    "        <record_return_mesg>N</record_return_mesg>\n",
    "    </hotspotstatus>\n",
    "    <hotspotstatus>\n",
    "        <bssidmac>18 0F 76 42 13 A1</bssidmac>\n",
    "        <address>?��??��?����??��?����?������?76???1��?</address>\n",
    "        <longitude>121.5223918</longitude>\n",
    "        <latitude>25.1048963</latitude>\n",
    "        <record_return_mesg>Y</record_return_mesg>\n",
    "    </hotspotstatus>\n",
    "    <hotspotstatus>\n",
    "        <bssidmac>10 62 EB C3 CD C1</bssidmac>\n",
    "        <address>null</address>\n",
    "        <longitude>null</longitude>\n",
    "        <latitude>null</latitude>\n",
    "        <record_return_mesg>N</record_return_mesg>\n",
    "    </hotspotstatus>\n",
    "</hotspotstatus>\"\"\""
   ]
  },
  {
   "cell_type": "code",
   "execution_count": null,
   "id": "fd522116",
   "metadata": {},
   "outputs": [],
   "source": [
    "import xml.etree.ElementTree as ET\n",
    "\n",
    "# 從檔案載入並解析 XML 資料\n",
    "# tree = ET.parse('country_data.xml')\n",
    "# root = tree.getroot()\n",
    "\n",
    "# 從字串中取得並解析 XML 資料\n",
    "root = ET.fromstring(xml_str)"
   ]
  },
  {
   "cell_type": "code",
   "execution_count": null,
   "id": "30ded49f",
   "metadata": {},
   "outputs": [],
   "source": [
    "for hotspotstatus in root.findall('hotspotstatus'):\n",
    "    latitude = hotspotstatus.find(\"latitude\").text\n",
    "    longitude = hotspotstatus.find(\"longitude\").text\n",
    "    print('latitude: ', latitude, 'longitude: ', longitude)"
   ]
  },
  {
   "cell_type": "markdown",
   "id": "0443eb06",
   "metadata": {},
   "source": [
    "### 範例 02"
   ]
  },
  {
   "cell_type": "code",
   "execution_count": null,
   "id": "f5cc1f72",
   "metadata": {},
   "outputs": [],
   "source": [
    "xml_str = \"\"\"<?xml version=\"1.0\" encoding=\"UTF-8\" standalone=\"yes\"?>\n",
    "<hotspotstatus>\n",
    "    <code>0</code>\n",
    "    <mesg>Success</mesg>\n",
    "    <executeTime>2022-08-04 03:53:04</executeTime>\n",
    "    <hotspotstatus>\n",
    "        <bssidmac>02 16 16 29 B6 CC</bssidmac>\n",
    "        <address>null</address>\n",
    "        <longitude>null</longitude>\n",
    "        <latitude>null</latitude>\n",
    "        <record_return_mesg>N</record_return_mesg>\n",
    "    </hotspotstatus>\n",
    "</hotspotstatus>\"\"\""
   ]
  },
  {
   "cell_type": "code",
   "execution_count": null,
   "id": "14c19054",
   "metadata": {},
   "outputs": [],
   "source": [
    "import xml.etree.ElementTree as ET\n",
    "\n",
    "# 從檔案載入並解析 XML 資料\n",
    "# tree = ET.parse('country_data.xml')\n",
    "# root = tree.getroot()\n",
    "\n",
    "# 從字串中取得並解析 XML 資料\n",
    "root = ET.fromstring(xml_str)"
   ]
  },
  {
   "cell_type": "code",
   "execution_count": null,
   "id": "29bdfe66",
   "metadata": {},
   "outputs": [],
   "source": [
    "for hotspotstatus in root.findall('hotspotstatus'):\n",
    "    latitude = hotspotstatus.find(\"latitude\").text\n",
    "    longitude = hotspotstatus.find(\"longitude\").text\n",
    "    print('latitude: ', latitude, 'longitude: ', longitude)"
   ]
  }
 ],
 "metadata": {
  "kernelspec": {
   "display_name": "Python 3",
   "language": "python",
   "name": "python3"
  },
  "language_info": {
   "codemirror_mode": {
    "name": "ipython",
    "version": 3
   },
   "file_extension": ".py",
   "mimetype": "text/x-python",
   "name": "python",
   "nbconvert_exporter": "python",
   "pygments_lexer": "ipython3",
   "version": "3.8.10"
  }
 },
 "nbformat": 4,
 "nbformat_minor": 5
}
