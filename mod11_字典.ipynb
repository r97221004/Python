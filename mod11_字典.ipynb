{
 "cells": [
  {
   "cell_type": "markdown",
   "metadata": {},
   "source": [
    "#  <font color=red> Module_11_Dictionary </font>"
   ]
  },
  {
   "cell_type": "markdown",
   "metadata": {},
   "source": [
    "## Dictionary &rArr; 無序(Non-sequence)、可變(mutable)\n",
    "> <details>\n",
    "    <summary>mod3</summary>\n",
    "    <img src='./img/py_data_type.png'>\n",
    "  </details>\n",
    "## 利用Key取得想要的資料\n",
    "><img src='./img/key_value_pair.png' style=\"height:300px\">"
   ]
  },
  {
   "cell_type": "code",
   "execution_count": null,
   "metadata": {},
   "outputs": [],
   "source": [
    "girl = {\n",
    "    \"name\" : \"Crystal\",\n",
    "    \"age\" : 29,\n",
    "    \"Height\" : 162,\n",
    "    \"Weight\" : 45  \n",
    "}\n",
    "\n",
    "girl"
   ]
  },
  {
   "cell_type": "code",
   "execution_count": null,
   "metadata": {},
   "outputs": [],
   "source": [
    "d1 = {'Apple' : '蘋果', 'Banana' : '香蕉'}\n",
    "d1"
   ]
  },
  {
   "cell_type": "markdown",
   "metadata": {},
   "source": [
    "## 字典內的 values 可以是任意的資料型態，但 keys 必須是不可變的(immutable) 資料型態\n"
   ]
  },
  {
   "cell_type": "code",
   "execution_count": null,
   "metadata": {},
   "outputs": [],
   "source": [
    "dict1 = {'A' : \"a\", 'B' : [1,2,3], 'C' : (1,2,3), 'D' : {'AA':'aa', 'BB':'bb'}}\n",
    "dict2 = {1 : \"a\", 2 : 'b'}\n",
    "dict3 = {(0,1) : 'a', (0,20) : 'b'}\n",
    "print('dict1 :', dict1)\n",
    "print('dict2 :', dict2)\n",
    "print('dict3 :', dict3)"
   ]
  },
  {
   "cell_type": "markdown",
   "metadata": {},
   "source": [
    "## 字典是無序的"
   ]
  },
  {
   "cell_type": "code",
   "execution_count": null,
   "metadata": {},
   "outputs": [],
   "source": [
    "d1 = {'name' : 'John', 'age' : 30}\n",
    "d2 = {'age' : 30, 'name' : 'John'}\n",
    "\n",
    "print(d1 == d2) # 字典是無序的"
   ]
  },
  {
   "cell_type": "code",
   "execution_count": null,
   "metadata": {},
   "outputs": [],
   "source": [
    "d3={'A' : 1, 'B' : 2, 'C' : 3, 'D' : 4, 'E' : 5}\n",
    "d3[:3] "
   ]
  },
  {
   "cell_type": "markdown",
   "metadata": {},
   "source": [
    "---"
   ]
  },
  {
   "cell_type": "code",
   "execution_count": null,
   "metadata": {},
   "outputs": [],
   "source": [
    "d1={'Apple' : '蘋果', 'Banana' : '香蕉'}\n",
    "print(d1['Apple'])\n",
    "print(d1['Banana'])\n",
    "print(d1['Cat']) # 沒有'Cat'這個 Key => 引發 KeyError"
   ]
  },
  {
   "cell_type": "markdown",
   "metadata": {},
   "source": [
    "## keys 必須唯㇐，但 values 可以相同"
   ]
  },
  {
   "cell_type": "code",
   "execution_count": null,
   "metadata": {},
   "outputs": [],
   "source": [
    "d1={'A' : 'a', 'B' : 'b', 'A' : 1}\n",
    "print(d1) # 重複後面會把前面的給蓋掉\n",
    "print(\"d1['A'] : \", d1['A']) # Key 重複的話，無法取出'a'，只能取出 1"
   ]
  },
  {
   "cell_type": "code",
   "execution_count": null,
   "metadata": {},
   "outputs": [],
   "source": [
    "d2={'A' : 1, 'B' : 1}\n",
    "print(\"d2['A'] : \", d2['A']) # Key 'A' 與 Key 'B'的 values 都是 1\n",
    "print(\"d2['B'] : \", d2['B'])"
   ]
  },
  {
   "cell_type": "markdown",
   "metadata": {},
   "source": [
    "## Key 盡可能不要用數值格式。請用字串(String)作為Keys，這樣後續比較容易整合其他Lib。"
   ]
  },
  {
   "cell_type": "code",
   "execution_count": null,
   "metadata": {},
   "outputs": [],
   "source": [
    "dt = {1 : 'Python', 2 : 'Java', 3 : 'C'}\n",
    "dt[1] # dt[1] 的寫法會誤以為字典可以使用索引功能。"
   ]
  },
  {
   "cell_type": "markdown",
   "metadata": {},
   "source": [
    "---"
   ]
  },
  {
   "cell_type": "code",
   "execution_count": null,
   "metadata": {},
   "outputs": [],
   "source": [
    "dict1 = {'one' : 1, 'two' : 2, \"three\" : 3}\n",
    "dict1['two']"
   ]
  },
  {
   "cell_type": "code",
   "execution_count": null,
   "metadata": {},
   "outputs": [],
   "source": [
    "dict1 = {'one' : 1, 'two' : 2, \"three\" : 3}\n",
    "dict1['two'] = 7 # 修改\n",
    "print(\"dict1['two'] = 7 : \", dict1)    \n",
    "dict1['four'] = 7 # 新增 \n",
    "print(\"dict1['four'] = 7 :\", dict1) "
   ]
  },
  {
   "cell_type": "code",
   "execution_count": null,
   "metadata": {},
   "outputs": [],
   "source": [
    "dict1 = {'one' : 1, 'two' : 2, \"three\" : 3}\n",
    "print(\"'two' in dict1 : \", 'two' in dict1)\n",
    "print(\"3 in dict1 :     \", 3 in dict1 ) # 成員運算子只會看 Key 值"
   ]
  },
  {
   "cell_type": "markdown",
   "metadata": {},
   "source": [
    "---"
   ]
  },
  {
   "cell_type": "code",
   "execution_count": null,
   "metadata": {},
   "outputs": [],
   "source": [
    "dict1 = {'Name' : 'III', 'Year' : 1979, 'Class' : 'A'}\n",
    "dict1.clear()\n",
    "dict1"
   ]
  },
  {
   "cell_type": "code",
   "execution_count": null,
   "metadata": {},
   "outputs": [],
   "source": [
    "dict1 = {'Name' : 'III', 'Year' : 1979, 'Class' : 'A'}\n",
    "\n",
    "del dict1['Class']\n",
    "print(\"del dict1['Class'] : \", dict1)\n",
    "\n",
    "dict1.clear()   # empty dict1 # 非刪掉\n",
    "print('dict1.clear() :      ', dict1)\n",
    "\n",
    "del dict1      # del dict1.  dict1 is gone\n",
    "print('del dict1 :        ', dict1)   # error since there is no dict1"
   ]
  },
  {
   "cell_type": "code",
   "execution_count": null,
   "metadata": {},
   "outputs": [],
   "source": [
    "a = 10\n",
    "print(a)\n",
    "del a # del可以將建立過的變數(識別字)直接刪除\n",
    "print(a)"
   ]
  },
  {
   "cell_type": "markdown",
   "metadata": {},
   "source": [
    "---"
   ]
  },
  {
   "cell_type": "code",
   "execution_count": null,
   "metadata": {},
   "outputs": [],
   "source": [
    "dict1 = {'A': \"a\", 'B': 'b'}\n",
    "dict1"
   ]
  },
  {
   "cell_type": "code",
   "execution_count": null,
   "metadata": {},
   "outputs": [],
   "source": [
    "# 看 ASCII 碼\n",
    "max(\" \", \"1\", \"s\")"
   ]
  },
  {
   "cell_type": "code",
   "execution_count": null,
   "metadata": {},
   "outputs": [],
   "source": [
    "a = { 'num' : 77, \n",
    "      'num1': 85, \n",
    "      'nums': [1,2,3]} \n",
    "\n",
    "print('len(a) :     ', len(a)) # 計算 Key 的數量\n",
    "print('max(a) :     ', max(a)) # 找出最大的 Key\n",
    "print('min(a) :     ', min(a)) # 找出最小的 Key\n",
    "print('sorted(a) :  ', sorted(a)) # 根據 Key 排序 # 由第一個字母開始比 # 最後寫成列表"
   ]
  },
  {
   "cell_type": "code",
   "execution_count": null,
   "metadata": {},
   "outputs": [],
   "source": [
    "dict1 = dict(one = 1, two = 2, three = 3) # 以 **kwarg 的形式建立，先有個認識就好，後面會介紹\n",
    "print(dict1)"
   ]
  },
  {
   "cell_type": "code",
   "execution_count": null,
   "metadata": {},
   "outputs": [],
   "source": [
    "dict2 = dict([('one', 1), ('two', 2), ('three', [3, 'III', '三'])]) # 以 iterable 物件的內容建立\n",
    "print(dict2)"
   ]
  },
  {
   "cell_type": "markdown",
   "metadata": {},
   "source": [
    "---"
   ]
  },
  {
   "cell_type": "code",
   "execution_count": null,
   "metadata": {},
   "outputs": [],
   "source": [
    "list1 = [1 , 5, 7]\n",
    "list2 = list1\n",
    "print(list2, id(list2)) # view\n",
    "print(list1, id(list1))\n",
    "list1[0] = 9\n",
    "print(list1)\n",
    "print(list2)"
   ]
  },
  {
   "cell_type": "code",
   "execution_count": null,
   "metadata": {},
   "outputs": [],
   "source": [
    "list1 = [1 , 5, 7]\n",
    "list2 = list1.copy()\n",
    "print(list2, id(list2))\n",
    "print(list1, id(list1))\n",
    "list1[0] = 9\n",
    "print(list1)\n",
    "print(list2)"
   ]
  },
  {
   "cell_type": "code",
   "execution_count": null,
   "metadata": {},
   "outputs": [],
   "source": [
    "d1 ={'a' : 'apple', 'b' : 'banana'}\n",
    "print('d1 =           ', d1)\n",
    "\n",
    "d2 = d1.copy() # copy has diff memory address\n",
    "print('d2 =           ', d2)\n",
    "print('d1 is d2 :     ', d1 is d2)\n",
    "print('d1 == d2 :     ', d1 == d2)\n",
    "\n",
    "d3 = d1 # point to same address\n",
    "print('d3 :           ', d3)\n",
    "print('d3 is d1 :     ', d3 is d1) # d1 變動 d3 會跟著變動\n",
    "d1['c'] = 'cat'\n",
    "print(d3)"
   ]
  },
  {
   "cell_type": "code",
   "execution_count": null,
   "metadata": {},
   "outputs": [],
   "source": [
    "dict2 = {'name' : 'Wang','old' : 18}\n",
    "dict1 = dict2\n",
    "print(dict1 is dict2)\n",
    "dict2.clear() # 考慮 dict2.clear() 與 del dict2 的效果\n",
    "print(dict1 is dict2)\n",
    "dict1"
   ]
  },
  {
   "cell_type": "code",
   "execution_count": null,
   "metadata": {},
   "outputs": [],
   "source": [
    "dict2 = {'name': 'Wang','old': 18}\n",
    "dict1 = dict2\n",
    "print(dict1 is dict2)\n",
    "dict2 = {} \n",
    "print(dict1 is dict2)\n",
    "dict1"
   ]
  },
  {
   "cell_type": "code",
   "execution_count": null,
   "metadata": {},
   "outputs": [],
   "source": [
    "a= {'num' : 77, 'num1' : 85, 'nums' : [1, 2, 3]} # dict\n",
    "print(a.get('num')) # 取得 “key” 對應的值\n",
    "print(a['num'])"
   ]
  },
  {
   "cell_type": "code",
   "execution_count": null,
   "metadata": {},
   "outputs": [],
   "source": [
    "print(a.get('aaaaaaaaa', 'No item')) # 如果 “key” 不存在則傳回 default 值\n",
    "print(a.get('aaaaaaaaa')) # 如果 “key” 不存在，也沒有設定default 值 => 回傳 None"
   ]
  },
  {
   "cell_type": "code",
   "execution_count": null,
   "metadata": {
    "scrolled": true
   },
   "outputs": [],
   "source": [
    "a = {'num' : 77, 'num1' : 85, 'nums' : [1,2,3]}  \n",
    "\n",
    "print(a.setdefault('num', 12345)) # 如果 “key” 存在則取用該 Key值對應的 Value"
   ]
  },
  {
   "cell_type": "code",
   "execution_count": null,
   "metadata": {},
   "outputs": [],
   "source": [
    "print(a.setdefault('aaaaaa', 12345)) # 如果 “key” 不存在則會產生㇐個新的 dict[key] = default 的項目\n",
    "print(a)"
   ]
  },
  {
   "cell_type": "code",
   "execution_count": null,
   "metadata": {},
   "outputs": [],
   "source": [
    "dict1 ={}\n",
    "dict2 = dict1.fromkeys([1,2,3], 'Ya')\n",
    "dict2"
   ]
  },
  {
   "cell_type": "code",
   "execution_count": null,
   "metadata": {},
   "outputs": [],
   "source": [
    "dict1 ={}\n",
    "dict2 = dict1.fromkeys(list('abc'), 'Ya')\n",
    "dict2"
   ]
  },
  {
   "cell_type": "markdown",
   "metadata": {},
   "source": [
    "---"
   ]
  },
  {
   "cell_type": "code",
   "execution_count": null,
   "metadata": {},
   "outputs": [],
   "source": [
    "dict1 = {'star trek' : 'John Doe', 'Starwars' : 'Jedi'}\n",
    "\n",
    "print(dict1.items()) # ㇐個 (key, value) tuple 配對的 dict_items\n",
    "print(list(dict1.items()),'\\n') # 將 dict_items 轉成 List\n",
    "\n",
    "print(dict1.keys()) # 得到 dict_keys\n",
    "print(list(dict1.keys()),'\\n') # 將 dict_keys 轉成 List\n",
    "\n",
    "print(dict1.values()) # 得到 dict_values\n",
    "print(list(dict1.values()),'\\n') # 將 dict_values 轉成 List\n",
    "# 這三種型式都可用來迭代"
   ]
  },
  {
   "cell_type": "code",
   "execution_count": null,
   "metadata": {},
   "outputs": [],
   "source": [
    "dict1 ={}\n",
    "dict2 = dict1.fromkeys(range(1,11), 'YA') # not in-place\n",
    "for each in dict2.items(): # dict.keys and dict.values and dict.items 表現在遞迴\n",
    "    print(each)"
   ]
  },
  {
   "cell_type": "markdown",
   "metadata": {},
   "source": [
    "---"
   ]
  },
  {
   "cell_type": "code",
   "execution_count": null,
   "metadata": {},
   "outputs": [],
   "source": [
    "dict1 = {'name': 'Crystal'}\n",
    "a = {'age': 29, 'Height': 162}\n",
    "dict1.update(a) # in-place\n",
    "print('update(a) :  ', dict1)"
   ]
  },
  {
   "cell_type": "markdown",
   "metadata": {},
   "source": [
    "---"
   ]
  },
  {
   "cell_type": "code",
   "execution_count": null,
   "metadata": {},
   "outputs": [],
   "source": [
    "dict1 = {'A' : 1,'B' : 2, 'C' : 3, 'E' : 5} # dictory的 pop 要指定 key\n",
    "\n",
    "print(dict1.pop('B'))\n",
    "print('pop(\"B\") :', dict1)"
   ]
  },
  {
   "cell_type": "code",
   "execution_count": null,
   "metadata": {},
   "outputs": [],
   "source": [
    "dict1['D'] = 4 # dict 無順序\n",
    "print(dict1)\n",
    "print(dict1.popitem())  # 後進先出\n",
    "print('popitem() :  ', dict1)"
   ]
  },
  {
   "cell_type": "code",
   "execution_count": null,
   "metadata": {},
   "outputs": [],
   "source": [
    "# 查看字典的屬性與方法\n",
    "dir(dict)"
   ]
  },
  {
   "cell_type": "markdown",
   "metadata": {},
   "source": [
    "---"
   ]
  },
  {
   "cell_type": "code",
   "execution_count": null,
   "metadata": {},
   "outputs": [],
   "source": [
    "char_counts = {}\n",
    "word = 'this is a letters about Python learning'\n",
    "for char in word:  # word 改成 set(word) 會減少浪費\n",
    "    char_counts[char] = word.count(char)  \n",
    "\n",
    "char_counts"
   ]
  },
  {
   "cell_type": "code",
   "execution_count": null,
   "metadata": {},
   "outputs": [],
   "source": [
    "word = 'htis is a letters about Python learning'\n",
    "char_counts = {char : word.count(char) for char in word}\n",
    "char_counts"
   ]
  },
  {
   "cell_type": "code",
   "execution_count": null,
   "metadata": {},
   "outputs": [],
   "source": [
    "{i:1 for i in 'abc' }"
   ]
  },
  {
   "cell_type": "markdown",
   "metadata": {},
   "source": [
    "\n",
    "## 使用dict()，以Mapping 的形式建立 dictionary"
   ]
  },
  {
   "cell_type": "code",
   "execution_count": null,
   "metadata": {},
   "outputs": [],
   "source": [
    "# keys : ['one', 'two', 'three']\n",
    "# values : [1, 2, 3]\n",
    "# 想建立字典 : {'one': 1, 'two': 2, 'three': 3}\n",
    "\n",
    "zip(['one', 'two', 'three'], [1, 2, 3])"
   ]
  },
  {
   "cell_type": "code",
   "execution_count": null,
   "metadata": {},
   "outputs": [],
   "source": [
    "list(zip(['one', 'two', 'three'], [1, 2, 3]))"
   ]
  },
  {
   "cell_type": "code",
   "execution_count": null,
   "metadata": {},
   "outputs": [],
   "source": [
    "dict1 = dict(list(zip(['one', 'two', 'three'], [1, 2, 3])))\n",
    "dict1"
   ]
  },
  {
   "cell_type": "code",
   "execution_count": null,
   "metadata": {},
   "outputs": [],
   "source": [
    "dic1 = dict(zip(['one', 'two', 'three'], [1, 2, 3]))\n",
    "dic1"
   ]
  }
 ],
 "metadata": {
  "kernelspec": {
   "display_name": "Python 3",
   "language": "python",
   "name": "python3"
  },
  "language_info": {
   "codemirror_mode": {
    "name": "ipython",
    "version": 3
   },
   "file_extension": ".py",
   "mimetype": "text/x-python",
   "name": "python",
   "nbconvert_exporter": "python",
   "pygments_lexer": "ipython3",
   "version": "3.8.10"
  }
 },
 "nbformat": 4,
 "nbformat_minor": 2
}
