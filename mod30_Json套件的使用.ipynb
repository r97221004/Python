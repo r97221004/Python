{
 "cells": [
  {
   "cell_type": "markdown",
   "id": "7cca0a11",
   "metadata": {},
   "source": [
    "# 從 Json 格式轉成 python 物件"
   ]
  },
  {
   "cell_type": "raw",
   "id": "b4a605d3",
   "metadata": {},
   "source": [
    "以下的 str1 與 str2 是 Json 檔的兩種常見的格式。"
   ]
  },
  {
   "cell_type": "code",
   "execution_count": null,
   "id": "cab2fe4a",
   "metadata": {},
   "outputs": [],
   "source": [
    "str1 = '[ {\"name\" : \"Crystal\", \"age\" : 18}, {\"name\" : \"Matt\", \"age\" : 20}]'\n",
    "print(str1, type(str1))\n",
    "\n",
    "str2 = '{\"name\" : \"Crystal\", \"age\" : 18, \"Height\" : 162}'\n",
    "print(str2, type(str2))"
   ]
  },
  {
   "cell_type": "raw",
   "id": "1daf2808",
   "metadata": {},
   "source": [
    "我們使用 json.loads 方法讀 Json 檔進來，會將 Json 字串轉成相對應的 python 物件。 "
   ]
  },
  {
   "cell_type": "code",
   "execution_count": null,
   "id": "c01d75ec",
   "metadata": {},
   "outputs": [],
   "source": [
    "import json\n",
    "\n",
    "List1 = json.loads(str1)\n",
    "print(List1, type(List1))"
   ]
  },
  {
   "cell_type": "code",
   "execution_count": null,
   "id": "e203daec",
   "metadata": {},
   "outputs": [],
   "source": [
    "dict2 = json.loads(str2)\n",
    "print(dict2, type(dict2))"
   ]
  },
  {
   "cell_type": "markdown",
   "id": "b3a40191",
   "metadata": {},
   "source": [
    "# 從 Python 物件轉成 Json 格式"
   ]
  },
  {
   "cell_type": "raw",
   "id": "472e8c41",
   "metadata": {},
   "source": [
    "以下是 Python 的 list 物件與 dictionary 物件。"
   ]
  },
  {
   "cell_type": "code",
   "execution_count": null,
   "id": "ee0fb2a6",
   "metadata": {},
   "outputs": [],
   "source": [
    "list1  = [ {\"name\" : \"Crystal\", \"age\" : 18}, {\"name\" : \"Matt\", \"age\" : 20}]\n",
    "dict1  = {\"name\" : \"Crystal\", \"age\" : 18, \"Height\" : 162}\n",
    "print(list1, type(list1))\n",
    "print(dict1, type(dict1))"
   ]
  },
  {
   "cell_type": "raw",
   "id": "5efa963a",
   "metadata": {},
   "source": [
    "使用 json.dumps 方法將 Pyhton 物件轉成 Json 格式。"
   ]
  },
  {
   "cell_type": "code",
   "execution_count": null,
   "id": "1cf76a35",
   "metadata": {},
   "outputs": [],
   "source": [
    "str1 = json.dumps(list1)\n",
    "print(str1, type(str1))"
   ]
  },
  {
   "cell_type": "code",
   "execution_count": null,
   "id": "1ebb98c4",
   "metadata": {},
   "outputs": [],
   "source": [
    "str2 = json.dumps(dict2)\n",
    "print(str2, type(str2))"
   ]
  },
  {
   "cell_type": "markdown",
   "id": "59fc9db6",
   "metadata": {},
   "source": [
    "### 範例01"
   ]
  },
  {
   "cell_type": "code",
   "execution_count": null,
   "id": "cb508077",
   "metadata": {},
   "outputs": [],
   "source": [
    "with open(\"./mod30/jsonDemo.txt\", mode = \"r\", encoding = \"utf-8\") as f:\n",
    "    content = f.read()\n",
    "    list1 = json.loads(content)\n",
    "print(list1, type(list1))"
   ]
  },
  {
   "cell_type": "markdown",
   "id": "6142181a",
   "metadata": {},
   "source": [
    "### 範例02"
   ]
  },
  {
   "cell_type": "raw",
   "id": "abcd8a03",
   "metadata": {},
   "source": [
    "注意 write 方法裡面的參數一定要是字串，所以我們使用 dumps 方法把 Python 物件改成字串。"
   ]
  },
  {
   "cell_type": "code",
   "execution_count": null,
   "id": "27516ab9",
   "metadata": {},
   "outputs": [],
   "source": [
    "dict1 = {'id':'001','name':'Pumpkin'}\n",
    "\n",
    "with open('./mod30/dumps.txt', mode = 'w', encoding = 'utf-8') as f:\n",
    "    f.write(json.dumps(dict1))"
   ]
  },
  {
   "cell_type": "markdown",
   "id": "b19b18f3",
   "metadata": {},
   "source": [
    "### 範例03"
   ]
  },
  {
   "cell_type": "code",
   "execution_count": null,
   "id": "e1d76ef6",
   "metadata": {},
   "outputs": [],
   "source": [
    "from datetime import datetime, date\n",
    "import json\n",
    "\n",
    "\n",
    "sample_time = {'entry_created_at': datetime.now()}\n",
    "sample_time"
   ]
  },
  {
   "cell_type": "raw",
   "id": "cf3f1876",
   "metadata": {},
   "source": [
    "這裡直接使用 dumps 方法會報錯，因為 datetime 物件是不可序列化的。"
   ]
  },
  {
   "cell_type": "code",
   "execution_count": null,
   "id": "625ef1b3",
   "metadata": {},
   "outputs": [],
   "source": [
    "json_str = json.dumps(sample_time)"
   ]
  },
  {
   "cell_type": "raw",
   "id": "f51dd51d",
   "metadata": {},
   "source": [
    "我們可以使用 default 參數來處理，將 default 設成 str 會將不可序列化的物件轉成字串。"
   ]
  },
  {
   "cell_type": "code",
   "execution_count": null,
   "id": "6e692125",
   "metadata": {},
   "outputs": [],
   "source": [
    "sample_time = {'entry_created_at': datetime.now()}\n",
    "json_str = json.dumps(sample_time, default=str)\n",
    "print(json_str)"
   ]
  },
  {
   "cell_type": "raw",
   "id": "f14de9df",
   "metadata": {},
   "source": [
    "我們也可以將 default 代入客製化的函數，這時會將不可序列化的物件帶入這個客製化的函數做轉換。"
   ]
  },
  {
   "cell_type": "code",
   "execution_count": null,
   "id": "4d0c7a71",
   "metadata": {},
   "outputs": [],
   "source": [
    "def datetime_to_isoformat(obj):\n",
    "    if isinstance(obj, (datetime, date)):\n",
    "        return obj.isoformat()\n",
    "    raise TypeError (\"Type %s is not serializable\" % type(obj))"
   ]
  },
  {
   "cell_type": "code",
   "execution_count": null,
   "id": "8dae49c4",
   "metadata": {},
   "outputs": [],
   "source": [
    "json_str = json.dumps(sample_time, default=datetime_to_isoformat)\n",
    "print(json_str)"
   ]
  }
 ],
 "metadata": {
  "kernelspec": {
   "display_name": "Python 3",
   "language": "python",
   "name": "python3"
  },
  "language_info": {
   "codemirror_mode": {
    "name": "ipython",
    "version": 3
   },
   "file_extension": ".py",
   "mimetype": "text/x-python",
   "name": "python",
   "nbconvert_exporter": "python",
   "pygments_lexer": "ipython3",
   "version": "3.8.10"
  }
 },
 "nbformat": 4,
 "nbformat_minor": 5
}
