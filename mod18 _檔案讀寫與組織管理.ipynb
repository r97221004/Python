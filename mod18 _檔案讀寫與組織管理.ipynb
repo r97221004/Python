{
 "cells": [
  {
   "cell_type": "markdown",
   "metadata": {},
   "source": [
    "#  <font color=red> Module_18_檔案讀寫與組織管理</font>"
   ]
  },
  {
   "cell_type": "markdown",
   "metadata": {},
   "source": [
    "# 檔案讀寫"
   ]
  },
  {
   "cell_type": "markdown",
   "metadata": {},
   "source": [
    "><img src='./mod18/picture1.png' style=\"zoom:70%\" /> \n",
    "><img src='./mod18/picture2.png' style=\"zoom:70%\" /> "
   ]
  },
  {
   "cell_type": "markdown",
   "metadata": {},
   "source": [
    "## 檔案寫入"
   ]
  },
  {
   "cell_type": "code",
   "execution_count": null,
   "metadata": {},
   "outputs": [],
   "source": [
    "# 寫入模式, 若檔案已經存在, 內容會被覆蓋\n",
    "fp = open('./mod18/note.txt', mode = 'w', encoding = 'utf-8')\n",
    "fp.write('Python!!\\n')\n",
    "fp.write('iiicccvvvedu\\n')\n",
    "print('Write two data to note.txt!')\n",
    "fp.close()"
   ]
  },
  {
   "cell_type": "code",
   "execution_count": null,
   "metadata": {},
   "outputs": [],
   "source": [
    "# 附加模式, 若檔案已經存在, 內容會被附加到檔案尾端\n",
    "fp = open('./mod18/note.txt', mode = 'a', encoding = 'utf-8')\n",
    "fp.write('iii.org.tw\\n')\n",
    "print('Append one data to note.txt!')\n",
    "fp.close()"
   ]
  },
  {
   "cell_type": "code",
   "execution_count": null,
   "metadata": {},
   "outputs": [],
   "source": [
    "# 讀寫檔案比較好的模式, 會自動關閉檔案  # 注意反斜線要轉譯\n",
    "with open('.\\\\mod18\\\\csv_demo.csv', 'a') as f:\n",
    "    f.write('name,grade\\n')\n",
    "    f.write('isaac,60\\n')\n",
    "    f.write('andy,50\\n')\n",
    "    f.write('crystal, 100\\n')"
   ]
  },
  {
   "cell_type": "markdown",
   "metadata": {},
   "source": [
    "## 檔案讀取"
   ]
  },
  {
   "cell_type": "code",
   "execution_count": null,
   "metadata": {},
   "outputs": [],
   "source": [
    "# r 模式, 只能讀取 # 加入 encoding = 'utf-8' 讀中文\n",
    "fp = open('./mod18/note.txt', mode = 'r', encoding = \"UTF-8\")   \n",
    "content = fp.read()\n",
    "print(content)\n",
    "fp.close()"
   ]
  },
  {
   "cell_type": "code",
   "execution_count": null,
   "metadata": {},
   "outputs": [],
   "source": [
    "fp = open(\"./mod18/note.txt\", mode = \"r\", encoding = \"UTF-8\")\n",
    "print(fp.tell()) # 看看目前的指針\n",
    "print(fp.read(3)) # 讀三個字元\n",
    "print(fp.tell())\n",
    "print(fp.read(2))\n",
    "fp.seek(2, 0) # 後面的 0 表示從頭開始, 然後跳過 2 字元\n",
    "print(fp.read(5))\n",
    "fp.close()"
   ]
  },
  {
   "cell_type": "code",
   "execution_count": null,
   "metadata": {},
   "outputs": [],
   "source": [
    "fp = open(\"./mod18/note.txt\", mode = \"r\", encoding = \"UTF-8\")\n",
    "content = fp.readline() # 注意一整行包含 \\n\n",
    "print(content, end = '')\n",
    "content = fp.readline() # 注意一整行包含 \\n\n",
    "print(content, end = '')\n",
    "content = fp.readline(3) # 有 size 則會返回 size 數的字元\n",
    "print(content)\n",
    "fp.close()"
   ]
  },
  {
   "cell_type": "code",
   "execution_count": null,
   "metadata": {},
   "outputs": [],
   "source": [
    "f = open(\"./mod18/english_new.txt\", \"r\", encoding = 'utf-8')\n",
    "\n",
    "# 把文件一行一行讀進來, 存成List\n",
    "contents = f.readlines()\n",
    "print(contents)\n",
    "f.close()"
   ]
  },
  {
   "cell_type": "code",
   "execution_count": null,
   "metadata": {},
   "outputs": [],
   "source": [
    "# 用迴圈把列表每個元素映出\n",
    "for each in contents:    \n",
    "    print(each, end = '')\n",
    "    \n",
    "# 各別觀察\n",
    "# print(contents[0])\n",
    "# print(contents[1])\n",
    "f.close() # 記得關閉檔案"
   ]
  },
  {
   "cell_type": "code",
   "execution_count": null,
   "metadata": {},
   "outputs": [],
   "source": [
    "f = open(\"./mod18/english_new.txt\", \"r\", encoding = 'utf-8') # open()會得到的是一個 IO 物件，IO 物件是可迭代的\n",
    "\n",
    "# 建議使用這種方式遞迴, 因為有時讀取的 list 會很大 \n",
    "for each in f:   \n",
    "    print(each, end = \"\") \n",
    "f.close()"
   ]
  },
  {
   "cell_type": "code",
   "execution_count": null,
   "metadata": {},
   "outputs": [],
   "source": [
    "# r 模式只能夠讀取\n",
    "fp = open('./mod18/note.txt', mode = 'r') \n",
    "content = fp.read()\n",
    "print(content)\n",
    "fp.write('Nick\\n')\n",
    "fp.close()"
   ]
  },
  {
   "cell_type": "code",
   "execution_count": null,
   "metadata": {},
   "outputs": [],
   "source": [
    "# r+ 模式能夠讀取加上寫入\n",
    "fp = open('./mod18/note.txt', mode = 'r+') \n",
    "content = fp.read()\n",
    "print(content)\n",
    "fp.write('Nick\\n')\n",
    "fp.close()"
   ]
  },
  {
   "cell_type": "code",
   "execution_count": null,
   "metadata": {},
   "outputs": [],
   "source": [
    "fp = open('./mod18/note.txt', 'r')   \n",
    "print('Content(readline):')\n",
    "i = 1\n",
    "while True: \n",
    "    line = fp.readline() # 每一次執行 while 迴圈，fp.readline() 就會讀取檔案的下一行\n",
    "    if not line:\n",
    "        break\n",
    "    print(f'No.{i} line: ', line, end = '') \n",
    "    i += 1\n",
    "    \n",
    "fp.close()"
   ]
  },
  {
   "cell_type": "code",
   "execution_count": null,
   "metadata": {},
   "outputs": [],
   "source": [
    "# 讀檔比較好的選擇\n",
    "\n",
    "fileName = './mod18/note.txt'\n",
    "with open(fileName, 'r') as fp:\n",
    "    print('Content(readline):')\n",
    "    i = 1\n",
    "    while True: \n",
    "        line = fp.readline() # 每一次執行while迴圈，fp.readline()就會讀取檔案的下一行\n",
    "        if not line:\n",
    "            break\n",
    "        print(f'No.{i} line: ', line, end = '') \n",
    "        i += 1"
   ]
  },
  {
   "cell_type": "code",
   "execution_count": null,
   "metadata": {},
   "outputs": [],
   "source": [
    "# 如何把資料讀進來作加總\n",
    "\n",
    "# 先寫入一些 data\n",
    "with open('./mod18/note1.txt', mode = 'w') as fp:\n",
    "    fp.write('90\\n87\\n45\\n76\\n')"
   ]
  },
  {
   "cell_type": "code",
   "execution_count": null,
   "metadata": {
    "scrolled": true
   },
   "outputs": [],
   "source": [
    "# 讀出來做加總    \n",
    "with open('./mod18/note1.txt', mode = 'r') as fp:\n",
    "    sum = 0\n",
    "    # 檔案會一行一行的讀出來\n",
    "    for line in fp:\n",
    "        sum += int(line)\n",
    "    print(sum)   "
   ]
  },
  {
   "cell_type": "code",
   "execution_count": null,
   "metadata": {},
   "outputs": [],
   "source": [
    "# 發現最長的單字\n",
    "\n",
    "def longest_name(filename):\n",
    "    with open(filename, mode = 'r', encoding ='utf-8') as f:\n",
    "        content = f.read()\n",
    "        content = content.replace('\\n', ' ')\n",
    "        word_list = content.split(' ')\n",
    "        \n",
    "        max_long = 0\n",
    "        max_word = ''\n",
    "        for i in word_list:\n",
    "            if len(i) > max_long:\n",
    "                max_long = len(i)\n",
    "                max_word = i\n",
    "                \n",
    "        return max_word\n",
    "    \n",
    "longest_name('./mod18/english_new.txt')"
   ]
  },
  {
   "cell_type": "markdown",
   "metadata": {},
   "source": [
    "# Pickle"
   ]
  },
  {
   "cell_type": "code",
   "execution_count": null,
   "metadata": {},
   "outputs": [],
   "source": [
    "import pickle\n",
    "\n",
    "# 將列表用二進位檔案保存起來\n",
    "my_list = [123, 3.14, \"Crystal\", [1, 2, 3]]\n",
    "pickle_file = open(\"./mod18/my_list.pkl\", mode = \"wb\") # 記得是寫入成二進位檔案 wb \n",
    "pickle.dump(my_list, pickle_file)\n",
    "pickle_file.close()"
   ]
  },
  {
   "cell_type": "code",
   "execution_count": null,
   "metadata": {},
   "outputs": [],
   "source": [
    "# 把二進位的檔案讀出來\n",
    "pickle_file = open(\"./mod18/my_list.pkl\", mode =  'rb') # 記得是讀取成二進位檔案 wb\n",
    "my_list = pickle.load(pickle_file)\n",
    "pickle_file.close()\n",
    "print(my_list, type(my_list))"
   ]
  },
  {
   "cell_type": "code",
   "execution_count": null,
   "metadata": {},
   "outputs": [],
   "source": [
    "# 將字典用二進位檔案保存起來\n",
    "dict_people  = {\"name\": \"Crystal\", \"age\": 29, \"Height\" : 162}\n",
    "pickle_file = open(\"./mod18/dict_people.pkl\", \"wb\")\n",
    "pickle.dump(dict_people, pickle_file)\n",
    "pickle_file.close()"
   ]
  },
  {
   "cell_type": "code",
   "execution_count": null,
   "metadata": {},
   "outputs": [],
   "source": [
    "# 把二進位的檔案讀出來\n",
    "pickle_file = open('./mod18/dict_people.pkl', mode = \"rb\")\n",
    "dict_people = pickle.load(pickle_file)\n",
    "print(dict_people, type(dict_people))\n",
    "pickle_file"
   ]
  },
  {
   "cell_type": "markdown",
   "metadata": {},
   "source": [
    "# Json"
   ]
  },
  {
   "cell_type": "code",
   "execution_count": null,
   "metadata": {},
   "outputs": [],
   "source": [
    "import json\n",
    "\n",
    "# 定義個 json 檔的格式\n",
    "str1 = '[ {\"name\" : \"Crystal\", \"age\" : 18}, {\"name\" : \"Matt\", \"age\" : 20}]'\n",
    "print(str1, type(str1))\n",
    "\n",
    "# 使用 json 方法讀進來 # 字串改列表\n",
    "List1 = json.loads(str1)\n",
    "print(List1, type(List1))"
   ]
  },
  {
   "cell_type": "code",
   "execution_count": null,
   "metadata": {},
   "outputs": [],
   "source": [
    "import json\n",
    "\n",
    "# 定義個 json 檔的格式\n",
    "list1  = [ {\"name\" : \"Crystal\", \"age\" : 18}, {\"name\" : \"Matt\", \"age\" : 20}]\n",
    "\n",
    "# 使用 json 方法輸出 # 列表改字串\n",
    "str1 = json.dumps(list1)\n",
    "print(str1, type(str1))"
   ]
  },
  {
   "cell_type": "code",
   "execution_count": null,
   "metadata": {},
   "outputs": [],
   "source": [
    "import json\n",
    "\n",
    "# 定義個 json 檔的格式\n",
    "str1 = '{\"name\" : \"Crystal\", \"age\" : 18, \"Height\" : 162}'\n",
    "print(str1, type(str1))\n",
    "\n",
    "# 使用 json 方法讀進來 # 字串改字典\n",
    "dict1 = json.loads(str1)\n",
    "print(dict1, type(dict1))"
   ]
  },
  {
   "cell_type": "code",
   "execution_count": null,
   "metadata": {},
   "outputs": [],
   "source": [
    "import json\n",
    "\n",
    "# 定義個 json 檔的格式\n",
    "dict1  = {\"name\" : \"Crystal\", \"age\" : 18, \"Height\" : 162}\n",
    "\n",
    "# 使用 json 方法輸出 # 字典改字串\n",
    "str1 = json.dumps(dict1)\n",
    "print(str1, type(str1))"
   ]
  },
  {
   "cell_type": "code",
   "execution_count": null,
   "metadata": {},
   "outputs": [],
   "source": [
    "import json\n",
    "\n",
    "with open(\"./mod18/jsonDemo.txt\", mode = \"r\", encoding = \"utf-8\") as f:\n",
    "    content = f.read()\n",
    "    list1 = json.loads(content)\n",
    "print(list1, type(list1))"
   ]
  },
  {
   "cell_type": "code",
   "execution_count": null,
   "metadata": {},
   "outputs": [],
   "source": [
    "import json\n",
    "\n",
    "dict1 = {'id':'001','name':'Pumpkin'}\n",
    "\n",
    "with open('./mod18/dumps.txt', mode = 'w', encoding = 'utf-8') as f:\n",
    "    f.write(json.dumps(dict1))"
   ]
  }
 ],
 "metadata": {
  "kernelspec": {
   "display_name": "Python 3",
   "language": "python",
   "name": "python3"
  },
  "language_info": {
   "codemirror_mode": {
    "name": "ipython",
    "version": 3
   },
   "file_extension": ".py",
   "mimetype": "text/x-python",
   "name": "python",
   "nbconvert_exporter": "python",
   "pygments_lexer": "ipython3",
   "version": "3.8.10"
  }
 },
 "nbformat": 4,
 "nbformat_minor": 2
}
