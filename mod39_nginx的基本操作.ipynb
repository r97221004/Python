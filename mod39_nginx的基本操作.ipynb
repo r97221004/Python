{
 "cells": [
  {
   "cell_type": "markdown",
   "id": "a56c915a",
   "metadata": {},
   "source": [
    "# 前言"
   ]
  },
  {
   "cell_type": "markdown",
   "id": "918a14d5",
   "metadata": {},
   "source": [
    "參考文章: https://www.maxlist.xyz/2020/06/18/flask-nginx/ <br>\n",
    "參考文章: https://openresty.org/download/agentzh-nginx-tutorials-zhcn.html<br>\n",
    "參考文章: https://serverfault.com/questions/527630/difference-in-sites-available-vs-sites-enabled-vs-conf-d-directories-nginx<br>\n",
    "參考文章: https://medium.com/iamso1/nginx-static-file-server-c3e7b3eb641f"
   ]
  },
  {
   "cell_type": "raw",
   "id": "ce2b947d",
   "metadata": {},
   "source": [
    "Nginx 是一個反向代理伺服器，就像是餐廳的櫃檯，接收所有客戶的需求後，分配給廚師處理。這樣的好處可以保護後方的 Web Server 被攻擊。同時，還可以提供負載平衡 (Load Balance)、快取以及 HTTPS 憑證等功能。\n",
    "\n",
    "使用 Nginx 好處如下：\n",
    "\n",
    "1. 隱藏伺服器真實 IP\n",
    "2. 負載均衡\n",
    "3. 提高訪問速度：提供靜態內容和緩存服務\n",
    "4. 提供安全保障：更容易排查惡意軟體等"
   ]
  },
  {
   "cell_type": "markdown",
   "id": "f0ed4939",
   "metadata": {},
   "source": [
    "# 安裝 Nginx"
   ]
  },
  {
   "cell_type": "markdown",
   "id": "a7f771f1",
   "metadata": {},
   "source": [
    "##### Mac 的朋友：透過 Homebrew 安裝 Nginx"
   ]
  },
  {
   "cell_type": "raw",
   "id": "1372be13",
   "metadata": {},
   "source": [
    "brew install nginx"
   ]
  },
  {
   "cell_type": "markdown",
   "id": "09bc761a",
   "metadata": {},
   "source": [
    "##### Linux 的朋友"
   ]
  },
  {
   "cell_type": "raw",
   "id": "7fcb571e",
   "metadata": {},
   "source": [
    "sudo apt-get install nginx"
   ]
  },
  {
   "cell_type": "markdown",
   "id": "27939639",
   "metadata": {},
   "source": [
    "# 基本 Nginx 介紹"
   ]
  },
  {
   "cell_type": "markdown",
   "id": "f477df42",
   "metadata": {},
   "source": [
    "##### 基本操作 Nginx 指令"
   ]
  },
  {
   "cell_type": "markdown",
   "id": "8db3002b",
   "metadata": {},
   "source": [
    "啟動 Nginx"
   ]
  },
  {
   "cell_type": "code",
   "execution_count": null,
   "id": "e7d71b30",
   "metadata": {},
   "outputs": [],
   "source": [
    "nginx"
   ]
  },
  {
   "cell_type": "markdown",
   "id": "2a09afd5",
   "metadata": {},
   "source": [
    "關閉 Nginx"
   ]
  },
  {
   "cell_type": "code",
   "execution_count": null,
   "id": "e5f7afcc",
   "metadata": {},
   "outputs": [],
   "source": [
    "nginx -s stop"
   ]
  },
  {
   "cell_type": "markdown",
   "id": "7a5ec516",
   "metadata": {},
   "source": [
    "重啟 Nginx"
   ]
  },
  {
   "cell_type": "code",
   "execution_count": null,
   "id": "684edbcf",
   "metadata": {},
   "outputs": [],
   "source": [
    "nginx -s reload"
   ]
  },
  {
   "cell_type": "markdown",
   "id": "46e611c1",
   "metadata": {},
   "source": [
    "##### 查詢 Nginx 文件位置"
   ]
  },
  {
   "cell_type": "code",
   "execution_count": null,
   "id": "802b89e0",
   "metadata": {},
   "outputs": [],
   "source": [
    "nginx -t"
   ]
  },
  {
   "cell_type": "raw",
   "id": "b1068700",
   "metadata": {},
   "source": [
    "輸入上面的指令會得到以下的結果。"
   ]
  },
  {
   "cell_type": "raw",
   "id": "4cc2ec43",
   "metadata": {},
   "source": [
    ">>> nginx: the configuration file /etc/nginx/nginx.conf syntax is ok\n",
    ">>> nginx: configuration file /etc/nginx/nginx.conf test is successful"
   ]
  },
  {
   "cell_type": "markdown",
   "id": "3bd04d4e",
   "metadata": {},
   "source": [
    "##### Nginx 資料架構"
   ]
  },
  {
   "cell_type": "raw",
   "id": "c508ee2c",
   "metadata": {},
   "source": [
    "輸入下面的指令得到 Nginx 的資料結構"
   ]
  },
  {
   "cell_type": "code",
   "execution_count": null,
   "id": "9cdb129f",
   "metadata": {},
   "outputs": [],
   "source": [
    "cd /etc/nginx\n",
    "tree -L 1"
   ]
  },
  {
   "cell_type": "raw",
   "id": "482ff095",
   "metadata": {},
   "source": [
    "├── nginx.conf\n",
    "├── conf.d\n",
    "├── sites-available\n",
    "├── sites-enabled\n",
    "├── fastcgi.conf\n",
    "├── fastcgi_params\n",
    "├── koi-utf\n",
    "├── koi-win\n",
    "├── mime.types\n",
    "├── modules-available\n",
    "├── modules-enabled\n",
    "├── proxy_params\n",
    "├── scgi_params\n",
    "├── snippets\n",
    "├── uwsgi_params\n",
    "└── win-utf"
   ]
  },
  {
   "cell_type": "markdown",
   "id": "b78626fc",
   "metadata": {},
   "source": [
    "##### Nginx 變數介紹"
   ]
  },
  {
   "cell_type": "raw",
   "id": "c2510041",
   "metadata": {},
   "source": [
    "在 Nginx 配置中，變數只能存放字串，並在變數名前面加上 $，如下我們設定了變數 a 並將 hello 賦值給他"
   ]
  },
  {
   "cell_type": "code",
   "execution_count": null,
   "id": "24247157",
   "metadata": {},
   "outputs": [],
   "source": [
    "set $a hello;"
   ]
  },
  {
   "cell_type": "raw",
   "id": "006c48c2",
   "metadata": {},
   "source": [
    "內建變數 $ arg_XXX，可以取得 url 上的參數"
   ]
  },
  {
   "cell_type": "code",
   "execution_count": null,
   "id": "643b2258",
   "metadata": {},
   "outputs": [],
   "source": [
    "location /test {\n",
    "    echo \"name: $arg_name\";\n",
    "    echo \"class: $arg_class\";\n",
    "}\n",
    "\n",
    "$ curl 'http://localhost:8080/test'\n",
    ">>> name: \n",
    ">>> class: \n",
    "\n",
    "$ curl 'http://localhost:8080/test?name=Tom&class=3'\n",
    ">>> name: Tom\n",
    ">>> class: 3"
   ]
  },
  {
   "cell_type": "raw",
   "id": "d3309330",
   "metadata": {},
   "source": [
    "關於更多的 Nginx 變數與執行順序介紹，可以參考上面的文章"
   ]
  },
  {
   "cell_type": "markdown",
   "id": "80e617a4",
   "metadata": {},
   "source": [
    "# 如何寫入新的 Nginx 配置"
   ]
  },
  {
   "cell_type": "raw",
   "id": "55156464",
   "metadata": {},
   "source": [
    "我們可以從下面的圖片看到 /etc/nginx/nginx.conf 內最後面兩行，引入了 conf.d 和 sites-enabled 兩個資料夾內的配置，代表了如果要寫入新的參數，可以在以下這三個地方新增：\n",
    "1. nginx.conf\n",
    "2. conf.d 資料夾內\n",
    "3. sites-enabled 資料夾內"
   ]
  },
  {
   "cell_type": "raw",
   "id": "c77d7356",
   "metadata": {},
   "source": [
    "http{\n",
    "\n",
    "            ...\n",
    "            ...\n",
    "\n",
    "    include /etc/nginx/conf.d/*.conf;\n",
    "    include /etc/nginx/sites-enabled/*;\n",
    "}"
   ]
  },
  {
   "cell_type": "raw",
   "id": "444bf15e",
   "metadata": {},
   "source": [
    "而新增的配置要寫在 nginx.conf 裡面，還是在 conf.d 或 sites-available 哪個比較適合呢？"
   ]
  },
  {
   "cell_type": "raw",
   "id": "24a4f47b",
   "metadata": {},
   "source": [
    "關於 conf.d 和 sites-available 和 sites-enabled 的差異，參考以下此篇所獲得的答案如下：\n",
    "\n",
    "-conf.d ： 適合放置 global server 的 config\n",
    "-sites-available：適合放置 virtual host 的 config，如果要暫停只需要移到 sites-enabled 就可以了\n",
    "-sites-enabled：存放暫時不被使用的 config，放在這個 config 不會被觸發，如有需要啟動則移到 sites-available 即可"
   ]
  },
  {
   "cell_type": "markdown",
   "id": "cda2ac31",
   "metadata": {},
   "source": [
    "# Nginx 配置教學"
   ]
  },
  {
   "cell_type": "raw",
   "id": "e3463f7b",
   "metadata": {},
   "source": [
    "首先了解一下 nginx.conf 的預設配置，大致上可以分成以下幾塊：\n",
    "\n",
    "全域性區塊：主要是設定一些影響 Nginx 伺服器整體執行的配置指令\n",
    "events 區塊：主要是設定 Nginx 伺服器與使用者的網路連結\n",
    "http 區塊：是配置中重要的部分，包含代理、緩存、日誌等功能都在這設定，而 http 區塊中還會包含了 server 區塊 和 location 區塊，這部分接下來會細談"
   ]
  },
  {
   "cell_type": "raw",
   "id": "d4eb1759",
   "metadata": {},
   "source": [
    "...                   # 全域性區塊\n",
    "\n",
    "event{                # events 區塊\n",
    "        ...\n",
    "}\n",
    "http{                 # http 區塊\n",
    "    server{           # server 區塊\n",
    "        location{     # location 區塊\n",
    "            ...\n",
    "        }\n",
    "    }\n",
    "}"
   ]
  },
  {
   "cell_type": "markdown",
   "id": "921f60ac",
   "metadata": {},
   "source": [
    "##### http 區塊的詳細配置"
   ]
  },
  {
   "cell_type": "raw",
   "id": "0a41cbed",
   "metadata": {},
   "source": [
    "server{\n",
    "      listen  80;\n",
    "      listen [::]80;\n",
    "      server_name  example.com  www.example.com;\n",
    "    location /{\n",
    "        proxy_pass  http://127.0.0.1:8001;\n",
    "    }\n",
    "}"
   ]
  },
  {
   "cell_type": "raw",
   "id": "1aa54618",
   "metadata": {},
   "source": [
    "-listen 80; 代表監聽所有 ipv4 的位址\n",
    "-listen [::]80; 代表監聽所有 ipv6 的位址\n",
    "-server_name 是你的 Domain 名稱。由於 Nginx 可以用來開多個網站或反向代理多個服務，所以可以設定不同的 Domain\n",
    "-location 中則是指定對不同路徑要怎麼處理，針對 location 的寫法可以參考如下"
   ]
  },
  {
   "cell_type": "raw",
   "id": "998a9870",
   "metadata": {},
   "source": [
    "# 匹配所有目錄\n",
    "location /\n",
    "\n",
    "# 匹配所有 /static 開頭的目錄\n",
    "location /static\n",
    "\n",
    "# 只有 /index 會被代理，而 /index/test 不會被代理\n",
    "location = /index"
   ]
  },
  {
   "cell_type": "markdown",
   "id": "9971becb",
   "metadata": {},
   "source": [
    "##### 使用 Nginx 提供靜態內容"
   ]
  },
  {
   "cell_type": "raw",
   "id": "c5e18dfe",
   "metadata": {},
   "source": [
    "server {\n",
    "  listen 80;\n",
    "    server_name www.example.com;\n",
    "  location / {\n",
    "    proxy_pass http://localhost:8080;\n",
    "  }\n",
    "\n",
    "  location /images {\n",
    "   root /home; # 注意 這裡是指定資料夾的上一層\n",
    "  }\n",
    "}"
   ]
  },
  {
   "cell_type": "raw",
   "id": "b39fae3d",
   "metadata": {},
   "source": [
    "關於 Nginx Serving Static Content 的更多介紹，可以參考上面文章"
   ]
  },
  {
   "cell_type": "markdown",
   "id": "e4d1537e",
   "metadata": {},
   "source": [
    "##### 實作 Nginx 緩存機制 Cache"
   ]
  },
  {
   "cell_type": "raw",
   "id": "c003eebf",
   "metadata": {},
   "source": [
    "server {\n",
    "\n",
    "    listen 80;\n",
    "    server_name www.example.com;\n",
    "\n",
    "    location ~* \\.(jpg|jpeg|png|css|js)$ {  \n",
    "            expires 365d;  \n",
    "            proxy_pass http://loaclhost:8080;  \n",
    "        }\n",
    "}"
   ]
  },
  {
   "cell_type": "raw",
   "id": "cf3f0444",
   "metadata": {},
   "source": [
    "在 Nginx 配置 expires 等同於在 HTTP Response Header 裡面加上一個 Expires 的字段，裡面就是這個 Cache 到期的時間"
   ]
  },
  {
   "cell_type": "markdown",
   "id": "aedaa958",
   "metadata": {},
   "source": [
    "##### 實作 Nginx 虛擬主機 Virtual Host"
   ]
  },
  {
   "cell_type": "raw",
   "id": "f4727841",
   "metadata": {},
   "source": [
    "在比較小型的專案中為了節省資源，會將多個網站部署在同一台主機上，藉由不同的 domain，透過 Nginx 做出 Virtual Host 來運行。"
   ]
  },
  {
   "cell_type": "raw",
   "id": "5ed9ecd1",
   "metadata": {},
   "source": [
    "# .org\n",
    "server {\n",
    "    listen      80;\n",
    "    server_name example.org www.example.org;\n",
    "}\n",
    "\n",
    "# .net\n",
    "server {\n",
    "    listen      80;\n",
    "    server_name example.net www.example.net;\n",
    "}\n",
    "\n",
    "# .com\n",
    "server {\n",
    "    listen      80;\n",
    "    server_name example.com www.example.com;\n",
    "}"
   ]
  },
  {
   "cell_type": "markdown",
   "id": "01ea6310",
   "metadata": {},
   "source": [
    "##### 實作 Nginx 負載平衡 load balance"
   ]
  },
  {
   "cell_type": "raw",
   "id": "a9781732",
   "metadata": {},
   "source": [
    "Nginx 提供了以下三種 load balancing 方法：\n",
    "\n",
    "- round-robin：預設值，會將請留輪流平均分配到每台伺服器上\n",
    "- lest-connected：會將請求分配到目前連接數最少的伺服器上\n",
    "- ip-hash：利用 hash-function 來決定使用者要被分配到的伺服器，此方法可以達到同一個使用者 (IP address) 每次連結的伺服器都是相同的\n",
    "           如果要從默認值 round-robin 方法改成 lest-connected 或 ip-hash 的方法，只需要在第一行加上lest_conn; 或 ip_hash; 即可"
   ]
  },
  {
   "cell_type": "raw",
   "id": "0e50e68f",
   "metadata": {},
   "source": [
    "upstream backend {\n",
    "    ip_hash;\n",
    "    server srv1.example.com;\n",
    "    server srv2.example.com;\n",
    "    server srv3.example.com;\n",
    "}\n",
    "server {\n",
    "  listen 80;\n",
    "  location / {\n",
    "    proxy_pass   http://backend;\n",
    "  }\n",
    "}"
   ]
  },
  {
   "cell_type": "raw",
   "id": "2289a9af",
   "metadata": {},
   "source": [
    "分配權重 weight\n",
    "\n",
    "weight 默認值為 1，以下的配置代表如果有 5 次新的請求，則會有 3 次被分配到 srv1 和分配各 1 次到 srv2 srv3 上"
   ]
  },
  {
   "cell_type": "raw",
   "id": "6ddbdbae",
   "metadata": {},
   "source": [
    "upstream myapp1 {\n",
    "    server srv1.example.com weight=3;\n",
    "    server srv2.example.com;\n",
    "    server srv3.example.com;\n",
    "}\n",
    "server {\n",
    "  listen 80;\n",
    "  location / {\n",
    "    proxy_pass   http://backend;\n",
    "  }\n",
    "}"
   ]
  },
  {
   "cell_type": "code",
   "execution_count": null,
   "id": "c8c542c7",
   "metadata": {},
   "outputs": [],
   "source": [
    "備份 backup\n",
    "\n",
    "backup 代表，所有伺服器都掛掉之後，此伺服器才會生效"
   ]
  },
  {
   "cell_type": "raw",
   "id": "55c3917f",
   "metadata": {},
   "source": [
    "upstream backend {\n",
    "    server srv1.example.com weight=3;\n",
    "    server srv2.example.com;\n",
    "    server srv3.example.com backup;\n",
    "}\n",
    "server {\n",
    "  listen 80;\n",
    "  location / {\n",
    "    proxy_pass   http://backend;\n",
    "  }\n",
    "}"
   ]
  },
  {
   "cell_type": "markdown",
   "id": "c9492ee9",
   "metadata": {},
   "source": [
    "# 範例01"
   ]
  },
  {
   "cell_type": "markdown",
   "id": "7376418e",
   "metadata": {},
   "source": [
    "### 什麼是 SSL 憑證？"
   ]
  },
  {
   "cell_type": "raw",
   "id": "4049a687",
   "metadata": {},
   "source": [
    "SSL 的全名是 Secure Sockets Layer，即安全通訊端層，簡而言之，這是一種標準的技術，用於保持網際網路連線安全以及防止在兩個系統之間發送的所有敏感資料被罪犯讀取及修改任何傳輸的資訊，包括潛在的個人詳細資料。兩個系統可以是伺服器與用戶端 (例如購物網站與瀏覽器)，或者伺服器至伺服器 (例如，含有個人身份資訊或含有薪資資訊的應用程式)。 這樣做是為了確保使用者與網站、或兩個系統之間傳輸的任何資料保持無法被讀取的狀態。此技術可使用加密演算法以混淆輸送中的資料，防止駭客在資料透過連線發送時讀取資料。此資訊可能是任何敏感或個人資訊，包括信用卡號與其他財務資訊、姓名與地址。 TSL (Transport Layer Security，傳輸層安全性) 是更新、更安全的 SSL 版本。我們仍將安全性憑證稱為 SSL，因為這是較常用的詞彙，不過當您透過 DigiCert 購買 SSL 時，您所購買的其實是最新的 TLS 憑證及 ECC、RSA 或 DSA 的加密選項。 HTTPS (Hyper Text Transfer Protocol Secure，超級文字傳輸協議安全) 會在網站受到 SSL 憑證保護時在網址中出現。該憑證的詳細資料包括發行機構與網站擁有人的企業名稱，可以透過按一下瀏覽器列上的鎖定標記進行檢視。"
   ]
  },
  {
   "cell_type": "markdown",
   "id": "faa41247",
   "metadata": {},
   "source": [
    "### 登入"
   ]
  },
  {
   "cell_type": "raw",
   "id": "fbec74ce",
   "metadata": {},
   "source": [
    "要把網路換成 LLGP"
   ]
  },
  {
   "cell_type": "raw",
   "id": "5c629014",
   "metadata": {},
   "source": [
    "ssh webadmin@10.1.11.16"
   ]
  },
  {
   "cell_type": "markdown",
   "id": "dba879c6",
   "metadata": {},
   "source": [
    "### 到指定的路徑"
   ]
  },
  {
   "cell_type": "code",
   "execution_count": null,
   "id": "3591e72a",
   "metadata": {},
   "outputs": [],
   "source": [
    "cd /etc/nginx\n",
    "cd /config.d"
   ]
  },
  {
   "cell_type": "markdown",
   "id": "424b6718",
   "metadata": {},
   "source": [
    "### 暫時筆記"
   ]
  },
  {
   "cell_type": "raw",
   "id": "50761d7c",
   "metadata": {},
   "source": [
    "上面的是用來驗證的，要驗證前要先把轉址的 location 給刪掉，再加回來。"
   ]
  },
  {
   "cell_type": "code",
   "execution_count": null,
   "id": "85958750",
   "metadata": {},
   "outputs": [],
   "source": [
    "server{\n",
    "    listen 80;\n",
    "}"
   ]
  },
  {
   "cell_type": "markdown",
   "id": "b820dbc6",
   "metadata": {},
   "source": [
    "---"
   ]
  },
  {
   "cell_type": "raw",
   "id": "784fec1f",
   "metadata": {},
   "source": [
    "下面的用途是轉址: 把上面的 http 轉到下面的 https"
   ]
  },
  {
   "cell_type": "code",
   "execution_count": null,
   "id": "6bdc458f",
   "metadata": {},
   "outputs": [],
   "source": [
    "location / {\n",
    "    return 301 https://$host$request_uri;\n",
    "}"
   ]
  },
  {
   "cell_type": "markdown",
   "id": "fcd53a0f",
   "metadata": {},
   "source": [
    "---"
   ]
  },
  {
   "cell_type": "raw",
   "id": "2ad79367",
   "metadata": {},
   "source": [
    "驗證過了之後再把 ssl_certificate 與 ssl_certificate_key 加上去"
   ]
  },
  {
   "cell_type": "markdown",
   "id": "d0365fc1",
   "metadata": {},
   "source": [
    "# <img src='./mod39/conf1.png'>"
   ]
  },
  {
   "cell_type": "markdown",
   "id": "389fe2d0",
   "metadata": {},
   "source": [
    "<img src='./mod39/conf2.png'>"
   ]
  },
  {
   "cell_type": "markdown",
   "id": "992c2804",
   "metadata": {},
   "source": [
    "### 查看 nginx 的狀態與重新啟動"
   ]
  },
  {
   "cell_type": "raw",
   "id": "a3404dc3",
   "metadata": {},
   "source": [
    "nginx 的狀態"
   ]
  },
  {
   "cell_type": "code",
   "execution_count": null,
   "id": "a22c9f91",
   "metadata": {},
   "outputs": [],
   "source": [
    "sudo systemctl status nginx"
   ]
  },
  {
   "cell_type": "raw",
   "id": "32561970",
   "metadata": {},
   "source": [
    "重啟 nginx。改完設定檔都要重啟。"
   ]
  },
  {
   "cell_type": "code",
   "execution_count": null,
   "id": "bb177503",
   "metadata": {},
   "outputs": [],
   "source": [
    "sudo systemctl restart nginx"
   ]
  }
 ],
 "metadata": {
  "kernelspec": {
   "display_name": "Python 3.8.10 64-bit",
   "language": "python",
   "name": "python3"
  },
  "language_info": {
   "codemirror_mode": {
    "name": "ipython",
    "version": 3
   },
   "file_extension": ".py",
   "mimetype": "text/x-python",
   "name": "python",
   "nbconvert_exporter": "python",
   "pygments_lexer": "ipython3",
   "version": "3.8.10"
  },
  "vscode": {
   "interpreter": {
    "hash": "570feb405e2e27c949193ac68f46852414290d515b0ba6e5d90d076ed2284471"
   }
  }
 },
 "nbformat": 4,
 "nbformat_minor": 5
}
