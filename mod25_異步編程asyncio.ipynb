{
 "cells": [
  {
   "cell_type": "code",
   "execution_count": null,
   "id": "19e1d9f2",
   "metadata": {},
   "outputs": [],
   "source": [
    "不知道你是否發現身邊聊異步的人越來越多了，比如：FastAPI、Tornado、Sanic、Django 3、aiohttp 等。\n",
    "聽說異步如何如何牛逼？性能如何吊炸天。。。。但他到底是怎麼一回事呢？\n",
    "本節要跟大家一起聊聊關於 asyncio 異步的那些事！"
   ]
  },
  {
   "cell_type": "markdown",
   "id": "42726986",
   "metadata": {},
   "source": [
    "[異步編程講義](https://pythonav.com/wiki/detail/6/91/)<br>\n",
    "[異步編程影片](https://www.bilibili.com/video/BV1dD4y127bD?p=3&spm_id_from=pageDriver)"
   ]
  },
  {
   "cell_type": "markdown",
   "id": "1f020983",
   "metadata": {},
   "source": [
    "# 協程"
   ]
  },
  {
   "cell_type": "raw",
   "id": "ddb91e02",
   "metadata": {},
   "source": [
    "想學 asyncio，得先了解協程，協程是根本呀！\n",
    "協程（Coroutine），也可以被稱為微線程，是一種用戶態內的上下文切換技術。簡而言之，其實就是通過\"一個線程\"實現代碼塊相互切換執行。例如："
   ]
  },
  {
   "cell_type": "code",
   "execution_count": null,
   "id": "ae5d9068",
   "metadata": {},
   "outputs": [],
   "source": [
    "def func1():\n",
    "    print(1)\n",
    "    ...\n",
    "    print(2)\n",
    "    \n",
    "def func2():\n",
    "    print(3)\n",
    "    ...\n",
    "    print(4)\n",
    "    \n",
    "func1()\n",
    "func2()"
   ]
  },
  {
   "cell_type": "raw",
   "id": "50c07ac7",
   "metadata": {},
   "source": [
    "上述代碼是普通的函數定義和執行，按流程分別執行兩個函數中的代碼，並先後會輸出：1、2、3、4。但如果介入協程技術那麽就可以實現函數見代碼切換執行，最終輸入：1、3、2、4 。"
   ]
  },
  {
   "cell_type": "raw",
   "id": "8b93cb5e",
   "metadata": {},
   "source": [
    "在Python中有多種方式可以實現協程，例如：\n",
    "\n",
    "1. greenlet，是一個第三方模塊，用於實現協程代碼（Gevent 協程就是基於 greenlet 實現）\n",
    "2. yield，生成器，借助生成器的特點也可以實現協程代碼。\n",
    "3. asyncio，在 Python3.4 中引入的模塊用於編寫協程代碼。\n",
    "4. async & awiat，在 Python3.5 中引入的兩個關鍵字，結合 asyncio 模塊可以更方便的編寫協程代碼。"
   ]
  },
  {
   "cell_type": "markdown",
   "id": "a9d4b5c9",
   "metadata": {},
   "source": [
    "###  greenlet"
   ]
  },
  {
   "cell_type": "code",
   "execution_count": null,
   "id": "a3951462",
   "metadata": {},
   "outputs": [],
   "source": [
    "greentlet是一個第三方套件，需要提前安裝 pip3 install greenlet 才能使用。"
   ]
  },
  {
   "cell_type": "code",
   "execution_count": null,
   "id": "890410dd",
   "metadata": {},
   "outputs": [],
   "source": [
    "from greenlet import greenlet\n",
    "\n",
    "def func1():\n",
    "    print(1)        # 第1步：輸出 1\n",
    "    gr2.switch()    # 第3步：切換到 func2 函數\n",
    "    print(2)        # 第6步：輸出 2\n",
    "    gr2.switch()    # 第7步：切換到 func2 函數，從上一次執行的位置繼續向後執行\n",
    "    \n",
    "def func2():\n",
    "    print(3)        # 第4步：輸出 3\n",
    "    gr1.switch()    # 第5步：切換到 func1 函數，從上一次執行的位置繼續向後執行\n",
    "    print(4)        # 第8步：輸出 4\n",
    "    \n",
    "gr1 = greenlet(func1)\n",
    "gr2 = greenlet(func2)\n",
    "gr1.switch() # 第1步：去執行 func1 函數"
   ]
  },
  {
   "cell_type": "raw",
   "id": "305c7e0b",
   "metadata": {},
   "source": [
    "注意：switch 中也可以傳遞參數用於在切換執行時相互傳遞值。"
   ]
  },
  {
   "cell_type": "markdown",
   "id": "5cad9cdf",
   "metadata": {},
   "source": [
    "### yield"
   ]
  },
  {
   "cell_type": "raw",
   "id": "5546bd6c",
   "metadata": {},
   "source": [
    "基於 Python 的生成器的 yield 和 yield form 關鍵字實現協程代碼。"
   ]
  },
  {
   "cell_type": "code",
   "execution_count": null,
   "id": "07cc642e",
   "metadata": {},
   "outputs": [],
   "source": [
    "def func1():\n",
    "    yield 1\n",
    "    yield from func2()\n",
    "    yield 2\n",
    "    \n",
    "def func2():\n",
    "    yield 3\n",
    "    yield 4\n",
    "    \n",
    "f1 = func1()\n",
    "for item in f1:\n",
    "    print(item)"
   ]
  },
  {
   "cell_type": "raw",
   "id": "61bd0a0f",
   "metadata": {},
   "source": [
    "注意：yield form 關鍵字是在 Python3.3 中引入的。"
   ]
  },
  {
   "cell_type": "markdown",
   "id": "7f7c5445",
   "metadata": {},
   "source": [
    "### asyncio"
   ]
  },
  {
   "cell_type": "raw",
   "id": "400d075a",
   "metadata": {},
   "source": [
    "在 Python3.4 前官方未提供協程的類庫，一般大家都是使用 greenlet 等其他來實現。在 Python3.4 發布後官方正式支持協程，即 asyncio 模塊。"
   ]
  },
  {
   "cell_type": "code",
   "execution_count": null,
   "id": "ad782fae",
   "metadata": {},
   "outputs": [],
   "source": [
    "需要事先安裝 pip install nest_asyncio"
   ]
  },
  {
   "cell_type": "code",
   "execution_count": null,
   "id": "091f9683",
   "metadata": {},
   "outputs": [],
   "source": [
    "import asyncio\n",
    "import nest_asyncio\n",
    "\n",
    "nest_asyncio.apply()\n",
    "\n",
    "@asyncio.coroutine\n",
    "def func1():\n",
    "    print(1)\n",
    "    yield from asyncio.sleep(2)  # 遇到 IO 耗時操作，自動化切換到 tasks 中的其他任務\n",
    "    print(2)\n",
    "    \n",
    "@asyncio.coroutine\n",
    "def func2():\n",
    "    print(3)\n",
    "    yield from asyncio.sleep(2) # 遇到 IO 耗時操作，自動化切換到 tasks 中的其他任務\n",
    "    print(4)\n",
    "    \n",
    "tasks = [\n",
    "    asyncio.ensure_future( func1() ),\n",
    "    asyncio.ensure_future( func2() )\n",
    "]\n",
    "\n",
    "loop = asyncio.get_event_loop()\n",
    "loop.run_until_complete(asyncio.wait(tasks));"
   ]
  },
  {
   "cell_type": "raw",
   "id": "cc47bc8e",
   "metadata": {},
   "source": [
    "注意：基於 asyncio 模塊實現的協程比之前的要更厲害，因為他的內部還集成了遇到 IO 耗時操作自動切花的功能。"
   ]
  },
  {
   "cell_type": "markdown",
   "id": "5cd4428b",
   "metadata": {},
   "source": [
    "### async & await"
   ]
  },
  {
   "cell_type": "markdown",
   "id": "503c60cd",
   "metadata": {},
   "source": [
    "async & await 關鍵字在 Python3.5 版本中正式引入，基於他編寫的協程代碼其實就是 \"上一範例\" 的加強版，讓代碼可以更加簡便。\n",
    "Python3.8 之後 @asyncio.coroutine 裝飾器就會被移除，推薦使用 async & awit 關鍵字實現協程代碼。"
   ]
  },
  {
   "cell_type": "code",
   "execution_count": null,
   "id": "d0b3bf35",
   "metadata": {},
   "outputs": [],
   "source": [
    "import asyncio\n",
    "\n",
    "async def func1():\n",
    "    print(1)\n",
    "    await asyncio.sleep(2)\n",
    "    print(2)\n",
    "    \n",
    "async def func2():\n",
    "    print(3)\n",
    "    await asyncio.sleep(2)\n",
    "    print(4)\n",
    "    \n",
    "tasks = [\n",
    "    asyncio.ensure_future(func1()),\n",
    "    asyncio.ensure_future(func2())\n",
    "]\n",
    "\n",
    "loop = asyncio.get_event_loop()\n",
    "loop.run_until_complete(asyncio.wait(tasks));"
   ]
  },
  {
   "cell_type": "raw",
   "id": "75576391",
   "metadata": {},
   "source": [
    "關於協程有多種實現方式，目前主流使用是 Python 官方推薦的 asyncio 模塊和 async&await 關鍵字的方式，例如：在tonado、sanic、fastapi、django3 中均已支持。\n",
    "\n",
    "接下來，我們也會針對 asyncio模塊 + async & await 關鍵字進行更加詳細的講解。"
   ]
  },
  {
   "cell_type": "markdown",
   "id": "970c69fe",
   "metadata": {},
   "source": [
    "# 協程的意義"
   ]
  },
  {
   "cell_type": "raw",
   "id": "c03ca937",
   "metadata": {},
   "source": [
    "通過學習，我們已經了解到協程可以通過一個線程在多個上下文中進行來回切換執行。\n",
    "但是，協程來回切換執行的意義何在呢？（網上看到很多文章舔協程，協程牛逼之處是哪裏呢？）"
   ]
  },
  {
   "cell_type": "raw",
   "id": "f5b626ae",
   "metadata": {},
   "source": [
    "計算型的操作，利用協程來回切換執行，沒有任何意義，來回切換並保存狀態 反倒會降低性能。\n",
    "IO 型的操作，利用協程在 IO 等待時間就去切換執行其他任務，當 IO 操作結束後再自動回調，那麽就會大大節省資源並提供性能，從而實現異步編程（不等待任務結束就可以去執行其他代碼）。"
   ]
  },
  {
   "cell_type": "markdown",
   "id": "e93de3a2",
   "metadata": {},
   "source": [
    "### 爬蟲案例"
   ]
  },
  {
   "cell_type": "raw",
   "id": "ab467483",
   "metadata": {},
   "source": [
    "例如：用代碼實現下載 url_list 中的圖片。"
   ]
  },
  {
   "cell_type": "raw",
   "id": "858a2742",
   "metadata": {},
   "source": [
    "方式一：\"同步\" 編程實現"
   ]
  },
  {
   "cell_type": "code",
   "execution_count": null,
   "id": "727b5f36",
   "metadata": {},
   "outputs": [],
   "source": [
    "import requests\n",
    "\n",
    "def download_image(url):\n",
    "    print(\"開始下載:\", url)\n",
    "    # 發送網絡請求，下載圖片\n",
    "    response = requests.get(url)\n",
    "    print(\"下載完成\")\n",
    "    # 圖片保存到本地文件\n",
    "    file_name = url.rsplit('_')[-1]\n",
    "    with open(f\"mod25/{file_name}\", mode='wb') as file_object:\n",
    "        file_object.write(response.content)\n",
    "        \n",
    "if __name__ == '__main__':\n",
    "    url_list = [\n",
    "        'https://www3.autoimg.cn/newsdfs/g26/M02/35/A9/120x90_0_autohomecar__ChsEe12AXQ6AOOH_AAFocMs8nzU621.jpg',\n",
    "        'https://www2.autoimg.cn/newsdfs/g30/M01/3C/E2/120x90_0_autohomecar__ChcCSV2BBICAUntfAADjJFd6800429.jpg',\n",
    "        'https://www3.autoimg.cn/newsdfs/g26/M0B/3C/65/120x90_0_autohomecar__ChcCP12BFCmAIO83AAGq7vK0sGY193.jpg'\n",
    "    ]\n",
    "    \n",
    "    for item in url_list:\n",
    "        download_image(item)"
   ]
  },
  {
   "cell_type": "raw",
   "id": "1049cb93",
   "metadata": {},
   "source": [
    "注意順序: 下載 -> 完成 ->下載 -> 完成 ->下載 -> 完成 ->"
   ]
  },
  {
   "cell_type": "markdown",
   "id": "6bf9e6e1",
   "metadata": {},
   "source": [
    "---"
   ]
  },
  {
   "cell_type": "code",
   "execution_count": null,
   "id": "bd294789",
   "metadata": {},
   "outputs": [],
   "source": [
    "方式二：基於協程的異步編程實現"
   ]
  },
  {
   "cell_type": "code",
   "execution_count": null,
   "id": "55af0ec1",
   "metadata": {},
   "outputs": [],
   "source": [
    "需先安裝套件 pip install aiohttp"
   ]
  },
  {
   "cell_type": "code",
   "execution_count": null,
   "id": "1e79e60c",
   "metadata": {},
   "outputs": [],
   "source": [
    "#!/usr/bin/env python\n",
    "# -*- coding:utf-8 -*-\n",
    "import aiohttp\n",
    "import asyncio\n",
    "\n",
    "async def fetch(session, url):\n",
    "    print(\"發送請求：\", url)\n",
    "    async with session.get(url, verify_ssl=False) as response:\n",
    "        content = await response.content.read()\n",
    "        file_name = url.rsplit('_')[-1]\n",
    "        with open(f\"mod25/{file_name}\", mode='wb') as file_object:\n",
    "            file_object.write(content)\n",
    "            print(\"下載完成\")\n",
    "            \n",
    "async def main():\n",
    "    async with aiohttp.ClientSession() as session:\n",
    "        url_list = [\n",
    "            'https://www3.autoimg.cn/newsdfs/g26/M02/35/A9/120x90_0_autohomecar__ChsEe12AXQ6AOOH_AAFocMs8nzU621.jpg',\n",
    "            'https://www2.autoimg.cn/newsdfs/g30/M01/3C/E2/120x90_0_autohomecar__ChcCSV2BBICAUntfAADjJFd6800429.jpg',\n",
    "            'https://www3.autoimg.cn/newsdfs/g26/M0B/3C/65/120x90_0_autohomecar__ChcCP12BFCmAIO83AAGq7vK0sGY193.jpg'\n",
    "        ]\n",
    "        tasks = [asyncio.create_task(fetch(session, url)) for url in url_list]\n",
    "        await asyncio.wait(tasks)\n",
    "        \n",
    "if __name__ == '__main__':\n",
    "#     await main()\n",
    "    asyncio.run(main())\n",
    "# 在 vscode 跟 jupyter 運行時，這裡需要適當的調整"
   ]
  },
  {
   "cell_type": "raw",
   "id": "dbbd3065",
   "metadata": {},
   "source": [
    "注意順序: 請求 -> 請求 -> 請求 -> 下載 -> 下載 -> 下載 "
   ]
  },
  {
   "cell_type": "raw",
   "id": "2c6b17d9",
   "metadata": {},
   "source": [
    "上述兩種的執行對比之後會發現，基於協程的異步編程 要比同步編程的效率高了很多。因為：\n",
    "\n",
    "同步編程，按照順序逐一排隊執行，如果圖片下載時間為 2 分鐘，那麽全部執行完則需要 6 分鐘。\n",
    "異步編程，幾乎同時發出了 3 個下載任務的請求（遇到 IO 請求自動切換去發送其他任務請求），如果圖片下載時間為 2 分鐘，那麽全部執行完畢也大概需要 2 分鐘左右就可以了。"
   ]
  },
  {
   "cell_type": "markdown",
   "id": "c0b69726",
   "metadata": {},
   "source": [
    "### 小結"
   ]
  },
  {
   "cell_type": "raw",
   "id": "62acd014",
   "metadata": {},
   "source": [
    "協程一般應用在有 IO 操作的程序中，因為協程可以利用 IO 等待的時間去執行一些其他的代碼，從而提升代碼執行效率。\n",
    "\n",
    "生活中不也是這樣的嗎，假設 你是一家製造汽車的老板，員工點擊設備的【開始】按鈕之後，在設備前需等待 30 分鐘，然後點擊【結束】按鈕，此時作為老板的你一定希望這個員工在等待的那 30 分鐘的時間去做點其他的工作。"
   ]
  },
  {
   "cell_type": "markdown",
   "id": "e47f2405",
   "metadata": {},
   "source": [
    "# 異步編程"
   ]
  },
  {
   "cell_type": "raw",
   "id": "b4d0359b",
   "metadata": {},
   "source": [
    "基於 async & await 關鍵字的協程可以實現異步編程，這也是目前 python 異步相關的主流技術。\n",
    "想要真正的了解 Python 中內置的異步編程，根據下文的順序一點點來看。"
   ]
  },
  {
   "cell_type": "markdown",
   "id": "6af578d8",
   "metadata": {},
   "source": [
    "### 事件循環"
   ]
  },
  {
   "cell_type": "raw",
   "id": "62649401",
   "metadata": {},
   "source": [
    "事件循環，可以把他當做是一個 while 循環，這個 while 循環在周期性的運行並執行一些任務，在特定條件下終止循環。"
   ]
  },
  {
   "cell_type": "raw",
   "id": "8af956f7",
   "metadata": {},
   "source": [
    "# 偽代碼\n",
    "任務列表 = [ 任務1, 任務2, 任務3,... ]\n",
    "\n",
    "while True:\n",
    "    可執行的任務列表，已完成的任務列表 = 去任務列表中檢查所有的任務，將'可執行'和'已完成'的任務返回\n",
    "    for 就緒任務 in 可執行的任務列表:\n",
    "        執行已就緒的任務\n",
    "    for 已完成的任務 in 已完成的任務列表:\n",
    "        在任務列表中移除 已完成的任務\n",
    "    如果 任務列表 中的任務都已完成，則終止循環"
   ]
  },
  {
   "cell_type": "raw",
   "id": "ccab9371",
   "metadata": {},
   "source": [
    "在編寫程序時候可以通過如下代碼來獲取和創建事件循環。"
   ]
  },
  {
   "cell_type": "code",
   "execution_count": null,
   "id": "d95b6c3d",
   "metadata": {},
   "outputs": [],
   "source": [
    "import asyncio\n",
    "\n",
    "# 去生成或獲取一個事件循環\n",
    "loop = asyncio.get_event_loop()\n",
    "\n",
    "# 將任務放到任務列表\n",
    "loop.run_until_complete(任務)"
   ]
  },
  {
   "cell_type": "markdown",
   "id": "b725dd24",
   "metadata": {},
   "source": [
    "### 快速上手"
   ]
  },
  {
   "cell_type": "raw",
   "id": "fa280231",
   "metadata": {},
   "source": [
    "協程函數，定義形式為 async def 的函數。\n",
    "協程對象，調用 協程函數 所返回的對象。"
   ]
  },
  {
   "cell_type": "code",
   "execution_count": null,
   "id": "bdbe6e2e",
   "metadata": {},
   "outputs": [],
   "source": [
    "# 定義一個協程函數\n",
    "async def func():\n",
    "    pass\n",
    "\n",
    "# 調用協程函數，返回一個協程對象\n",
    "result = func()"
   ]
  },
  {
   "cell_type": "raw",
   "id": "5a06f4d4",
   "metadata": {},
   "source": [
    "注意：調用協程函數時，函數內部代碼不會執行，只是會返回一個協程對象。"
   ]
  },
  {
   "cell_type": "raw",
   "id": "bb8f765f",
   "metadata": {},
   "source": [
    "程序中，如果想要執行協程函數的內部代碼，需要 事件循環 和 協程對象 配合才能實現，如："
   ]
  },
  {
   "cell_type": "code",
   "execution_count": null,
   "id": "0f3e5606",
   "metadata": {},
   "outputs": [],
   "source": [
    "import asyncio\n",
    "\n",
    "async def func():\n",
    "    print(\"協程內部代碼\")\n",
    "\n",
    "# 調用協程函數，返回一個協程對象。\n",
    "result = func()\n",
    "\n",
    "# 方式一\n",
    "# 在 jupyter 還需要微調，可直接複製去 vscode 運行 \n",
    "loop = asyncio.get_event_loop() # 創建一個事件循環\n",
    "loop.run_until_complete(result) # 將協程當做任務提交到事件循環的任務列表中，協程執行完成之後終止。"
   ]
  },
  {
   "cell_type": "code",
   "execution_count": null,
   "id": "3d898501",
   "metadata": {},
   "outputs": [],
   "source": [
    "import asyncio\n",
    "\n",
    "async def func():\n",
    "    print(\"協程內部代碼\")\n",
    "\n",
    "# 調用協程函數，返回一個協程對象。\n",
    "result = func()\n",
    "\n",
    "\n",
    "# 方式二\n",
    "# 在 jupyter 還需要微調，把 asyncio.run(result) 換成 await result，也可直接複製去 vscode 運行 \n",
    "# 本質上方式一是一樣的，內部先 創建事件循環 然後執行 run_until_complete，一個簡便的寫法。\n",
    "# asyncio.run 函數在 Python 3.7 中加入 asyncio 模塊，\n",
    "asyncio.run(result)"
   ]
  },
  {
   "cell_type": "raw",
   "id": "34623a81",
   "metadata": {},
   "source": [
    "這個過程可以簡單理解為：將協程當做任務添加到 事件循環 的任務列表，然後事件循環檢測列表中的協程是否已準備就緒（默認可理解為就緒狀態），如果準備就緒則執行其內部代碼。"
   ]
  },
  {
   "cell_type": "markdown",
   "id": "c9593244",
   "metadata": {},
   "source": [
    "### await"
   ]
  },
  {
   "cell_type": "raw",
   "id": "e3c2fb32",
   "metadata": {},
   "source": [
    "await + 可等待對象[協程對象、Future、Task對象 -> IO等待]"
   ]
  },
  {
   "cell_type": "raw",
   "id": "3ffe6c2a",
   "metadata": {},
   "source": [
    "await 是一個只能在協程函數中使用的關鍵字，用於遇到 IO 操作時掛起當前協程（任務），當前協程（任務）掛起過程中事件循環可以去執行其他的協程（任務），當前協程 IO 處理完成時，可以再次切換回來執行 await 之後的代碼。代碼如下："
   ]
  },
  {
   "cell_type": "markdown",
   "id": "18acbeb9",
   "metadata": {},
   "source": [
    "#### 範例01"
   ]
  },
  {
   "cell_type": "code",
   "execution_count": null,
   "id": "644c76ce",
   "metadata": {},
   "outputs": [],
   "source": [
    "import asyncio\n",
    "\n",
    "async def func():\n",
    "    print(\"執行協程函數內部代碼\")\n",
    "    # 遇到IO操作掛起當前協程（任務），等IO操作完成之後再繼續往下執行。\n",
    "    # 當前協程掛起時，事件循環可以去執行其他協程（任務）。\n",
    "    response = await asyncio.sleep(2)\n",
    "    print(\"IO請求結束，結果為：\", response)\n",
    "    \n",
    "result = func()\n",
    "asyncio.run(result)"
   ]
  },
  {
   "cell_type": "markdown",
   "id": "e3ed671d",
   "metadata": {},
   "source": [
    "#### 範例02"
   ]
  },
  {
   "cell_type": "code",
   "execution_count": null,
   "id": "a804e6ae",
   "metadata": {},
   "outputs": [],
   "source": [
    "import asyncio\n",
    "\n",
    "async def others():\n",
    "    print(\"start\")\n",
    "    await asyncio.sleep(2)\n",
    "    print('end')\n",
    "    return '返回值'\n",
    "\n",
    "async def func():\n",
    "    print(\"執行協程函數內部代碼\")\n",
    "    # 遇到 IO 操作掛起當前協程（任務），等 IO 操作完成之後再繼續往下執行。當前協程掛起時，事件循環可以去執行其他協程（任務）。\n",
    "    response = await others()\n",
    "    print(\"IO請求結束，結果為：\", response)\n",
    "    \n",
    "asyncio.run( func() )"
   ]
  },
  {
   "cell_type": "markdown",
   "id": "dbc34383",
   "metadata": {},
   "source": [
    "#### 範例03"
   ]
  },
  {
   "cell_type": "code",
   "execution_count": null,
   "id": "1fb6033d",
   "metadata": {},
   "outputs": [],
   "source": [
    "import asyncio\n",
    "\n",
    "async def others():\n",
    "    print(\"start\")\n",
    "    await asyncio.sleep(2)\n",
    "    print('end')\n",
    "    return '返回值'\n",
    "\n",
    "async def func():\n",
    "    print(\"執行協程函數內部代碼\")\n",
    "    # 遇到IO操作掛起當前協程（任務），等IO操作完成之後再繼續往下執行。當前協程掛起時，事件循環可以去執行其他協程（任務）。\n",
    "    response1 = await others()\n",
    "    print(\"IO請求結束，結果為：\", response1)\n",
    "    response2 = await others()\n",
    "    print(\"IO請求結束，結果為：\", response2)\n",
    "\n",
    "asyncio.run( func() )"
   ]
  },
  {
   "cell_type": "raw",
   "id": "e32af615",
   "metadata": {},
   "source": [
    "await 就是等待對象的值得到結果後在繼續往下走"
   ]
  },
  {
   "cell_type": "raw",
   "id": "c777f752",
   "metadata": {},
   "source": [
    "上述的所有範例都只是創建了一個任務，即：事件循環的任務列表中只有一個任務，所以在 IO 等待時無法演示切換到其他任務效果。\n",
    "在程序想要創建多個任務對象，需要使用 Task 對象來實現。"
   ]
  },
  {
   "cell_type": "markdown",
   "id": "f0471fe6",
   "metadata": {},
   "source": [
    "### Task對象"
   ]
  },
  {
   "cell_type": "raw",
   "id": "bce8ff2e",
   "metadata": {},
   "source": [
    "Tasks are used to schedule coroutines concurrently.\n",
    "When a coroutine is wrapped into a Task with functions like asyncio.create_task() the coroutine is automatically scheduled to run soon。\n",
    "\n",
    "Tasks用於並發調度協程，通過 asyncio.create_task(協程對象) 的方式創建 Task 對象，這樣可以讓協程加入事件循環中等待被調度執行。除了使用 asyncio.create_task() 函數以外，還可以用低層級的 loop.create_task() 或 ensure_future() 函數。不建議手動實例化 Task 對象。\n",
    "\n",
    "本質上是將協程對象封裝成 task 對象，並將協程立即加入事件循環，同時追蹤協程的狀態。\n",
    "\n",
    "注意：asyncio.create_task() 函數在 Python 3.7 中被加入。在 Python 3.7 之前，可以改用低層級的 asyncio.ensure_future() 函數。"
   ]
  },
  {
   "cell_type": "markdown",
   "id": "50a36f88",
   "metadata": {},
   "source": [
    "#### 範例01"
   ]
  },
  {
   "cell_type": "code",
   "execution_count": null,
   "id": "67fc3b51",
   "metadata": {},
   "outputs": [],
   "source": [
    "import asyncio\n",
    "\n",
    "async def func():\n",
    "    print(1)\n",
    "    await asyncio.sleep(2)\n",
    "    print(2)\n",
    "    return \"返回值\"\n",
    "\n",
    "async def main():\n",
    "    print(\"main開始\")\n",
    "    # 創建協程，將協程封裝到一個 Task 對象中並立即添加到事件循環的任務列表中，等待事件循環去執行（默認是就緒狀態）。\n",
    "    task1 = asyncio.create_task(func())\n",
    "    # 創建協程，將協程封裝到一個Task對象中並立即添加到事件循環的任務列表中，等待事件循環去執行（默認是就緒狀態）。\n",
    "    task2 = asyncio.create_task(func())\n",
    "    print(\"main結束\")\n",
    "    # 當執行某協程遇到 IO 操作時，會自動化切換執行其他任務。\n",
    "    # 此處的 await 是等待相對應的協程全都執行完畢並獲取結果\n",
    "    ret1 = await task1\n",
    "    ret2 = await task2\n",
    "    print(ret1, ret2)\n",
    "    \n",
    "asyncio.run(main())"
   ]
  },
  {
   "cell_type": "markdown",
   "id": "84255773",
   "metadata": {},
   "source": [
    "#### 範例02-最常用"
   ]
  },
  {
   "cell_type": "code",
   "execution_count": null,
   "id": "5221e7e1",
   "metadata": {},
   "outputs": [],
   "source": [
    "import asyncio\n",
    "\n",
    "async def func():\n",
    "    print(1)\n",
    "    await asyncio.sleep(2)\n",
    "    print(2)\n",
    "    return \"返回值\"\n",
    "\n",
    "async def main():\n",
    "    print(\"main開始\")\n",
    "    # 創建協程，將協程封裝到 Task 對象中並添加到事件循環的任務列表中，等待事件循環去執行（默認是就緒狀態）。\n",
    "    # 在調用\n",
    "    task_list = [\n",
    "        asyncio.create_task(func(), name=\"n1\"),\n",
    "        asyncio.create_task(func(), name=\"n2\")\n",
    "    ]\n",
    "    print(\"main結束\")\n",
    "    # 當執行某協程遇到 IO 操作時，會自動化切換執行其他任務。\n",
    "    # 此處的 await 是等待所有協程執行完畢，並將所有協程的返回值保存到 done\n",
    "    # 如果設置了 timeout 值，則意味著此處最多等待的秒，完成的協程返回值寫入到 done 中，未完成則寫到 pending 中。\n",
    "    # 因為 awiat 要接協程對象、task對象等，所以這裡要添加 asyncio.wait() 函式\n",
    "    done, pending = await asyncio.wait(task_list, timeout=None)\n",
    "    print(done, pending)\n",
    "    \n",
    "asyncio.run(main())"
   ]
  },
  {
   "cell_type": "raw",
   "id": "dfdf2002",
   "metadata": {},
   "source": [
    "注意：asyncio.wait 源碼內部會對列表中的每個協程執行 ensure_future 從而封裝為 Task 對象，所以在和 wait 配合使用時 task_list 的值為[func(),func()] 也是可以的。"
   ]
  },
  {
   "cell_type": "markdown",
   "id": "0da76098",
   "metadata": {},
   "source": [
    "#### 範例03"
   ]
  },
  {
   "cell_type": "code",
   "execution_count": null,
   "id": "efa1eb63",
   "metadata": {},
   "outputs": [],
   "source": [
    "import asyncio\n",
    "\n",
    "async def func():\n",
    "    print(\"執行協程函數內部代碼\")\n",
    "    # 遇到IO操作掛起當前協程（任務），等IO操作完成之後再繼續往下執行。當前協程掛起時，事件循環可以去執行其他協程（任務）。\n",
    "    response = await asyncio.sleep(2)\n",
    "    print(\"IO請求結束，結果為：\", response)\n",
    "    \n",
    "coroutine_list = [func(), func()]\n",
    "# 錯誤：coroutine_list = [ asyncio.create_task(func()), asyncio.create_task(func()) ]  \n",
    "# 此處不能直接 asyncio.create_task，因為將 Task 立即加入到事件循環的任務列表，\n",
    "# 但此時事件循環還未創建，所以會報錯。\n",
    "# 使用 asyncio.wait 將列表封裝為一個協程，並調用 asyncio.run 實現執行兩個協程\n",
    "# asyncio.wait 內部會對列表中的每個協程執行 ensure_future，封裝為 Task 對象。\n",
    "done, pending = asyncio.run( asyncio.wait(coroutine_list) )\n",
    "print(done, pending)"
   ]
  },
  {
   "cell_type": "markdown",
   "id": "71bc84d6",
   "metadata": {},
   "source": [
    "### asyncio.Future對象"
   ]
  },
  {
   "cell_type": "raw",
   "id": "bad48d03",
   "metadata": {},
   "source": [
    "A Future is a special low-level awaitable object that represents an eventual result of an asynchronous operation.\n",
    "\n",
    "asyncio 中的 Future 對象是一個相對更偏向底層的可對象，通常我們不會直接用到這個對象，而是直接使用 Task 對象來完成任務的並和狀態的追蹤。（ Task 是 Futrue 的子類 ）\n",
    "\n",
    "Future 為我們提供了異步編程中的 最終結果 的處理（Task 類也具備狀態處理的功能）。"
   ]
  },
  {
   "cell_type": "markdown",
   "id": "f94d29b6",
   "metadata": {},
   "source": [
    "#### 範例01"
   ]
  },
  {
   "cell_type": "code",
   "execution_count": null,
   "id": "79afab02",
   "metadata": {},
   "outputs": [],
   "source": [
    "import asyncio\n",
    "\n",
    "async def main():\n",
    "    # 獲取當前事件循環\n",
    "    loop = asyncio.get_running_loop()\n",
    "    # 創建一個任務（Future對象），這個任務什麽都不幹。\n",
    "    fut = loop.create_future()\n",
    "    # 等待任務最終結果（Future對象），沒有結果則會一直等下去。\n",
    "    await fut\n",
    "    \n",
    "asyncio.run(main())"
   ]
  },
  {
   "cell_type": "markdown",
   "id": "2e1a9b11",
   "metadata": {},
   "source": [
    "#### 範例02"
   ]
  },
  {
   "cell_type": "code",
   "execution_count": null,
   "id": "75489a33",
   "metadata": {},
   "outputs": [],
   "source": [
    "import asyncio\n",
    "\n",
    "async def set_after(fut):\n",
    "    await asyncio.sleep(2)\n",
    "    fut.set_result(\"666\")\n",
    "    \n",
    "async def main():\n",
    "    # 獲取當前事件循環\n",
    "    loop = asyncio.get_running_loop()\n",
    "    # 創建一個任務（Future對象），沒綁定任何行為，則這個任務永遠不知道什麽時候結束。\n",
    "    fut = loop.create_future()\n",
    "    # 創建一個任務（Task對象），綁定了 set_after 函數，函數內部在 2s 之後，會給 fut 賦值。\n",
    "    # 即手動設置 future 任務的最終結果，那麽 fut 就可以結束了。\n",
    "    await loop.create_task(set_after(fut))\n",
    "    # 等待 Future 對象獲取 最終結果，否則一直等下去\n",
    "    data = await fut\n",
    "    print(data)\n",
    "    \n",
    "asyncio.run(main())"
   ]
  },
  {
   "cell_type": "raw",
   "id": "6f5e7d33",
   "metadata": {},
   "source": [
    "Future 對象本身函數進行綁定，所以想要讓事件循環獲取 Future 的結果，則需要手動設置。而 Task 對象繼承了 Future 對象，其實就對 Future 進行擴展，他可以實現在對應綁定的函數執行完成之後，自動執行 set_result，從而實現自動結束。\n",
    "\n",
    "雖然，平時使用的是 Task 對象，但對於結果的處理本質是基於 Future 對象來實現的。\n",
    "\n",
    "擴展：支持 await 對象語法的對象是成為可等待對象，所以 協程對象、Task對象、Future對象 都可以被成為可等待對象。"
   ]
  },
  {
   "cell_type": "markdown",
   "id": "e8cabb3c",
   "metadata": {},
   "source": [
    "### concurrent.futures.Future对象"
   ]
  },
  {
   "cell_type": "raw",
   "id": "19e5580f",
   "metadata": {},
   "source": [
    "在 Python 的 concurrent.futures 模塊中也有一個 Future 對象，這個對象是基於線程池和進程池實現異步操作時使用的對象。"
   ]
  },
  {
   "cell_type": "code",
   "execution_count": null,
   "id": "b8811c34",
   "metadata": {},
   "outputs": [],
   "source": [
    "import time\n",
    "from concurrent.futures import Future\n",
    "from concurrent.futures.thread import ThreadPoolExecutor\n",
    "from concurrent.futures.process import ProcessPoolExecutor\n",
    "\n",
    "def func(value):\n",
    "    time.sleep(1)\n",
    "    print(value)\n",
    "\n",
    "pool = ThreadPoolExecutor(max_workers=5)\n",
    "# 或 pool = ProcessPoolExecutor(max_workers=5)\n",
    "\n",
    "for i in range(10):\n",
    "    fut = pool.submit(func, i)\n",
    "    print(fut)"
   ]
  },
  {
   "cell_type": "raw",
   "id": "d9855c35",
   "metadata": {},
   "source": [
    "兩個 Future 對象是不同的，他們是為不同的應用場景而設計，例如：concurrent.futures.Future 不支持 await 語法等。\n",
    "\n",
    "官方提示兩對象之間不同：\n",
    "\n",
    "1. unlike asyncio Futures, concurrent.futures.Future instances cannot be awaited.\n",
    "2. asyncio.Future.result() and asyncio.Future.exception() do not accept the timeout argument.\n",
    "3. asyncio.Future.result() and asyncio.Future.exception() raise an InvalidStateError exception when the Future is not done.\n",
    "4. Callbacks registered with asyncio.Future.add_done_callback() are not called immediately. They are scheduled with \n",
    "   loop.call_soon() instead.\n",
    "5. asyncio Future is not compatible with the concurrent.futures.wait() and concurrent.futures.as_completed() functions.\n",
    "\n",
    "在Python提供了一個將 futures.Future 對象包裝成 asyncio.Future 對象的函數 asynic.wrap_future。\n",
    "接下裏你肯定問：為什麽 python 會提供這種功能？\n",
    "其實，一般在程序開發中我們要麽統一使用 asycio 的協程實現異步操作、要麽都使用進程池和線程池實現異步操作。但如果 協程的異步和 進程池/線程池的異步 混搭時，那麽就會用到此功能了。"
   ]
  },
  {
   "cell_type": "code",
   "execution_count": null,
   "id": "1211a426",
   "metadata": {},
   "outputs": [],
   "source": [
    "import time\n",
    "import asyncio\n",
    "import concurrent.futures\n",
    "\n",
    "def func1():\n",
    "    # 某個耗時操作\n",
    "    time.sleep(2)\n",
    "    return \"SB\"\n",
    "\n",
    "async def main():\n",
    "    loop = asyncio.get_running_loop()\n",
    "    # 1. Run in the default loop's executor ( 默認 ThreadPoolExecutor )\n",
    "    # 第一步：內部會先調用 ThreadPoolExecutor 的 submit 方法去線程池中申請一個線程去執行 func1 函數，並返回一個 concurrent.futures.Future 對象\n",
    "    # 第二步：調用 asyncio.wrap_future 將 concurrent.futures.Future 對象包裝為 asycio.Future 對象。\n",
    "    # 因為 concurrent.futures.Future 對象不支持 await 語法，所以需要包裝為 asycio.Future 對象才能使用。\n",
    "    fut = loop.run_in_executor(None, func1)\n",
    "    result = await fut\n",
    "    print('default thread pool', result)\n",
    "    # 2. Run in a custom thread pool:\n",
    "    # with concurrent.futures.ThreadPoolExecutor() as pool:\n",
    "    #     result = await loop.run_in_executor(\n",
    "    #         pool, func1)\n",
    "    #     print('custom thread pool', result)\n",
    "    # 3. Run in a custom process pool:\n",
    "    # with concurrent.futures.ProcessPoolExecutor() as pool:\n",
    "    #     result = await loop.run_in_executor(\n",
    "    #         pool, func1)\n",
    "    #     print('custom process pool', result)\n",
    "\n",
    "asyncio.run(main())"
   ]
  },
  {
   "cell_type": "raw",
   "id": "43c8ba95",
   "metadata": {},
   "source": [
    "應用場景：當項目以協程式的異步編程開發時，如果要使用一個第三方模塊，而第三方模塊不支持協程方式異步編程時，就需要用到這個功能，例如："
   ]
  },
  {
   "cell_type": "code",
   "execution_count": null,
   "id": "c0728cb9",
   "metadata": {},
   "outputs": [],
   "source": [
    "import asyncio\n",
    "import requests\n",
    "\n",
    "async def download_image(url):\n",
    "    # 發送網絡請求，下載圖片（遇到網絡下載圖片的IO請求，自動化切換到其他任務）\n",
    "    print(\"開始下載:\", url)\n",
    "    loop = asyncio.get_event_loop()\n",
    "    # requests模塊默認不支持異步操作，所以就使用線程池來配合實現了。\n",
    "    future = loop.run_in_executor(None, requests.get, url)\n",
    "    response = await future\n",
    "    print('下載完成')\n",
    "    # 圖片保存到本地文件\n",
    "    file_name = url.rsplit('_')[-1]\n",
    "    with open(file_name, mode='wb') as file_object:\n",
    "        file_object.write(response.content)\n",
    "        \n",
    "        \n",
    "if __name__ == '__main__':\n",
    "    url_list = [\n",
    "        'https://www3.autoimg.cn/newsdfs/g26/M02/35/A9/120x90_0_autohomecar__ChsEe12AXQ6AOOH_AAFocMs8nzU621.jpg',\n",
    "        'https://www2.autoimg.cn/newsdfs/g30/M01/3C/E2/120x90_0_autohomecar__ChcCSV2BBICAUntfAADjJFd6800429.jpg',\n",
    "        'https://www3.autoimg.cn/newsdfs/g26/M0B/3C/65/120x90_0_autohomecar__ChcCP12BFCmAIO83AAGq7vK0sGY193.jpg'\n",
    "    ]\n",
    "    tasks = [download_image(url) for url in url_list]\n",
    "    loop = asyncio.get_event_loop()\n",
    "    loop.run_until_complete( asyncio.wait(tasks) )"
   ]
  },
  {
   "cell_type": "markdown",
   "id": "bde8c1e6",
   "metadata": {},
   "source": [
    "### 異步叠代器"
   ]
  },
  {
   "cell_type": "raw",
   "id": "22f4f833",
   "metadata": {},
   "source": [
    "什麽是異步叠代器\n",
    "實現了 __aiter__() 和 __anext__() 方法的對象。__anext__ 必須返回一個 awaitable 對象。async for 會處理異步叠代器的 __anext__() 方法所返回的可等待對象，直到其引發一個 StopAsyncIteration 異常。由 PEP 492 引入。\n",
    "\n",
    "什麽是異步可叠代對象？\n",
    "可在 async for 語句中被使用的對象。必須通過它的 __aiter__() 方法返回一個 asynchronous iterator。由 PEP 492 引入。"
   ]
  },
  {
   "cell_type": "code",
   "execution_count": null,
   "id": "bdf809d6",
   "metadata": {},
   "outputs": [],
   "source": [
    "import asyncio\n",
    "\n",
    "class Reader(object):\n",
    "    \"\"\" 自定義異步叠代器（同時也是異步可叠代對象） \"\"\"\n",
    "    def __init__(self):\n",
    "        self.count = 0\n",
    "    async def readline(self):\n",
    "        # await asyncio.sleep(1)\n",
    "        self.count += 1\n",
    "        if self.count == 100:\n",
    "            return None\n",
    "        return self.count\n",
    "    def __aiter__(self):\n",
    "        return self\n",
    "    async def __anext__(self):\n",
    "        val = await self.readline()\n",
    "        if val == None:\n",
    "            raise StopAsyncIteration\n",
    "        return val\n",
    "\n",
    "async def func():\n",
    "    # 創建異步可叠代對象\n",
    "    async_iter = Reader()\n",
    "    # async for 必須要放在async def函數內，否則語法錯誤。\n",
    "    async for item in async_iter:\n",
    "        print(item)\n",
    "        \n",
    "asyncio.run(func())"
   ]
  },
  {
   "cell_type": "raw",
   "id": "ecc8fe54",
   "metadata": {},
   "source": [
    "異步叠代器其實沒什麽太大的作用，只是支持了async for語法而已。"
   ]
  },
  {
   "cell_type": "markdown",
   "id": "9af72530",
   "metadata": {},
   "source": [
    "### 異步上下文管理器"
   ]
  },
  {
   "cell_type": "raw",
   "id": "3f0bf5a5",
   "metadata": {},
   "source": [
    "此種對象通過定義 __aenter__() 和 __aexit__() 方法來對 async with 語句中的環境進行控制。由 PEP 492 引入。"
   ]
  },
  {
   "cell_type": "code",
   "execution_count": null,
   "id": "54aacdc4",
   "metadata": {},
   "outputs": [],
   "source": [
    "import asyncio\n",
    "\n",
    "class AsyncContextManager:\n",
    "    def __init__(self):\n",
    "        self.conn = None\n",
    "        \n",
    "    async def do_something(self):\n",
    "        # 異步操作數據庫\n",
    "        return 666\n",
    "    \n",
    "    async def __aenter__(self):\n",
    "        # 異步鏈接數據庫\n",
    "        self.conn = await asyncio.sleep(1)\n",
    "        return self\n",
    "    \n",
    "    async def __aexit__(self, exc_type, exc, tb):\n",
    "        # 異步關閉數據庫鏈接\n",
    "        await asyncio.sleep(1)\n",
    "        \n",
    "async def func():\n",
    "    async with AsyncContextManager() as f:\n",
    "        result = await f.do_something()\n",
    "        print(result)\n",
    "        \n",
    "asyncio.run(func())"
   ]
  },
  {
   "cell_type": "raw",
   "id": "49469e8b",
   "metadata": {},
   "source": [
    "這個異步的上下文管理器還是比較有用的，平時在開發過程中 打開、處理、關閉 操作時，就可以用這種方式來處理。"
   ]
  },
  {
   "cell_type": "markdown",
   "id": "21761dc1",
   "metadata": {},
   "source": [
    "### 小結"
   ]
  },
  {
   "cell_type": "raw",
   "id": "31449369",
   "metadata": {},
   "source": [
    "在程序中只要看到 async 和 await 關鍵字，其內部就是基於協程實現的異步編程，這種異步編程是通過一個線程在 IO 等待時間去執行其他任務，從而實現並發。以上就是異步編程的常見操作，內容參考官方文檔。"
   ]
  },
  {
   "cell_type": "markdown",
   "id": "27ff0312",
   "metadata": {},
   "source": [
    "中文版：https://docs.python.org/zh-cn/3.8/library/asyncio.html <br>\n",
    "英文本：https://docs.python.org/3.8/library/asyncio.html"
   ]
  },
  {
   "cell_type": "markdown",
   "id": "1194cb02",
   "metadata": {},
   "source": [
    "# uvloop"
   ]
  },
  {
   "cell_type": "raw",
   "id": "e23beb94",
   "metadata": {},
   "source": [
    "Python 標準庫中提供了 asyncio 模塊，用於支持基於協程的異步編程。\n",
    "uvloop 是 asyncio 中的事件循環的替代方案，替換後可以使得 asyncio 性能提高。事實上，uvloop 要比 nodejs、gevent 等其他 python 異步框架至少要快 2 倍，性能可以比肩 Go 語言。\n",
    "\n",
    "首先安裝 uvloop (pip3 install uvloop)"
   ]
  },
  {
   "cell_type": "code",
   "execution_count": null,
   "id": "580fd09a",
   "metadata": {},
   "outputs": [],
   "source": [
    "在項目中想要使用 uvloop 替換 asyncio 的事件循環也非常簡單，只要在代碼中這麽做就行。"
   ]
  },
  {
   "cell_type": "code",
   "execution_count": null,
   "id": "131bf94e",
   "metadata": {},
   "outputs": [],
   "source": [
    "import asyncio\n",
    "import uvloop\n",
    "\n",
    "asyncio.set_event_loop_policy(uvloop.EventLoopPolicy())\n",
    "# 編寫asyncio的代碼，與之前寫的代碼一致。\n",
    "# 內部的事件循環自動化會變為uvloop\n",
    "asyncio.run(...)"
   ]
  },
  {
   "cell_type": "raw",
   "id": "8d21d688",
   "metadata": {},
   "source": [
    "注意：知名的 asgi uvicorn 內部就是使用 uvloop 的事件循環。"
   ]
  },
  {
   "cell_type": "markdown",
   "id": "ce2a8898",
   "metadata": {},
   "source": [
    "# 實戰案例"
   ]
  },
  {
   "cell_type": "raw",
   "id": "58c43a23",
   "metadata": {},
   "source": [
    "為了更好理解，上述所有範例的 IO 情況都是以 asyncio.sleep 為例，而真實的項目開發中會用到很多 IO 的情況。"
   ]
  },
  {
   "cell_type": "markdown",
   "id": "ecc71844",
   "metadata": {},
   "source": [
    "### 異步Redis"
   ]
  },
  {
   "cell_type": "raw",
   "id": "71784946",
   "metadata": {},
   "source": [
    "當通過 python 去操作 redis 時，鏈接、設置值、獲取值 這些都涉及網絡 IO 請求，使用 asycio 異步的方式可以在 IO 等待時去做一些其他任務，從而提升性能。\n",
    "\n",
    "首先安裝 Python 異步操作 redis 模塊 (pip3 install aioredis)"
   ]
  },
  {
   "cell_type": "markdown",
   "id": "f7dec969",
   "metadata": {},
   "source": [
    "#### 範例1：異步操作redis"
   ]
  },
  {
   "cell_type": "code",
   "execution_count": null,
   "id": "6acca01c",
   "metadata": {},
   "outputs": [],
   "source": [
    "#!/usr/bin/env python\n",
    "# -*- coding:utf-8 -*-\n",
    "import asyncio\n",
    "import aioredis\n",
    "\n",
    "async def execute(address, password):\n",
    "    print(\"開始執行\", address)\n",
    "    # 網絡IO操作：創建redis連接\n",
    "    redis = await aioredis.create_redis(address, password=password)\n",
    "    # 網絡IO操作：在redis中設置哈希值car，內部在設三個鍵值對，即： redis = { car:{key1:1,key2:2,key3:3}}\n",
    "    await redis.hmset_dict('car', key1=1, key2=2, key3=3)\n",
    "    # 網絡IO操作：去redis中獲取值\n",
    "    result = await redis.hgetall('car', encoding='utf-8')\n",
    "    print(result)\n",
    "    redis.close()\n",
    "    # 網絡IO操作：關閉redis連接\n",
    "    await redis.wait_closed()\n",
    "    print(\"結束\", address)\n",
    "    \n",
    "asyncio.run(execute('redis://47.93.4.198:6379', \"root!2345\"))"
   ]
  },
  {
   "cell_type": "markdown",
   "id": "0bdc6eae",
   "metadata": {},
   "source": [
    "#### 範例2：連接多個 redis 做操作（遇到 IO 會切換其他任務，提供了性能）"
   ]
  },
  {
   "cell_type": "code",
   "execution_count": null,
   "id": "2ca034e5",
   "metadata": {},
   "outputs": [],
   "source": [
    "import asyncio\n",
    "import aioredis\n",
    "\n",
    "async def execute(address, password):\n",
    "    print(\"開始執行\", address)\n",
    "    # 網絡 IO 操作：先去連接 47.93.4.197:6379，遇到 IO 則自動切換任務，去連接 47.93.4.198:6379\n",
    "    redis = await aioredis.create_redis_pool(address, password=password)\n",
    "    # 網絡 IO 操作：遇到 IO 會自動切換任務\n",
    "    await redis.hmset_dict('car', key1=1, key2=2, key3=3)\n",
    "    # 網絡 IO 操作：遇到 IO 會自動切換任務\n",
    "    result = await redis.hgetall('car', encoding='utf-8')\n",
    "    print(result)\n",
    "    redis.close()\n",
    "    # 網絡 IO 操作：遇到 IO 會自動切換任務\n",
    "    await redis.wait_closed()\n",
    "    print(\"結束\", address)\n",
    "    \n",
    "task_list = [\n",
    "    execute('redis://47.93.4.197:6379', \"root!2345\"),\n",
    "    execute('redis://47.93.4.198:6379', \"root!2345\")\n",
    "]\n",
    "asyncio.run(asyncio.wait(task_list))"
   ]
  },
  {
   "cell_type": "markdown",
   "id": "e372aea1",
   "metadata": {},
   "source": [
    "更多 redis 操作參考 aioredis 官網：https://aioredis.readthedocs.io/en/v1.3.0/start.html"
   ]
  },
  {
   "cell_type": "markdown",
   "id": "657d7e15",
   "metadata": {},
   "source": [
    "### 異步MySQL"
   ]
  },
  {
   "cell_type": "raw",
   "id": "a48b217c",
   "metadata": {},
   "source": [
    "當通過 python 去操作 MySQL 時，連接、執行 SQL、關閉都涉及網絡 IO 請求，使用 asycio 異步的方式可以在 IO 等待時去做一些其他任務，從而提升性能。\n",
    "\n",
    "首先安裝 Python 異步操作 MySQL 模塊 (pip3 install aiomysql)"
   ]
  },
  {
   "cell_type": "markdown",
   "id": "0a2ce3cc",
   "metadata": {},
   "source": [
    "#### 範例1："
   ]
  },
  {
   "cell_type": "code",
   "execution_count": null,
   "id": "ed67ab8f",
   "metadata": {},
   "outputs": [],
   "source": [
    "import asyncio\n",
    "import aiomysql\n",
    "\n",
    "async def execute():\n",
    "    # 網絡IO操作：連接MySQL\n",
    "    conn = await aiomysql.connect(host='127.0.0.1', port=3306, user='root', password='123', db='mysql', )\n",
    "    # 網絡IO操作：創建CURSOR\n",
    "    cur = await conn.cursor()\n",
    "    # 網絡IO操作：執行SQL\n",
    "    await cur.execute(\"SELECT Host,User FROM user\")\n",
    "    # 網絡IO操作：獲取SQL結果\n",
    "    result = await cur.fetchall()\n",
    "    print(result)\n",
    "    # 網絡IO操作：關閉鏈接\n",
    "    await cur.close()\n",
    "    conn.close()\n",
    "    \n",
    "asyncio.run(execute())"
   ]
  },
  {
   "cell_type": "markdown",
   "id": "68708685",
   "metadata": {},
   "source": [
    "#### 範例02"
   ]
  },
  {
   "cell_type": "code",
   "execution_count": null,
   "id": "c9b62819",
   "metadata": {},
   "outputs": [],
   "source": [
    "#!/usr/bin/env python\n",
    "# -*- coding:utf-8 -*-\n",
    "import asyncio\n",
    "import aiomysql\n",
    "\n",
    "async def execute(host, password):\n",
    "    print(\"開始\", host)\n",
    "    # 網絡IO操作：先去連接 47.93.40.197，遇到IO則自動切換任務，去連接47.93.40.198:6379\n",
    "    conn = await aiomysql.connect(host=host, port=3306, user='root', password=password, db='mysql')\n",
    "    # 網絡IO操作：遇到IO會自動切換任務\n",
    "    cur = await conn.cursor()\n",
    "    # 網絡IO操作：遇到IO會自動切換任務\n",
    "    await cur.execute(\"SELECT Host,User FROM user\")\n",
    "    # 網絡IO操作：遇到IO會自動切換任務\n",
    "    result = await cur.fetchall()\n",
    "    print(result)\n",
    "    # 網絡IO操作：遇到IO會自動切換任務\n",
    "    await cur.close()\n",
    "    conn.close()\n",
    "    print(\"結束\", host)\n",
    "    \n",
    "task_list = [\n",
    "    execute('47.93.40.197', \"root!2345\"),\n",
    "    execute('47.93.40.197', \"root!2345\")\n",
    "]\n",
    "\n",
    "asyncio.run(asyncio.wait(task_list))"
   ]
  },
  {
   "cell_type": "markdown",
   "id": "58cd31ea",
   "metadata": {},
   "source": [
    "### 爬蟲"
   ]
  },
  {
   "cell_type": "raw",
   "id": "8a0ab7e5",
   "metadata": {},
   "source": [
    "在編寫爬蟲應用時，需要通過網絡 IO 去請求目標數據，這種情況適合使用異步編程來提升性能，接下來我們使用支持異步編程的 aiohttp 模塊來實現。\n",
    "\n",
    "首先安裝 aiohttp 模塊 (pip3 install aiohttp )"
   ]
  },
  {
   "cell_type": "code",
   "execution_count": null,
   "id": "b100cc0c",
   "metadata": {},
   "outputs": [],
   "source": [
    "import aiohttp\n",
    "import asyncio\n",
    "\n",
    "async def fetch(session, url):\n",
    "    print(\"發送請求：\", url)\n",
    "    async with session.get(url, verify_ssl=False) as response:\n",
    "        text = await response.text()\n",
    "        print(\"得到結果：\", url, len(text))\n",
    "        \n",
    "async def main():\n",
    "    async with aiohttp.ClientSession() as session:\n",
    "        url_list = [\n",
    "            'https://python.org',\n",
    "            'https://www.baidu.com',\n",
    "            'https://www.pythonav.com'\n",
    "        ]\n",
    "        \n",
    "        tasks = [asyncio.create_task(fetch(session, url)) for url in url_list]\n",
    "        await asyncio.wait(tasks)\n",
    "        \n",
    "if __name__ == '__main__':\n",
    "    asyncio.run(main())"
   ]
  },
  {
   "cell_type": "markdown",
   "id": "b7ac803e",
   "metadata": {},
   "source": [
    "# 總結"
   ]
  },
  {
   "cell_type": "markdown",
   "id": "31688bf5",
   "metadata": {},
   "source": [
    "為了提升性能越來越多的框架都在向異步編程靠攏，例如：sanic、tornado、django3.0、django channels 組件 等，用更少資源可以做處理更多的事，何樂而不為呢。"
   ]
  }
 ],
 "metadata": {
  "kernelspec": {
   "display_name": "Python 3",
   "language": "python",
   "name": "python3"
  },
  "language_info": {
   "codemirror_mode": {
    "name": "ipython",
    "version": 3
   },
   "file_extension": ".py",
   "mimetype": "text/x-python",
   "name": "python",
   "nbconvert_exporter": "python",
   "pygments_lexer": "ipython3",
   "version": "3.8.10"
  }
 },
 "nbformat": 4,
 "nbformat_minor": 5
}
