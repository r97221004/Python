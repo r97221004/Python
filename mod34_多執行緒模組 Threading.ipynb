{
 "cells": [
  {
   "cell_type": "markdown",
   "id": "cc9a66df",
   "metadata": {},
   "source": [
    "# 介紹"
   ]
  },
  {
   "cell_type": "raw",
   "id": "f2a76bd1",
   "metadata": {},
   "source": [
    "本篇介紹如何在 Python 中使用 threading 模組，撰寫多執行緒的平行計算程式，利用多顆 CPU 核心加速運算。現在電腦的 CPU 都有許多的核心，若想要讓程式可以運用多顆 CPU 核心，充分發揮硬體的運算能力，就必須考慮使用多執行緒（multithreading）或多行程（multiprocessing）等平行化的技術，以下介紹 Python 的多執行緒的程式設計方法與技巧。"
   ]
  },
  {
   "cell_type": "raw",
   "id": "ed93c2be",
   "metadata": {},
   "source": [
    "在 Python 中若要撰寫多執行緒（multithreading）的平行化程式，最基本的方式是使用 threading 這個模組來建立子執行緒。threading 是 Python 標準函式庫裡面的模組，所以不用特別安裝即可使用，雖然功能不是很多，但是基本多執行緒程式設計常用的功能它都有，對於比較單純的平行化工作來說，還算滿實用了。"
   ]
  },
  {
   "cell_type": "markdown",
   "id": "3844e577",
   "metadata": {},
   "source": [
    "# 概念"
   ]
  },
  {
   "cell_type": "raw",
   "id": "c761252f",
   "metadata": {},
   "source": [
    "- 執行緒：CPU 執行程式的基本單位\n",
    "- 父執行緒：與子執行緒而言是相對的。呼叫別的執行緒的程式（執行緒叫做父執行緒）\n",
    "- 子執行緒：被別的程式所呼叫，則是呼叫者的子執行緒\n",
    "- 守護程式：也稱之為後臺程式，即主程式（前臺程式）結束，守護程式也結束\n",
    "- 主執行緒：最外層的執行緒（最初執行的程式）"
   ]
  },
  {
   "cell_type": "markdown",
   "id": "6e308e05",
   "metadata": {},
   "source": [
    "##### Thread(target=None, name=None, args=(), daemon=None)"
   ]
  },
  {
   "cell_type": "raw",
   "id": "6a2db4e3",
   "metadata": {},
   "source": [
    "以上為比較常用的引數，不是所有引數，詳細引數可參考官網教程。\n",
    "- target 是指明該執行緒執行的函式名\n",
    "- name 是我們給該執行緒取的名稱\n",
    "- args 是呼叫該函式需要傳遞的引數元組，末尾加逗號\n",
    "- daemon 設定該執行緒是否為守護執行緒\n",
    "\n",
    "- start()\n",
    "表示啟動執行緒，讓其開始工作。該方法每個物件只能夠呼叫一次，否則丟擲RuntimeError，它安排物件的 run() 方法在一個獨立的控制程式中呼叫。\n",
    "\n",
    "- run()\n",
    "執行target傳遞過去的函式\n",
    "\n",
    "- join(timeout=None)\n",
    "這個會阻塞呼叫該執行緒的執行緒，如果子執行緒呼叫該方法，主執行緒就算將自己的程式執行完也不會結束，而是會等到這個子執行緒執行完再結束。\n",
    "\n",
    "- setName() 和 getName() 分別是設定名字和獲取名字\n",
    "\n",
    "- isDaemon() 和 setDaemon() 分別是判斷是否是守護程式和設定守護程式"
   ]
  },
  {
   "cell_type": "markdown",
   "id": "50bd5c75",
   "metadata": {},
   "source": [
    "# 建立子執行緒"
   ]
  },
  {
   "cell_type": "raw",
   "id": "88bc88f9",
   "metadata": {},
   "source": [
    "在這個例子中，我們先定義一個要讓子執行緒執行的 job 函數，接著使用 threading.Thread 建立一個新的子執行緒，其 target 參數就指定為要讓子執行緒執行的函數（也就是 job）。建立好新的執行緒之後，即可呼叫執行緒的 start 函數，讓它開始執行，在子執行緒執行的同時，我們還是可以在主程式中繼續處理其他的工作。如果有些工作是要等待子執行緒執行完成後才能處理的話，可以使用執行緒的 join 函數，等待該執行緒執行結束，也就是說放在 join 之後的程式碼就會等到子執行緒執行完成後，才會接著執行。"
   ]
  },
  {
   "cell_type": "raw",
   "id": "ac62644d",
   "metadata": {},
   "source": [
    "這裡的子執行緒會執行 5 秒，但是主程式中的迴圈只要 3 秒就結束了，所以主程式會在 join 的地方等待 2 秒鐘，等到子執行緒結束之後，才會輸出 Done. 這一行訊息。"
   ]
  },
  {
   "cell_type": "code",
   "execution_count": null,
   "id": "473cd096",
   "metadata": {},
   "outputs": [],
   "source": [
    "import threading\n",
    "import time\n",
    "\n",
    "# 子執行緒的工作函數\n",
    "def job():\n",
    "  for i in range(5):\n",
    "    print(\"Child thread:\", i)\n",
    "    time.sleep(1)\n",
    "\n",
    "# 建立一個子執行緒\n",
    "t = threading.Thread(target = job)\n",
    "\n",
    "# 執行該子執行緒\n",
    "t.start()\n",
    "\n",
    "# 主執行緒繼續執行自己的工作\n",
    "for i in range(3):\n",
    "  print(\"Main thread:\", i)\n",
    "  time.sleep(1)\n",
    "\n",
    "# 等待 t 這個子執行緒結束\n",
    "t.join()\n",
    "\n",
    "print(\"Done.\")"
   ]
  },
  {
   "cell_type": "markdown",
   "id": "ed7fbcbd",
   "metadata": {},
   "source": [
    "# 多個子執行緒與參數"
   ]
  },
  {
   "cell_type": "raw",
   "id": "1658ca70",
   "metadata": {},
   "source": [
    "通常我們在撰寫平行化的程式時，都會使用多個子執行緒，並且傳入不同的參數，讓個子執行緒各自負責不同的工作，這時候就可以在建立子執行緒時，使用 args 參數指定要傳數的參數。以下是一個簡單的範例："
   ]
  },
  {
   "cell_type": "raw",
   "id": "db9395ae",
   "metadata": {},
   "source": [
    "在這個例子中，我們讓子執行緒執行的 job 函數會接受一個 num 參數，依據這個參數來決定要處理什麼工作，然後在呼叫 threading.Thread 建立子執行緒時，將要傳入的參數放在 args 參數中，這樣就可以把資料傳進子執行緒的 job 函數中了。執行之後的結果如下："
   ]
  },
  {
   "cell_type": "code",
   "execution_count": null,
   "id": "b8c5488d",
   "metadata": {},
   "outputs": [],
   "source": [
    "import threading\n",
    "import time\n",
    "\n",
    "# 子執行緒的工作函數\n",
    "def job(num):\n",
    "  print(\"Thread\", num)\n",
    "  time.sleep(1)\n",
    "\n",
    "# 建立 5 個子執行緒\n",
    "threads = []\n",
    "for i in range(5):\n",
    "  threads.append(threading.Thread(target = job, args = (i,)))\n",
    "  threads[i].start()\n",
    "\n",
    "# 主執行緒繼續執行自己的工作\n",
    "# ...\n",
    "\n",
    "# 等待所有子執行緒結束\n",
    "for i in range(5):\n",
    "  threads[i].join()\n",
    "\n",
    "print(\"Done.\")"
   ]
  },
  {
   "cell_type": "markdown",
   "id": "af51b421",
   "metadata": {},
   "source": [
    "# 物件導向"
   ]
  },
  {
   "cell_type": "raw",
   "id": "a7c013b8",
   "metadata": {},
   "source": [
    "我們也可以使用 Python 物件導向的方式來改寫 threading 的多執行緒程式，以下是一個簡單的範例："
   ]
  },
  {
   "cell_type": "raw",
   "id": "1b40e4d7",
   "metadata": {},
   "source": [
    "這個範例大致上的觀念都跟前面差不多，比較需要注意的地方就是 threading.Thread 在開始執行時，會呼叫它自己的 run 方法函數，這個方法函數預設會呼叫前面我們以 target 參數所指定的函數，在這裡我們在繼承 threading.Thread 類別之後，就直接把 run 覆寫成要執行的函數即可。"
   ]
  },
  {
   "cell_type": "code",
   "execution_count": null,
   "id": "b3ab027d",
   "metadata": {},
   "outputs": [],
   "source": [
    "import threading\n",
    "import time\n",
    "\n",
    "# 子執行緒類別\n",
    "class MyThread(threading.Thread):\n",
    "  def __init__(self, num):\n",
    "    threading.Thread.__init__(self)\n",
    "    self.num = num\n",
    "\n",
    "  def run(self):\n",
    "    print(\"Thread\", self.num)\n",
    "    time.sleep(1)\n",
    "\n",
    "# 建立 5 個子執行緒\n",
    "threads = []\n",
    "for i in range(5):\n",
    "  threads.append(MyThread(i))\n",
    "  threads[i].start()\n",
    "\n",
    "# 主執行緒繼續執行自己的工作\n",
    "# ...\n",
    "\n",
    "# 等待所有子執行緒結束\n",
    "for i in range(5):\n",
    "  threads[i].join()\n",
    "\n",
    "print(\"Done.\")"
   ]
  },
  {
   "cell_type": "markdown",
   "id": "d20e4b8d",
   "metadata": {},
   "source": [
    "# Lock 執行緒鎖"
   ]
  },
  {
   "cell_type": "raw",
   "id": "b2b02182",
   "metadata": {},
   "source": [
    "多執行緒和多程序最大的不同在於多程序中，同一個變數各自有一份拷貝存在於每個程序中，互不影響。而多執行緒中，所有變數都由所有執行緒共享，所以任何一個變數都可以被任何一個執行緒修改。因此執行緒之間共享資料最大的危險在於多個執行緒同時改一個變數，把內容給改亂了。\n",
    "\n",
    "來看看多個執行緒同時操作一個變數怎麼把內容給改亂了："
   ]
  },
  {
   "cell_type": "code",
   "execution_count": null,
   "id": "abf6e76f",
   "metadata": {},
   "outputs": [],
   "source": [
    "import time, threading\n",
    "\n",
    "# 假定這是你的銀行存款:\n",
    "balance = 0\n",
    "\n",
    "def change_it(n):\n",
    "    # 先存後取，結果應該為 0:\n",
    "    global balance\n",
    "    balance = balance + n\n",
    "    balance = balance - n\n",
    "\n",
    "def run_thread(n):\n",
    "    for i in range(100000):\n",
    "        change_it(n)\n",
    "\n",
    "t1 = threading.Thread(target=run_thread, args=(5,))\n",
    "t2 = threading.Thread(target=run_thread, args=(8,))\n",
    "t1.start()\n",
    "t2.start()\n",
    "t1.join()\n",
    "t2.join()\n",
    "print(balance)"
   ]
  },
  {
   "cell_type": "raw",
   "id": "f37e043a",
   "metadata": {},
   "source": [
    "我們定義了一個共享變數 balance，初始值為 0，並且啟動兩個執行緒，先存後取，理論上結果應該為 0，但是，由於執行緒的排程是由作業系統決定的，當 t1、t2 交替執行時，只要迴圈次數足夠多，balance 的結果就不一定是 0 了。\n",
    "\n",
    "原因是因為高階語言的一條語句在 CPU 執行時是若干條語句，即使一個簡單的計算：\n",
    "\n",
    "balance = balance + n\n",
    "\n",
    "也分兩步：\n",
    "\n",
    "計算 balance + n，存入臨時變數中，然後將臨時變數的值賦給 balance。\n",
    "\n",
    "也就是可以看成：\n",
    "\n",
    "x = balance + n\n",
    "balance = x\n",
    "\n",
    "由於 x 是區域性變數，兩個執行緒各自都有自己的 x，當代碼正常執行時：\n",
    "\n",
    "初始值 balance = 0\n",
    "\n",
    "t1: x1 = balance + 5 # x1 = 0 + 5 = 5\n",
    "t1: balance = x1     # balance = 5\n",
    "t1: x1 = balance - 5 # x1 = 5 - 5 = 0\n",
    "t1: balance = x1     # balance = 0\n",
    "\n",
    "t2: x2 = balance + 8 # x2 = 0 + 8 = 8\n",
    "t2: balance = x2     # balance = 8\n",
    "t2: x2 = balance - 8 # x2 = 8 - 8 = 0\n",
    "t2: balance = x2     # balance = 0\n",
    "\n",
    "結果 balance = 0\n",
    "\n",
    "但是 t1 和 t2 是交替執行的，如果作業系統以下面的順序執行 t1、t2：\n",
    "\n",
    "初始值 balance = 0\n",
    "\n",
    "t1: x1 = balance + 5  # x1 = 0 + 5 = 5\n",
    "\n",
    "t2: x2 = balance + 8  # x2 = 0 + 8 = 8\n",
    "t2: balance = x2      # balance = 8\n",
    "\n",
    "t1: balance = x1      # balance = 5\n",
    "t1: x1 = balance - 5  # x1 = 5 - 5 = 0\n",
    "t1: balance = x1      # balance = 0\n",
    "\n",
    "t2: x2 = balance - 8  # x2 = 0 - 8 = -8\n",
    "t2: balance = x2   # balance = -8\n",
    "\n",
    "結果 balance = - 8\n",
    "\n",
    "究其原因，是因為修改balance需要多條語句，而執行這幾條語句時，執行緒可能中斷，從而導致多個執行緒把同一個物件的內容改亂了。"
   ]
  },
  {
   "cell_type": "raw",
   "id": "4431572e",
   "metadata": {},
   "source": [
    "兩個執行緒同時一存一取，就可能導致餘額不對，你肯定不希望你的銀行存款莫名其妙地變成了負數，所以，我們必須確保一個執行緒在修改 balance 的時候，別的執行緒一定不能改。如果我們要確保 balance 計算正確，就要給 change_it() 上一把鎖，當某個執行緒開始執行 change_it() 時，我們說，該執行緒因為獲得了鎖，因此其他執行緒不能同時執行 change_it()，只能等待，直到鎖被釋放後，獲得該鎖以後才能改。由於鎖只有一個，無論多少執行緒，同一時刻最多只有一個執行緒持有該鎖，所以，不會造成修改的衝突。建立一個鎖就是通過 threading.Lock() 來實現："
   ]
  },
  {
   "cell_type": "code",
   "execution_count": null,
   "id": "84abdb0f",
   "metadata": {},
   "outputs": [],
   "source": [
    "import time, threading\n",
    "\n",
    "# 假定這是你的銀行存款:\n",
    "balance = 0\n",
    "lock = threading.Lock()\n",
    "\n",
    "def change_it(n):\n",
    "    # 先存後取，結果應該為 0:\n",
    "    global balance\n",
    "    balance = balance + n\n",
    "    balance = balance - n\n",
    "\n",
    "def run_thread(n):\n",
    "    for i in range(100000):\n",
    "        # 先要獲取鎖:\n",
    "        lock.acquire()\n",
    "        try:\n",
    "            # 放心地改吧:\n",
    "            change_it(n)\n",
    "        finally:\n",
    "            # 改完了一定要釋放鎖:\n",
    "            lock.release()\n",
    "\n",
    "t1 = threading.Thread(target=run_thread, args=(5,))\n",
    "t2 = threading.Thread(target=run_thread, args=(8,))\n",
    "t1.start()\n",
    "t2.start()\n",
    "t1.join()\n",
    "t2.join()\n",
    "print(balance)"
   ]
  },
  {
   "cell_type": "raw",
   "id": "452f819f",
   "metadata": {},
   "source": [
    "當多個執行緒同時執行 lock.acquire() 時，只有一個執行緒能成功地獲取鎖，然後繼續執行程式碼，其他執行緒就繼續等待直到獲得鎖為止。獲得鎖的執行緒用完後一定要釋放鎖，否則那些苦苦等待鎖的執行緒將永遠等待下去，成為死執行緒。所以我們用 try...finally 來確保鎖一定會被釋放。\n",
    "\n",
    "鎖的好處就是確保了某段關鍵程式碼只能由一個執行緒從頭到尾完整地執行，壞處當然也很多，首先是阻止了多執行緒併發執行，包含鎖的某段程式碼實際上只能以單執行緒模式執行，效率就大大地下降了。其次，由於可以存在多個鎖，不同的執行緒持有不同的鎖，並試圖獲取對方持有的鎖時，可能會造成死鎖，導致多個執行緒全部掛起，既不能執行，也無法結束，只能靠作業系統強制終止。"
   ]
  }
 ],
 "metadata": {
  "kernelspec": {
   "display_name": "Python 3",
   "language": "python",
   "name": "python3"
  },
  "language_info": {
   "codemirror_mode": {
    "name": "ipython",
    "version": 3
   },
   "file_extension": ".py",
   "mimetype": "text/x-python",
   "name": "python",
   "nbconvert_exporter": "python",
   "pygments_lexer": "ipython3",
   "version": "3.8.10"
  }
 },
 "nbformat": 4,
 "nbformat_minor": 5
}
