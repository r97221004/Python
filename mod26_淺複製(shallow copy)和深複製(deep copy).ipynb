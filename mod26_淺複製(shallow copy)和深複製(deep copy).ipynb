{
 "cells": [
  {
   "cell_type": "markdown",
   "id": "1a17fc7f",
   "metadata": {},
   "source": [
    "文章連結: https://www.796t.com/content/1544614591.html"
   ]
  },
  {
   "cell_type": "markdown",
   "id": "19080001",
   "metadata": {},
   "source": [
    "# python值管理方式"
   ]
  },
  {
   "cell_type": "raw",
   "id": "58cc3b7f",
   "metadata": {},
   "source": [
    "這本質原因是 python 採用的是基於值的管理方式，而 C 語言中，系統會為每個變數分配記憶體空間，當改變變數的值時，改變的是記憶體空間中的值，變數的地址是不改變的。基於值的管理方式是什麼意思呢？ 來看一個例子："
   ]
  },
  {
   "cell_type": "code",
   "execution_count": 1,
   "id": "3e799023",
   "metadata": {},
   "outputs": [
    {
     "name": "stdout",
     "output_type": "stream",
     "text": [
      "a:  [1, 2] id(a):  2294315497280\n",
      "b:  [1, 2] id(a):  2294315497280\n"
     ]
    }
   ],
   "source": [
    "a = [1,2]\n",
    "b = a\n",
    "print ('a: ', a, 'id(a): ', id(a))\n",
    "print ('b: ', b, 'id(a): ', id(b))"
   ]
  },
  {
   "cell_type": "raw",
   "id": "4483fe45",
   "metadata": {},
   "source": [
    "可以發現 a 和 b 的記憶體地址相同，也就是說，a 和 b 是完全相同的，b 只是 a 的一個引用(也就是一個別名)\n",
    "例如，帝都=北京，帝都就指的是北京這座城市，是完全相同的物理存在。這就是 python 的基於值的管理。"
   ]
  },
  {
   "cell_type": "markdown",
   "id": "be13ec12",
   "metadata": {},
   "source": [
    "---"
   ]
  },
  {
   "cell_type": "raw",
   "id": "9a8b61ad",
   "metadata": {},
   "source": [
    "當我們採用 “=” 對引數進行賦值的時候，其實就是一個引用，若對引用進行了修改，原始引數也將被改變，這是我們在開發過程中很容易忽略的，也會導致我們的資料被意外修改，導致奇怪的bug。請看例子："
   ]
  },
  {
   "cell_type": "code",
   "execution_count": 3,
   "id": "4cf578ac",
   "metadata": {},
   "outputs": [
    {
     "name": "stdout",
     "output_type": "stream",
     "text": [
      "a:  [1, 2, 3] id(a):  2294315502528\n",
      "b:  [1, 2, 3] id(a):  2294315502528\n"
     ]
    }
   ],
   "source": [
    "a = [1,2]\n",
    "b = a\n",
    "b.append(3)\n",
    "print ('a: ', a, 'id(a): ', id(a))\n",
    "print ('b: ', b, 'id(a): ', id(b))"
   ]
  },
  {
   "cell_type": "raw",
   "id": "b16346ce",
   "metadata": {},
   "source": [
    "可以看到，對 b 進行了增加一個元素，同時地，a 也被修改了。\n",
    "\n",
    "通過以上兩個小例子可以瞭解 python 值的管理方式，以及知道 \"=\" 賦值的本質。那麼當我們想複製出一個完全獨立於原始變數的變數，應該怎麼做呢？這就需要淺複製(shallow copy) 和 深複製(deep copy)。"
   ]
  },
  {
   "cell_type": "markdown",
   "id": "af0b4262",
   "metadata": {},
   "source": [
    "# 深複製與淺複製的使用及區別"
   ]
  },
  {
   "cell_type": "raw",
   "id": "daad4635",
   "metadata": {},
   "source": [
    "在模組 copy 中有 deepcopy 方法用於深複製，copy 方法用於淺複製。深複製和淺複製到區別，在於複製的物件中是否有可變型別，aha？，可變型別是什麼？簡單複習一下，python 中\n",
    "\n",
    "可變型別有：列表，字典\n",
    "不可變型別有：數字，字串，元組\n",
    "\n",
    "為了循序漸進，這裡分兩個例子講解"
   ]
  },
  {
   "cell_type": "markdown",
   "id": "4d32a2fc",
   "metadata": {},
   "source": [
    "### 範例01"
   ]
  },
  {
   "cell_type": "code",
   "execution_count": 6,
   "id": "cd6a6629",
   "metadata": {},
   "outputs": [
    {
     "name": "stdout",
     "output_type": "stream",
     "text": [
      "a:                [4, [2, 3]] id(a):              2294331032448\n",
      "a_equal:          [4, [2, 3]] id(a_equal):        2294331032448\n",
      "a_shallowcopy:    [1, [2, 3]] id(a_shallowcopy):  2294331032192\n",
      "a_deepcopy:       [1, [2, 3]] id(a_deepcopy):     2294331031168\n"
     ]
    }
   ],
   "source": [
    "import copy\n",
    "\n",
    "a = [1, [2, 3]]\n",
    "a_equal = a\n",
    "a_shallowcopy = copy.copy(a)\n",
    "a_deepcopy = copy.deepcopy(a)\n",
    "\n",
    "a[0] = 4    # 改變 a 中的第一個元素，即改變 a 中的數字\n",
    "\n",
    "print('a:               ', a,       'id(a):             ', id(a))\n",
    "print('a_equal:         ', a_equal, 'id(a_equal):       ', id(a_equal))\n",
    "print('a_shallowcopy:   ', a_shallowcopy, 'id(a_shallowcopy): ', id(a_shallowcopy))\n",
    "print('a_deepcopy:      ', a_deepcopy, 'id(a_deepcopy):    ', id(a_deepcopy))"
   ]
  },
  {
   "cell_type": "raw",
   "id": "1bdf6d51",
   "metadata": {},
   "source": [
    "可以發現：\n",
    "\n",
    "= 賦值：對於修改，受到影響，地址相同\n",
    "淺複製：對於修改，不受影響，地址不相同\n",
    "深複製：對於修改，不受影響，地址不相同\n",
    "\n",
    "這麼一看，深複製和淺複製完全一樣啊，哪裡有區別？還記得上面說的可變型別嗎？ 剛一看剛剛改變 list a 當中的第一個元素，是一個數字吧。\n",
    "數字是不可變型別，所以我們在修改不可變型別時，深複製和淺複製沒有區別。那當我們改變 a 當中第二個元素，即 list 呢，會怎麼樣，請看例子2:"
   ]
  },
  {
   "cell_type": "markdown",
   "id": "aa6b293e",
   "metadata": {},
   "source": [
    "### 範例02"
   ]
  },
  {
   "cell_type": "code",
   "execution_count": 7,
   "id": "adaec86c",
   "metadata": {},
   "outputs": [
    {
     "name": "stdout",
     "output_type": "stream",
     "text": [
      "a:                [4, [2, 5]] id(a):              2294331031360\n",
      "a_equal:          [4, [2, 5]] id(a_equal):        2294331031360\n",
      "a_shallowcopy:    [1, [2, 5]] id(a_shallowcopy):  2294331031040\n",
      "a_deepcopy:       [1, [2, 3]] id(a_deepcopy):     2294331044608\n"
     ]
    }
   ],
   "source": [
    "a = [1, [2, 3]]\n",
    "a_equal = a\n",
    "a_shallowcopy = copy.copy(a)\n",
    "a_deepcopy = copy.deepcopy(a)\n",
    "\n",
    "a[0] = 4    # 改變 a 中的第一個元素，即改變 a 中的數字\n",
    "a[1][1] = 5     # 改變 a 當中第二個元素中的元素，即 改變 a 當中的 list\n",
    "\n",
    "print('a:               ', a,       'id(a):             ', id(a))\n",
    "print('a_equal:         ', a_equal, 'id(a_equal):       ', id(a_equal))\n",
    "print('a_shallowcopy:   ', a_shallowcopy, 'id(a_shallowcopy): ', id(a_shallowcopy))\n",
    "print('a_deepcopy:      ', a_deepcopy, 'id(a_deepcopy):    ', id(a_deepcopy))"
   ]
  },
  {
   "cell_type": "raw",
   "id": "98567a04",
   "metadata": {},
   "source": [
    "可以發現：\n",
    "\n",
    "= 賦值：對於修改，受到影響，地址相同\n",
    "淺複製：對於不變型別的修改，不受影響；對於可變型別的修改，受影響，地址不相同\n",
    "深複製：對於不變型別的修改，不受影響；對於可變型別的修改，不受影響，地址不相同"
   ]
  },
  {
   "cell_type": "markdown",
   "id": "bd301121",
   "metadata": {},
   "source": [
    "# 小結"
   ]
  },
  {
   "cell_type": "raw",
   "id": "00c1092d",
   "metadata": {},
   "source": [
    "為了不必要的麻煩，我們想要一個完全獨立的變數，要一個與原始變數解耦的變數，那請使用深複製吧。\n",
    "\n",
    "還可以從另外一個角度理解深複製和淺複製的區別，那麼就是\n",
    "淺複製僅複製父物件，不會複製物件內部的子物件(如 例子2 當中的 a 的第二個元素 [2,3])\n",
    "深複製不僅複製父物件，而且還複製內部的子物件。\n",
    "\n",
    "什麼是子物件呢？ 那就是可變型別，所以還是回到了開頭提到的，深複製和淺複製的區別，就要看變數中是否含有可變物件，哈哈。"
   ]
  }
 ],
 "metadata": {
  "kernelspec": {
   "display_name": "Python 3",
   "language": "python",
   "name": "python3"
  },
  "language_info": {
   "codemirror_mode": {
    "name": "ipython",
    "version": 3
   },
   "file_extension": ".py",
   "mimetype": "text/x-python",
   "name": "python",
   "nbconvert_exporter": "python",
   "pygments_lexer": "ipython3",
   "version": "3.8.10"
  }
 },
 "nbformat": 4,
 "nbformat_minor": 5
}
