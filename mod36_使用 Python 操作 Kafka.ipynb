{
 "cells": [
  {
   "cell_type": "markdown",
   "id": "d469d54d",
   "metadata": {},
   "source": [
    "# 基本概念"
   ]
  },
  {
   "cell_type": "raw",
   "id": "64d3e572",
   "metadata": {},
   "source": [
    "- Topic：一組消息數據的標記符\n",
    "- Producer：生產者，用於生產數據，可將生產後的消息送入指定的 Topic\n",
    "- Consumer：消費者，獲取數據，可消費指定的 Topic\n",
    "- Group：消費者組，同一個 group 可以有多個消費者，一條消息在一個 group 中，只會被一個消費者獲取\n",
    "- Partition：分區，為了保證 kafka 的吞吐量，一個 Topic 可以設置多個分區。同一分區只能被一個消費者訂閱"
   ]
  },
  {
   "cell_type": "markdown",
   "id": "5a5a41a8",
   "metadata": {},
   "source": [
    "# 本地安裝與啟動（基於Docker）"
   ]
  },
  {
   "cell_type": "markdown",
   "id": "03160a0c",
   "metadata": {},
   "source": [
    "### 下載 zookeeper 鏡像與 kafka 鏡像"
   ]
  },
  {
   "cell_type": "raw",
   "id": "3bde9a9d",
   "metadata": {},
   "source": [
    "docker pull wurstmeister/zookeeper\n",
    "docker pull wurstmeister/kafka"
   ]
  },
  {
   "cell_type": "markdown",
   "id": "debb48a0",
   "metadata": {},
   "source": [
    "### 本地啟動 zookeeper"
   ]
  },
  {
   "cell_type": "raw",
   "id": "6aa5865f",
   "metadata": {},
   "source": [
    "docker container run -d --name zookeeper -p 2181:2181 -t wurstmeister/zookeeper  "
   ]
  },
  {
   "cell_type": "markdown",
   "id": "4ff739b9",
   "metadata": {},
   "source": [
    "### 本地啟動 kafka"
   ]
  },
  {
   "cell_type": "raw",
   "id": "f495cd3f",
   "metadata": {},
   "source": [
    "注意下面代碼，將 kafka 啟動在 9092 端口"
   ]
  },
  {
   "cell_type": "raw",
   "id": "4a26af2a",
   "metadata": {},
   "source": [
    "docker container run -d --name kafka --publish 9092:9092 --link zookeeper \\\n",
    "--env KAFKA_ZOOKEEPER_CONNECT=zookeeper:2181 \\\n",
    "--env KAFKA_ADVERTISED_HOST_NAME=localhost \\\n",
    "--env KAFKA_ADVERTISED_PORT=9092 \\\n",
    "wurstmeister/kafka:latest "
   ]
  },
  {
   "cell_type": "markdown",
   "id": "ab7a3aa2",
   "metadata": {},
   "source": [
    "### 進入 kafka bash"
   ]
  },
  {
   "cell_type": "raw",
   "id": "3c84451b",
   "metadata": {},
   "source": [
    "docker container exec -it kafka bash\n",
    "cd /opt/kafka/bin"
   ]
  },
  {
   "cell_type": "markdown",
   "id": "97ab2560",
   "metadata": {},
   "source": [
    "### 創建 Topic，分區為 2，Topic name 為 'kafka_demo'"
   ]
  },
  {
   "cell_type": "raw",
   "id": "b56ec7ba",
   "metadata": {},
   "source": [
    "kafka-topics.sh --create --zookeeper zookeeper:2181 \\\n",
    "--replication-factor 1 --partitions 2 --topic kafka_demo"
   ]
  },
  {
   "cell_type": "markdown",
   "id": "0d078c9b",
   "metadata": {},
   "source": [
    "### 查看當前所有 topic"
   ]
  },
  {
   "cell_type": "raw",
   "id": "2d8e6d5b",
   "metadata": {},
   "source": [
    "kafka-topics.sh --zookeeper zookeeper:2181 --list"
   ]
  },
  {
   "cell_type": "markdown",
   "id": "9fa278ce",
   "metadata": {},
   "source": [
    "### 安装kafka-python"
   ]
  },
  {
   "cell_type": "raw",
   "id": "8114650b",
   "metadata": {},
   "source": [
    "pip install kafka-python"
   ]
  },
  {
   "cell_type": "markdown",
   "id": "94373bdf",
   "metadata": {},
   "source": [
    "# 生產者（Producer）與消費者（Consumer）"
   ]
  },
  {
   "cell_type": "raw",
   "id": "0974d551",
   "metadata": {},
   "source": [
    "生產者和消費者的簡易 Demo，這裏一起演示："
   ]
  },
  {
   "cell_type": "code",
   "execution_count": null,
   "id": "735ecc94",
   "metadata": {},
   "outputs": [],
   "source": [
    "from kafka import KafkaProducer, KafkaConsumer\n",
    "from kafka.errors import KafkaError\n",
    "import traceback\n",
    "import json\n",
    "\n",
    "\n",
    "def producer_demo():\n",
    "    # 假設生產的消息為鍵值對（不是一定要鍵值對），且序列化方式為 json\n",
    "    producer = KafkaProducer(\n",
    "        bootstrap_servers=['localhost:9092'],\n",
    "        key_serializer=lambda k: json.dumps(k).encode(),\n",
    "        value_serializer=lambda v: json.dumps(v).encode(),\n",
    "        api_version=(2, 8, 1))\n",
    "    \n",
    "    # 發送三條消息\n",
    "    for i in range(0, 3):\n",
    "        future = producer.send(\n",
    "            'kafka_demo',\n",
    "            key='count_num',  # 同一個 key 值，會被送至同一個分區\n",
    "            value=str(i),\n",
    "            partition=1)  # 向分區 1 發送消息\n",
    "        print(\"send {}\".format(str(i)))\n",
    "        try:\n",
    "            future.get(timeout=10)  # 監控是否發送成功\n",
    "        except KafkaError:  # 發送失敗拋出 kafka_errors\n",
    "            traceback.format_exc()\n",
    "\n",
    "\n",
    "def consumer_demo():\n",
    "    consumer = KafkaConsumer(\n",
    "        'kafka_demo',\n",
    "        bootstrap_servers='localhost:9092',\n",
    "        group_id='test',\n",
    "        api_version=(2, 8, 1),\n",
    "        consumer_timeout_ms=10000,  # 如果 10 秒內 kafka 中沒有可供消費的數據，自動退出\n",
    "    )\n",
    "    for message in consumer:\n",
    "        print(\"receive, key: {}, value: {}\".format(\n",
    "            json.loads(message.key.decode()),\n",
    "            json.loads(message.value.decode())\n",
    "        )\n",
    "        )"
   ]
  },
  {
   "cell_type": "raw",
   "id": "a7d43f55",
   "metadata": {},
   "source": [
    "這裏建議起兩個 terminal，或者兩個 jupyter notebook 頁面來驗證。"
   ]
  },
  {
   "cell_type": "raw",
   "id": "bac8a1d5",
   "metadata": {},
   "source": [
    "先執行消費者："
   ]
  },
  {
   "cell_type": "code",
   "execution_count": null,
   "id": "670ce7bc",
   "metadata": {},
   "outputs": [],
   "source": [
    "consumer_demo()"
   ]
  },
  {
   "cell_type": "raw",
   "id": "7edf3503",
   "metadata": {},
   "source": [
    "再執行生產者："
   ]
  },
  {
   "cell_type": "code",
   "execution_count": null,
   "id": "56f30052",
   "metadata": {},
   "outputs": [],
   "source": [
    "producer_demo()"
   ]
  },
  {
   "cell_type": "raw",
   "id": "5e34fa18",
   "metadata": {},
   "source": [
    "會看到如下輸出："
   ]
  },
  {
   "cell_type": "raw",
   "id": "053b9861",
   "metadata": {},
   "source": [
    ">>> producer_demo()\n",
    "send 0\n",
    "send 1\n",
    "send 2\n",
    "\n",
    ">>> consumer_demo()\n",
    "receive, key: count_num, value: 0\n",
    "receive, key: count_num, value: 1\n",
    "receive, key: count_num, value: 2"
   ]
  },
  {
   "cell_type": "markdown",
   "id": "304ea4bd",
   "metadata": {},
   "source": [
    "# 消費者進階操作"
   ]
  },
  {
   "cell_type": "markdown",
   "id": "ee04a83a",
   "metadata": {},
   "source": [
    "### 初始化參數"
   ]
  },
  {
   "cell_type": "raw",
   "id": "bfb248e4",
   "metadata": {},
   "source": [
    "列舉一些 KafkaConsumer 初始化時的重要參數：\n",
    "\n",
    "group_id\n",
    "高並發量，則需要有多個消費者協作，消費進度，則由 group_id 統一。例如消費者 A 與消費者 B，在初始化時使用同一個 group_id。在進行消費時，一條消息被消費者 A 消費後，在 kafka 中會被標記，這條消息不會再被 B 消費（前提是 A 消費後正確 commit）。\n",
    "\n",
    "key_deserializer， value_deserializer\n",
    "與生產者中的參數一致，自動解析。\n",
    "\n",
    "auto_offset_reset\n",
    "消費者啟動的時刻，消息隊列中或許已經有堆積的未消費消息，有時候需求是從上一次未消費的位置開始讀（則該參數設置為 earliest），有時候的需求為從當前時刻開始讀之後產生的，之前產生的數據不再消費（則該參數設置為 latest）。\n",
    "\n",
    "enable_auto_commit， auto_commit_interval_ms\n",
    "是否自動commit，當前消費者消費完該數據後，需要commit，才可以將消費完的信息傳回消息隊列的控制中心。enable_auto_commit設置為 True 後，消費者將自動 commit，並且兩次 commit 的時間間隔為 auto_commit_interval_ms。\n",
    "\n",
    "consumer_timeout_ms： 毫秒數\n",
    "若不指定 consumer_timeout_ms，默認一直循環等待接收，若指定，則超時返回，不再等待。"
   ]
  },
  {
   "cell_type": "markdown",
   "id": "761bfd7c",
   "metadata": {},
   "source": [
    "### 手動 commit"
   ]
  },
  {
   "cell_type": "code",
   "execution_count": null,
   "id": "0872f264",
   "metadata": {},
   "outputs": [],
   "source": [
    "def consumer_demo():\n",
    "    consumer = KafkaConsumer(\n",
    "        'kafka_demo', \n",
    "        bootstrap_servers='localhost:9092',\n",
    "        group_id='test',\n",
    "        enable_auto_commit=False\n",
    "    )\n",
    "    for message in consumer:\n",
    "        print(\"receive, key: {}, value: {}\".format(\n",
    "            json.loads(message.key.decode()),\n",
    "            json.loads(message.value.decode())\n",
    "            )\n",
    "        )\n",
    "        consumer.commit()"
   ]
  },
  {
   "cell_type": "markdown",
   "id": "ff665ca2",
   "metadata": {},
   "source": [
    "### 查看 kafka 堆積剩餘量"
   ]
  },
  {
   "cell_type": "raw",
   "id": "1e479bb4",
   "metadata": {},
   "source": [
    "在線環境中，需要保證消費者的消費速度大於生產者的生產速度，所以需要檢測 kafka 中的剩餘堆積量是在增加還是減小。可以用如下代碼，觀測隊列消息剩餘量："
   ]
  },
  {
   "cell_type": "code",
   "execution_count": null,
   "id": "ae48c740",
   "metadata": {},
   "outputs": [],
   "source": [
    "consumer = KafkaConsumer(topic, **kwargs)\n",
    "partitions = [TopicPartition(topic, p) for p in consumer.partitions_for_topic(topic)]\n",
    "\n",
    "print(\"start to cal offset:\")\n",
    "\n",
    "# total\n",
    "toff = consumer.end_offsets(partitions)\n",
    "toff = [(key.partition, toff[key]) for key in toff.keys()]\n",
    "toff.sort()\n",
    "print(\"total offset: {}\".format(str(toff)))\n",
    "    \n",
    "# current\n",
    "coff = [(x.partition, consumer.committed(x)) for x in partitions]\n",
    "coff.sort()\n",
    "print(\"current offset: {}\".format(str(coff)))\n",
    "\n",
    "# cal sum and left\n",
    "toff_sum = sum([x[1] for x in toff])\n",
    "cur_sum = sum([x[1] for x in coff if x[1] is not None])\n",
    "left_sum = toff_sum - cur_sum\n",
    "print(\"kafka left: {}\".format(left_sum))"
   ]
  }
 ],
 "metadata": {
  "kernelspec": {
   "display_name": "Python 3",
   "language": "python",
   "name": "python3"
  },
  "language_info": {
   "codemirror_mode": {
    "name": "ipython",
    "version": 3
   },
   "file_extension": ".py",
   "mimetype": "text/x-python",
   "name": "python",
   "nbconvert_exporter": "python",
   "pygments_lexer": "ipython3",
   "version": "3.8.10"
  }
 },
 "nbformat": 4,
 "nbformat_minor": 5
}
