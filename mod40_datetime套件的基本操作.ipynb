{
 "cells": [
  {
   "cell_type": "markdown",
   "id": "bcbdef03",
   "metadata": {},
   "source": [
    "# 基本操作"
   ]
  },
  {
   "cell_type": "code",
   "execution_count": null,
   "id": "47d98247",
   "metadata": {},
   "outputs": [],
   "source": [
    "# import datetime 要使用 datetime 類別，要寫 datetime.datetime()\n",
    "# 但是因為這個類別太常用，所以我們使用 from datetime import datetime 比較簡潔方便\n",
    "# 這樣就可以直接調用 datetime() 類別與建立實體物件\n",
    "# datetime 物件包括年、月、日、時、分...\n",
    "# 來 new 一個 datetime 實體物件"
   ]
  },
  {
   "cell_type": "code",
   "execution_count": null,
   "id": "a2790e1f",
   "metadata": {},
   "outputs": [],
   "source": [
    "from datetime import datetime\n",
    "\n",
    "datetime(2014, 12, 15)"
   ]
  },
  {
   "cell_type": "code",
   "execution_count": null,
   "id": "70a3b19b",
   "metadata": {},
   "outputs": [],
   "source": [
    "datetime(2014, 12, 15, 17, 30, 5) # 年、月、日、時、分、秒"
   ]
  },
  {
   "cell_type": "markdown",
   "id": "538b9516",
   "metadata": {},
   "source": [
    "---"
   ]
  },
  {
   "cell_type": "markdown",
   "id": "cba06957",
   "metadata": {},
   "source": [
    "調用類方法，直接生成現在的時間，返回現在時間的實體物件"
   ]
  },
  {
   "cell_type": "code",
   "execution_count": null,
   "id": "2075cc1b",
   "metadata": {},
   "outputs": [],
   "source": [
    "now = datetime.now()\n",
    "now"
   ]
  },
  {
   "cell_type": "raw",
   "id": "3ece9de0",
   "metadata": {},
   "source": [
    "可以用它的屬性直接獲得年、月、日、時、分、秒\n",
    "別忘了這是 tuple 的寫法"
   ]
  },
  {
   "cell_type": "code",
   "execution_count": null,
   "id": "e1cf2cb0",
   "metadata": {},
   "outputs": [],
   "source": [
    "now.year, now.month, now.day, now.hour, now.minute, now.second"
   ]
  },
  {
   "cell_type": "raw",
   "id": "4c9c2715",
   "metadata": {},
   "source": [
    " .today() 也可以獲得當地時間"
   ]
  },
  {
   "cell_type": "code",
   "execution_count": null,
   "id": "aa135101",
   "metadata": {},
   "outputs": [],
   "source": [
    "datetime.today() "
   ]
  },
  {
   "cell_type": "markdown",
   "id": "d758845b",
   "metadata": {},
   "source": [
    "---"
   ]
  },
  {
   "cell_type": "raw",
   "id": "8668b8dd",
   "metadata": {},
   "source": [
    "我們想要建立只有日期沒有時間的實體物件該怎麼辦 ? 跟上面的操作相似"
   ]
  },
  {
   "cell_type": "code",
   "execution_count": null,
   "id": "dbed827f",
   "metadata": {},
   "outputs": [],
   "source": [
    "from datetime import date\n",
    "d = date(2020, 3, 10) # datetime.date 物件代表特定的一天 (沒有時間成分)\n",
    "d"
   ]
  },
  {
   "cell_type": "code",
   "execution_count": null,
   "id": "b76578b9",
   "metadata": {},
   "outputs": [],
   "source": [
    "d.year, d.month, d.day"
   ]
  },
  {
   "cell_type": "markdown",
   "id": "0d1d2c20",
   "metadata": {},
   "source": [
    "---"
   ]
  },
  {
   "cell_type": "markdown",
   "id": "6dd3732d",
   "metadata": {},
   "source": [
    "如果是日期時間物件怎麼把時間去除"
   ]
  },
  {
   "cell_type": "code",
   "execution_count": null,
   "id": "8b08e11a",
   "metadata": {},
   "outputs": [],
   "source": [
    "day = datetime(2021, 2, 23, 8, 10)\n",
    "day"
   ]
  },
  {
   "cell_type": "raw",
   "id": "bc1fcaca",
   "metadata": {},
   "source": [
    "調用 .date() 方法就可以把時間給刪掉，返回日期實體物件"
   ]
  },
  {
   "cell_type": "code",
   "execution_count": null,
   "id": "7430ec47",
   "metadata": {},
   "outputs": [],
   "source": [
    "day.date()"
   ]
  },
  {
   "cell_type": "code",
   "execution_count": null,
   "id": "05b56c89",
   "metadata": {},
   "outputs": [],
   "source": [
    "datetime.now().date()"
   ]
  },
  {
   "cell_type": "markdown",
   "id": "d3642222",
   "metadata": {},
   "source": [
    "---"
   ]
  },
  {
   "cell_type": "raw",
   "id": "798ed4d6",
   "metadata": {},
   "source": [
    "使用剛剛的邏輯，這是沒有日期成分的時間"
   ]
  },
  {
   "cell_type": "code",
   "execution_count": null,
   "id": "bb34717b",
   "metadata": {},
   "outputs": [],
   "source": [
    "from datetime import time\n",
    "time(4, 50, 40) # 時、分、秒"
   ]
  },
  {
   "cell_type": "code",
   "execution_count": null,
   "id": "06b68974",
   "metadata": {},
   "outputs": [],
   "source": [
    "day = datetime(2014, 12, 15, 17, 30)\n",
    "day"
   ]
  },
  {
   "cell_type": "code",
   "execution_count": null,
   "id": "d252e939",
   "metadata": {},
   "outputs": [],
   "source": [
    "day.time()"
   ]
  },
  {
   "cell_type": "code",
   "execution_count": null,
   "id": "2a98cd14",
   "metadata": {},
   "outputs": [],
   "source": [
    "datetime.now().time()"
   ]
  },
  {
   "cell_type": "markdown",
   "id": "9d75a3bf",
   "metadata": {},
   "source": [
    "# timedelta 的操作"
   ]
  },
  {
   "cell_type": "raw",
   "id": "84dec424",
   "metadata": {},
   "source": [
    "datetime 儲存了日期、時間，精確度可以到微秒。 timedelta 物件用來表示兩個 datetime 物件之間的時間差"
   ]
  },
  {
   "cell_type": "code",
   "execution_count": null,
   "id": "d7da9941",
   "metadata": {},
   "outputs": [],
   "source": [
    "delta = datetime(2011, 1, 7) - datetime(2008, 6, 24, 8, 15)\n",
    "delta"
   ]
  },
  {
   "cell_type": "raw",
   "id": "cf1df2ee",
   "metadata": {},
   "source": [
    "timedelta 物件的 days 屬性"
   ]
  },
  {
   "cell_type": "code",
   "execution_count": null,
   "id": "c242be47",
   "metadata": {},
   "outputs": [],
   "source": [
    "delta.days"
   ]
  },
  {
   "cell_type": "raw",
   "id": "1c14f783",
   "metadata": {},
   "source": [
    "timedelta 物件的 seconds 屬性"
   ]
  },
  {
   "cell_type": "code",
   "execution_count": null,
   "id": "12a34a16",
   "metadata": {},
   "outputs": [],
   "source": [
    "delta.seconds"
   ]
  },
  {
   "cell_type": "markdown",
   "id": "c8234a7f",
   "metadata": {},
   "source": [
    "---"
   ]
  },
  {
   "cell_type": "code",
   "execution_count": null,
   "id": "07fc16ea",
   "metadata": {},
   "outputs": [],
   "source": [
    "from datetime import timedelta\n",
    "\n",
    "start = datetime(2011, 1, 7) # 沒有設定時間，預設就是都是 0\n",
    "start"
   ]
  },
  {
   "cell_type": "code",
   "execution_count": null,
   "id": "7a969238",
   "metadata": {},
   "outputs": [],
   "source": [
    "start + timedelta(12, 45, 50) # timedelta(日, 秒, 微秒)"
   ]
  },
  {
   "cell_type": "code",
   "execution_count": null,
   "id": "ecaea810",
   "metadata": {},
   "outputs": [],
   "source": [
    "start - 2*timedelta(12) # 減去 24 天"
   ]
  },
  {
   "cell_type": "code",
   "execution_count": null,
   "id": "091284e3",
   "metadata": {},
   "outputs": [],
   "source": [
    "date1 = datetime(2014, 12, 2)\n",
    "date2 = datetime(2014, 11, 28)\n",
    "date1 - date2"
   ]
  },
  {
   "cell_type": "markdown",
   "id": "20c49878",
   "metadata": {},
   "source": [
    "# 時間與字串的相互轉換"
   ]
  },
  {
   "cell_type": "raw",
   "id": "7c393fe5",
   "metadata": {},
   "source": [
    "日期時間資料轉字串的方法比較好記"
   ]
  },
  {
   "cell_type": "code",
   "execution_count": null,
   "id": "0a822e46",
   "metadata": {},
   "outputs": [],
   "source": [
    "stamp = datetime(2011, 1, 3)\n",
    "stamp"
   ]
  },
  {
   "cell_type": "raw",
   "id": "866e7136",
   "metadata": {},
   "source": [
    "使用 str() 函式轉換成字串"
   ]
  },
  {
   "cell_type": "code",
   "execution_count": null,
   "id": "430d9161",
   "metadata": {},
   "outputs": [],
   "source": [
    "str(stamp)"
   ]
  },
  {
   "cell_type": "raw",
   "id": "f79cf637",
   "metadata": {},
   "source": [
    "使用 datetime 物件的 .strftime() 方法轉換成字串，可自選格式"
   ]
  },
  {
   "cell_type": "code",
   "execution_count": null,
   "id": "c9ff7a08",
   "metadata": {},
   "outputs": [],
   "source": [
    "stamp.strftime('%Y-%m-%d')"
   ]
  },
  {
   "cell_type": "markdown",
   "id": "fbe88a5d",
   "metadata": {},
   "source": [
    "---"
   ]
  },
  {
   "cell_type": "markdown",
   "id": "00879ced",
   "metadata": {},
   "source": [
    "字串轉日期時間資料的方法就需要思考一下了"
   ]
  },
  {
   "cell_type": "raw",
   "id": "1cc29d8e",
   "metadata": {},
   "source": [
    "使用類方法 datetime.strptime() 把字串轉日期\n",
    "要給出正確的時間日期形式才能解析成功"
   ]
  },
  {
   "cell_type": "code",
   "execution_count": null,
   "id": "b1600732",
   "metadata": {},
   "outputs": [],
   "source": [
    "value = '2011-01-03'\n",
    "datetime.strptime(value, '%Y-%m-%d')"
   ]
  },
  {
   "cell_type": "code",
   "execution_count": null,
   "id": "b59ce213",
   "metadata": {},
   "outputs": [],
   "source": [
    "value = '2011-01-03 00:00:00'\n",
    "datetime.strptime(value, '%Y-%m-%d') # 形式沒給對!"
   ]
  },
  {
   "cell_type": "code",
   "execution_count": null,
   "id": "46056cb8",
   "metadata": {},
   "outputs": [],
   "source": [
    "value = '2011-01-03 00:00:00'\n",
    "datetime.strptime(value, '%Y-%m-%d %H:%M:%S')"
   ]
  },
  {
   "cell_type": "code",
   "execution_count": null,
   "id": "a80f1eb7",
   "metadata": {},
   "outputs": [],
   "source": [
    "datestrs = ['7/6/2011', '8/6/2011']\n",
    "[datetime.strptime(i, '%m/%d/%Y') for i in datestrs]"
   ]
  },
  {
   "cell_type": "markdown",
   "id": "548c5a33",
   "metadata": {},
   "source": [
    "# Python timestamp to datetime"
   ]
  },
  {
   "cell_type": "code",
   "execution_count": null,
   "id": "a78d3a2e",
   "metadata": {},
   "outputs": [],
   "source": [
    "from datetime import datetime\n",
    "\n",
    "timestamp = 1545730073\n",
    "dt_object = datetime.fromtimestamp(timestamp)\n",
    "\n",
    "print(\"dt_object =\", dt_object)\n",
    "print(\"type(dt_object) =\", type(dt_object))"
   ]
  },
  {
   "cell_type": "markdown",
   "id": "b0c54ee1",
   "metadata": {},
   "source": [
    "# Python datetime to timestamp"
   ]
  },
  {
   "cell_type": "code",
   "execution_count": null,
   "id": "8bb23f50",
   "metadata": {},
   "outputs": [],
   "source": [
    "from datetime import datetime\n",
    "\n",
    "# current date and time\n",
    "now = datetime.now()\n",
    "\n",
    "timestamp = datetime.timestamp(now)\n",
    "print(\"timestamp =\", timestamp)"
   ]
  },
  {
   "cell_type": "raw",
   "id": "6310389e",
   "metadata": {},
   "source": [
    "驗證是否有錯"
   ]
  },
  {
   "cell_type": "code",
   "execution_count": null,
   "id": "c3e41148",
   "metadata": {},
   "outputs": [],
   "source": [
    "dt_object = datetime.fromtimestamp(timestamp)\n",
    "dt_object"
   ]
  }
 ],
 "metadata": {
  "kernelspec": {
   "display_name": "Python 3",
   "language": "python",
   "name": "python3"
  },
  "language_info": {
   "codemirror_mode": {
    "name": "ipython",
    "version": 3
   },
   "file_extension": ".py",
   "mimetype": "text/x-python",
   "name": "python",
   "nbconvert_exporter": "python",
   "pygments_lexer": "ipython3",
   "version": "3.8.10"
  }
 },
 "nbformat": 4,
 "nbformat_minor": 5
}
