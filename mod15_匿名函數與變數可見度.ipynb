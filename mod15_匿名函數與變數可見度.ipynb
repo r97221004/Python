{
 "cells": [
  {
   "cell_type": "markdown",
   "metadata": {},
   "source": [
    "#  <font color=red> Module_15_匿名函數與變數可見度 </font> "
   ]
  },
  {
   "cell_type": "markdown",
   "metadata": {},
   "source": [
    "## 匿名函數的使用時機"
   ]
  },
  {
   "cell_type": "code",
   "execution_count": null,
   "metadata": {},
   "outputs": [],
   "source": [
    "def func(arg1, arg2):\n",
    "    return arg1 + arg2\n",
    "\n",
    "a = func(5, 6)\n",
    "print(a)"
   ]
  },
  {
   "cell_type": "code",
   "execution_count": null,
   "metadata": {},
   "outputs": [],
   "source": [
    "sum_data = lambda arg1, arg2 : arg1 + arg2   # 這個 Lambda 函數沒有名字，只是用了㇐個變數 sum_data 去參考這個 Lambda 函數\n",
    "print(sum_data(10, 20))"
   ]
  },
  {
   "cell_type": "markdown",
   "metadata": {},
   "source": [
    "---"
   ]
  },
  {
   "cell_type": "code",
   "execution_count": null,
   "metadata": {},
   "outputs": [],
   "source": [
    "def func(x):\n",
    "    return x[3]\n",
    "\n",
    "lis1 = ['Mr.Tsao', 'Mr.Cheng', 'Mr.Lin', 'Mr.Wang', 'Mr.GAO', 'Mr.XIAO']\n",
    "lis1.sort(key = func) \n",
    "lis1"
   ]
  },
  {
   "cell_type": "code",
   "execution_count": null,
   "metadata": {},
   "outputs": [],
   "source": [
    "lis1 = ['Mr.Tsao','Mr.Cheng','Mr.Lin','Mr.Wang','Mr.GAO','Mr.XIAO']\n",
    "lis1.sort(key = lambda x:x[3]) # 使用時機在使用一次時\n",
    "lis1"
   ]
  },
  {
   "cell_type": "code",
   "execution_count": null,
   "metadata": {},
   "outputs": [],
   "source": [
    "# function: return sum of two values\n",
    "def sum_data(a, b):\n",
    "    return a + b\n",
    "    \n",
    "# function: using function as parameter    \n",
    "def operate_on(x, y, func):\n",
    "    return func(x, y) \n",
    "\n",
    "# MAIN\n",
    "r = operate_on(16, 20, sum_data)   # call function\n",
    "print('operate_on(16, 20, sum_data) = ', r)\n",
    "          \n",
    "r = operate_on(10, 40, lambda a, b: a - b)   # with anonymous function\n",
    "print('operate_on(10, 40, Lambda_function) =', r)"
   ]
  },
  {
   "cell_type": "markdown",
   "metadata": {},
   "source": [
    "---"
   ]
  },
  {
   "cell_type": "code",
   "execution_count": null,
   "metadata": {},
   "outputs": [],
   "source": [
    "a = map(abs, [1, -4, 5]) # 映射函數"
   ]
  },
  {
   "cell_type": "code",
   "execution_count": null,
   "metadata": {},
   "outputs": [],
   "source": [
    "a # 返回疊代器"
   ]
  },
  {
   "cell_type": "code",
   "execution_count": null,
   "metadata": {},
   "outputs": [],
   "source": [
    "# 兩者二選一 # 疊代只會一次，沒了就沒了\n",
    "list(a)\n",
    "# for i in a:\n",
    "#     print(i)"
   ]
  },
  {
   "cell_type": "code",
   "execution_count": null,
   "metadata": {},
   "outputs": [],
   "source": [
    "list(map(abs, [1, -4, 5]))"
   ]
  },
  {
   "cell_type": "code",
   "execution_count": null,
   "metadata": {},
   "outputs": [],
   "source": [
    "def square(x):\n",
    "    return x**2\n",
    "\n",
    "list(map(square, [1, -4, 5]))"
   ]
  },
  {
   "cell_type": "code",
   "execution_count": null,
   "metadata": {},
   "outputs": [],
   "source": [
    "list(map(lambda x: x**2, [1, -4, 5]))"
   ]
  },
  {
   "cell_type": "markdown",
   "metadata": {},
   "source": [
    "---"
   ]
  },
  {
   "cell_type": "markdown",
   "metadata": {},
   "source": [
    "## Python語言有兩種變數的可見度\n",
    "### - 在函數內的變數稱為區域變數\n",
    "### - 在函數之外的變數稱為全域變數\n",
    ">### (1) 最外面的範疇即全域範疇，識別字有 foo。\n",
    ">### (2) 中間的範疇是在 foo 裡面，識別字有 a、b、bar、foo。\n",
    ">### (3) 最裡面的範疇是在 bar 裡面，識別字有 a、b、c、bar、foo。\n",
    "><img src='./img/variable_scope.png' style='height:400px'>"
   ]
  },
  {
   "cell_type": "code",
   "execution_count": null,
   "metadata": {},
   "outputs": [],
   "source": [
    "def foo(a):\n",
    "    b = a * 2\n",
    "    def bar(c):\n",
    "        print(a, b, c)\n",
    "    bar(b*3)\n",
    "\n",
    "print(foo(2))"
   ]
  },
  {
   "cell_type": "markdown",
   "metadata": {},
   "source": [
    "---"
   ]
  },
  {
   "cell_type": "markdown",
   "metadata": {},
   "source": [
    "## 函數可以直接參考全域變數"
   ]
  },
  {
   "cell_type": "code",
   "execution_count": null,
   "metadata": {},
   "outputs": [],
   "source": [
    "a = 'A' # global\n",
    "def func1():\n",
    "    print(a)\n",
    "\n",
    "func1()"
   ]
  },
  {
   "cell_type": "markdown",
   "metadata": {},
   "source": [
    "##  如果函數內有指定㇐個值給變數，該變數則自動視為區域變數，<font color =red>區域變數只能在該函數內存取</font>"
   ]
  },
  {
   "cell_type": "code",
   "execution_count": null,
   "metadata": {},
   "outputs": [],
   "source": [
    "def fun2():\n",
    "    b = 'Hi!!!!'\n",
    "    print(b)\n",
    "\n",
    "fun2()\n",
    "print(b)"
   ]
  },
  {
   "cell_type": "markdown",
   "metadata": {},
   "source": [
    "## 假如區域與全域變數同名，區域變數會蓋掉全域變數(在函數內)"
   ]
  },
  {
   "cell_type": "code",
   "execution_count": null,
   "metadata": {},
   "outputs": [],
   "source": [
    "# Function definition\n",
    "def sum_data(arg1, arg2):\n",
    "    total  = arg1 + arg2; # total is local variable\n",
    "    print('In function local total :', total)\n",
    "\n",
    "# MAIN    \n",
    "# Call function\n",
    "\n",
    "# Using global variable\n",
    "total = 0   # This is global variable\n",
    "\n",
    "sum_data(10, 20)\n",
    "\n",
    "\n",
    "print('Outside function global total :', total)"
   ]
  },
  {
   "cell_type": "markdown",
   "metadata": {},
   "source": [
    "## 如果函數內有指定㇐個值給變數，該變數則自動視為區域變數，除非明確使用 “global” 關鍵字宣告該變數為全域變數"
   ]
  },
  {
   "cell_type": "code",
   "execution_count": null,
   "metadata": {},
   "outputs": [],
   "source": [
    "def func3():\n",
    "    global c\n",
    "    c = 'Hi!!'\n",
    "    print(c)\n",
    "\n",
    "func3()\n",
    "print('outside function:', c)"
   ]
  },
  {
   "cell_type": "code",
   "execution_count": null,
   "metadata": {},
   "outputs": [],
   "source": [
    "c = 'Hello'\n",
    "\n",
    "def func3():\n",
    "    global c \n",
    "    c = 'Hi!!'\n",
    "    print(f'inside function c is : {c}')\n",
    "\n",
    "print(f'before call func3, c is: {c}')\n",
    "func3()\n",
    "print(f'after call func3, outside c is : {c}')"
   ]
  },
  {
   "cell_type": "markdown",
   "metadata": {},
   "source": [
    "## 全域變數可以在整個程式內使用，包含<font color=red>函數</font>"
   ]
  },
  {
   "cell_type": "code",
   "execution_count": null,
   "metadata": {},
   "outputs": [],
   "source": [
    "a = 2\n",
    "def add_2(x):\n",
    "    return x + a # 可以使用 a，因為全域變數可以在整個程式內使用\n",
    "def multiply1(x, y):\n",
    "    print(x*add_2(y)) # 可以使用 add_2()，因為全域範圍定義的函數可以在整個程式內使用\n",
    "\n",
    "multiply1(10, 7)"
   ]
  },
  {
   "cell_type": "code",
   "execution_count": null,
   "metadata": {},
   "outputs": [],
   "source": [
    "def spam():\n",
    "    global eggs\n",
    "    eggs = 'spam'    # this is the global\n",
    "    \n",
    "def bacon():\n",
    "    eggs = 'bacon'   # this is a local\n",
    "    \n",
    "def ham():\n",
    "    print(eggs)  # this is the global\n",
    "\n",
    "# MAIN\n",
    "eggs = 42        # this is the global\n",
    "\n",
    "ham()\n",
    "\n",
    "bacon()\n",
    "print(eggs)      \n",
    "\n",
    "spam()\n",
    "print(eggs)     \n",
    "\n",
    "ham()            "
   ]
  },
  {
   "cell_type": "markdown",
   "metadata": {},
   "source": [
    "## Python 沒有block variable (其他語言才有)"
   ]
  },
  {
   "cell_type": "code",
   "execution_count": null,
   "metadata": {},
   "outputs": [],
   "source": [
    "for i in range(10):\n",
    "    print(i, end = ' ')\n",
    "\n",
    "i  # it's still globle after for... loop"
   ]
  },
  {
   "cell_type": "code",
   "execution_count": null,
   "metadata": {},
   "outputs": [],
   "source": [
    "def fun1(x):\n",
    "    return x%2 \n",
    "\n",
    "list(map(fun1, [1, 2, 4]))"
   ]
  },
  {
   "cell_type": "code",
   "execution_count": null,
   "metadata": {},
   "outputs": [],
   "source": [
    "list(map(lambda x:x**2, [1, 2, 3])) # 可被下面取代 "
   ]
  },
  {
   "cell_type": "code",
   "execution_count": null,
   "metadata": {},
   "outputs": [],
   "source": [
    "[i**2 for i in [1, 2, 3] ]"
   ]
  },
  {
   "cell_type": "markdown",
   "metadata": {},
   "source": [
    "## 函數進階用法"
   ]
  },
  {
   "cell_type": "code",
   "execution_count": null,
   "metadata": {},
   "outputs": [],
   "source": [
    "x = 0\n",
    "\n",
    "def outer():\n",
    "\tx = 1\n",
    "\tdef inner():\n",
    "\t\tx = 2\n",
    "\t\tprint(\"inner:\", x)\n",
    "\n",
    "\tinner()\n",
    "\tprint(\"outer:\", x)\n",
    "\n",
    "outer()\n",
    "print(\"global:\", x)"
   ]
  },
  {
   "cell_type": "code",
   "execution_count": null,
   "metadata": {},
   "outputs": [],
   "source": [
    "x = 0\n",
    "\n",
    "def outer():\n",
    "\tx = 1\n",
    "\tdef inner():\n",
    "\t\tnonlocal x\n",
    "\t\tx = 2\n",
    "\t\tprint(\"inner:\", x)\n",
    "\n",
    "\tinner()\n",
    "\tprint(\"outer:\", x)\n",
    "\n",
    "outer()\n",
    "print(\"global:\", x)"
   ]
  },
  {
   "cell_type": "code",
   "execution_count": null,
   "metadata": {},
   "outputs": [],
   "source": [
    "x = 0\n",
    "def outer():\n",
    "\tx = 1\n",
    "\tdef inner():\n",
    "\t\tglobal x\n",
    "\t\tx = 2\n",
    "\t\tprint(\"inner:\", x)\n",
    "\n",
    "\tinner()\n",
    "\tprint(\"outer:\", x)\n",
    "\n",
    "outer()\n",
    "print(\"global:\", x)"
   ]
  },
  {
   "cell_type": "markdown",
   "metadata": {},
   "source": [
    "## 更多的範例"
   ]
  },
  {
   "cell_type": "code",
   "execution_count": null,
   "metadata": {},
   "outputs": [],
   "source": [
    "x = 8\n",
    "\n",
    "def fun3():\n",
    "     x = x + 2 # 這步讓 x 變區域變數了\n",
    "\n",
    "fun3() # 要知道錯誤的原因"
   ]
  },
  {
   "cell_type": "code",
   "execution_count": null,
   "metadata": {},
   "outputs": [],
   "source": [
    "x = 8\n",
    "\n",
    "def fun1():\n",
    "    def fun2():\n",
    "        return x\n",
    "    return fun2()\n",
    "\n",
    "fun1()"
   ]
  },
  {
   "cell_type": "markdown",
   "metadata": {},
   "source": [
    "---"
   ]
  },
  {
   "cell_type": "code",
   "execution_count": null,
   "metadata": {},
   "outputs": [],
   "source": [
    "def fun1():\n",
    "    x = 5\n",
    "    def fun2():\n",
    "        nonlocal x #不加 nonlocal 會報錯\n",
    "        x = x*x\n",
    "        return x\n",
    "    return fun2()\n",
    "fun1()"
   ]
  },
  {
   "cell_type": "code",
   "execution_count": null,
   "metadata": {},
   "outputs": [],
   "source": [
    "def fun1():   # 改成 List 可以解決剛剛的問題\n",
    "    x = [5]\n",
    "    def fun2():    \n",
    "        x[0] = x[0]*x[0]\n",
    "        return x[0]\n",
    "    return fun2()\n",
    "fun1()"
   ]
  },
  {
   "cell_type": "markdown",
   "metadata": {},
   "source": [
    "---"
   ]
  },
  {
   "cell_type": "code",
   "execution_count": null,
   "metadata": {},
   "outputs": [],
   "source": [
    "def outside():\n",
    "    var = 5\n",
    "    def inside(): \n",
    "        print(var)\n",
    "        var = 3      # 改變了 var 的 id\n",
    "        \n",
    "    inside()\n",
    "    \n",
    "outside()"
   ]
  },
  {
   "cell_type": "markdown",
   "metadata": {},
   "source": [
    "---"
   ]
  },
  {
   "cell_type": "code",
   "execution_count": null,
   "metadata": {},
   "outputs": [],
   "source": [
    "x = 1\n",
    "\n",
    "def fun1():\n",
    "    global x\n",
    "    x += 1\n",
    "    return x\n",
    "\n",
    "print(fun1())"
   ]
  },
  {
   "cell_type": "code",
   "execution_count": null,
   "metadata": {},
   "outputs": [],
   "source": [
    "print(fun1())"
   ]
  },
  {
   "cell_type": "code",
   "execution_count": null,
   "metadata": {},
   "outputs": [],
   "source": [
    "print(fun1())"
   ]
  },
  {
   "cell_type": "markdown",
   "metadata": {},
   "source": [
    "---"
   ]
  },
  {
   "cell_type": "code",
   "execution_count": null,
   "metadata": {},
   "outputs": [],
   "source": [
    "def funX():\n",
    "    x = 5\n",
    "    def funY():\n",
    "        nonlocal x \n",
    "        x += 1\n",
    "        return x\n",
    "    return funY\n",
    "\n",
    "a = funX()\n",
    "print(type(a))"
   ]
  },
  {
   "cell_type": "code",
   "execution_count": null,
   "metadata": {},
   "outputs": [],
   "source": [
    "print(a())\n",
    "print(a())\n",
    "print(a())"
   ]
  },
  {
   "cell_type": "markdown",
   "metadata": {},
   "source": [
    "---"
   ]
  },
  {
   "cell_type": "markdown",
   "metadata": {},
   "source": [
    "## Given an array of distinct positive numbers, the task is to calculate the number of subsets (or subsequences) from the array such that each subset contains consecutive numbers  \n",
    "  \n",
    "Input :  arr[] = [100, 56, 5, 6, 102, 58, 101, 57, 7, 103, 59]  \n",
    "Output : 3  \n",
    "[5, 6, 7], [56, 57, 58, 59], [100, 101, 102, 103] are 3 subset in which numbers are consecutive.  \n",
    "  \n",
    "Input :  arr[] = [10, 100, 105]  \n",
    "Output : 3  \n",
    "[10], [100] and [105] are 3 subset in which numbers are consecutive."
   ]
  },
  {
   "cell_type": "code",
   "execution_count": null,
   "metadata": {},
   "outputs": [],
   "source": [
    "def numofsubset(arr): \n",
    "    x = sorted(arr) \n",
    "    count = 1\n",
    "    for i in range(0, len(arr)-1):\n",
    "        if (x[i] + 1 != x[i + 1]): \n",
    "            count = count + 1\n",
    "    return count\n",
    "\n",
    "arr = [ 100, 56, 5, 6, 102, 58, 101, 57, 7, 103, 59] \n",
    "print(numofsubset(arr)) "
   ]
  },
  {
   "cell_type": "markdown",
   "metadata": {},
   "source": [
    "## Given a list of integers, return True if the array contains a 3 next to a 3 somewhere."
   ]
  },
  {
   "cell_type": "code",
   "execution_count": null,
   "metadata": {},
   "outputs": [],
   "source": [
    "def has_33(nums):\n",
    "    for i in range(0,len(nums)-1):\n",
    "        if nums[i] == 3 and nums[i+1] == 3:\n",
    "            return True\n",
    "    return False\n",
    "\n",
    "print(\"Test #1: {}\".format(has_33([1, 3, 3])))\n",
    "print(\"Test #2: {}\".format(has_33([1, 3, 1, 3])))\n",
    "print(\"Test #3: {}\".format(has_33([3, 1, 3])))"
   ]
  }
 ],
 "metadata": {
  "kernelspec": {
   "display_name": "Python 3",
   "language": "python",
   "name": "python3"
  },
  "language_info": {
   "codemirror_mode": {
    "name": "ipython",
    "version": 3
   },
   "file_extension": ".py",
   "mimetype": "text/x-python",
   "name": "python",
   "nbconvert_exporter": "python",
   "pygments_lexer": "ipython3",
   "version": "3.8.10"
  }
 },
 "nbformat": 4,
 "nbformat_minor": 2
}
