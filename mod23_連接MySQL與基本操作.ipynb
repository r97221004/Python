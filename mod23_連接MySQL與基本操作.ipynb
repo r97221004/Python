{
 "cells": [
  {
   "cell_type": "markdown",
   "id": "c44234fa",
   "metadata": {},
   "source": [
    "#  <font color=red> Module_23_連接MySQL與基本操作</font>"
   ]
  },
  {
   "cell_type": "markdown",
   "id": "e50a736d",
   "metadata": {},
   "source": [
    "增刪查改（CRUD），全稱增加（Create）、刪除（Delete）、查詢（Read）、改正（Update），在電腦程式語言中是一連串常見的動作行為，而其行為通常是為了針對某個特定資源所作出的舉動（例如：建立資料、讀取資料等）。這四個行為最常見的用途是在使用SQL資料庫與網站的API埠口的時候。這個詞語（CRUD）最早被記載於James Martin所撰寫的Managing the Data-base Environment書中。<br>\n",
    "<div style=\"margin-top:15px;color:#9D9D9D\">\n",
    "    我們來試著利用 pymysql 套件，寫 py 檔來對 MySQL 做 CRUD\n",
    "</div>"
   ]
  },
  {
   "cell_type": "markdown",
   "id": "b3287eda",
   "metadata": {},
   "source": [
    "## MySQL的基本操作_insert"
   ]
  },
  {
   "cell_type": "code",
   "execution_count": null,
   "id": "f684c437",
   "metadata": {},
   "outputs": [],
   "source": [
    "import pymysql\n",
    "from datetime import datetime\n",
    "\n",
    "# 連接資料庫\n",
    "host = 'localhost'\n",
    "port = 3306\n",
    "user = 'root'\n",
    "passwd = '輸入自己的密碼'\n",
    "db = 'testdb'\n",
    "charset = 'utf8mb4'\n",
    "\n",
    "conn = pymysql.connect(host = host, port = port, user = user, passwd = passwd, db = db, charset = charset)\n",
    "print('Successfully connected!')\n",
    "\n",
    "# 使用 cursor 物件來進行操作\n",
    "cursor = conn.cursor()"
   ]
  },
  {
   "cell_type": "code",
   "execution_count": null,
   "id": "3573dd9a",
   "metadata": {},
   "outputs": [],
   "source": [
    "# 試著 INSERT 一筆資料\n",
    "# 注意 TABLE 欄位的資料型態\n",
    "# 先寫好 SQL 語法\n",
    "sql = \"\"\"\n",
    "INSERT INTO Staff (ID, Name, DeptId, Age, Gender, Salary, recordDt)\n",
    "VALUES ('009', 'Mike', '002', 45, 'M', 60000, '2020-04-24 14:59:57');\n",
    "\"\"\"\n",
    "\n",
    "# 將指令放進 cursor 物件，並執行\n",
    "cursor.execute(sql)"
   ]
  },
  {
   "cell_type": "code",
   "execution_count": null,
   "id": "ffd39326",
   "metadata": {},
   "outputs": [],
   "source": [
    "# 產生現在時間的方式如下\n",
    "t = datetime.now()\n",
    "t"
   ]
  },
  {
   "cell_type": "code",
   "execution_count": null,
   "id": "e7f3ed1d",
   "metadata": {},
   "outputs": [],
   "source": [
    "dt = t.strftime('%Y-%m-%d %H:%M:%S')\n",
    "dt"
   ]
  },
  {
   "cell_type": "code",
   "execution_count": null,
   "id": "80a90843",
   "metadata": {},
   "outputs": [],
   "source": [
    "# 試著再 INSERT 一筆資料\n",
    "sql = \"\"\"\n",
    "INSERT INTO Staff (ID, Name, DeptId, Age, Gender, Salary, recordDt)\n",
    "VALUES ('010', 'Judy', '002', 30, 'F', 48000, '{}');\n",
    "\"\"\".format(dt)\n",
    "\n",
    "# 將指令放進 cursor 物件，並執行\n",
    "cursor.execute(sql)"
   ]
  },
  {
   "cell_type": "code",
   "execution_count": null,
   "id": "92a3e2ef",
   "metadata": {},
   "outputs": [],
   "source": [
    "# 因 pymysql 預設不會自動 commit，故要記得 commit，這樣才是真的執行出去\n",
    "conn.commit() "
   ]
  },
  {
   "cell_type": "code",
   "execution_count": null,
   "id": "a793f7db",
   "metadata": {},
   "outputs": [],
   "source": [
    "# 關閉連線\n",
    "cursor.close()\n",
    "conn.close()"
   ]
  },
  {
   "cell_type": "markdown",
   "id": "d89d5648",
   "metadata": {},
   "source": [
    "## MySQL的基本操作_select"
   ]
  },
  {
   "cell_type": "code",
   "execution_count": null,
   "id": "2477f7d6",
   "metadata": {},
   "outputs": [],
   "source": [
    "# 連接資料庫\n",
    "host = 'localhost'\n",
    "port = 3306\n",
    "user = 'root'\n",
    "passwd = '輸入自己的密碼'\n",
    "db = 'testdb'\n",
    "charset = 'utf8mb4'\n",
    "\n",
    "conn = pymysql.connect(host = host, port = port, user = user, passwd = passwd, db = db, charset = charset)\n",
    "print('Successfully connected!')\n",
    "\n",
    "# 使用 cursor 物件來進行操作\n",
    "cursor = conn.cursor()"
   ]
  },
  {
   "cell_type": "code",
   "execution_count": null,
   "id": "a88ef61b",
   "metadata": {},
   "outputs": [],
   "source": [
    "# 試著將資料表中的資料取出\n",
    "# 先寫好 SQL 語法\n",
    "sql = \"\"\"\n",
    "SELECT * FROM Staff;\n",
    "\"\"\"\n",
    "\n",
    "# 將指令放進 cursor 物件，並執行\n",
    "cursor.execute(sql)"
   ]
  },
  {
   "cell_type": "code",
   "execution_count": null,
   "id": "142c282a",
   "metadata": {},
   "outputs": [],
   "source": [
    "# 將查詢結果取出\n",
    "# 在執行一次會是空 tuple\n",
    "data = cursor.fetchall()"
   ]
  },
  {
   "cell_type": "code",
   "execution_count": null,
   "id": "e217bdc8",
   "metadata": {},
   "outputs": [],
   "source": [
    "data"
   ]
  },
  {
   "cell_type": "code",
   "execution_count": null,
   "id": "0fc1c122",
   "metadata": {},
   "outputs": [],
   "source": [
    "# 都換成列表來做點簡單的操作\n",
    "dataList = []\n",
    "for i in range(len(data)):\n",
    "    dataList.append(list(data[i]))\n",
    "dataList"
   ]
  },
  {
   "cell_type": "code",
   "execution_count": null,
   "id": "3283cf80",
   "metadata": {},
   "outputs": [],
   "source": [
    "dataList[1][6]"
   ]
  },
  {
   "cell_type": "code",
   "execution_count": null,
   "id": "1281222e",
   "metadata": {},
   "outputs": [],
   "source": [
    "dataList[1][6] = dataList[1][6].strftime('%Y-%m-%d %H:%M:%S') # 變成字串\n",
    "dataList[0][6] = dataList[0][6].strftime('%Y-%m-%d %H:%M:%S') # 變成字串"
   ]
  },
  {
   "cell_type": "code",
   "execution_count": null,
   "id": "942ddaa3",
   "metadata": {},
   "outputs": [],
   "source": [
    "dataList"
   ]
  },
  {
   "cell_type": "code",
   "execution_count": null,
   "id": "6be315e1",
   "metadata": {},
   "outputs": [],
   "source": [
    "# 關閉連線\n",
    "cursor.close()\n",
    "conn.close()"
   ]
  },
  {
   "cell_type": "markdown",
   "id": "ebb89d20",
   "metadata": {},
   "source": [
    "## MySQL的基本操作_update"
   ]
  },
  {
   "cell_type": "code",
   "execution_count": null,
   "id": "99f795ba",
   "metadata": {},
   "outputs": [],
   "source": [
    "# 連接資料庫\n",
    "\n",
    "host = 'localhost'\n",
    "port = 3306\n",
    "user = 'root'\n",
    "passwd = '輸入自己的密碼'\n",
    "db = 'testdb'\n",
    "charset = 'utf8mb4'\n",
    "\n",
    "conn = pymysql.connect(host = host, port = port, user = user, passwd = passwd, db = db, charset = charset)\n",
    "print('Successfully connected!')\n",
    "\n",
    "# 使用 cursor 物件來進行操作\n",
    "cursor = conn.cursor()"
   ]
  },
  {
   "cell_type": "code",
   "execution_count": null,
   "id": "ca5a49c0",
   "metadata": {},
   "outputs": [],
   "source": [
    "# 先寫好 SQL 語法\n",
    "sql = \"\"\"\n",
    "UPDATE Staff SET Salary = Salary * 1.1;\n",
    "\"\"\"\n",
    "\n",
    "# 將指令放進 cursor 物件，並執行\n",
    "cursor.execute(sql)"
   ]
  },
  {
   "cell_type": "code",
   "execution_count": null,
   "id": "aa1f364f",
   "metadata": {},
   "outputs": [],
   "source": [
    "# 因 pymysql 預設不會自動 commit，故要記得 commit，這樣才是真的執行出去\n",
    "conn.commit()"
   ]
  },
  {
   "cell_type": "code",
   "execution_count": null,
   "id": "c51be891",
   "metadata": {},
   "outputs": [],
   "source": [
    "cursor.close()\n",
    "conn.close()"
   ]
  },
  {
   "cell_type": "markdown",
   "id": "fffb3ddc",
   "metadata": {},
   "source": [
    "## MySQL的基本操作_delete"
   ]
  },
  {
   "cell_type": "raw",
   "id": "236a043e",
   "metadata": {},
   "source": [
    "# 要在 workbench 刪除資料，要先設定 SET SQL_SAFE_UPDATES = 0 ，把安全模式關掉才能刪除\n",
    "# 完成後再打開 SET SQL_SAFE_UPDATES = 1"
   ]
  },
  {
   "cell_type": "code",
   "execution_count": null,
   "id": "857101b0",
   "metadata": {},
   "outputs": [],
   "source": [
    "# 連接資料庫\n",
    "host = 'localhost'\n",
    "port = 3306\n",
    "user = 'root'\n",
    "passwd = '輸入自己的密碼'\n",
    "db = 'testdb'\n",
    "charset = 'utf8mb4'\n",
    "\n",
    "conn = pymysql.connect(host = host, port = port, user = user, passwd = passwd, db = db, charset = charset)\n",
    "print('Successfully connected!')\n",
    "\n",
    "# 使用 cursor 物件來進行操作\n",
    "cursor = conn.cursor()"
   ]
  },
  {
   "cell_type": "code",
   "execution_count": null,
   "id": "521fbe9c",
   "metadata": {},
   "outputs": [],
   "source": [
    "# 先寫好 SQL 語法\n",
    "sql = \"\"\"\n",
    "DELETE FROM Staff\n",
    "where ID = 09;\n",
    "\"\"\"\n",
    "\n",
    "# 將指令放進 cursor 物件，並執行\n",
    "cursor.execute(sql)"
   ]
  },
  {
   "cell_type": "code",
   "execution_count": null,
   "id": "f0503233",
   "metadata": {},
   "outputs": [],
   "source": [
    "# 因 pymysql 預設不會自動 commit，故要記得 commit，這樣才是真的執行出去\n",
    "conn.commit()"
   ]
  },
  {
   "cell_type": "code",
   "execution_count": null,
   "id": "823f3d7b",
   "metadata": {},
   "outputs": [],
   "source": [
    "cursor.close()\n",
    "conn.close()"
   ]
  }
 ],
 "metadata": {
  "kernelspec": {
   "display_name": "Python 3",
   "language": "python",
   "name": "python3"
  },
  "language_info": {
   "codemirror_mode": {
    "name": "ipython",
    "version": 3
   },
   "file_extension": ".py",
   "mimetype": "text/x-python",
   "name": "python",
   "nbconvert_exporter": "python",
   "pygments_lexer": "ipython3",
   "version": "3.8.10"
  }
 },
 "nbformat": 4,
 "nbformat_minor": 5
}
