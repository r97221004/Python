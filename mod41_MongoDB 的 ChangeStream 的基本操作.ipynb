{
 "cells": [
  {
   "cell_type": "markdown",
   "id": "88d0d178",
   "metadata": {},
   "source": [
    "參考文章: https://www.mongodb.com/docs/manual/changeStreams/?_ga=2.175326625.2023776577.1668476442-150369925.1649904364"
   ]
  },
  {
   "cell_type": "markdown",
   "id": "4d25d9c6",
   "metadata": {},
   "source": [
    "參考文章: https://pymongo.readthedocs.io/en/stable/api/pymongo/change_stream.html"
   ]
  },
  {
   "cell_type": "markdown",
   "id": "a376a8c8",
   "metadata": {},
   "source": [
    "# Change Streams"
   ]
  },
  {
   "cell_type": "raw",
   "id": "9f66d3e6",
   "metadata": {},
   "source": [
    "Change streams allow applications to access real-time data changes without the complexity and risk of tailing the oplog. Applications can use change streams to subscribe to all data changes on a single collection, a database, or an entire deployment, and immediately react to them. Because change streams use the aggregation framework, applications can also filter for specific changes or transform the notifications at will.\n",
    "\n",
    "Starting in MongoDB 5.1, change streams are optimized, providing more efficient resource utilization and faster execution of some aggregation pipeline stages."
   ]
  },
  {
   "cell_type": "markdown",
   "id": "385ad412",
   "metadata": {},
   "source": [
    "# Availability"
   ]
  },
  {
   "cell_type": "raw",
   "id": "c0385b07",
   "metadata": {},
   "source": [
    "Change streams are available for replica sets and sharded clusters:"
   ]
  },
  {
   "cell_type": "markdown",
   "id": "32450eb4",
   "metadata": {},
   "source": [
    "### Storage Engine."
   ]
  },
  {
   "cell_type": "raw",
   "id": "928f12a3",
   "metadata": {},
   "source": [
    "The replica sets and sharded clusters must use the WiredTiger storage engine. Change streams can also be used on deployments that employ MongoDB's encryption-at-rest feature."
   ]
  },
  {
   "cell_type": "markdown",
   "id": "8184ddf0",
   "metadata": {},
   "source": [
    "### Replica Set Protocol Version."
   ]
  },
  {
   "cell_type": "raw",
   "id": "24cbc747",
   "metadata": {},
   "source": [
    "The replica sets and sharded clusters must use replica set protocol version 1 (pv1)."
   ]
  },
  {
   "cell_type": "markdown",
   "id": "fd4e8868",
   "metadata": {},
   "source": [
    "### Read Concern \"majority\" Enablement."
   ]
  },
  {
   "cell_type": "markdown",
   "id": "17c0c333",
   "metadata": {},
   "source": [
    "Starting in MongoDB 4.2, change streams are available regardless of the \"majority\" read concern support; that is, read concern majority support can be either enabled (default) or disabled to use change streams.\n",
    "\n",
    "In MongoDB 4.0 and earlier, change streams are available only if \"majority\" read concern support is enabled (default)."
   ]
  },
  {
   "cell_type": "markdown",
   "id": "c6aa21e2",
   "metadata": {},
   "source": [
    "# Connect"
   ]
  },
  {
   "cell_type": "raw",
   "id": "ad4de2e5",
   "metadata": {},
   "source": [
    "Connections for a change stream can either use DNS seed lists with the +srv connection option or by listing the servers individually in the connection string.\n",
    "\n",
    "If the driver loses the connection to a change stream or the connection goes down, it attempts to reestablish a connection to the change stream through another node in the cluster that has a matching read preference. If the driver cannot find a node with the correct read preference, it throws an exception.\n",
    "\n",
    "For more information, see Connection String URI Format."
   ]
  },
  {
   "cell_type": "markdown",
   "id": "b946836d",
   "metadata": {},
   "source": [
    "# Watch a Collection, Database, or Deployment"
   ]
  },
  {
   "cell_type": "raw",
   "id": "526731cd",
   "metadata": {},
   "source": [
    "You can open change streams against:"
   ]
  },
  {
   "cell_type": "markdown",
   "id": "a434d5cc",
   "metadata": {},
   "source": [
    "<img src='./img/1.png'>"
   ]
  },
  {
   "cell_type": "raw",
   "id": "f29e1f45",
   "metadata": {},
   "source": [
    "NOTE\n",
    "Change Stream Examples\n",
    "The examples on this page use the MongoDB drivers to illustrate how to open a change stream cursor for a collection and work with the change stream cursor."
   ]
  },
  {
   "cell_type": "markdown",
   "id": "32ce53e9",
   "metadata": {},
   "source": [
    "# Open A Change Stream"
   ]
  },
  {
   "cell_type": "raw",
   "id": "2abec9f9",
   "metadata": {},
   "source": [
    "To open a change stream:\n",
    "\n",
    "1. For a replica set, you can issue the open change stream operation from any of the data-bearing members.\n",
    "2. For a sharded cluster, you must issue the open change stream operation from the mongos\n",
    "\n",
    "The following example opens a change stream for a collection and iterates over the cursor to retrieve the change stream documents."
   ]
  },
  {
   "cell_type": "raw",
   "id": "dfdfd9ab",
   "metadata": {},
   "source": [
    "The Python examples below assume that you have connected to a MongoDB replica set and have accessed a database that contains an inventory collection."
   ]
  },
  {
   "cell_type": "code",
   "execution_count": null,
   "id": "eba43b87",
   "metadata": {},
   "outputs": [],
   "source": [
    "cursor = db.inventory.watch()\n",
    "document = next(cursor)"
   ]
  },
  {
   "cell_type": "raw",
   "id": "001d67f9",
   "metadata": {},
   "source": [
    "To retrieve the data change event from the cursor, iterate the change stream cursor. For information on the change stream event, see Change Events.\n",
    "\n",
    "While the connection to the MongoDB deployment remains open, the cursor remains open until one of the following occurs:\n",
    "\n",
    "1. The cursor is explicitly closed.\n",
    "2. An invalidate event occurs.\n",
    "3. If the deployment is a sharded cluster, a shard removal may cause an open change stream cursor to close, and the closed change stream cursor may not be fully resumable."
   ]
  },
  {
   "cell_type": "raw",
   "id": "9640e9ad",
   "metadata": {},
   "source": [
    "NOTE\n",
    "\n",
    "1 . The lifecycle of an unclosed cursor is language-dependent.\n",
    "2. Starting in MongoDB 4.0, you can specify a startAtOperationTime to open the cursor at a particular point in time. If the \n",
    "   specified starting point is in the past, it must be in the time range of the oplog."
   ]
  },
  {
   "cell_type": "markdown",
   "id": "f90bf7d6",
   "metadata": {},
   "source": [
    "# Modify Change Stream Output"
   ]
  },
  {
   "cell_type": "raw",
   "id": "91d61fbf",
   "metadata": {},
   "source": [
    "You can control change stream output by providing an array of one or more of the following pipeline stages when configuring the change stream:\n",
    "\n",
    "$addFields\n",
    "$match\n",
    "$project\n",
    "$replaceRoot\n",
    "$replaceWith (Available starting in MongoDB 4.2)\n",
    "$redact\n",
    "$set (Available starting in MongoDB 4.2)\n",
    "$unset (Available starting in MongoDB 4.2)"
   ]
  },
  {
   "cell_type": "code",
   "execution_count": null,
   "id": "a977e923",
   "metadata": {},
   "outputs": [],
   "source": [
    "pipeline = [\n",
    "    {\"$match\": {\"fullDocument.username\": \"alice\"}},\n",
    "    {\"$addFields\": {\"newField\": \"this is an added field!\"}},\n",
    "]\n",
    "cursor = db.inventory.watch(pipeline=pipeline)\n",
    "document = next(cursor)"
   ]
  },
  {
   "cell_type": "raw",
   "id": "56c7b172",
   "metadata": {},
   "source": [
    "TIP\n",
    "\n",
    "The _id field of the change stream event document act as the resume token. Do not use the pipeline to modify or remove the change stream event's _id field.\n",
    "\n",
    "Starting in MongoDB 4.2, change streams will throw an exception if the change stream aggregation pipeline modifies an event's _id field.\n",
    "\n",
    "See Change Events for more information on the change stream response document format."
   ]
  },
  {
   "cell_type": "markdown",
   "id": "966feeed",
   "metadata": {},
   "source": [
    "# Lookup Full Document for Update Operations"
   ]
  },
  {
   "cell_type": "raw",
   "id": "2daed8f7",
   "metadata": {},
   "source": [
    "By default, change streams only return the delta of fields during the update operation. However, you can configure the change stream to return the most current majority-committed version of the updated document."
   ]
  },
  {
   "cell_type": "raw",
   "id": "818c719c",
   "metadata": {},
   "source": [
    "To return the most current majority-committed version of the updated document, pass full_document='updateLookup' to the db.collection.watch() method.\n",
    "\n",
    "In the example below, all update operations notifications include a full_document field that represents the current version of the document affected by the update operation."
   ]
  },
  {
   "cell_type": "code",
   "execution_count": null,
   "id": "5425d9f8",
   "metadata": {},
   "outputs": [],
   "source": [
    "cursor = db.inventory.watch(full_document=\"updateLookup\")\n",
    "document = next(cursor)"
   ]
  },
  {
   "cell_type": "raw",
   "id": "59c7b254",
   "metadata": {},
   "source": [
    "NOTE\n",
    "\n",
    "If there are one or more majority-committed operations that modified the updated document after the update operation but before the lookup, the full document returned may differ significantly from the document at the time of the update operation.\n",
    "\n",
    "However, the deltas included in the change stream document always correctly describe the watched collection changes that applied to that change stream event.\n",
    "\n",
    "See Change Events for more information on the change stream response document format."
   ]
  },
  {
   "cell_type": "markdown",
   "id": "ef782cd9",
   "metadata": {},
   "source": [
    "# Resume a Change Stream"
   ]
  },
  {
   "cell_type": "raw",
   "id": "56940ebe",
   "metadata": {},
   "source": [
    "Change streams are resumable by specifying a resume token to either resumeAfter or startAfter when opening the cursor."
   ]
  },
  {
   "cell_type": "markdown",
   "id": "aefeca08",
   "metadata": {},
   "source": [
    "### resumeAfter for Change Streams"
   ]
  },
  {
   "cell_type": "raw",
   "id": "6de50672",
   "metadata": {},
   "source": [
    "You can resume a change stream after a specific event by passing a resume token to resumeAfter when opening the cursor.\n",
    "See Resume Tokens for more information on the resume token."
   ]
  },
  {
   "cell_type": "raw",
   "id": "5042c08f",
   "metadata": {},
   "source": [
    "IMPORTANT\n",
    "\n",
    "The oplog must have enough history to locate the operation associated with the token or the timestamp, if the timestamp is in the past.\n",
    "\n",
    "You cannot use resumeAfter to resume a change stream after an invalidate event (for example, a collection drop or rename) closes the stream. Starting in MongoDB 4.2, you can use startAfter to start a new change stream after an invalidate event."
   ]
  },
  {
   "cell_type": "raw",
   "id": "a86c591f",
   "metadata": {},
   "source": [
    "You can use the resume_after modifier to resume notifications after the operation specified in the resume token. The resume_after modifier takes a value that must resolve to a resume token, e.g. resume_token in the example below."
   ]
  },
  {
   "cell_type": "code",
   "execution_count": null,
   "id": "8303dcde",
   "metadata": {},
   "outputs": [],
   "source": [
    "resume_token = cursor.resume_token\n",
    "cursor = db.inventory.watch(resume_after=resume_token)\n",
    "document = next(cursor)"
   ]
  },
  {
   "cell_type": "markdown",
   "id": "22635454",
   "metadata": {},
   "source": [
    "### startAfter for Change Streams"
   ]
  },
  {
   "cell_type": "raw",
   "id": "4178640a",
   "metadata": {},
   "source": [
    "New in version 4.2.\n",
    "\n",
    "You can start a new change stream after a specific event by passing a resume token to startAfter when opening the cursor. Unlike resumeAfter, startAfter can resume notifications after an invalidate event by creating a new change stream.\n",
    "\n",
    "See Resume Tokens for more information on the resume token."
   ]
  },
  {
   "cell_type": "raw",
   "id": "dd703601",
   "metadata": {},
   "source": [
    "IMPORTANT\n",
    "\n",
    "The oplog must have enough history to locate the operation associated with the token or the timestamp, if the timestamp is in the past."
   ]
  },
  {
   "cell_type": "markdown",
   "id": "92f4222a",
   "metadata": {},
   "source": [
    "### Resume Tokens"
   ]
  },
  {
   "cell_type": "raw",
   "id": "839a8677",
   "metadata": {},
   "source": [
    "The resume token is available from multiple sources:"
   ]
  },
  {
   "cell_type": "markdown",
   "id": "c4be9399",
   "metadata": {},
   "source": [
    "<img src='./img/2.png'>"
   ]
  },
  {
   "cell_type": "raw",
   "id": "c7666499",
   "metadata": {},
   "source": [
    "Changed in version 4.2: Starting in MongoDB 4.2, change streams will throw an exception if the change stream aggregation pipeline modifies an event's _id field."
   ]
  },
  {
   "cell_type": "markdown",
   "id": "72617852",
   "metadata": {},
   "source": [
    "<img src='./img/3.png'>"
   ]
  },
  {
   "cell_type": "markdown",
   "id": "ff851129",
   "metadata": {},
   "source": [
    "### Resume Tokens from Change Events"
   ]
  },
  {
   "cell_type": "raw",
   "id": "9032d91c",
   "metadata": {},
   "source": [
    "Change event notifications include a resume token on the _id field:"
   ]
  },
  {
   "cell_type": "code",
   "execution_count": null,
   "id": "bbda3250",
   "metadata": {},
   "outputs": [],
   "source": [
    "{\n",
    "   \"_id\": {\n",
    "      \"_data\": \"82635019A0000000012B042C0100296E5A1004AB1154ACACD849A48C61756D70D3B21F463C6F7065726174696F6E54797065003C696E736572740046646F63756D656E744B65790046645F69640064635019A078BE67426D7CF4D2000004\"\n",
    "    },\n",
    "    \"operationType\": \"insert\",\n",
    "    \"clusterTime\": Timestamp({ \"t\": 1666193824, \"i\": 1 }),\n",
    "    \"collectionUUID\": new UUID(\"ab1154ac-acd8-49a4-8c61-756d70d3b21f\"),\n",
    "    \"wallTime\": ISODate(\"2022-10-19T15:37:04.604Z\"),\n",
    "    \"fullDocument\": {\n",
    "       \"_id\": ObjectId(\"635019a078be67426d7cf4d2\"'),\n",
    "       \"name\": \"Giovanni Verga\"\n",
    "    },\n",
    "    \"ns\": {\n",
    "       \"db\": \"test\",\n",
    "       \"coll\": \"names\"\n",
    "    },\n",
    "    \"documentKey\": {\n",
    "       \"_id\": ObjectId(\"635019a078be67426d7cf4d2\")\n",
    "    }\n",
    "}"
   ]
  },
  {
   "cell_type": "markdown",
   "id": "51d822fb",
   "metadata": {},
   "source": [
    "### Resume Tokens from aggregate"
   ]
  },
  {
   "cell_type": "raw",
   "id": "03054531",
   "metadata": {},
   "source": [
    "When using the aggregate command, the $changeStream aggregation stage includes a resume token on the cursor.postBatchResumeToken field:"
   ]
  },
  {
   "cell_type": "code",
   "execution_count": null,
   "id": "3a9d327d",
   "metadata": {},
   "outputs": [],
   "source": [
    "{\n",
    "   \"cursor\": {\n",
    "      \"firstBatch\": [],\n",
    "      \"postBatchResumeToken\": {\n",
    "         \"_data\": \"8263515EAC000000022B0429296E1404\"\n",
    "      },\n",
    "      \"id\": Long(\"4309380460777152828\"),\n",
    "      \"ns\": \"test.names\"\n",
    "   },\n",
    "   \"ok\": 1,\n",
    "   \"$clusterTime\": {\n",
    "      \"clusterTime\": Timestamp({ \"t\": 1666277036, \"i\": 1 }),\n",
    "      \"signature\": {\n",
    "         \"hash\": Binary(Buffer.from(\"0000000000000000000000000000000000000000\", \"hex\"), 0),\n",
    "         \"keyId\": Long(\"0\")\n",
    "      }\n",
    "   },\n",
    "   \"operationTime\": Timestamp({ \"t\": 1666277036, \"i\": 1 })\n",
    "}"
   ]
  },
  {
   "cell_type": "markdown",
   "id": "6fe891c5",
   "metadata": {},
   "source": [
    "### Resume Tokens from getMore"
   ]
  },
  {
   "cell_type": "code",
   "execution_count": null,
   "id": "5e0d5812",
   "metadata": {},
   "outputs": [],
   "source": [
    "The getMore command also includes a resume token on the cursor.postBatchResumeToken field:"
   ]
  },
  {
   "cell_type": "code",
   "execution_count": null,
   "id": "5de99f1b",
   "metadata": {},
   "outputs": [],
   "source": [
    "{\n",
    "   \"cursor\": {\n",
    "      \"nextBatch\": [],\n",
    "      \"postBatchResumeToken\": {\n",
    "         \"_data\": \"8263515979000000022B0429296E1404\"\n",
    "      },\n",
    "      \"id\": Long(\"7049907285270685005\"),\n",
    "      \"ns\": \"test.names\"\n",
    "   },\n",
    "   \"ok\": 1,\n",
    "   \"$clusterTime\": {\n",
    "      \"clusterTime\": Timestamp( { \"t\": 1666275705, \"i\": 1 } ),\n",
    "      \"signature\": {\n",
    "         \"hash\": Binary(Buffer.from(\"0000000000000000000000000000000000000000\", \"hex\"), 0),\n",
    "         \"keyId\": Long(\"0\")\n",
    "      }\n",
    "   },\n",
    "   \"operationTime\": Timestamp({ \"t\": 1666275705, \"i\": 1 })\n",
    "}"
   ]
  },
  {
   "cell_type": "markdown",
   "id": "1ef25547",
   "metadata": {},
   "source": [
    "### 範例"
   ]
  },
  {
   "cell_type": "raw",
   "id": "6f0082d0",
   "metadata": {},
   "source": [
    "From the Change Event documentation page, a change stream will output this document:"
   ]
  },
  {
   "cell_type": "code",
   "execution_count": null,
   "id": "786d710a",
   "metadata": {},
   "outputs": [],
   "source": [
    "{\n",
    "   _id : { <BSON Object> },\n",
    "   \"operationType\" : \"<operation>\",\n",
    "   \"fullDocument\" : { <document> },\n",
    "   \"ns\" : {\n",
    "      \"db\" : \"<database>\",\n",
    "      \"coll\" : \"<collection\"\n",
    "   },\n",
    "   \"documentKey\" : { \"_id\" : <ObjectId> },\n",
    "   \"updateDescription\" : {\n",
    "      \"updatedFields\" : { <document> },\n",
    "      \"removedFields\" : [ \"<field>\", ... ]\n",
    "   }\n",
    "}"
   ]
  },
  {
   "cell_type": "raw",
   "id": "fd49dcd7",
   "metadata": {},
   "source": [
    "That is, that document will be the output if you put nothing inside the watch() method."
   ]
  },
  {
   "cell_type": "raw",
   "id": "992798be",
   "metadata": {},
   "source": [
    "You can then use aggregation pipeline stages to filter/modify this document.\n",
    "\n",
    "For example, if you only want to see the fields _id, a, and b from inserted/updated documents, the pipeline would be (using Python):"
   ]
  },
  {
   "cell_type": "code",
   "execution_count": null,
   "id": "b5eda8a4",
   "metadata": {},
   "outputs": [],
   "source": [
    "with db.test.watch([\n",
    "    {'$project': {\n",
    "        'fullDocument_id':'$fullDocument._id',\n",
    "        'a':'$fullDocument.a',\n",
    "        'b':'$fullDocument.b'}}], full_document='updateLookup') as stream:\n",
    "    for change in stream:\n",
    "        print(change)"
   ]
  },
  {
   "cell_type": "raw",
   "id": "7b6cb91e",
   "metadata": {},
   "source": [
    "Insert data into MongoDB:"
   ]
  },
  {
   "cell_type": "code",
   "execution_count": null,
   "id": "bf6aa0af",
   "metadata": {},
   "outputs": [],
   "source": [
    "> db.test.insert({a:1, b:1, c:1, d:1})"
   ]
  },
  {
   "cell_type": "raw",
   "id": "c8a4a10a",
   "metadata": {},
   "source": [
    "The change stream will output:"
   ]
  },
  {
   "cell_type": "code",
   "execution_count": null,
   "id": "8b5553a6",
   "metadata": {},
   "outputs": [],
   "source": [
    "{'a': 1.0,\n",
    " 'fullDocument_id': ObjectId('5aa0c2300551e941c6958f86'),\n",
    " '_id': <BSON object>,\n",
    " 'b': 1.0}"
   ]
  },
  {
   "cell_type": "raw",
   "id": "5d86a99f",
   "metadata": {},
   "source": [
    "Note: \n",
    "\n",
    "I projected the inserted document's _id into fullDocument_id. You can project it to _id (e.g. _id: '$fullDocument._id'), but you will lose the change stream's original _id field, which contains the resume token.\n",
    "\n",
    "Note: \n",
    "\n",
    "I also used the parameter full_document='updateLookup' when creating the stream. Otherwise, the full document won't be shown in an update event. This is explained in the Change Event page\n",
    "\n",
    "Note: \n",
    "\n",
    "The example above is for inserting documents, but you can easily tailor it for updates using a $match: {operationType: 'update'} stage before the $project stage.\n",
    "\n",
    "Note: \n",
    "\n",
    "The fullDocument field that is returned on update events contain the looked up version of the document that is majority-committed to the replica set members. This may or may not be the version of the document that was modified. Any other interleaving operations between the update operation and when the change stream is returned to the client may have altered the version of the document. For example, a delete event may caused the fullDocument field to be null. See Lookup Full Document for Update Operations for more details."
   ]
  },
  {
   "cell_type": "code",
   "execution_count": null,
   "id": "aa081d7e",
   "metadata": {},
   "outputs": [],
   "source": []
  }
 ],
 "metadata": {
  "kernelspec": {
   "display_name": "Python 3",
   "language": "python",
   "name": "python3"
  },
  "language_info": {
   "codemirror_mode": {
    "name": "ipython",
    "version": 3
   },
   "file_extension": ".py",
   "mimetype": "text/x-python",
   "name": "python",
   "nbconvert_exporter": "python",
   "pygments_lexer": "ipython3",
   "version": "3.8.10"
  }
 },
 "nbformat": 4,
 "nbformat_minor": 5
}
