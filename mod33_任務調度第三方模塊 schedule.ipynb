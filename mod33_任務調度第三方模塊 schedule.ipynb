{
 "cells": [
  {
   "cell_type": "markdown",
   "id": "31ad4e1d",
   "metadata": {},
   "source": [
    " # 概述"
   ]
  },
  {
   "cell_type": "raw",
   "id": "9a83c94d",
   "metadata": {},
   "source": [
    "Python 任務調度模塊，非常的輕量，不需要額外的依賴，可使用友好的語法來定時調用 python 函數或者其他可調用對象。\n",
    "Schedule 並不是一個放之四海而皆準的任務調度庫，此庫旨在為簡單的調度問題提供簡單的解決方案。如果碰到如下情況，請使用其他更有效的方法：\n",
    "\n",
    "- 任務持久化（記住重新啟動之間的時間表）\n",
    "- 精確的計時任務（如sub-second級）\n",
    "- 並發執行（多線程）\n",
    "- 本地化（時區、工作日或節假日）"
   ]
  },
  {
   "cell_type": "markdown",
   "id": "3a091a43",
   "metadata": {},
   "source": [
    "# 安裝"
   ]
  },
  {
   "cell_type": "code",
   "execution_count": null,
   "id": "3cc4cd07",
   "metadata": {},
   "outputs": [],
   "source": [
    "pip install schedule"
   ]
  },
  {
   "cell_type": "markdown",
   "id": "5e070728",
   "metadata": {},
   "source": [
    "# 基本用法"
   ]
  },
  {
   "cell_type": "markdown",
   "id": "b6601a38",
   "metadata": {},
   "source": [
    "### 用法一: 定時任務"
   ]
  },
  {
   "cell_type": "code",
   "execution_count": null,
   "id": "0f4a487b",
   "metadata": {},
   "outputs": [],
   "source": [
    "import schedule\n",
    "import time\n",
    "\n",
    "def job():\n",
    "    print(\"I'm working...\")\n",
    "\n",
    "# 每3秒/分鐘/小時/天/星期執行任務\n",
    "# schedule.every(3).seconds.do(job)\n",
    "schedule.every(3).minutes.do(job)\n",
    "# schedule.every(3).hours.do(job)\n",
    "# schedule.every(3).days.do(job)\n",
    "# schedule.every(3).weeks.do(job)\n",
    "\n",
    "# 每分鐘的第23秒執行任務\n",
    "# schedule.every().minute.at(\":23\").do(job)\n",
    "\n",
    "# 每個小時的第42分執行任務\n",
    "# schedule.every().hour.at(\":42\").do(job)\n",
    "\n",
    "# 隔第5個小時的20分鐘30秒執行任務\n",
    "# 如當前時間是2點，首次執行時間是6點20分30秒\n",
    "# schedule.every(5).hours.at(\"20:30\").do(job)\n",
    "\n",
    "# 每天的指定時間執行任務\n",
    "# schedule.every().day.at(\"10:30\").do(job)\n",
    "# schedule.every().day.at(\"10:30:42\").do(job)\n",
    "\n",
    "# 每個星期的指定天執行任務\n",
    "# schedule.every().monday.do(job)\n",
    "# schedule.every().wednesday.at(\"13:15\").do(job)\n",
    "\n",
    "while True:\n",
    "    schedule.run_pending()\n",
    "    time.sleep(1)"
   ]
  },
  {
   "cell_type": "markdown",
   "id": "7c4a61d2",
   "metadata": {},
   "source": [
    "### 用法二: 使用裝飾器調度"
   ]
  },
  {
   "cell_type": "code",
   "execution_count": null,
   "id": "fd38a5e1",
   "metadata": {},
   "outputs": [],
   "source": [
    "from schedule import repeat, every, run_pending\n",
    "import time\n",
    "\n",
    "@repeat(every(3).seconds)\n",
    "def job():\n",
    "    print(\"I'm working...\")\n",
    "\n",
    "while True:\n",
    "    run_pending()\n",
    "    time.sleep(1)"
   ]
  },
  {
   "cell_type": "markdown",
   "id": "cf587272",
   "metadata": {},
   "source": [
    "# 參數傳遞"
   ]
  },
  {
   "cell_type": "code",
   "execution_count": null,
   "id": "9d12dfc4",
   "metadata": {},
   "outputs": [],
   "source": [
    "import schedule\n",
    "import time\n",
    "\n",
    "def greet(name):\n",
    "    print(f\"hello {name}\")\n",
    "\n",
    "schedule.every(3).seconds.do(greet, 'jerry')\n",
    "\n",
    "while True:\n",
    "    schedule.run_pending()\n",
    "    time.sleep(1)"
   ]
  },
  {
   "cell_type": "code",
   "execution_count": null,
   "id": "875ddc67",
   "metadata": {},
   "outputs": [],
   "source": [
    "from schedule import repeat, every, run_pending\n",
    "import time\n",
    "\n",
    "@repeat(every(3).seconds, 'jerry')\n",
    "def greet(name):\n",
    "    print(f\"hello {name}\")\n",
    "\n",
    "while True:\n",
    "    run_pending()\n",
    "    time.sleep(1)"
   ]
  },
  {
   "cell_type": "markdown",
   "id": "2684a733",
   "metadata": {},
   "source": [
    "# 只執行一次任務 CancelJob"
   ]
  },
  {
   "cell_type": "code",
   "execution_count": null,
   "id": "fc1e4e70",
   "metadata": {},
   "outputs": [],
   "source": [
    "import schedule\n",
    "import time\n",
    "\n",
    "def job_that_executes_once():\n",
    "    print('job executes once')\n",
    "    return schedule.CancelJob\n",
    "\n",
    "schedule.every(3).seconds.do(job_that_executes_once)\n",
    "\n",
    "while True:\n",
    "    schedule.run_pending()\n",
    "    time.sleep(1)"
   ]
  },
  {
   "cell_type": "markdown",
   "id": "240bb080",
   "metadata": {},
   "source": [
    "# 取消所有任務"
   ]
  },
  {
   "cell_type": "code",
   "execution_count": null,
   "id": "02ae4424",
   "metadata": {},
   "outputs": [],
   "source": [
    "import time\n",
    "import schedule\n",
    "\n",
    "\n",
    "def greet(name):\n",
    "    print('Hello {}'.format(name))\n",
    "    # return schedule.CancelJob\n",
    "\n",
    "schedule.every().second.do(greet, 'jerry')\n",
    "schedule.clear()\n",
    "\n",
    "while True:\n",
    "    schedule.run_pending()\n",
    "    time.sleep(1)"
   ]
  }
 ],
 "metadata": {
  "kernelspec": {
   "display_name": "Python 3",
   "language": "python",
   "name": "python3"
  },
  "language_info": {
   "codemirror_mode": {
    "name": "ipython",
    "version": 3
   },
   "file_extension": ".py",
   "mimetype": "text/x-python",
   "name": "python",
   "nbconvert_exporter": "python",
   "pygments_lexer": "ipython3",
   "version": "3.8.10"
  }
 },
 "nbformat": 4,
 "nbformat_minor": 5
}
