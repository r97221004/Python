{
 "cells": [
  {
   "cell_type": "markdown",
   "metadata": {},
   "source": [
    "#  <font color=red> Module_18_遞迴</font>"
   ]
  },
  {
   "cell_type": "markdown",
   "metadata": {},
   "source": [
    "## Recursive"
   ]
  },
  {
   "cell_type": "code",
   "execution_count": null,
   "metadata": {},
   "outputs": [],
   "source": [
    "# 遞迴在某些題目比迴圈來的直覺好寫\n",
    "# 缺點是很多時候速度很慢"
   ]
  },
  {
   "cell_type": "code",
   "execution_count": null,
   "metadata": {},
   "outputs": [],
   "source": [
    "import sys\n",
    "\n",
    "# 預設最大可遞迴次數\n",
    "print(sys.getrecursionlimit())"
   ]
  },
  {
   "cell_type": "code",
   "execution_count": null,
   "metadata": {},
   "outputs": [],
   "source": [
    "# 設定可遞迴最大數量\n",
    "sys.setrecursionlimit(4000)\n",
    "print(sys.getrecursionlimit())"
   ]
  },
  {
   "cell_type": "code",
   "execution_count": null,
   "metadata": {},
   "outputs": [],
   "source": [
    "def factorial(n):\n",
    "    answer = 1\n",
    "    for i in range(1, n + 1):\n",
    "        answer *= i\n",
    "    return answer\n",
    "\n",
    "a = 6\n",
    "print(f\"Factorial of {a} = {factorial(6)}\")"
   ]
  },
  {
   "cell_type": "code",
   "execution_count": null,
   "metadata": {},
   "outputs": [],
   "source": [
    "# 遞迴要設立初始值 e.g. f(1) = 1 \n",
    "# 找出規律 e.g. f(n) = n*f(n-1) \n",
    "# factorial 階乘 e.g. 5! = 5*4*3*2*1 = 120 \n",
    "\n",
    "def factorial(n):\n",
    "    \"\"\"Recursive function to find factorial\"\"\"\n",
    "    if n == 1:\n",
    "        return 1\n",
    "    else:\n",
    "        return (n * factorial(n - 1))\n",
    "a = 6\n",
    "print(f\"Factorial of {a} = {factorial(a)}\")"
   ]
  },
  {
   "cell_type": "code",
   "execution_count": null,
   "metadata": {},
   "outputs": [],
   "source": [
    "# 費波那契數列 : 0, 1, 1, 2, 3, 5, 8, 13, 21\n",
    "\n",
    "def F(n):\n",
    "    if n == 0 or n == 1:\n",
    "        return n\n",
    "    else:\n",
    "        return F(n-1) + F(n-2)\n",
    "    \n",
    "print(F(40))"
   ]
  },
  {
   "cell_type": "code",
   "execution_count": null,
   "metadata": {},
   "outputs": [],
   "source": [
    "# 費波那契數列 : 0, 1, 1, 2, 3, 5, 8, 13, 21\n",
    "# 從第 0 項開始\n",
    "# 比較一下兩個方法的時間\n",
    "# 動態規劃\n",
    "\n",
    "def func1(n):\n",
    "    if n == 0 or n == 1:\n",
    "        return n\n",
    "    else:\n",
    "        flist = [None]*(n+1)\n",
    "        flist[0] = 0\n",
    "        flist[1] = 1\n",
    "        for i in range(2, n + 1):\n",
    "            flist[i] = flist[i - 1] + flist[i - 2]\n",
    "        return flist[n]\n",
    "    \n",
    "print(func1(8))   "
   ]
  },
  {
   "cell_type": "code",
   "execution_count": null,
   "metadata": {},
   "outputs": [],
   "source": [
    "def power(x, y):\n",
    "    answer = 1\n",
    "    for i in range(1, y + 1):\n",
    "        answer *= x\n",
    "    return answer\n",
    "        \n",
    "power(3, 2)"
   ]
  },
  {
   "cell_type": "code",
   "execution_count": null,
   "metadata": {},
   "outputs": [],
   "source": [
    "# 使用遞迴寫出 x^y \n",
    "\n",
    "def power(x, y):\n",
    "    if y == 0:\n",
    "        return 1\n",
    "    else:\n",
    "        return x*power(x, y - 1)\n",
    "    \n",
    "power(3, 2)"
   ]
  },
  {
   "cell_type": "code",
   "execution_count": null,
   "metadata": {},
   "outputs": [],
   "source": [
    "# 使用遞迴找出最大公約數\n",
    "# 輾轉相除法\n",
    "# 推得 gcd(85, 34) = gcd(34, 17) = 17\n",
    "# 85 ÷ 34 = 2 ... 17\n",
    "# 34 ÷ 17 = 2 ... 0\n",
    "\n",
    "def gcd(x, y): \n",
    "    if x%y == 0:\n",
    "        return y\n",
    "    else:\n",
    "        x, y = y, x%y        # 要同時改喔!!\n",
    "        return gcd(x,y)\n",
    "    \n",
    "print(gcd(85,34))"
   ]
  },
  {
   "cell_type": "code",
   "execution_count": null,
   "metadata": {},
   "outputs": [],
   "source": [
    "# 把十進位整數轉成二進位\n",
    "# 19 ÷ 2 = 9 ... 1\n",
    "# 9 ÷ 2 = 4 ...1\n",
    "# 4  ÷ 2 = 2 ... 0\n",
    "# 2  ÷ 2 = 1 ... 0\n",
    "# 1 ÷ 2 = 0 ... 1\n",
    "# 推得 bin(19) = 10011\n",
    "# 回推 1 + 2 + 0 + 0 + 16 = 19 \n",
    "\n",
    "def bin_new(x):\n",
    "    if x//2  == 0:\n",
    "        return '0b' + str(x%2)\n",
    "    else:\n",
    "        return bin_new(x//2) + str(x%2)\n",
    "    \n",
    "\n",
    "\n",
    "num  = int(input('請輸入一個整數: '))\n",
    "bin_new(num)"
   ]
  },
  {
   "cell_type": "code",
   "execution_count": null,
   "metadata": {},
   "outputs": [],
   "source": [
    "# 取出一個整數的每一位具體的數字\n",
    "# 34695 ÷ 10 = 3469 ...5\n",
    "# 3469 ÷ 10 = 346 ... 9\n",
    "# 346 ÷ 10 = 34 ... 6\n",
    "# 34 ÷ 10 = 3 ...4\n",
    "# 3 ÷ 10 = 0 ... 3\n",
    "\n",
    "\n",
    "def get_digits(n):\n",
    "    if n // 10 == 0:\n",
    "        return [n]\n",
    "    else:\n",
    "        return get_digits(n//10) + [n%10]\n",
    "    \n",
    "get_digits(34295)"
   ]
  },
  {
   "cell_type": "code",
   "execution_count": null,
   "metadata": {},
   "outputs": [],
   "source": [
    "# 用遞迴求出數列 10, 12, 14, 16, 18...\n",
    "# 從第 0 項開始\n",
    "\n",
    "def func1(x):\n",
    "    if x == 0:\n",
    "        return 10\n",
    "    else:\n",
    "        return func1(x - 1) + 2\n",
    "    \n",
    "func1(3)"
   ]
  },
  {
   "cell_type": "code",
   "execution_count": null,
   "metadata": {},
   "outputs": [],
   "source": [
    "# 河內塔從 n = 2\n",
    "# 進階\n",
    "\n",
    "def Track(n, x, y, z): \n",
    "    if n==2:\n",
    "        print(x+' -> '+y, x+' -> '+z, y+' -> '+z, sep = '\\n')\n",
    "    else:\n",
    "        Track(n-1, x, z, y)\n",
    "        print(x+' -> '+ z)\n",
    "        Track(n-1, y, x, z)\n",
    "\n",
    "Track(4, 'x', 'y', 'z')  "
   ]
  },
  {
   "cell_type": "code",
   "execution_count": null,
   "metadata": {},
   "outputs": [],
   "source": [
    "# 危險 !!!\n",
    "\n",
    "def recursion():\n",
    "    return recursion()\n",
    "recursion()"
   ]
  }
 ],
 "metadata": {
  "kernelspec": {
   "display_name": "Python 3",
   "language": "python",
   "name": "python3"
  },
  "language_info": {
   "codemirror_mode": {
    "name": "ipython",
    "version": 3
   },
   "file_extension": ".py",
   "mimetype": "text/x-python",
   "name": "python",
   "nbconvert_exporter": "python",
   "pygments_lexer": "ipython3",
   "version": "3.8.10"
  }
 },
 "nbformat": 4,
 "nbformat_minor": 4
}
