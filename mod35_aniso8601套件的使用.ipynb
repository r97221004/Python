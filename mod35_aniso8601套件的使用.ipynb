{
 "cells": [
  {
   "cell_type": "markdown",
   "id": "539a56cb",
   "metadata": {},
   "source": [
    "# 安裝"
   ]
  },
  {
   "cell_type": "raw",
   "id": "523f7870",
   "metadata": {},
   "source": [
    "pip install aniso8601"
   ]
  },
  {
   "cell_type": "markdown",
   "id": "a06f2d78",
   "metadata": {},
   "source": [
    "# 使用"
   ]
  },
  {
   "cell_type": "markdown",
   "id": "f7361459",
   "metadata": {},
   "source": [
    "### 解析日期時間"
   ]
  },
  {
   "cell_type": "raw",
   "id": "77237aeb",
   "metadata": {},
   "source": [
    "解析典型的ISO 8601日期時間字符"
   ]
  },
  {
   "cell_type": "raw",
   "id": "c0eab624",
   "metadata": {},
   "source": [
    "Z 表示 UTC 時間，其他時區用實際時間加時差表示。T 用來連接時間和日期。"
   ]
  },
  {
   "cell_type": "code",
   "execution_count": null,
   "id": "2c5d8981",
   "metadata": {},
   "outputs": [],
   "source": [
    "import aniso8601\n",
    "\n",
    "aniso8601.parse_datetime('2021-06-10T12:10:12Z')"
   ]
  },
  {
   "cell_type": "raw",
   "id": "8f360c3d",
   "metadata": {},
   "source": [
    "可以指定其他定界符，例如空格："
   ]
  },
  {
   "cell_type": "code",
   "execution_count": null,
   "id": "c439e5a9",
   "metadata": {},
   "outputs": [],
   "source": [
    "aniso8601.parse_datetime('1977-06-10 12:00:00Z', delimiter=' ')"
   ]
  },
  {
   "cell_type": "raw",
   "id": "49e6a911",
   "metadata": {},
   "source": [
    "支持UTC偏移量："
   ]
  },
  {
   "cell_type": "code",
   "execution_count": null,
   "id": "35d47d27",
   "metadata": {},
   "outputs": [],
   "source": [
    "aniso8601.parse_datetime('1979-06-05T08:00:00-08:00')"
   ]
  },
  {
   "cell_type": "raw",
   "id": "9bb21d89",
   "metadata": {},
   "source": [
    "如果未指定UTC偏移量，則返回的日期時間的偏移量為空"
   ]
  },
  {
   "cell_type": "code",
   "execution_count": null,
   "id": "7a16978a",
   "metadata": {},
   "outputs": [],
   "source": [
    "aniso8601.parse_datetime('1983-01-22T08:00:00')"
   ]
  },
  {
   "cell_type": "raw",
   "id": "484a0e83",
   "metadata": {},
   "source": [
    "目前這個庫並不支持解析秒，觸發 LeapSecondError 錯誤"
   ]
  },
  {
   "cell_type": "code",
   "execution_count": null,
   "id": "a244739a",
   "metadata": {},
   "outputs": [],
   "source": [
    "aniso8601.parse_datetime('2018-03-06T23:59:60')"
   ]
  },
  {
   "cell_type": "markdown",
   "id": "8b82798d",
   "metadata": {},
   "source": [
    "# 解析日期"
   ]
  },
  {
   "cell_type": "raw",
   "id": "a49f5139",
   "metadata": {},
   "source": [
    "要解析以 ISO 8601 字符串表示的日期："
   ]
  },
  {
   "cell_type": "code",
   "execution_count": null,
   "id": "97c256e0",
   "metadata": {},
   "outputs": [],
   "source": [
    "aniso8601.parse_date('1984-04-23')"
   ]
  },
  {
   "cell_type": "raw",
   "id": "e8368547",
   "metadata": {},
   "source": [
    "也支持基本的格式:"
   ]
  },
  {
   "cell_type": "code",
   "execution_count": null,
   "id": "c51ae4a5",
   "metadata": {},
   "outputs": [],
   "source": [
    "aniso8601.parse_date('19840423')"
   ]
  },
  {
   "cell_type": "code",
   "execution_count": null,
   "id": "6b0b1cf0",
   "metadata": {},
   "outputs": [],
   "source": [
    "使用ISO 8601周日期格式解析日期："
   ]
  },
  {
   "cell_type": "raw",
   "id": "457e3ac1",
   "metadata": {},
   "source": [
    "W表示星期"
   ]
  },
  {
   "cell_type": "code",
   "execution_count": null,
   "id": "5f936081",
   "metadata": {},
   "outputs": [],
   "source": [
    "aniso8601.parse_date('1986-W38-1')"
   ]
  },
  {
   "cell_type": "raw",
   "id": "76dc6bd6",
   "metadata": {},
   "source": [
    "解析ISO 8601的原始日期："
   ]
  },
  {
   "cell_type": "code",
   "execution_count": null,
   "id": "6b201d1a",
   "metadata": {},
   "outputs": [],
   "source": [
    "aniso8601.parse_date('1988-132')"
   ]
  },
  {
   "cell_type": "markdown",
   "id": "66240fa8",
   "metadata": {},
   "source": [
    "# 解析時間"
   ]
  },
  {
   "cell_type": "raw",
   "id": "1aded79e",
   "metadata": {},
   "source": [
    "解析格式化為ISO 8601字符串的時間，請執行以下操作："
   ]
  },
  {
   "cell_type": "code",
   "execution_count": null,
   "id": "2d24b268",
   "metadata": {},
   "outputs": [],
   "source": [
    "aniso8601.parse_time('11:31:14')"
   ]
  },
  {
   "cell_type": "raw",
   "id": "4c01a413",
   "metadata": {},
   "source": [
    "上述所有方法一樣，支持基本格式"
   ]
  },
  {
   "cell_type": "code",
   "execution_count": null,
   "id": "f01ee6aa",
   "metadata": {},
   "outputs": [],
   "source": [
    "aniso8601.parse_time('113114')"
   ]
  },
  {
   "cell_type": "raw",
   "id": "e7b03b59",
   "metadata": {},
   "source": [
    "為以下時間指定UTC偏移量："
   ]
  },
  {
   "cell_type": "code",
   "execution_count": null,
   "id": "36e16767",
   "metadata": {},
   "outputs": [],
   "source": [
    "aniso8601.parse_time('17:18:19-02:30')"
   ]
  },
  {
   "cell_type": "code",
   "execution_count": null,
   "id": "f8d089e9",
   "metadata": {},
   "outputs": [],
   "source": [
    "aniso8601.parse_time('171819Z')"
   ]
  },
  {
   "cell_type": "code",
   "execution_count": null,
   "id": "5f031a71",
   "metadata": {},
   "outputs": [],
   "source": [
    "aniso8601.parse_time('21:42')"
   ]
  },
  {
   "cell_type": "raw",
   "id": "bf7a1547",
   "metadata": {},
   "source": [
    "支持低精度的時間格式"
   ]
  },
  {
   "cell_type": "code",
   "execution_count": null,
   "id": "3d1cbb03",
   "metadata": {},
   "outputs": [],
   "source": [
    "aniso8601.parse_time('21:42')"
   ]
  },
  {
   "cell_type": "code",
   "execution_count": null,
   "id": "0440eb2b",
   "metadata": {},
   "outputs": [],
   "source": [
    "aniso8601.parse_time('22')"
   ]
  },
  {
   "cell_type": "raw",
   "id": "dbde040e",
   "metadata": {},
   "source": [
    "在 ISO 8601 格式化時間的最後一個元素上始終允許使用小數"
   ]
  },
  {
   "cell_type": "code",
   "execution_count": null,
   "id": "9ec252b1",
   "metadata": {},
   "outputs": [],
   "source": [
    "aniso8601.parse_time('22:33.5')"
   ]
  },
  {
   "cell_type": "code",
   "execution_count": null,
   "id": "b52e45e1",
   "metadata": {},
   "outputs": [],
   "source": [
    "aniso8601.parse_time('23.75')"
   ]
  },
  {
   "cell_type": "raw",
   "id": "6077f85b",
   "metadata": {},
   "source": [
    "同樣，小數部分可以使用逗號而不用點表示。"
   ]
  },
  {
   "cell_type": "raw",
   "id": "13ce24b0",
   "metadata": {},
   "source": [
    "同樣不支持解析秒數"
   ]
  },
  {
   "cell_type": "code",
   "execution_count": null,
   "id": "5691e823",
   "metadata": {},
   "outputs": [],
   "source": [
    "aniso8601.parse_time('22:33,5')"
   ]
  }
 ],
 "metadata": {
  "kernelspec": {
   "display_name": "Python 3",
   "language": "python",
   "name": "python3"
  },
  "language_info": {
   "codemirror_mode": {
    "name": "ipython",
    "version": 3
   },
   "file_extension": ".py",
   "mimetype": "text/x-python",
   "name": "python",
   "nbconvert_exporter": "python",
   "pygments_lexer": "ipython3",
   "version": "3.8.10"
  }
 },
 "nbformat": 4,
 "nbformat_minor": 5
}
