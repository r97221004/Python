{
 "cells": [
  {
   "cell_type": "raw",
   "id": "22ded815",
   "metadata": {},
   "source": [
    "原始資料:"
   ]
  },
  {
   "cell_type": "code",
   "execution_count": 1,
   "id": "2954be11",
   "metadata": {},
   "outputs": [],
   "source": [
    "rcv_data = \"imei=358709051786584&rmc=$GNRMC,042450.00,A,2503.32937,N,12131.91940,E,1.155,,080722,,,A*6B,ST,G00414,3685,-84,1324,,M8,32,43pct,9.34,4G,3050,7,20,20,FDD,466,92,2B60,33E2722,22,27,-96,-13,NOCONN;3050,-12.9,-96,27,22,-64;3050,-16.6,-103,20,6,-76,WiFi:,21ec4118245595MOJ,3104d5902adef0Software_Lab,3ae8cc18fec4c8TOATECH,3b4a5f996b9b8dDIRECT-8d-HP M154 LaserJet,3e04bd88a4e822LLGPGuest,410c473dfe62b8shinfu0310,4354833a076307HATHANHNGUYEN,47001ff3c158ec「岡」的「Wi-Fi 網路」,476409800ee216LLT-Lab_2.4G,4b1c5f2b2507c3.1.Free Wi-Fi\""
   ]
  },
  {
   "cell_type": "raw",
   "id": "9046a7c9",
   "metadata": {},
   "source": [
    "目標:"
   ]
  },
  {
   "cell_type": "raw",
   "id": "7156f6e7",
   "metadata": {},
   "source": [
    "{\n",
    "    \"_id\": {\n",
    "        \"$oid\": \"62c7b1975e155d9a1ebc1ec3\"\n",
    "    },\n",
    "    \"raw\": \"imei=358709051786584&rmc=$GNRMC,042450.00,A,2503.32937,N,12131.91940,E,1.155,,080722,,,A*6B,ST,G00414,3685,-84,1324,,M8,32,43pct,9.34,4G,3050,7,20,20,FDD,466,92,2B60,33E2722,22,27,-96,-13,NOCONN;3050,-12.9,-96,27,22,-64;3050,-16.6,-103,20,6,-76,WiFi:,21ec4118245595MOJ,3104d5902adef0Software_Lab,3ae8cc18fec4c8TOATECH,3b4a5f996b9b8dDIRECT-8d-HP M154 LaserJet,3e04bd88a4e822LLGPGuest,410c473dfe62b8shinfu0310,4354833a076307HATHANHNGUYEN,47001ff3c158ec「岡」的「Wi-Fi 網路」,476409800ee216LLT-Lab_2.4G,4b1c5f2b2507c3.1.Free Wi-Fi\",\n",
    "    \"gsm\": {\n",
    "        \"imei\": \"358709051786584\",\n",
    "        \"sen\": 8,\n",
    "        \"telecom\": \"4G\",\n",
    "        \"cell_string\": \"3050,7,20,20,FDD,466,92,2B60,33E2722,22,27,-96,-13,NOCONN;3050,-12.9,-96,27,22,-64;3050,-16.6,-103,20,6,-76\",\n",
    "        \"cell_id\": \"3050,7,20,20,FDD,466,92,2B60,33E2722,22,27,-96,-13,NOCONN;3050,-12.9,-96,27,22,-64;3050,-16.6,-103,20,6,-76\",\n",
    "        \"company\": \"CHT\",\n",
    "        \"global_id\": \"33E2722\",\n",
    "        \"physical_id\": \"22\",\n",
    "        \"rsrp\": \"-96\",\n",
    "        \"all_physical_id\": [\n",
    "            \"22\",\n",
    "            \"6\"\n",
    "        ]\n",
    "    },\n",
    "    \"gps\": {\n",
    "        \"rmc\": \"$GNRMC\",\n",
    "        \"iso_datetime\": {\n",
    "            \"$date\": {\n",
    "                \"$numberLong\": \"1657254290000\"\n",
    "            }\n",
    "        },\n",
    "        \"status\": \"A\",\n",
    "        \"latitude\": 25.055489499999997,\n",
    "        \"longitude\": 121.53199000000002,\n",
    "        \"speed\": 2.13906,\n",
    "        \"correction\": \"A\",\n",
    "        \"noise\": 32,\n",
    "        \"pdop\": 9.34\n",
    "    },\n",
    "    \"battery\": {\n",
    "        \"mv\": 3685,\n",
    "        \"ma\": -84,\n",
    "        \"mah\": 1324\n",
    "    },\n",
    "    \"event\": \"ST\",\n",
    "    \"tag_id\": \"G00414\",\n",
    "    \"voltage\": \"43pct\",\n",
    "    \"rcv_datetime\": {\n",
    "        \"$date\": {\n",
    "            \"$numberLong\": \"1657254295361\"\n",
    "        }\n",
    "    },\n",
    "    \"wifi\": \"21ec4118245595MOJ,3104d5902adef0Software_Lab,3ae8cc18fec4c8TOATECH,3b4a5f996b9b8dDIRECT-8d-HP M154 LaserJet,3e04bd88a4e822LLGPGuest,410c473dfe62b8shinfu0310,4354833a076307HATHANHNGUYEN,47001ff3c158ec「岡」的「Wi-Fi 網路」,476409800ee216LLT-Lab_2.4G,4b1c5f2b2507c3.1.Free Wi-Fi\",\n",
    "    \"cache_source\": false,\n",
    "    \"cell_id\": [\n",
    "        \"6\",\n",
    "        \"22\"\n",
    "    ],\n",
    "    \"correct_datetime\": {\n",
    "        \"$date\": {\n",
    "            \"$numberLong\": \"1657254295369\"\n",
    "        }\n",
    "    },\n",
    "    \"hr_criminal_serial_id\": 307,\n",
    "    \"reason_use_cache\": false,\n",
    "    \"suggestion\": \"gps\",\n",
    "    \"uid\": \"GMS9905\",\n",
    "    \"wifi_ssid\": [\n",
    "        \"001ff3c158ec\",\n",
    "        \"6409800ee216\",\n",
    "        \"54833a076307\",\n",
    "        \"04d5902adef0\",\n",
    "        \"0c473dfe62b8\",\n",
    "        \"4a5f996b9b8d\",\n",
    "        \"04bd88a4e822\",\n",
    "        \"ec4118245595\",\n",
    "        \"e8cc18fec4c8\",\n",
    "        \"1c5f2b2507c3\"\n",
    "    ]\n",
    "}"
   ]
  },
  {
   "cell_type": "markdown",
   "id": "747f5c6f",
   "metadata": {},
   "source": [
    "# 開始前"
   ]
  },
  {
   "cell_type": "code",
   "execution_count": 2,
   "id": "8132aff9",
   "metadata": {},
   "outputs": [],
   "source": [
    "gnss_data = {}\n",
    "\n",
    "gnss_data[\"gsm\"] = dict()\n",
    "gnss_data[\"gps\"] = dict()"
   ]
  },
  {
   "cell_type": "markdown",
   "id": "7b32c36d",
   "metadata": {},
   "source": [
    "# Parse GSM"
   ]
  },
  {
   "cell_type": "markdown",
   "id": "f82381f0",
   "metadata": {},
   "source": [
    "### imei"
   ]
  },
  {
   "cell_type": "raw",
   "id": "54fae425",
   "metadata": {},
   "source": [
    "IMEI 碼是什麼？\n",
    "就像我們每個人都有一個身份證號一樣，每一台手機也有它們專屬的IMEI碼。國際移動設備識別碼（International Mobile Equipment Identity number，IMEI） ，俗稱\"手機串號\"、\"手機序列號\"，用於在 GSM 移動網絡中識別每一部獨立的手機，相當於手機的身份證號碼。 IMEI 碼適用於 GSM 和 WCDMA 制式的移動電話和銥星衛星電話，而 CDMA 手機採用 MEID 碼，與 IMEI 碼有所區別。"
   ]
  },
  {
   "cell_type": "code",
   "execution_count": 3,
   "id": "f97ce310",
   "metadata": {},
   "outputs": [
    {
     "data": {
      "text/plain": [
       "{'gsm': {'imei': '358709051786584'}, 'gps': {}}"
      ]
     },
     "execution_count": 3,
     "metadata": {},
     "output_type": "execute_result"
    }
   ],
   "source": [
    "import re\n",
    "\n",
    "\n",
    "group = rcv_data.split(\",\", 1)\n",
    "match_list = re.findall(\"^imei=.+&\", group[0])\n",
    "gnss_data[\"gsm\"][\"imei\"] = match_list[0][5:-1]\n",
    "gnss_data"
   ]
  },
  {
   "cell_type": "markdown",
   "id": "8c5b06ff",
   "metadata": {},
   "source": [
    "### sen(視訊品質)"
   ]
  },
  {
   "cell_type": "raw",
   "id": "a4fc62a1",
   "metadata": {},
   "source": [
    "在這個範例看 M8 的 8。"
   ]
  },
  {
   "cell_type": "code",
   "execution_count": 4,
   "id": "1131d826",
   "metadata": {},
   "outputs": [
    {
     "data": {
      "text/plain": [
       "{'gsm': {'imei': '358709051786584', 'sen': 8}, 'gps': {}}"
      ]
     },
     "execution_count": 4,
     "metadata": {},
     "output_type": "execute_result"
    }
   ],
   "source": [
    "group = rcv_data.split(\",\")\n",
    "gnss_data[\"gsm\"][\"sen\"] = int(group[19][1:])\n",
    "gnss_data"
   ]
  },
  {
   "cell_type": "markdown",
   "id": "eda7eb44",
   "metadata": {},
   "source": [
    "### telecom(回傳路由)"
   ]
  },
  {
   "cell_type": "raw",
   "id": "edd3b313",
   "metadata": {},
   "source": [
    "附近基地台的通訊是 3G、4G 還是 5G。"
   ]
  },
  {
   "cell_type": "code",
   "execution_count": 5,
   "id": "622a9b99",
   "metadata": {},
   "outputs": [
    {
     "data": {
      "text/plain": [
       "{'gsm': {'imei': '358709051786584', 'sen': 8, 'telecom': '4G'}, 'gps': {}}"
      ]
     },
     "execution_count": 5,
     "metadata": {},
     "output_type": "execute_result"
    }
   ],
   "source": [
    "# 用 4G 做正規表達式\n",
    "group = re.findall(\"\\,4G\\,.+\\,WiFi\\:\", rcv_data)\n",
    "cell_string = group[0][4:-6]\n",
    "\n",
    "# 有可能附近沒有基地台\n",
    "# if 'SEARCH' in cell_string:\n",
    "#     return \n",
    "\n",
    "cell_main_info = cell_string.split(\";\")[0].split(\",\")\n",
    "cell_secondary_info = cell_string.split(\";\")[1:]\n",
    "\n",
    "gnss_data[\"gsm\"][\"telecom\"] = '4G'\n",
    "gnss_data"
   ]
  },
  {
   "cell_type": "markdown",
   "id": "0703a7d9",
   "metadata": {},
   "source": [
    "### cell_string(基地台資訊)"
   ]
  },
  {
   "cell_type": "code",
   "execution_count": 6,
   "id": "b08c8ba5",
   "metadata": {},
   "outputs": [
    {
     "data": {
      "text/plain": [
       "{'gsm': {'imei': '358709051786584',\n",
       "  'sen': 8,\n",
       "  'telecom': '4G',\n",
       "  'cell_string': '3050,7,20,20,FDD,466,92,2B60,33E2722,22,27,-96,-13,NOCONN;3050,-12.9,-96,27,22,-64;3050,-16.6,-103,20,6,-76',\n",
       "  'cell_id': '3050,7,20,20,FDD,466,92,2B60,33E2722,22,27,-96,-13,NOCONN;3050,-12.9,-96,27,22,-64;3050,-16.6,-103,20,6,-76'},\n",
       " 'gps': {}}"
      ]
     },
     "execution_count": 6,
     "metadata": {},
     "output_type": "execute_result"
    }
   ],
   "source": [
    "gnss_data[\"gsm\"][\"cell_string\"] = cell_string\n",
    "gnss_data[\"gsm\"][\"cell_id\"] = cell_string # remove after refactor correction \n",
    "gnss_data"
   ]
  },
  {
   "cell_type": "markdown",
   "id": "97c31aeb",
   "metadata": {},
   "source": [
    "### company(電信公司)"
   ]
  },
  {
   "cell_type": "raw",
   "id": "ef98abab",
   "metadata": {},
   "source": [
    "公司代號: 92 是中華電信(CHT)，01 與 03 是遠傳(FET)。"
   ]
  },
  {
   "cell_type": "code",
   "execution_count": 7,
   "id": "ea5fcdd8",
   "metadata": {},
   "outputs": [
    {
     "data": {
      "text/plain": [
       "{'gsm': {'imei': '358709051786584',\n",
       "  'sen': 8,\n",
       "  'telecom': '4G',\n",
       "  'cell_string': '3050,7,20,20,FDD,466,92,2B60,33E2722,22,27,-96,-13,NOCONN;3050,-12.9,-96,27,22,-64;3050,-16.6,-103,20,6,-76',\n",
       "  'cell_id': '3050,7,20,20,FDD,466,92,2B60,33E2722,22,27,-96,-13,NOCONN;3050,-12.9,-96,27,22,-64;3050,-16.6,-103,20,6,-76',\n",
       "  'company': 'CHT'},\n",
       " 'gps': {}}"
      ]
     },
     "execution_count": 7,
     "metadata": {},
     "output_type": "execute_result"
    }
   ],
   "source": [
    "def __get_telecom_company(telecom_comp_code):\n",
    "    if telecom_comp_code in ['92']:\n",
    "        return \"CHT\"\n",
    "    elif telecom_comp_code in ['01', '03']:\n",
    "        return \"FET\"\n",
    "\n",
    "gnss_data[\"gsm\"][\"company\"] = __get_telecom_company(cell_main_info[6])\n",
    "gnss_data"
   ]
  },
  {
   "cell_type": "markdown",
   "id": "276290f7",
   "metadata": {},
   "source": [
    "### global_id、pyhsical_id"
   ]
  },
  {
   "cell_type": "code",
   "execution_count": 8,
   "id": "1bae27aa",
   "metadata": {},
   "outputs": [
    {
     "data": {
      "text/plain": [
       "{'gsm': {'imei': '358709051786584',\n",
       "  'sen': 8,\n",
       "  'telecom': '4G',\n",
       "  'cell_string': '3050,7,20,20,FDD,466,92,2B60,33E2722,22,27,-96,-13,NOCONN;3050,-12.9,-96,27,22,-64;3050,-16.6,-103,20,6,-76',\n",
       "  'cell_id': '3050,7,20,20,FDD,466,92,2B60,33E2722,22,27,-96,-13,NOCONN;3050,-12.9,-96,27,22,-64;3050,-16.6,-103,20,6,-76',\n",
       "  'company': 'CHT',\n",
       "  'global_id': '33E2722',\n",
       "  'physical_id': '22'},\n",
       " 'gps': {}}"
      ]
     },
     "execution_count": 8,
     "metadata": {},
     "output_type": "execute_result"
    }
   ],
   "source": [
    "gnss_data[\"gsm\"][\"global_id\"] = cell_main_info[8]\n",
    "gnss_data[\"gsm\"][\"physical_id\"] = cell_main_info[9]\n",
    "gnss_data"
   ]
  },
  {
   "cell_type": "markdown",
   "id": "2118d1d1",
   "metadata": {},
   "source": [
    "### rsrp(參考信號接收功率)"
   ]
  },
  {
   "cell_type": "raw",
   "id": "6fb60f00",
   "metadata": {},
   "source": [
    "RSRP (Reference Signal Receiving Power，參考信號接收功率) 是LTE網絡中可以代表無線信號強度的關鍵參數以及物理層測量需求之一，是在某個\n",
    "符號內承載參考信號的所有RE(資源粒子)上接收到的信號功率的平均值。其實這個 RSRP 完全可以理解成，當前你的手機接收到對接基站信號的功率強度，按照嘗試，當然功率強度越強，說明我的信號越好啊。所以這個 RSRP 值要大一點，這樣信號好一點，咱們的上網速率就會越快。"
   ]
  },
  {
   "cell_type": "markdown",
   "id": "f49bc499",
   "metadata": {},
   "source": [
    "https://kknews.cc/news/5b5vk68.html"
   ]
  },
  {
   "cell_type": "markdown",
   "id": "1f1c3ab1",
   "metadata": {},
   "source": [
    " <img src='./mod31/01.jpg'>"
   ]
  },
  {
   "cell_type": "code",
   "execution_count": 9,
   "id": "77fb8fe5",
   "metadata": {},
   "outputs": [
    {
     "data": {
      "text/plain": [
       "{'gsm': {'imei': '358709051786584',\n",
       "  'sen': 8,\n",
       "  'telecom': '4G',\n",
       "  'cell_string': '3050,7,20,20,FDD,466,92,2B60,33E2722,22,27,-96,-13,NOCONN;3050,-12.9,-96,27,22,-64;3050,-16.6,-103,20,6,-76',\n",
       "  'cell_id': '3050,7,20,20,FDD,466,92,2B60,33E2722,22,27,-96,-13,NOCONN;3050,-12.9,-96,27,22,-64;3050,-16.6,-103,20,6,-76',\n",
       "  'company': 'CHT',\n",
       "  'global_id': '33E2722',\n",
       "  'physical_id': '22',\n",
       "  'rsrp': '-96'},\n",
       " 'gps': {}}"
      ]
     },
     "execution_count": 9,
     "metadata": {},
     "output_type": "execute_result"
    }
   ],
   "source": [
    "gnss_data[\"gsm\"][\"rsrp\"] = cell_main_info[11]\n",
    "gnss_data"
   ]
  },
  {
   "cell_type": "markdown",
   "id": "3ac20700",
   "metadata": {},
   "source": [
    "### all_physical_id"
   ]
  },
  {
   "cell_type": "code",
   "execution_count": 10,
   "id": "8031988f",
   "metadata": {},
   "outputs": [
    {
     "data": {
      "text/plain": [
       "{'gsm': {'imei': '358709051786584',\n",
       "  'sen': 8,\n",
       "  'telecom': '4G',\n",
       "  'cell_string': '3050,7,20,20,FDD,466,92,2B60,33E2722,22,27,-96,-13,NOCONN;3050,-12.9,-96,27,22,-64;3050,-16.6,-103,20,6,-76',\n",
       "  'cell_id': '3050,7,20,20,FDD,466,92,2B60,33E2722,22,27,-96,-13,NOCONN;3050,-12.9,-96,27,22,-64;3050,-16.6,-103,20,6,-76',\n",
       "  'company': 'CHT',\n",
       "  'global_id': '33E2722',\n",
       "  'physical_id': '22',\n",
       "  'rsrp': '-96',\n",
       "  'all_physical_id': ['22', '6']},\n",
       " 'gps': {}}"
      ]
     },
     "execution_count": 10,
     "metadata": {},
     "output_type": "execute_result"
    }
   ],
   "source": [
    "gnss_data[\"gsm\"][\"all_physical_id\"] = list(c_info.split(\",\")[4] for c_info in cell_secondary_info)\n",
    "gnss_data"
   ]
  },
  {
   "cell_type": "markdown",
   "id": "d2c4e1ee",
   "metadata": {},
   "source": [
    "### tac"
   ]
  },
  {
   "cell_type": "markdown",
   "id": "825237ee",
   "metadata": {},
   "source": [
    "類型分配代碼"
   ]
  },
  {
   "cell_type": "code",
   "execution_count": 11,
   "id": "094f2495",
   "metadata": {},
   "outputs": [
    {
     "data": {
      "text/plain": [
       "{'gsm': {'imei': '358709051786584',\n",
       "  'sen': 8,\n",
       "  'telecom': '4G',\n",
       "  'cell_string': '3050,7,20,20,FDD,466,92,2B60,33E2722,22,27,-96,-13,NOCONN;3050,-12.9,-96,27,22,-64;3050,-16.6,-103,20,6,-76',\n",
       "  'cell_id': '3050,7,20,20,FDD,466,92,2B60,33E2722,22,27,-96,-13,NOCONN;3050,-12.9,-96,27,22,-64;3050,-16.6,-103,20,6,-76',\n",
       "  'company': 'CHT',\n",
       "  'global_id': '33E2722',\n",
       "  'physical_id': '22',\n",
       "  'rsrp': '-96',\n",
       "  'all_physical_id': ['22', '6'],\n",
       "  'tac': '2B60'},\n",
       " 'gps': {}}"
      ]
     },
     "execution_count": 11,
     "metadata": {},
     "output_type": "execute_result"
    }
   ],
   "source": [
    "gnss_data[\"gsm\"][\"tac\"] = cell_main_info[7]\n",
    "gnss_data"
   ]
  },
  {
   "cell_type": "markdown",
   "id": "6d7b2f05",
   "metadata": {},
   "source": [
    "### all_rsrp"
   ]
  },
  {
   "cell_type": "code",
   "execution_count": 12,
   "id": "e31224dc",
   "metadata": {},
   "outputs": [
    {
     "data": {
      "text/plain": [
       "{'gsm': {'imei': '358709051786584',\n",
       "  'sen': 8,\n",
       "  'telecom': '4G',\n",
       "  'cell_string': '3050,7,20,20,FDD,466,92,2B60,33E2722,22,27,-96,-13,NOCONN;3050,-12.9,-96,27,22,-64;3050,-16.6,-103,20,6,-76',\n",
       "  'cell_id': '3050,7,20,20,FDD,466,92,2B60,33E2722,22,27,-96,-13,NOCONN;3050,-12.9,-96,27,22,-64;3050,-16.6,-103,20,6,-76',\n",
       "  'company': 'CHT',\n",
       "  'global_id': '33E2722',\n",
       "  'physical_id': '22',\n",
       "  'rsrp': '-96',\n",
       "  'all_physical_id': ['22', '6'],\n",
       "  'tac': '2B60',\n",
       "  'all_rsrp': ['-96', '-103']},\n",
       " 'gps': {}}"
      ]
     },
     "execution_count": 12,
     "metadata": {},
     "output_type": "execute_result"
    }
   ],
   "source": [
    "gnss_data[\"gsm\"][\"all_rsrp\"] = list(c_info.split(\",\")[2] for c_info in cell_secondary_info)\n",
    "gnss_data"
   ]
  },
  {
   "cell_type": "markdown",
   "id": "6d1df3c0",
   "metadata": {},
   "source": [
    "# Parse GPS"
   ]
  },
  {
   "cell_type": "raw",
   "id": "7a6faac1",
   "metadata": {},
   "source": [
    "NMEA 封裝格式:\n",
    "是由美國國家海洋電子協會 (National Marine Electronics Association，NMEA) 所制定的 GPS 協定標準規格，其制定了 GPS 上的所有資料格式與資料傳輸的通訊協定，其中還訂下了所有航海電子儀器用的通訊標準，而這些介面協定採用 ASCII 碼輸出方式，協議定義了若干代表不同含義的語句，語句格式如下所示。"
   ]
  },
  {
   "cell_type": "markdown",
   "id": "29a031f7",
   "metadata": {},
   "source": [
    "<img src='./mod31/02.png'>"
   ]
  },
  {
   "cell_type": "raw",
   "id": "619f3295",
   "metadata": {},
   "source": [
    "NMEA－0183 介面協定定義的主要語句有：GGA、GLL、GSA、GSV、MSS、RMC、VTG、ZDA 等。下面介紹這些語句所包含的具體內容。"
   ]
  },
  {
   "cell_type": "markdown",
   "id": "19d1cd56",
   "metadata": {},
   "source": [
    "<img src='./mod31/03.png'>"
   ]
  },
  {
   "cell_type": "raw",
   "id": "a8e6e34c",
   "metadata": {},
   "source": [
    "$GPRMC,<1>,<2>,<3>,<4>,<5>,<6>,<7>,<8>,<9>,<10>,<11>,<12>*hh\n",
    "\n",
    "<1> UTC時間，hhmmss（時分秒）格式 \n",
    "<2> 定位狀態，A=有效定位，V=無效定位 \n",
    "<3> 緯度ddmm.mmmm（度分）格式（前面的0也將被傳輸） \n",
    "<4> 緯度半球N（北半球）或S（南半球） \n",
    "<5> 經度dddmm.mmmm（度分）格式（前面的0也將被傳輸） \n",
    "<6> 經度半球E（東經）或W（西經） \n",
    "<7> 地面速率（000.0~999.9節，前面的0也將被傳輸） \n",
    "<8> 地面航向（000.0~359.9度，以真北為參考基準，前面的0也將被傳輸） \n",
    "<9> UTC日期，ddmmyy（日月年）格式 \n",
    "<10> 磁偏角（000.0~180.0度，前面的0也將被傳輸） \n",
    "<11> 磁偏角方向，E（東）或W（西） \n",
    "<12> 模式指示（僅NMEA0183 3.00版本輸出，A=自主定位，D=差分，E=估算，N=資料無效）"
   ]
  },
  {
   "cell_type": "markdown",
   "id": "162b226e",
   "metadata": {},
   "source": [
    "### rmc(定位資訊)"
   ]
  },
  {
   "cell_type": "code",
   "execution_count": 13,
   "id": "5d8ac227",
   "metadata": {},
   "outputs": [
    {
     "data": {
      "text/plain": [
       "{'gsm': {'imei': '358709051786584',\n",
       "  'sen': 8,\n",
       "  'telecom': '4G',\n",
       "  'cell_string': '3050,7,20,20,FDD,466,92,2B60,33E2722,22,27,-96,-13,NOCONN;3050,-12.9,-96,27,22,-64;3050,-16.6,-103,20,6,-76',\n",
       "  'cell_id': '3050,7,20,20,FDD,466,92,2B60,33E2722,22,27,-96,-13,NOCONN;3050,-12.9,-96,27,22,-64;3050,-16.6,-103,20,6,-76',\n",
       "  'company': 'CHT',\n",
       "  'global_id': '33E2722',\n",
       "  'physical_id': '22',\n",
       "  'rsrp': '-96',\n",
       "  'all_physical_id': ['22', '6'],\n",
       "  'tac': '2B60',\n",
       "  'all_rsrp': ['-96', '-103']},\n",
       " 'gps': {'rmc': '$GNRMC'}}"
      ]
     },
     "execution_count": 13,
     "metadata": {},
     "output_type": "execute_result"
    }
   ],
   "source": [
    "group = rcv_data.split(\",\", 1)\n",
    "match_list = re.findall(\"rmc=.+$\", group[0])\n",
    "gnss_data[\"gps\"][\"rmc\"] = match_list[0][4:]\n",
    "gnss_data"
   ]
  },
  {
   "cell_type": "markdown",
   "id": "a0033989",
   "metadata": {},
   "source": [
    "### iso_datetime(發送時間)"
   ]
  },
  {
   "cell_type": "code",
   "execution_count": 14,
   "id": "e79f328a",
   "metadata": {},
   "outputs": [
    {
     "name": "stdout",
     "output_type": "stream",
     "text": [
      "2022-07-08 04:24:50\n"
     ]
    },
    {
     "data": {
      "text/plain": [
       "{'gsm': {'imei': '358709051786584',\n",
       "  'sen': 8,\n",
       "  'telecom': '4G',\n",
       "  'cell_string': '3050,7,20,20,FDD,466,92,2B60,33E2722,22,27,-96,-13,NOCONN;3050,-12.9,-96,27,22,-64;3050,-16.6,-103,20,6,-76',\n",
       "  'cell_id': '3050,7,20,20,FDD,466,92,2B60,33E2722,22,27,-96,-13,NOCONN;3050,-12.9,-96,27,22,-64;3050,-16.6,-103,20,6,-76',\n",
       "  'company': 'CHT',\n",
       "  'global_id': '33E2722',\n",
       "  'physical_id': '22',\n",
       "  'rsrp': '-96',\n",
       "  'all_physical_id': ['22', '6'],\n",
       "  'tac': '2B60',\n",
       "  'all_rsrp': ['-96', '-103']},\n",
       " 'gps': {'rmc': '$GNRMC', 'iso_datetime': '2022-07-08T04:24:50Z'}}"
      ]
     },
     "execution_count": 14,
     "metadata": {},
     "output_type": "execute_result"
    }
   ],
   "source": [
    "from datetime import datetime, timedelta\n",
    "\n",
    "data_list = rcv_data.split(\",\")\n",
    "raw_date = data_list[9]\n",
    "raw_time = data_list[1]\n",
    "if len(raw_date) == 6 and len(raw_time) == 9:\n",
    "    year = int(\"20\" + raw_date[4:])\n",
    "    month = int(raw_date[2:4])\n",
    "    day = int(raw_date[:2])\n",
    "    hour = int(raw_time[:2])\n",
    "    minute = int(raw_time[2:4])\n",
    "    second = int(raw_time[4:6])\n",
    "    naive = datetime(year, month, day, hour, minute, second)\n",
    "    print(naive)\n",
    "    if naive > datetime.utcnow() + timedelta(seconds=2):\n",
    "        tag_id = data_list[14]\n",
    "        log.warning(f'{tag_id} got Future datetime {naive} , fix to {datetime.utcnow().isoformat()[:19] + \"Z\"}')\n",
    "    naive = naive if naive <datetime.utcnow() else datetime.utcnow()\n",
    "    gnss_data[\"gps\"][\"iso_datetime\"] = naive.isoformat()[:19] + \"Z\"\n",
    "gnss_data"
   ]
  },
  {
   "cell_type": "markdown",
   "id": "07e166c0",
   "metadata": {},
   "source": [
    "### status(\t定位狀態)"
   ]
  },
  {
   "cell_type": "code",
   "execution_count": 15,
   "id": "38e1aaaa",
   "metadata": {},
   "outputs": [
    {
     "data": {
      "text/plain": [
       "{'gsm': {'imei': '358709051786584',\n",
       "  'sen': 8,\n",
       "  'telecom': '4G',\n",
       "  'cell_string': '3050,7,20,20,FDD,466,92,2B60,33E2722,22,27,-96,-13,NOCONN;3050,-12.9,-96,27,22,-64;3050,-16.6,-103,20,6,-76',\n",
       "  'cell_id': '3050,7,20,20,FDD,466,92,2B60,33E2722,22,27,-96,-13,NOCONN;3050,-12.9,-96,27,22,-64;3050,-16.6,-103,20,6,-76',\n",
       "  'company': 'CHT',\n",
       "  'global_id': '33E2722',\n",
       "  'physical_id': '22',\n",
       "  'rsrp': '-96',\n",
       "  'all_physical_id': ['22', '6'],\n",
       "  'tac': '2B60',\n",
       "  'all_rsrp': ['-96', '-103']},\n",
       " 'gps': {'rmc': '$GNRMC',\n",
       "  'iso_datetime': '2022-07-08T04:24:50Z',\n",
       "  'status': 'A'}}"
      ]
     },
     "execution_count": 15,
     "metadata": {},
     "output_type": "execute_result"
    }
   ],
   "source": [
    "data_list = rcv_data.split(\",\")\n",
    "if data_list[2] != \"\":\n",
    "    gnss_data[\"gps\"][\"status\"] = data_list[2]\n",
    "gnss_data"
   ]
  },
  {
   "cell_type": "markdown",
   "id": "0b55f5ca",
   "metadata": {},
   "source": [
    "### latitude(緯度)、longitude(經度)"
   ]
  },
  {
   "cell_type": "raw",
   "id": "0524e149",
   "metadata": {},
   "source": [
    "負值: 南緯, 正值: 北緯\n",
    "負值: 西經, 正值: 東經"
   ]
  },
  {
   "cell_type": "code",
   "execution_count": 16,
   "id": "4a0438ab",
   "metadata": {},
   "outputs": [
    {
     "data": {
      "text/plain": [
       "{'gsm': {'imei': '358709051786584',\n",
       "  'sen': 8,\n",
       "  'telecom': '4G',\n",
       "  'cell_string': '3050,7,20,20,FDD,466,92,2B60,33E2722,22,27,-96,-13,NOCONN;3050,-12.9,-96,27,22,-64;3050,-16.6,-103,20,6,-76',\n",
       "  'cell_id': '3050,7,20,20,FDD,466,92,2B60,33E2722,22,27,-96,-13,NOCONN;3050,-12.9,-96,27,22,-64;3050,-16.6,-103,20,6,-76',\n",
       "  'company': 'CHT',\n",
       "  'global_id': '33E2722',\n",
       "  'physical_id': '22',\n",
       "  'rsrp': '-96',\n",
       "  'all_physical_id': ['22', '6'],\n",
       "  'tac': '2B60',\n",
       "  'all_rsrp': ['-96', '-103']},\n",
       " 'gps': {'rmc': '$GNRMC',\n",
       "  'iso_datetime': '2022-07-08T04:24:50Z',\n",
       "  'status': 'A',\n",
       "  'latitude': 25.055489499999997,\n",
       "  'longitude': 121.53199000000002}}"
      ]
     },
     "execution_count": 16,
     "metadata": {},
     "output_type": "execute_result"
    }
   ],
   "source": [
    "def convert_gis_coordinate(coordinate):\n",
    "    integer = int(coordinate / 100)\n",
    "    decimal_point = (coordinate / 100) - integer\n",
    "    new_decimal_point = (decimal_point * 100) / 60\n",
    "    return integer + new_decimal_point\n",
    "\n",
    "def handle_latitude(direction, value, gnss_data):\n",
    "    if len(direction) == 1 and value != \"\":\n",
    "        latitude = convert_gis_coordinate(float(value))\n",
    "        if direction == \"S\":\n",
    "            latitude = 0 - latitude\n",
    "        gnss_data[\"gps\"][\"latitude\"] = latitude\n",
    "\n",
    "def handle_longitude(direction, value, gnss_data):\n",
    "    if len(direction) == 1 and value != \"\":\n",
    "        longitude = convert_gis_coordinate(float(value))\n",
    "        if direction == \"W\":\n",
    "            longitude = 0 - longitude\n",
    "        gnss_data[\"gps\"][\"longitude\"] = longitude\n",
    "        \n",
    "handle_latitude(data_list[4], data_list[3], gnss_data)\n",
    "handle_longitude(data_list[6], data_list[5], gnss_data)\n",
    "gnss_data"
   ]
  },
  {
   "cell_type": "markdown",
   "id": "4db5139f",
   "metadata": {},
   "source": [
    "### speed(速度)"
   ]
  },
  {
   "cell_type": "raw",
   "id": "90dfbdd2",
   "metadata": {},
   "source": [
    "單位是 km/h"
   ]
  },
  {
   "cell_type": "code",
   "execution_count": 17,
   "id": "ecc7802e",
   "metadata": {},
   "outputs": [
    {
     "data": {
      "text/plain": [
       "{'gsm': {'imei': '358709051786584',\n",
       "  'sen': 8,\n",
       "  'telecom': '4G',\n",
       "  'cell_string': '3050,7,20,20,FDD,466,92,2B60,33E2722,22,27,-96,-13,NOCONN;3050,-12.9,-96,27,22,-64;3050,-16.6,-103,20,6,-76',\n",
       "  'cell_id': '3050,7,20,20,FDD,466,92,2B60,33E2722,22,27,-96,-13,NOCONN;3050,-12.9,-96,27,22,-64;3050,-16.6,-103,20,6,-76',\n",
       "  'company': 'CHT',\n",
       "  'global_id': '33E2722',\n",
       "  'physical_id': '22',\n",
       "  'rsrp': '-96',\n",
       "  'all_physical_id': ['22', '6'],\n",
       "  'tac': '2B60',\n",
       "  'all_rsrp': ['-96', '-103']},\n",
       " 'gps': {'rmc': '$GNRMC',\n",
       "  'iso_datetime': '2022-07-08T04:24:50Z',\n",
       "  'status': 'A',\n",
       "  'latitude': 25.055489499999997,\n",
       "  'longitude': 121.53199000000002,\n",
       "  'speed': 2.13906}}"
      ]
     },
     "execution_count": 17,
     "metadata": {},
     "output_type": "execute_result"
    }
   ],
   "source": [
    "def handle_speed(knot, gnss_data):\n",
    "    if knot != \"\":\n",
    "        gnss_data[\"gps\"][\"speed\"] = float(knot) * 1.852\n",
    "\n",
    "handle_speed(data_list[7], gnss_data)\n",
    "gnss_data"
   ]
  },
  {
   "cell_type": "markdown",
   "id": "d8bfad02",
   "metadata": {},
   "source": [
    "### direction(方向)"
   ]
  },
  {
   "cell_type": "code",
   "execution_count": 18,
   "id": "e46d3d6b",
   "metadata": {},
   "outputs": [
    {
     "data": {
      "text/plain": [
       "{'gsm': {'imei': '358709051786584',\n",
       "  'sen': 8,\n",
       "  'telecom': '4G',\n",
       "  'cell_string': '3050,7,20,20,FDD,466,92,2B60,33E2722,22,27,-96,-13,NOCONN;3050,-12.9,-96,27,22,-64;3050,-16.6,-103,20,6,-76',\n",
       "  'cell_id': '3050,7,20,20,FDD,466,92,2B60,33E2722,22,27,-96,-13,NOCONN;3050,-12.9,-96,27,22,-64;3050,-16.6,-103,20,6,-76',\n",
       "  'company': 'CHT',\n",
       "  'global_id': '33E2722',\n",
       "  'physical_id': '22',\n",
       "  'rsrp': '-96',\n",
       "  'all_physical_id': ['22', '6'],\n",
       "  'tac': '2B60',\n",
       "  'all_rsrp': ['-96', '-103']},\n",
       " 'gps': {'rmc': '$GNRMC',\n",
       "  'iso_datetime': '2022-07-08T04:24:50Z',\n",
       "  'status': 'A',\n",
       "  'latitude': 25.055489499999997,\n",
       "  'longitude': 121.53199000000002,\n",
       "  'speed': 2.13906}}"
      ]
     },
     "execution_count": 18,
     "metadata": {},
     "output_type": "execute_result"
    }
   ],
   "source": [
    "if data_list[8] != \"\":\n",
    "    gnss_data[\"gps\"][\"direction\"] = float(data_list[8])\n",
    "gnss_data"
   ]
  },
  {
   "cell_type": "markdown",
   "id": "30a99aa2",
   "metadata": {},
   "source": [
    "### correction(定位模式)"
   ]
  },
  {
   "cell_type": "raw",
   "id": "390b84b7",
   "metadata": {},
   "source": [
    "N = 尚未定位、A = 一般定位、D = DGPS 修正、E = 估測"
   ]
  },
  {
   "cell_type": "code",
   "execution_count": 19,
   "id": "42cdffd4",
   "metadata": {},
   "outputs": [
    {
     "data": {
      "text/plain": [
       "{'gsm': {'imei': '358709051786584',\n",
       "  'sen': 8,\n",
       "  'telecom': '4G',\n",
       "  'cell_string': '3050,7,20,20,FDD,466,92,2B60,33E2722,22,27,-96,-13,NOCONN;3050,-12.9,-96,27,22,-64;3050,-16.6,-103,20,6,-76',\n",
       "  'cell_id': '3050,7,20,20,FDD,466,92,2B60,33E2722,22,27,-96,-13,NOCONN;3050,-12.9,-96,27,22,-64;3050,-16.6,-103,20,6,-76',\n",
       "  'company': 'CHT',\n",
       "  'global_id': '33E2722',\n",
       "  'physical_id': '22',\n",
       "  'rsrp': '-96',\n",
       "  'all_physical_id': ['22', '6'],\n",
       "  'tac': '2B60',\n",
       "  'all_rsrp': ['-96', '-103']},\n",
       " 'gps': {'rmc': '$GNRMC',\n",
       "  'iso_datetime': '2022-07-08T04:24:50Z',\n",
       "  'status': 'A',\n",
       "  'latitude': 25.055489499999997,\n",
       "  'longitude': 121.53199000000002,\n",
       "  'speed': 2.13906,\n",
       "  'correction': 'A'}}"
      ]
     },
     "execution_count": 19,
     "metadata": {},
     "output_type": "execute_result"
    }
   ],
   "source": [
    "if data_list[12] != \"\":\n",
    "    gnss_data[\"gps\"][\"correction\"] = data_list[12][0:1]\n",
    "gnss_data"
   ]
  },
  {
   "cell_type": "markdown",
   "id": "192f3346",
   "metadata": {},
   "source": [
    "### noise(訊噪比)"
   ]
  },
  {
   "cell_type": "code",
   "execution_count": 20,
   "id": "721f95d2",
   "metadata": {},
   "outputs": [
    {
     "data": {
      "text/plain": [
       "{'gsm': {'imei': '358709051786584',\n",
       "  'sen': 8,\n",
       "  'telecom': '4G',\n",
       "  'cell_string': '3050,7,20,20,FDD,466,92,2B60,33E2722,22,27,-96,-13,NOCONN;3050,-12.9,-96,27,22,-64;3050,-16.6,-103,20,6,-76',\n",
       "  'cell_id': '3050,7,20,20,FDD,466,92,2B60,33E2722,22,27,-96,-13,NOCONN;3050,-12.9,-96,27,22,-64;3050,-16.6,-103,20,6,-76',\n",
       "  'company': 'CHT',\n",
       "  'global_id': '33E2722',\n",
       "  'physical_id': '22',\n",
       "  'rsrp': '-96',\n",
       "  'all_physical_id': ['22', '6'],\n",
       "  'tac': '2B60',\n",
       "  'all_rsrp': ['-96', '-103']},\n",
       " 'gps': {'rmc': '$GNRMC',\n",
       "  'iso_datetime': '2022-07-08T04:24:50Z',\n",
       "  'status': 'A',\n",
       "  'latitude': 25.055489499999997,\n",
       "  'longitude': 121.53199000000002,\n",
       "  'speed': 2.13906,\n",
       "  'correction': 'A',\n",
       "  'noise': 32}}"
      ]
     },
     "execution_count": 20,
     "metadata": {},
     "output_type": "execute_result"
    }
   ],
   "source": [
    "if data_list[20] != \"\":\n",
    "    gnss_data[\"gps\"][\"noise\"] = int(data_list[20])\n",
    "gnss_data"
   ]
  },
  {
   "cell_type": "markdown",
   "id": "0dbdaf17",
   "metadata": {},
   "source": [
    "### pdop(位置精度因子)"
   ]
  },
  {
   "cell_type": "raw",
   "id": "2b20a128",
   "metadata": {},
   "source": [
    "在衛星導航領域，精度衰減因子（英語：Dilution of precision）是一類衡量用戶在進行 GNSS 測量時所具備的幾何條件的定量指標，又簡稱為 DOP值或精度因子。DOP 值的大小取決各導航衛星在用戶視場中的分布情況，反映了用戶與衛星之間組成的幾何圖形對測距誤差的放大作用：在相同測距精度的條件下，DOP 值越低，表明該用戶與衛星之間組成的幾何圖形越為健壯，對測距誤差的放大作用越小，GNSS 服務提供的導航精度越高。\n",
    "\n",
    "精度衰減因子的概念最早用於 20 世紀中期問世的遠距離無線電導航系統，自 GPS 問世後則更多地見於衛星導航領域。由於衛星導航系統採用交會測量的方式確定用戶的位置，當測距誤差相同時，兩個方向上更加接近的發射天線，較兩個在各方向分布更為均勻的發射天線會交會出更大的誤差範圍。兩種情況下誤差範圍的差異並非源於用戶自身的測距誤差，而是源於幾何圖形的差異。對於用戶來說，其自身的導航精度相較於理想情況發生了「衰減」，或者說被「稀釋」了，「精度衰減因子」或「精度稀釋因子」也因此得名。"
   ]
  },
  {
   "cell_type": "markdown",
   "id": "48bc1486",
   "metadata": {},
   "source": [
    "<img src='./mod31/05.PNG'>"
   ]
  },
  {
   "cell_type": "markdown",
   "id": "41263744",
   "metadata": {},
   "source": [
    "<img src='./mod31/04.PNG'>"
   ]
  },
  {
   "cell_type": "markdown",
   "id": "a2fa4067",
   "metadata": {},
   "source": [
    "<img src='./mod31/06.PNG'>"
   ]
  },
  {
   "cell_type": "code",
   "execution_count": 21,
   "id": "d43e8738",
   "metadata": {},
   "outputs": [
    {
     "data": {
      "text/plain": [
       "{'gsm': {'imei': '358709051786584',\n",
       "  'sen': 8,\n",
       "  'telecom': '4G',\n",
       "  'cell_string': '3050,7,20,20,FDD,466,92,2B60,33E2722,22,27,-96,-13,NOCONN;3050,-12.9,-96,27,22,-64;3050,-16.6,-103,20,6,-76',\n",
       "  'cell_id': '3050,7,20,20,FDD,466,92,2B60,33E2722,22,27,-96,-13,NOCONN;3050,-12.9,-96,27,22,-64;3050,-16.6,-103,20,6,-76',\n",
       "  'company': 'CHT',\n",
       "  'global_id': '33E2722',\n",
       "  'physical_id': '22',\n",
       "  'rsrp': '-96',\n",
       "  'all_physical_id': ['22', '6'],\n",
       "  'tac': '2B60',\n",
       "  'all_rsrp': ['-96', '-103']},\n",
       " 'gps': {'rmc': '$GNRMC',\n",
       "  'iso_datetime': '2022-07-08T04:24:50Z',\n",
       "  'status': 'A',\n",
       "  'latitude': 25.055489499999997,\n",
       "  'longitude': 121.53199000000002,\n",
       "  'speed': 2.13906,\n",
       "  'correction': 'A',\n",
       "  'noise': 32,\n",
       "  'pdop': 9.34}}"
      ]
     },
     "execution_count": 21,
     "metadata": {},
     "output_type": "execute_result"
    }
   ],
   "source": [
    "def handle_pdop(pdop, gnss_data):\n",
    "    if pdop != \"\":\n",
    "        gnss_data[\"gps\"][\"pdop\"] = float(pdop)\n",
    "        \n",
    "handle_pdop(data_list[22], gnss_data)\n",
    "gnss_data"
   ]
  },
  {
   "cell_type": "markdown",
   "id": "97b86c77",
   "metadata": {},
   "source": [
    "# Parse tag"
   ]
  },
  {
   "cell_type": "code",
   "execution_count": 22,
   "id": "5b057b62",
   "metadata": {},
   "outputs": [],
   "source": [
    "gnss_data[\"battery\"] = dict()\n",
    "data_list = rcv_data.split(\",\")"
   ]
  },
  {
   "cell_type": "markdown",
   "id": "18f6e991",
   "metadata": {},
   "source": [
    "### event(回傳事件)"
   ]
  },
  {
   "cell_type": "code",
   "execution_count": 23,
   "id": "de9dc2ed",
   "metadata": {},
   "outputs": [
    {
     "data": {
      "text/plain": [
       "{'gsm': {'imei': '358709051786584',\n",
       "  'sen': 8,\n",
       "  'telecom': '4G',\n",
       "  'cell_string': '3050,7,20,20,FDD,466,92,2B60,33E2722,22,27,-96,-13,NOCONN;3050,-12.9,-96,27,22,-64;3050,-16.6,-103,20,6,-76',\n",
       "  'cell_id': '3050,7,20,20,FDD,466,92,2B60,33E2722,22,27,-96,-13,NOCONN;3050,-12.9,-96,27,22,-64;3050,-16.6,-103,20,6,-76',\n",
       "  'company': 'CHT',\n",
       "  'global_id': '33E2722',\n",
       "  'physical_id': '22',\n",
       "  'rsrp': '-96',\n",
       "  'all_physical_id': ['22', '6'],\n",
       "  'tac': '2B60',\n",
       "  'all_rsrp': ['-96', '-103']},\n",
       " 'gps': {'rmc': '$GNRMC',\n",
       "  'iso_datetime': '2022-07-08T04:24:50Z',\n",
       "  'status': 'A',\n",
       "  'latitude': 25.055489499999997,\n",
       "  'longitude': 121.53199000000002,\n",
       "  'speed': 2.13906,\n",
       "  'correction': 'A',\n",
       "  'noise': 32,\n",
       "  'pdop': 9.34},\n",
       " 'battery': {},\n",
       " 'event': 'ST'}"
      ]
     },
     "execution_count": 23,
     "metadata": {},
     "output_type": "execute_result"
    }
   ],
   "source": [
    "if data_list[13] != \"\":\n",
    "    gnss_data[\"event\"] = data_list[13]\n",
    "gnss_data"
   ]
  },
  {
   "cell_type": "markdown",
   "id": "3129dd26",
   "metadata": {},
   "source": [
    "### tag_id(HA 編號)"
   ]
  },
  {
   "cell_type": "code",
   "execution_count": 24,
   "id": "e118687a",
   "metadata": {},
   "outputs": [
    {
     "data": {
      "text/plain": [
       "{'gsm': {'imei': '358709051786584',\n",
       "  'sen': 8,\n",
       "  'telecom': '4G',\n",
       "  'cell_string': '3050,7,20,20,FDD,466,92,2B60,33E2722,22,27,-96,-13,NOCONN;3050,-12.9,-96,27,22,-64;3050,-16.6,-103,20,6,-76',\n",
       "  'cell_id': '3050,7,20,20,FDD,466,92,2B60,33E2722,22,27,-96,-13,NOCONN;3050,-12.9,-96,27,22,-64;3050,-16.6,-103,20,6,-76',\n",
       "  'company': 'CHT',\n",
       "  'global_id': '33E2722',\n",
       "  'physical_id': '22',\n",
       "  'rsrp': '-96',\n",
       "  'all_physical_id': ['22', '6'],\n",
       "  'tac': '2B60',\n",
       "  'all_rsrp': ['-96', '-103']},\n",
       " 'gps': {'rmc': '$GNRMC',\n",
       "  'iso_datetime': '2022-07-08T04:24:50Z',\n",
       "  'status': 'A',\n",
       "  'latitude': 25.055489499999997,\n",
       "  'longitude': 121.53199000000002,\n",
       "  'speed': 2.13906,\n",
       "  'correction': 'A',\n",
       "  'noise': 32,\n",
       "  'pdop': 9.34},\n",
       " 'battery': {},\n",
       " 'event': 'ST',\n",
       " 'tag_id': 'G00414'}"
      ]
     },
     "execution_count": 24,
     "metadata": {},
     "output_type": "execute_result"
    }
   ],
   "source": [
    "if data_list[14] != \"\":\n",
    "    gnss_data[\"tag_id\"] = data_list[14]\n",
    "gnss_data"
   ]
  },
  {
   "cell_type": "markdown",
   "id": "60bf3661",
   "metadata": {},
   "source": [
    "### battery_mv(電池電壓)"
   ]
  },
  {
   "cell_type": "raw",
   "id": "1fcfc921",
   "metadata": {},
   "source": [
    "一般電池的蓄電量是以毫安培小時(mAh)或安培小時(Ah)表示，意思是電流與時間的乘積，以蓄水池做為比喻，想像電流是要灌進池中的水，電池就是游泳池水槽，水管粗細與水流速度皆會影響注滿水所需的時間。假如一顆電池標示容量為2,000mAh，理論上若以每小時1,000mA的電流將電充入此電池，大約2小時可將電池裝滿電，若改以較小的200mA電流充電，則需要10小時才能充滿。\n",
    "\n",
    "\n",
    "然而，所有電池皆為化學材料組成，可充入或放出的電量會因為充電速度和環境溫度而不同，速度過快，或是溫度過高、過低，有可能產生較低的電量，因此，額定電容量則是必須根據不同電池特性而設定。\n",
    "\n",
    "\n",
    "不同電池因材料特性及化學反應不同，也會有不同充電或放電的能力，例如以同樣電流充電，具快速充放電能力的電池在同時間裝入的電量則會較多，而容量較小的電池，也可能因為放電速度快，可放出相當於其他容量高的電池相同或是更多的電量。由此可知，電容量數字大小的背後，還有很多關於電池能力的秘密需要了解，才能對於應用端的真正需求找到最佳解決辦法！"
   ]
  },
  {
   "cell_type": "code",
   "execution_count": 25,
   "id": "db052bbf",
   "metadata": {},
   "outputs": [
    {
     "name": "stderr",
     "output_type": "stream",
     "text": [
      "<ipython-input-25-fe9f4b4b065d>:2: DeprecationWarning: Flags not at the start of the expression '^(?i)UR.+'\n",
      "  group = re.findall(\"^(?i)UR.+\", data)\n"
     ]
    },
    {
     "data": {
      "text/plain": [
       "{'gsm': {'imei': '358709051786584',\n",
       "  'sen': 8,\n",
       "  'telecom': '4G',\n",
       "  'cell_string': '3050,7,20,20,FDD,466,92,2B60,33E2722,22,27,-96,-13,NOCONN;3050,-12.9,-96,27,22,-64;3050,-16.6,-103,20,6,-76',\n",
       "  'cell_id': '3050,7,20,20,FDD,466,92,2B60,33E2722,22,27,-96,-13,NOCONN;3050,-12.9,-96,27,22,-64;3050,-16.6,-103,20,6,-76',\n",
       "  'company': 'CHT',\n",
       "  'global_id': '33E2722',\n",
       "  'physical_id': '22',\n",
       "  'rsrp': '-96',\n",
       "  'all_physical_id': ['22', '6'],\n",
       "  'tac': '2B60',\n",
       "  'all_rsrp': ['-96', '-103']},\n",
       " 'gps': {'rmc': '$GNRMC',\n",
       "  'iso_datetime': '2022-07-08T04:24:50Z',\n",
       "  'status': 'A',\n",
       "  'latitude': 25.055489499999997,\n",
       "  'longitude': 121.53199000000002,\n",
       "  'speed': 2.13906,\n",
       "  'correction': 'A',\n",
       "  'noise': 32,\n",
       "  'pdop': 9.34},\n",
       " 'battery': {'mv': 3685},\n",
       " 'event': 'ST',\n",
       " 'tag_id': 'G00414'}"
      ]
     },
     "execution_count": 25,
     "metadata": {},
     "output_type": "execute_result"
    }
   ],
   "source": [
    "def handle_pending_sms_or_mv(data, gnss_data):\n",
    "    group = re.findall(\"^(?i)UR.+\", data)\n",
    "    if len(group) > 0:\n",
    "        gnss_data[\"pending_sms\"] = int(data[3:])\n",
    "    else:\n",
    "        gnss_data[\"battery\"][\"mv\"] = int(data)\n",
    "\n",
    "if data_list[15] != \"\":\n",
    "    handle_pending_sms_or_mv(data_list[15], gnss_data)\n",
    "gnss_data"
   ]
  },
  {
   "cell_type": "markdown",
   "id": "0e254dd5",
   "metadata": {},
   "source": [
    "### battery_ma(電池電流)"
   ]
  },
  {
   "cell_type": "code",
   "execution_count": 26,
   "id": "d6b62a97",
   "metadata": {},
   "outputs": [
    {
     "name": "stderr",
     "output_type": "stream",
     "text": [
      "<ipython-input-26-08ea09e24d43>:2: DeprecationWarning: Flags not at the start of the expression '^(?i)MS.+'\n",
      "  group = re.findall(\"^(?i)MS.+\", data)\n"
     ]
    },
    {
     "data": {
      "text/plain": [
       "{'gsm': {'imei': '358709051786584',\n",
       "  'sen': 8,\n",
       "  'telecom': '4G',\n",
       "  'cell_string': '3050,7,20,20,FDD,466,92,2B60,33E2722,22,27,-96,-13,NOCONN;3050,-12.9,-96,27,22,-64;3050,-16.6,-103,20,6,-76',\n",
       "  'cell_id': '3050,7,20,20,FDD,466,92,2B60,33E2722,22,27,-96,-13,NOCONN;3050,-12.9,-96,27,22,-64;3050,-16.6,-103,20,6,-76',\n",
       "  'company': 'CHT',\n",
       "  'global_id': '33E2722',\n",
       "  'physical_id': '22',\n",
       "  'rsrp': '-96',\n",
       "  'all_physical_id': ['22', '6'],\n",
       "  'tac': '2B60',\n",
       "  'all_rsrp': ['-96', '-103']},\n",
       " 'gps': {'rmc': '$GNRMC',\n",
       "  'iso_datetime': '2022-07-08T04:24:50Z',\n",
       "  'status': 'A',\n",
       "  'latitude': 25.055489499999997,\n",
       "  'longitude': 121.53199000000002,\n",
       "  'speed': 2.13906,\n",
       "  'correction': 'A',\n",
       "  'noise': 32,\n",
       "  'pdop': 9.34},\n",
       " 'battery': {'mv': 3685, 'ma': -84},\n",
       " 'event': 'ST',\n",
       " 'tag_id': 'G00414'}"
      ]
     },
     "execution_count": 26,
     "metadata": {},
     "output_type": "execute_result"
    }
   ],
   "source": [
    "def handle_sent_sms_or_ma(data, gnss_data):\n",
    "    group = re.findall(\"^(?i)MS.+\", data)\n",
    "    if len(group) > 0:\n",
    "        gnss_data[\"sent_sms\"] = int(data[3:])\n",
    "    else:\n",
    "        gnss_data[\"battery\"][\"ma\"] = int(data)\n",
    "        \n",
    "if data_list[16] != \"\":\n",
    "    handle_sent_sms_or_ma(data_list[16], gnss_data)\n",
    "gnss_data"
   ]
  },
  {
   "cell_type": "markdown",
   "id": "ae9d0a0a",
   "metadata": {},
   "source": [
    "### battery_mah(電池剩餘電量)"
   ]
  },
  {
   "cell_type": "code",
   "execution_count": 27,
   "id": "80a2d623",
   "metadata": {},
   "outputs": [
    {
     "name": "stderr",
     "output_type": "stream",
     "text": [
      "<ipython-input-27-98d59a97d49a>:2: DeprecationWarning: Flags not at the start of the expression '^(?i)CALL.+'\n",
      "  group = re.findall(\"^(?i)CALL.+\", data)\n",
      "<ipython-input-27-98d59a97d49a>:3: DeprecationWarning: Flags not at the start of the expression '^(?i)SMS.+'\n",
      "  group2 = re.findall(\"^(?i)SMS.+\", data)\n"
     ]
    },
    {
     "data": {
      "text/plain": [
       "{'gsm': {'imei': '358709051786584',\n",
       "  'sen': 8,\n",
       "  'telecom': '4G',\n",
       "  'cell_string': '3050,7,20,20,FDD,466,92,2B60,33E2722,22,27,-96,-13,NOCONN;3050,-12.9,-96,27,22,-64;3050,-16.6,-103,20,6,-76',\n",
       "  'cell_id': '3050,7,20,20,FDD,466,92,2B60,33E2722,22,27,-96,-13,NOCONN;3050,-12.9,-96,27,22,-64;3050,-16.6,-103,20,6,-76',\n",
       "  'company': 'CHT',\n",
       "  'global_id': '33E2722',\n",
       "  'physical_id': '22',\n",
       "  'rsrp': '-96',\n",
       "  'all_physical_id': ['22', '6'],\n",
       "  'tac': '2B60',\n",
       "  'all_rsrp': ['-96', '-103']},\n",
       " 'gps': {'rmc': '$GNRMC',\n",
       "  'iso_datetime': '2022-07-08T04:24:50Z',\n",
       "  'status': 'A',\n",
       "  'latitude': 25.055489499999997,\n",
       "  'longitude': 121.53199000000002,\n",
       "  'speed': 2.13906,\n",
       "  'correction': 'A',\n",
       "  'noise': 32,\n",
       "  'pdop': 9.34},\n",
       " 'battery': {'mv': 3685, 'ma': -84, 'mah': 1324},\n",
       " 'event': 'ST',\n",
       " 'tag_id': 'G00414'}"
      ]
     },
     "execution_count": 27,
     "metadata": {},
     "output_type": "execute_result"
    }
   ],
   "source": [
    "def handle_caller_number_or_mah(data, gnss_data):\n",
    "    group = re.findall(\"^(?i)CALL.+\", data)\n",
    "    group2 = re.findall(\"^(?i)SMS.+\", data)\n",
    "\n",
    "    if len(group) > 0:\n",
    "        gnss_data[\"caller_number\"] = data[5:]\n",
    "    elif len(group2) > 0:\n",
    "        gnss_data[\"sms\"] = data\n",
    "    else:\n",
    "        gnss_data[\"battery\"][\"mah\"] = int(data)\n",
    "        \n",
    "if data_list[17] != \"\":\n",
    "    handle_caller_number_or_mah(data_list[17], gnss_data)\n",
    "gnss_data"
   ]
  },
  {
   "cell_type": "markdown",
   "id": "8cd4cabb",
   "metadata": {},
   "source": [
    "### auto_count(Auto封數)"
   ]
  },
  {
   "cell_type": "code",
   "execution_count": 28,
   "id": "7c4b1de7",
   "metadata": {},
   "outputs": [
    {
     "data": {
      "text/plain": [
       "{'gsm': {'imei': '358709051786584',\n",
       "  'sen': 8,\n",
       "  'telecom': '4G',\n",
       "  'cell_string': '3050,7,20,20,FDD,466,92,2B60,33E2722,22,27,-96,-13,NOCONN;3050,-12.9,-96,27,22,-64;3050,-16.6,-103,20,6,-76',\n",
       "  'cell_id': '3050,7,20,20,FDD,466,92,2B60,33E2722,22,27,-96,-13,NOCONN;3050,-12.9,-96,27,22,-64;3050,-16.6,-103,20,6,-76',\n",
       "  'company': 'CHT',\n",
       "  'global_id': '33E2722',\n",
       "  'physical_id': '22',\n",
       "  'rsrp': '-96',\n",
       "  'all_physical_id': ['22', '6'],\n",
       "  'tac': '2B60',\n",
       "  'all_rsrp': ['-96', '-103']},\n",
       " 'gps': {'rmc': '$GNRMC',\n",
       "  'iso_datetime': '2022-07-08T04:24:50Z',\n",
       "  'status': 'A',\n",
       "  'latitude': 25.055489499999997,\n",
       "  'longitude': 121.53199000000002,\n",
       "  'speed': 2.13906,\n",
       "  'correction': 'A',\n",
       "  'noise': 32,\n",
       "  'pdop': 9.34},\n",
       " 'battery': {'mv': 3685, 'ma': -84, 'mah': 1324},\n",
       " 'event': 'ST',\n",
       " 'tag_id': 'G00414'}"
      ]
     },
     "execution_count": 28,
     "metadata": {},
     "output_type": "execute_result"
    }
   ],
   "source": [
    "if data_list[18] != \"\":\n",
    "    gnss_data[\"auto_count\"] = int(data_list[18])\n",
    "gnss_data"
   ]
  },
  {
   "cell_type": "markdown",
   "id": "6a8a8160",
   "metadata": {},
   "source": [
    "### voltage(電池電量百分比)"
   ]
  },
  {
   "cell_type": "code",
   "execution_count": 29,
   "id": "5363072f",
   "metadata": {},
   "outputs": [
    {
     "data": {
      "text/plain": [
       "{'gsm': {'imei': '358709051786584',\n",
       "  'sen': 8,\n",
       "  'telecom': '4G',\n",
       "  'cell_string': '3050,7,20,20,FDD,466,92,2B60,33E2722,22,27,-96,-13,NOCONN;3050,-12.9,-96,27,22,-64;3050,-16.6,-103,20,6,-76',\n",
       "  'cell_id': '3050,7,20,20,FDD,466,92,2B60,33E2722,22,27,-96,-13,NOCONN;3050,-12.9,-96,27,22,-64;3050,-16.6,-103,20,6,-76',\n",
       "  'company': 'CHT',\n",
       "  'global_id': '33E2722',\n",
       "  'physical_id': '22',\n",
       "  'rsrp': '-96',\n",
       "  'all_physical_id': ['22', '6'],\n",
       "  'tac': '2B60',\n",
       "  'all_rsrp': ['-96', '-103']},\n",
       " 'gps': {'rmc': '$GNRMC',\n",
       "  'iso_datetime': '2022-07-08T04:24:50Z',\n",
       "  'status': 'A',\n",
       "  'latitude': 25.055489499999997,\n",
       "  'longitude': 121.53199000000002,\n",
       "  'speed': 2.13906,\n",
       "  'correction': 'A',\n",
       "  'noise': 32,\n",
       "  'pdop': 9.34},\n",
       " 'battery': {'mv': 3685, 'ma': -84, 'mah': 1324},\n",
       " 'event': 'ST',\n",
       " 'tag_id': 'G00414',\n",
       " 'voltage': '43pct'}"
      ]
     },
     "execution_count": 29,
     "metadata": {},
     "output_type": "execute_result"
    }
   ],
   "source": [
    "if data_list[21] != \"\":\n",
    "    gnss_data[\"voltage\"] = data_list[21]\n",
    "gnss_data"
   ]
  },
  {
   "cell_type": "markdown",
   "id": "df648009",
   "metadata": {},
   "source": [
    "### rcv_datetime(接收時間)"
   ]
  },
  {
   "cell_type": "code",
   "execution_count": 30,
   "id": "08e88a8b",
   "metadata": {},
   "outputs": [
    {
     "data": {
      "text/plain": [
       "{'gsm': {'imei': '358709051786584',\n",
       "  'sen': 8,\n",
       "  'telecom': '4G',\n",
       "  'cell_string': '3050,7,20,20,FDD,466,92,2B60,33E2722,22,27,-96,-13,NOCONN;3050,-12.9,-96,27,22,-64;3050,-16.6,-103,20,6,-76',\n",
       "  'cell_id': '3050,7,20,20,FDD,466,92,2B60,33E2722,22,27,-96,-13,NOCONN;3050,-12.9,-96,27,22,-64;3050,-16.6,-103,20,6,-76',\n",
       "  'company': 'CHT',\n",
       "  'global_id': '33E2722',\n",
       "  'physical_id': '22',\n",
       "  'rsrp': '-96',\n",
       "  'all_physical_id': ['22', '6'],\n",
       "  'tac': '2B60',\n",
       "  'all_rsrp': ['-96', '-103']},\n",
       " 'gps': {'rmc': '$GNRMC',\n",
       "  'iso_datetime': '2022-07-08T04:24:50Z',\n",
       "  'status': 'A',\n",
       "  'latitude': 25.055489499999997,\n",
       "  'longitude': 121.53199000000002,\n",
       "  'speed': 2.13906,\n",
       "  'correction': 'A',\n",
       "  'noise': 32,\n",
       "  'pdop': 9.34},\n",
       " 'battery': {'mv': 3685, 'ma': -84, 'mah': 1324},\n",
       " 'event': 'ST',\n",
       " 'tag_id': 'G00414',\n",
       " 'voltage': '43pct',\n",
       " 'rcv_datetime': '2022-07-21T03:28:27.941767Z'}"
      ]
     },
     "execution_count": 30,
     "metadata": {},
     "output_type": "execute_result"
    }
   ],
   "source": [
    "gnss_data[\"rcv_datetime\"] = datetime.utcnow().isoformat() + \"Z\"\n",
    "gnss_data"
   ]
  },
  {
   "cell_type": "markdown",
   "id": "bf1a4b9e",
   "metadata": {},
   "source": [
    "### wife(wifi 資訊)"
   ]
  },
  {
   "cell_type": "code",
   "execution_count": 31,
   "id": "5c2b7dee",
   "metadata": {},
   "outputs": [
    {
     "data": {
      "text/plain": [
       "{'gsm': {'imei': '358709051786584',\n",
       "  'sen': 8,\n",
       "  'telecom': '4G',\n",
       "  'cell_string': '3050,7,20,20,FDD,466,92,2B60,33E2722,22,27,-96,-13,NOCONN;3050,-12.9,-96,27,22,-64;3050,-16.6,-103,20,6,-76',\n",
       "  'cell_id': '3050,7,20,20,FDD,466,92,2B60,33E2722,22,27,-96,-13,NOCONN;3050,-12.9,-96,27,22,-64;3050,-16.6,-103,20,6,-76',\n",
       "  'company': 'CHT',\n",
       "  'global_id': '33E2722',\n",
       "  'physical_id': '22',\n",
       "  'rsrp': '-96',\n",
       "  'all_physical_id': ['22', '6'],\n",
       "  'tac': '2B60',\n",
       "  'all_rsrp': ['-96', '-103']},\n",
       " 'gps': {'rmc': '$GNRMC',\n",
       "  'iso_datetime': '2022-07-08T04:24:50Z',\n",
       "  'status': 'A',\n",
       "  'latitude': 25.055489499999997,\n",
       "  'longitude': 121.53199000000002,\n",
       "  'speed': 2.13906,\n",
       "  'correction': 'A',\n",
       "  'noise': 32,\n",
       "  'pdop': 9.34},\n",
       " 'battery': {'mv': 3685, 'ma': -84, 'mah': 1324},\n",
       " 'event': 'ST',\n",
       " 'tag_id': 'G00414',\n",
       " 'voltage': '43pct',\n",
       " 'rcv_datetime': '2022-07-21T03:28:27.941767Z',\n",
       " 'wifi': '21ec4118245595MOJ,3104d5902adef0Software_Lab,3ae8cc18fec4c8TOATECH,3b4a5f996b9b8dDIRECT-8d-HP M154 LaserJet,3e04bd88a4e822LLGPGuest,410c473dfe62b8shinfu0310,4354833a076307HATHANHNGUYEN,47001ff3c158ec「岡」的「Wi-Fi 網路」,476409800ee216LLT-Lab_2.4G,4b1c5f2b2507c3.1.Free Wi-Fi',\n",
       " 'wifi_list': [{'RSSI': '33', 'MAC': 'ec4118245595', 'SSID': 'MOJ'},\n",
       "  {'RSSI': '49', 'MAC': '04d5902adef0', 'SSID': 'Software_Lab'},\n",
       "  {'RSSI': '58', 'MAC': 'e8cc18fec4c8', 'SSID': 'TOATECH'},\n",
       "  {'RSSI': '59', 'MAC': '4a5f996b9b8d', 'SSID': 'DIRECT-8d-HP M154 LaserJet'},\n",
       "  {'RSSI': '62', 'MAC': '04bd88a4e822', 'SSID': 'LLGPGuest'},\n",
       "  {'RSSI': '65', 'MAC': '0c473dfe62b8', 'SSID': 'shinfu0310'},\n",
       "  {'RSSI': '67', 'MAC': '54833a076307', 'SSID': 'HATHANHNGUYEN'},\n",
       "  {'RSSI': '71', 'MAC': '001ff3c158ec', 'SSID': '「岡」的「Wi-Fi 網路」'},\n",
       "  {'RSSI': '71', 'MAC': '6409800ee216', 'SSID': 'LLT-Lab_2.4G'},\n",
       "  {'RSSI': '75', 'MAC': '1c5f2b2507c3', 'SSID': '.1.Free Wi-Fi'}]}"
      ]
     },
     "execution_count": 31,
     "metadata": {},
     "output_type": "execute_result"
    }
   ],
   "source": [
    "def handle_wifi(rcv_data, gnss_data):\n",
    "    group = re.findall(\"\\,WiFi\\:.+$\", rcv_data)\n",
    "    if len(group) > 0:\n",
    "        gnss_data[\"wifi\"] = group[0][7:]\n",
    "        # MSSI(2字元、十進位)、MAC(12字元)、SSID(最多34字元)\n",
    "        wifi_list = group[0][7:].split(',')\n",
    "        gnss_data['wifi_list'] = [\n",
    "            {'RSSI': str(int(i[0: 2], 16)), 'MAC':i[2: 14], 'SSID': i[14:]} for i in wifi_list]\n",
    "        \n",
    "handle_wifi(rcv_data, gnss_data)\n",
    "gnss_data"
   ]
  },
  {
   "cell_type": "markdown",
   "id": "34d53035",
   "metadata": {},
   "source": [
    "### raw(原始資料)"
   ]
  },
  {
   "cell_type": "code",
   "execution_count": 32,
   "id": "874e405c",
   "metadata": {},
   "outputs": [
    {
     "data": {
      "text/plain": [
       "{'gsm': {'imei': '358709051786584',\n",
       "  'sen': 8,\n",
       "  'telecom': '4G',\n",
       "  'cell_string': '3050,7,20,20,FDD,466,92,2B60,33E2722,22,27,-96,-13,NOCONN;3050,-12.9,-96,27,22,-64;3050,-16.6,-103,20,6,-76',\n",
       "  'cell_id': '3050,7,20,20,FDD,466,92,2B60,33E2722,22,27,-96,-13,NOCONN;3050,-12.9,-96,27,22,-64;3050,-16.6,-103,20,6,-76',\n",
       "  'company': 'CHT',\n",
       "  'global_id': '33E2722',\n",
       "  'physical_id': '22',\n",
       "  'rsrp': '-96',\n",
       "  'all_physical_id': ['22', '6'],\n",
       "  'tac': '2B60',\n",
       "  'all_rsrp': ['-96', '-103']},\n",
       " 'gps': {'rmc': '$GNRMC',\n",
       "  'iso_datetime': '2022-07-08T04:24:50Z',\n",
       "  'status': 'A',\n",
       "  'latitude': 25.055489499999997,\n",
       "  'longitude': 121.53199000000002,\n",
       "  'speed': 2.13906,\n",
       "  'correction': 'A',\n",
       "  'noise': 32,\n",
       "  'pdop': 9.34},\n",
       " 'battery': {'mv': 3685, 'ma': -84, 'mah': 1324},\n",
       " 'event': 'ST',\n",
       " 'tag_id': 'G00414',\n",
       " 'voltage': '43pct',\n",
       " 'rcv_datetime': '2022-07-21T03:28:27.941767Z',\n",
       " 'wifi': '21ec4118245595MOJ,3104d5902adef0Software_Lab,3ae8cc18fec4c8TOATECH,3b4a5f996b9b8dDIRECT-8d-HP M154 LaserJet,3e04bd88a4e822LLGPGuest,410c473dfe62b8shinfu0310,4354833a076307HATHANHNGUYEN,47001ff3c158ec「岡」的「Wi-Fi 網路」,476409800ee216LLT-Lab_2.4G,4b1c5f2b2507c3.1.Free Wi-Fi',\n",
       " 'wifi_list': [{'RSSI': '33', 'MAC': 'ec4118245595', 'SSID': 'MOJ'},\n",
       "  {'RSSI': '49', 'MAC': '04d5902adef0', 'SSID': 'Software_Lab'},\n",
       "  {'RSSI': '58', 'MAC': 'e8cc18fec4c8', 'SSID': 'TOATECH'},\n",
       "  {'RSSI': '59', 'MAC': '4a5f996b9b8d', 'SSID': 'DIRECT-8d-HP M154 LaserJet'},\n",
       "  {'RSSI': '62', 'MAC': '04bd88a4e822', 'SSID': 'LLGPGuest'},\n",
       "  {'RSSI': '65', 'MAC': '0c473dfe62b8', 'SSID': 'shinfu0310'},\n",
       "  {'RSSI': '67', 'MAC': '54833a076307', 'SSID': 'HATHANHNGUYEN'},\n",
       "  {'RSSI': '71', 'MAC': '001ff3c158ec', 'SSID': '「岡」的「Wi-Fi 網路」'},\n",
       "  {'RSSI': '71', 'MAC': '6409800ee216', 'SSID': 'LLT-Lab_2.4G'},\n",
       "  {'RSSI': '75', 'MAC': '1c5f2b2507c3', 'SSID': '.1.Free Wi-Fi'}],\n",
       " 'raw': 'imei=358709051786584&rmc=$GNRMC,042450.00,A,2503.32937,N,12131.91940,E,1.155,,080722,,,A*6B,ST,G00414,3685,-84,1324,,M8,32,43pct,9.34,4G,3050,7,20,20,FDD,466,92,2B60,33E2722,22,27,-96,-13,NOCONN;3050,-12.9,-96,27,22,-64;3050,-16.6,-103,20,6,-76,WiFi:,21ec4118245595MOJ,3104d5902adef0Software_Lab,3ae8cc18fec4c8TOATECH,3b4a5f996b9b8dDIRECT-8d-HP M154 LaserJet,3e04bd88a4e822LLGPGuest,410c473dfe62b8shinfu0310,4354833a076307HATHANHNGUYEN,47001ff3c158ec「岡」的「Wi-Fi 網路」,476409800ee216LLT-Lab_2.4G,4b1c5f2b2507c3.1.Free Wi-Fi'}"
      ]
     },
     "execution_count": 32,
     "metadata": {},
     "output_type": "execute_result"
    }
   ],
   "source": [
    "gnss_data['raw'] = rcv_data\n",
    "gnss_data"
   ]
  }
 ],
 "metadata": {
  "kernelspec": {
   "display_name": "Python 3",
   "language": "python",
   "name": "python3"
  },
  "language_info": {
   "codemirror_mode": {
    "name": "ipython",
    "version": 3
   },
   "file_extension": ".py",
   "mimetype": "text/x-python",
   "name": "python",
   "nbconvert_exporter": "python",
   "pygments_lexer": "ipython3",
   "version": "3.8.10"
  }
 },
 "nbformat": 4,
 "nbformat_minor": 5
}
