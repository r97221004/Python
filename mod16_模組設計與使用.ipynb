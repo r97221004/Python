{
 "cells": [
  {
   "cell_type": "markdown",
   "metadata": {},
   "source": [
    "#  <font color=red> Module_16_模組設計與使用 </font> "
   ]
  },
  {
   "cell_type": "code",
   "execution_count": null,
   "metadata": {},
   "outputs": [],
   "source": [
    "# 容器: 數據的封裝\n",
    "# 函數: 語句的封裝\n",
    "# 類別: 方法與屬性的封裝\n",
    "# 模組 module: 模組就是 .py 檔\n",
    "\n",
    "# 導入模組 \n",
    "\n",
    "import hello\n",
    "\n",
    "print(hello.hi())"
   ]
  },
  {
   "cell_type": "markdown",
   "metadata": {},
   "source": [
    "---"
   ]
  },
  {
   "cell_type": "code",
   "execution_count": null,
   "metadata": {},
   "outputs": [],
   "source": [
    "# 第一種引進方式\n",
    "# 要跟檔案統一目錄下\n",
    "\n",
    "import TemperatureConversion\n",
    "\n",
    "print(f'32攝氏度 = {TemperatureConversion.c2f(32):.2f} 華氏度')\n",
    "print(f'99華氏度 = {TemperatureConversion.f2c(99):.2f} 攝氏度')"
   ]
  },
  {
   "cell_type": "code",
   "execution_count": null,
   "metadata": {},
   "outputs": [],
   "source": [
    "# 第二種引進方式\n",
    "# 要跟檔案統一目錄下\n",
    "# 或直接打 *，但不建議使用\n",
    "\n",
    "from TemperatureConversion import c2f, f2c\n",
    "\n",
    "print(f'32攝氏度 = {c2f(32):.2f} 華氏度')\n",
    "print(f'99華氏度 = {f2c(99):.2f} 攝氏度')"
   ]
  },
  {
   "cell_type": "code",
   "execution_count": null,
   "metadata": {},
   "outputs": [],
   "source": [
    "# 第三種引進方式\n",
    "# 要跟檔案統一目錄下\n",
    "\n",
    "import TemperatureConversion as tc \n",
    "\n",
    "print(f'32攝氏度 = {tc.c2f(32):.2f} 華氏度')\n",
    "print(f'99華氏度 = {tc.f2c(99):.2f} 攝氏度')"
   ]
  },
  {
   "cell_type": "markdown",
   "metadata": {},
   "source": [
    "---"
   ]
  },
  {
   "cell_type": "code",
   "execution_count": null,
   "metadata": {},
   "outputs": [],
   "source": [
    "# package 的概念\n",
    "# 直接 import bmi 會失敗\n",
    "# import 只會 import 一次\n",
    "\n",
    "import mod16.bmi as b\n",
    "# from mod16 import bmi as b\n",
    "\n",
    "print(b.BMI(70, 176))"
   ]
  },
  {
   "cell_type": "code",
   "execution_count": null,
   "metadata": {},
   "outputs": [],
   "source": [
    "from mod16.bmi import BMI\n",
    "\n",
    "BMI(70, 176)"
   ]
  },
  {
   "cell_type": "code",
   "execution_count": null,
   "metadata": {},
   "outputs": [],
   "source": [
    "# package 的概念\n",
    "\n",
    "# import mod16.distance.distance_1d as m\n",
    "from mod16.distance import distance_1d as m\n",
    "\n",
    "print(m.dis(-2, 5))"
   ]
  },
  {
   "cell_type": "markdown",
   "metadata": {},
   "source": [
    "---"
   ]
  },
  {
   "cell_type": "code",
   "execution_count": null,
   "metadata": {},
   "outputs": [],
   "source": [
    "# 把 hello.py 檔移動到桌面\n",
    "# 再 import 會發生異常\n",
    "\n",
    "import hello\n",
    "# C:\\Users\\USER\\Desktop\\hello.py"
   ]
  },
  {
   "cell_type": "code",
   "execution_count": null,
   "metadata": {},
   "outputs": [],
   "source": [
    "# 檔案在其他目錄下怎麼辦\n",
    "# 把路徑加入環境變數\n",
    "\n",
    "import sys\n",
    "\n",
    "# 目前的環境變數\n",
    "print(sys.path) "
   ]
  },
  {
   "cell_type": "code",
   "execution_count": null,
   "metadata": {},
   "outputs": [],
   "source": [
    "# 加入新的路徑\n",
    "sys.path.append(\"C:\\\\Users\\\\USER\\Desktop\")\n",
    "\n",
    "# 現在的環境變數\n",
    "print(sys.path)"
   ]
  },
  {
   "cell_type": "code",
   "execution_count": null,
   "metadata": {},
   "outputs": [],
   "source": [
    "# 但下次再開啟路徑就會失效了\n",
    "# 建議把要用的模組套件放在 site-packges下，下 python 指令一定會讀的資料夾\n",
    "# 可能會有不同 C:\\Program Files\\Python38\\Lib\\site-packages\n",
    "\n",
    "import hello"
   ]
  },
  {
   "cell_type": "markdown",
   "metadata": {},
   "source": [
    "---"
   ]
  },
  {
   "cell_type": "code",
   "execution_count": null,
   "metadata": {},
   "outputs": [],
   "source": [
    "# 執行主程式時，特殊變數 __name__ = __main__\n",
    "# %run 是jupyter notebook的一種魔法函式，可以直接執行 .py 檔\n",
    "# 一般的執行方法 ⇒ cmd → 輸入 python xxx.py\n",
    "\n",
    "%run mod16/bmi.py"
   ]
  },
  {
   "cell_type": "code",
   "execution_count": null,
   "metadata": {},
   "outputs": [],
   "source": [
    "# import 套件時， 特殊變數 __name__ != __main__\n",
    "# import 只會匯入模組一次 \n",
    "# 要重新匯入的話，要把 kernel 清除掉。\n",
    "\n",
    "import mod16.bmi"
   ]
  },
  {
   "cell_type": "code",
   "execution_count": null,
   "metadata": {},
   "outputs": [],
   "source": [
    "# 只要是 import，不會執行 if __name__ = __main__: 以下的語句\n",
    "\n",
    "from mod16.bmi import BMI\n",
    "\n",
    "result = BMI(67,175)\n",
    "print('175cm, 67kg, BMI={:.4f}'.format(result))"
   ]
  },
  {
   "cell_type": "code",
   "execution_count": null,
   "metadata": {},
   "outputs": [],
   "source": [
    "# 如果用 python 執行命令時使用絕對路徑，__file__是脚本的絕對路徑\n",
    "# 如果 python 執行命令時使用絕對路徑，__file__是脚本的相對路徑。\n",
    "# import 套件時，__file__是脚本的絕對路徑\n",
    "\n",
    "# 用 CMD 執行 python bmi.py\n",
    "# 用 CMD 執行 python C:\\Users\\USER\\Desktop\\數據分析養成\\python\\mod16\\bmi.py\n",
    "# 用 CMD 執行 python import_test.py"
   ]
  },
  {
   "cell_type": "code",
   "execution_count": null,
   "metadata": {},
   "outputs": [],
   "source": [
    "print(__name__)\n",
    "print(__file__) # 如果在互動式環境下會出異常，因為尚未生成"
   ]
  },
  {
   "cell_type": "markdown",
   "metadata": {},
   "source": [
    "---"
   ]
  },
  {
   "cell_type": "code",
   "execution_count": null,
   "metadata": {},
   "outputs": [],
   "source": [
    "# 內建模組\n",
    "\n",
    "import math\n",
    "print(math.pi)"
   ]
  },
  {
   "cell_type": "code",
   "execution_count": null,
   "metadata": {},
   "outputs": [],
   "source": [
    "from math import cos, sin\n",
    "print(cos(3.1415926), sin(3.1415926/2))"
   ]
  },
  {
   "cell_type": "code",
   "execution_count": null,
   "metadata": {},
   "outputs": [],
   "source": [
    "# import * 的缺點\n",
    "\n",
    "pi = 10\n",
    "print(pi)\n",
    "\n",
    "from math import *\n",
    "print(pi)"
   ]
  },
  {
   "cell_type": "code",
   "execution_count": null,
   "metadata": {},
   "outputs": [],
   "source": [
    "# 查看 math 模組裡面的函數與變數\n",
    "\n",
    "import math\n",
    "dir(math)"
   ]
  },
  {
   "cell_type": "code",
   "execution_count": null,
   "metadata": {},
   "outputs": [],
   "source": [
    "# 也可引入類別\n",
    "\n",
    "from Class import Triangle\n",
    "\n",
    "t1 = Triangle(5, 6) # 建立 triangle 物件\n",
    "print(\"矩形面積 =\", t1.area())   \n",
    "print(\"三角形面積 =\", t1.area2())"
   ]
  },
  {
   "cell_type": "markdown",
   "metadata": {},
   "source": [
    "---"
   ]
  },
  {
   "cell_type": "code",
   "execution_count": null,
   "metadata": {},
   "outputs": [],
   "source": [
    "%run mod16/module.py"
   ]
  },
  {
   "cell_type": "code",
   "execution_count": null,
   "metadata": {},
   "outputs": [],
   "source": [
    "%run mod16/program.py # 只會匯入 module.py 一次，所以在重新執行之後 module.py 裡的 print(__name__) 就不會再次執行了"
   ]
  },
  {
   "cell_type": "code",
   "execution_count": null,
   "metadata": {},
   "outputs": [],
   "source": [
    "%run mod16/bmi.py"
   ]
  },
  {
   "cell_type": "code",
   "execution_count": null,
   "metadata": {},
   "outputs": [],
   "source": [
    "%run mod16/ex.py # 只會匯入 bmi.py 一次，所以在重新執行之後 bmi.py 裡的 print(__name__)、print(__file__) 就不會再次執行了"
   ]
  }
 ],
 "metadata": {
  "kernelspec": {
   "display_name": "Python 3",
   "language": "python",
   "name": "python3"
  },
  "language_info": {
   "codemirror_mode": {
    "name": "ipython",
    "version": 3
   },
   "file_extension": ".py",
   "mimetype": "text/x-python",
   "name": "python",
   "nbconvert_exporter": "python",
   "pygments_lexer": "ipython3",
   "version": "3.8.10"
  }
 },
 "nbformat": 4,
 "nbformat_minor": 2
}
